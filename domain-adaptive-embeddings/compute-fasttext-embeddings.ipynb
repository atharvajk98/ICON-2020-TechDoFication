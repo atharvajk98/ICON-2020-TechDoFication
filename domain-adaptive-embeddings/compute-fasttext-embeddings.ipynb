{
 "cells": [
  {
   "cell_type": "code",
   "execution_count": 1,
   "metadata": {},
   "outputs": [
    {
     "name": "stderr",
     "output_type": "stream",
     "text": [
      "Using TensorFlow backend.\n"
     ]
    }
   ],
   "source": [
    "import pandas as pd\n",
    "from generate_word_embeddings import Embeddings\n",
    "from Preprocess_Text import Preprocess"
   ]
  },
  {
   "cell_type": "markdown",
   "metadata": {},
   "source": [
    "<h6> Preprocess as save records in .txt file (used for unsupervised fasttext model)"
   ]
  },
  {
   "cell_type": "code",
   "execution_count": 2,
   "metadata": {},
   "outputs": [
    {
     "name": "stdout",
     "output_type": "stream",
     "text": [
      "प्रा . प्रताप हरिदास : होय , मला वाटते की हा एक महत्त्वाचा मुद्दा आहे , की भारतीय संदर्भामुळे आपण विशेषतः आमच्या शैक्षणिक प्रक्रियेद्वारे प्रवेश करू शकता जिथे प्रवेश परीक्षा असते आणि जी आपल्याला विभागांमध्ये ठेवते आणि काही आपण त्या विशिष्ट क्रियाकलापांवर अडकले आहात असे कसे वाटते .\n"
     ]
    }
   ],
   "source": [
    "data = pd.read_csv('../Technodifacation/Data/training_data_marathi.csv')\n",
    "train_set = data['text']\n",
    "print(train_set[0])"
   ]
  },
  {
   "cell_type": "code",
   "execution_count": 3,
   "metadata": {},
   "outputs": [],
   "source": [
    "pp = Preprocess([])\n",
    "train_set = [ pp.clean_text(x) for x in train_set ]"
   ]
  },
  {
   "cell_type": "code",
   "execution_count": 4,
   "metadata": {},
   "outputs": [
    {
     "name": "stdout",
     "output_type": "stream",
     "text": [
      "प्रा प्रताप हरिदास होय मला वाटते की हा एक महत्त्वाचा मुद्दा आहे की भारतीय संदर्भामुळे आपण विशेषतः आमच्या शैक्षणिक प्रक्रियेद्वारे प्रवेश करू शकता जिथे प्रवेश परीक्षा असते आणि जी आपल्याला विभागांमध्ये ठेवते आणि काही आपण त्या विशिष्ट क्रियाकलापांवर अडकले आहात असे कसे वाटते \n"
     ]
    }
   ],
   "source": [
    "print(train_set[0])"
   ]
  },
  {
   "cell_type": "code",
   "execution_count": 6,
   "metadata": {},
   "outputs": [
    {
     "name": "stdout",
     "output_type": "stream",
     "text": [
      "41997 51963\n"
     ]
    }
   ],
   "source": [
    "vocab = set()\n",
    "for x in train_set:\n",
    "    for y in x.split(' '):\n",
    "        vocab.add(y)\n",
    "corpus_count = len(train_set)\n",
    "vocab_count = len(vocab)\n",
    "\n",
    "print(corpus_count,vocab_count)"
   ]
  },
  {
   "cell_type": "code",
   "execution_count": null,
   "metadata": {},
   "outputs": [],
   "source": [
    "file1 = open(\"../Technodifacation/Data/marathi_text_unsupervised.txt\",\"w\",encoding=\"utf-8\")\n",
    "\n",
    "for sentence in train_set:\n",
    "    file1.write(sentence)\n",
    "\n",
    "file1.close()"
   ]
  },
  {
   "cell_type": "markdown",
   "metadata": {},
   "source": [
    "<h6>Training unsupervised fastext model<h6>"
   ]
  },
  {
   "cell_type": "code",
   "execution_count": 8,
   "metadata": {},
   "outputs": [],
   "source": [
    "import fasttext"
   ]
  },
  {
   "cell_type": "code",
   "execution_count": 7,
   "metadata": {},
   "outputs": [],
   "source": [
    "data_path = '../Technodifacation/Data/marathi_text_unsupervised.txt'\n",
    "model = fasttext.train_unsupervised(data_path,model='skipgram',minCount = 1,dim = 300)"
   ]
  },
  {
   "cell_type": "code",
   "execution_count": 43,
   "metadata": {},
   "outputs": [
    {
     "data": {
      "text/plain": [
       "['आहे',\n",
       " 'आपण',\n",
       " 'हे',\n",
       " 'तर',\n",
       " 'की',\n",
       " 'आणि',\n",
       " 'एक',\n",
       " 'म्हणून',\n",
       " 'किंवा',\n",
       " 'प्रवेश',\n",
       " 'करू',\n",
       " 'त्या',\n",
       " '<NUMBER>',\n",
       " 'विशिष्ट',\n",
       " 'सर्व',\n",
       " 'शकता',\n",
       " 'निवासी',\n",
       " 'आवश्यक',\n",
       " 'नियंत्रण',\n",
       " 'हा',\n",
       " 'असे',\n",
       " 'जेव्हा',\n",
       " 'जर',\n",
       " 'नसल्यास',\n",
       " 'असतील',\n",
       " 'उदाहरणार्थ',\n",
       " 'तेव्हा',\n",
       " 'क्षेत्र',\n",
       " 'आहेत',\n",
       " 'महत्त्वाचा',\n",
       " 'लक्षात',\n",
       " 'पहा',\n",
       " 'कोणत्याही',\n",
       " 'असेल',\n",
       " 'मी',\n",
       " 'म्हणालो',\n",
       " 'आहात',\n",
       " 'प्रकारचे',\n",
       " 'जेथे',\n",
       " 'काही',\n",
       " 'शब्दात',\n",
       " 'एका',\n",
       " 'प्रक्रिया',\n",
       " 'म्हणू',\n",
       " 'शकतो',\n",
       " 'z',\n",
       " 'ब्लेडच्या',\n",
       " 'या',\n",
       " 'ऐकणे',\n",
       " 'करणे',\n",
       " 'खूप',\n",
       " 'पूर्ण',\n",
       " 'करते',\n",
       " 'वाटते',\n",
       " 'इतर',\n",
       " 'भारतीय',\n",
       " 'विभाजन',\n",
       " 'जाणून',\n",
       " 'समान',\n",
       " 'कदाचित',\n",
       " 'अमेरिकन',\n",
       " 'परंतु',\n",
       " 'पाहू',\n",
       " 'लोकसंख्या',\n",
       " 'उपकरण',\n",
       " 'ते',\n",
       " 'आपल्याकडे',\n",
       " 'पी',\n",
       " 'गंभीर',\n",
       " 'विभागात',\n",
       " 'इच्छित',\n",
       " 'उपस्थित',\n",
       " 'योग्य',\n",
       " 'देखील',\n",
       " 'त्यांच्या',\n",
       " 'शब्दांना',\n",
       " 'महत्त्व',\n",
       " 'गैर']"
      ]
     },
     "execution_count": 43,
     "metadata": {},
     "output_type": "execute_result"
    }
   ],
   "source": [
    "model.get_words()"
   ]
  },
  {
   "cell_type": "code",
   "execution_count": 45,
   "metadata": {},
   "outputs": [
    {
     "data": {
      "text/plain": [
       "[(0.7834441661834717, 'म्हणालो'),\n",
       " (0.77359539270401, 'तेव्हा'),\n",
       " (0.736814558506012, 'जेव्हा'),\n",
       " (0.7341116070747375, 'म्हणू'),\n",
       " (0.7084360718727112, 'ब्लेडच्या'),\n",
       " (0.7036584615707397, 'त्यांच्या'),\n",
       " (0.6812772154808044, 'जाणून'),\n",
       " (0.6767786145210266, 'विभाजन'),\n",
       " (0.6512690186500549, 'त्या'),\n",
       " (0.645636260509491, 'उदाहरणार्थ')]"
      ]
     },
     "execution_count": 45,
     "metadata": {},
     "output_type": "execute_result"
    }
   ],
   "source": [
    "model.get_nearest_neighbors('म्हणून')"
   ]
  },
  {
   "cell_type": "code",
   "execution_count": 8,
   "metadata": {},
   "outputs": [],
   "source": [
    "model.save_model(\"../Technodifacation/models/marathi_fastText_skipgram.bin\")"
   ]
  },
  {
   "cell_type": "code",
   "execution_count": 25,
   "metadata": {},
   "outputs": [
    {
     "name": "stderr",
     "output_type": "stream",
     "text": [
      "Warning : `load_model` does not return WordVectorModel or SupervisedModel any more, but a `FastText` object which is very similar.\n"
     ]
    }
   ],
   "source": [
    "from gensim.models.keyedvectors import KeyedVectors\n",
    "\n",
    "model = fasttext.load_model(\"../Technodifacation/models/DS_marathi_fasttext_cbow.bin\")\n"
   ]
  },
  {
   "cell_type": "code",
   "execution_count": 26,
   "metadata": {},
   "outputs": [
    {
     "data": {
      "text/plain": [
       "list"
      ]
     },
     "execution_count": 26,
     "metadata": {},
     "output_type": "execute_result"
    }
   ],
   "source": [
    "type(model.get_words())"
   ]
  },
  {
   "cell_type": "code",
   "execution_count": 27,
   "metadata": {},
   "outputs": [],
   "source": [
    "embeddings_dict = {}\n",
    "for word in model.get_words():\n",
    "    try:\n",
    "        embeddings_dict[word] = model.get_word_vector(word)\n",
    "    except:\n",
    "        print(word)"
   ]
  },
  {
   "cell_type": "code",
   "execution_count": 28,
   "metadata": {},
   "outputs": [
    {
     "data": {
      "text/plain": [
       "51962"
      ]
     },
     "execution_count": 28,
     "metadata": {},
     "output_type": "execute_result"
    }
   ],
   "source": [
    "len(embeddings_dict.values())"
   ]
  },
  {
   "cell_type": "code",
   "execution_count": 29,
   "metadata": {},
   "outputs": [],
   "source": [
    "import pickle\n",
    "\n",
    "with open('../Technodifacation/models/DS_marathi_fasttext_cbow.pkl','wb') as file:\n",
    "    pickle.dump(embeddings_dict, file, pickle.HIGHEST_PROTOCOL)"
   ]
  },
  {
   "cell_type": "code",
   "execution_count": 30,
   "metadata": {},
   "outputs": [
    {
     "data": {
      "text/plain": [
       "array([ 0.00606135, -0.09671327, -0.19829142, -0.30967173, -0.03538826,\n",
       "       -0.19380108, -0.08016655,  0.1266094 , -0.03563829, -0.32219627,\n",
       "        0.15260832, -0.21335517,  0.42979798, -0.17158963, -0.31179675,\n",
       "        0.14727269, -0.4653861 , -0.39171562, -0.5742553 , -0.4693635 ,\n",
       "       -0.00297232,  0.34795383, -0.12340061, -0.1082304 , -0.07345913,\n",
       "        0.00095774, -0.07110247, -0.25498703, -0.42283356, -0.25444278,\n",
       "       -0.23586465, -0.04301936, -0.26199436, -0.01519637,  0.48941234,\n",
       "       -0.17895061, -0.42570785, -0.3859558 , -0.66368043,  0.2577503 ,\n",
       "       -0.19283321, -0.25226805, -0.04347435, -0.00694684,  0.3786213 ,\n",
       "       -0.12684125,  0.24688321, -0.46598208, -0.2806574 , -0.03250322,\n",
       "        0.01083853,  0.04312572,  0.1119018 ,  0.05783868, -0.19744022,\n",
       "       -0.00566703,  0.25172198, -0.06639106,  0.02027953,  0.00161002,\n",
       "       -0.06205782,  0.02855032,  0.11287724,  0.2164533 , -0.0884348 ,\n",
       "        0.19026636,  0.07856775,  0.31689015, -0.19040026, -0.00846033,\n",
       "       -0.5820505 , -0.04995908,  0.18317823, -0.23635364,  0.31638223,\n",
       "       -0.01740676,  0.08211434,  0.1943334 ,  0.14253935,  0.2434924 ,\n",
       "       -0.14748742,  0.13124366,  0.1402585 , -0.2043345 , -0.01648484,\n",
       "       -0.13689342,  0.34895188,  0.14022036, -0.02590186, -0.15535864,\n",
       "       -0.21192494,  0.34659222,  0.07917193,  0.05066407,  0.07565442,\n",
       "       -0.23510179, -0.20994042,  0.29189628,  0.24264166, -0.16312191,\n",
       "       -0.09668489, -0.02385333,  0.13075884,  0.23535201, -0.01541603,\n",
       "       -0.19250476,  0.49648294,  0.00377044, -0.22053395, -0.01459854,\n",
       "       -0.18178184, -0.33123192,  0.04484519, -0.2729184 ,  0.24852958,\n",
       "       -0.16203877,  0.01827582,  0.32502234,  0.2941105 , -0.05677022,\n",
       "        0.34273022, -0.48672467, -0.24312167,  0.06732146,  0.1476051 ,\n",
       "        0.01355707, -0.02525739, -0.40345782,  0.28044796, -0.13782215,\n",
       "        0.02530641,  0.14502735, -0.07952509, -0.39835322,  0.17172804,\n",
       "        0.18035728, -0.12406277, -0.24184057,  0.10490031, -0.6502121 ,\n",
       "        0.0744185 ,  0.15461491,  0.12597719,  0.20904243, -0.12426637,\n",
       "       -0.0557835 ,  0.06052865,  0.5514027 , -0.12358327,  0.14797233,\n",
       "       -0.03488288,  0.07481338, -0.13788815, -0.00399288, -0.28630996,\n",
       "       -0.34740284, -0.22734787,  0.26724562, -0.02781585,  0.11325307,\n",
       "        0.05418624, -0.4139205 , -0.07641809,  0.00155919, -0.171703  ,\n",
       "        0.20403244,  0.04772807,  0.12674147, -0.24032512, -0.281494  ,\n",
       "        0.2993873 , -0.34594405,  0.30693576, -0.02092686,  0.03588548,\n",
       "       -0.02812159, -0.11304754,  0.70027584,  0.26284552, -0.32788146,\n",
       "       -0.07645152,  0.28947   , -0.5318178 ,  0.0257505 ,  0.03890036,\n",
       "        0.0071855 , -0.31937993, -0.22257927, -0.32157406, -0.25618988,\n",
       "       -0.16712584,  0.25948647, -0.16172843,  0.18575898, -0.42315024,\n",
       "       -0.23347144, -0.01704867, -0.09522428,  0.02163232, -0.36036596,\n",
       "        0.36071667,  0.42540038,  0.26983252, -0.4816054 ,  0.14025037,\n",
       "        0.16693498, -0.20637393,  0.49082282,  0.14637357, -0.15642552,\n",
       "       -0.30103528,  0.23609486,  0.10972656,  0.2901781 , -0.17589831,\n",
       "       -0.12831526,  0.27426696,  0.0678746 , -0.15484385, -0.01176886,\n",
       "        0.39097628, -0.01329734, -0.44285816, -0.07508792,  0.3416258 ,\n",
       "        0.63274646, -0.46005437, -0.02212626, -0.15379217,  0.12866385,\n",
       "        0.41342834, -0.23844293,  0.4182633 , -0.22449258,  0.09042363,\n",
       "        0.24126048, -0.0733708 ,  0.12090711,  0.23670065, -0.36853257,\n",
       "       -0.17510428,  0.35084683,  0.2952126 ,  0.07849376, -0.5683745 ,\n",
       "       -0.44863278,  0.3341677 , -0.1634132 ,  0.16939999,  0.04275359,\n",
       "       -0.16439168,  0.10262746, -0.14457628,  0.11271284, -0.1508866 ,\n",
       "        0.16139095, -0.25881213, -0.02476228, -0.19283353,  0.2939016 ,\n",
       "        0.00549642, -0.23593898,  0.38396412,  0.12039847, -0.16122797,\n",
       "       -0.16635688, -0.19178903, -0.26883096, -0.28003272,  0.01634962,\n",
       "        0.07435944,  0.05377451,  0.05010616,  0.28448766, -0.24982193,\n",
       "       -0.02507016, -0.02772118,  0.1822678 ,  0.4483847 , -0.14092259,\n",
       "        0.301561  ,  0.13520634,  0.05486018, -0.1860923 ,  0.24586783,\n",
       "       -0.3982109 ,  0.4989335 ,  0.23341371, -0.06833845,  0.23595773,\n",
       "       -0.14545421, -0.3132287 ,  0.12946986, -0.19233479,  0.04455595,\n",
       "       -0.09471273,  0.13853088, -0.09941715, -0.23490793,  0.15618274],\n",
       "      dtype=float32)"
      ]
     },
     "execution_count": 30,
     "metadata": {},
     "output_type": "execute_result"
    }
   ],
   "source": [
    "with open('../Technodifacation/models/DS_marathi_fasttext_cbow.pkl','rb') as file:\n",
    "    temp = pickle.load(file)\n",
    "    \n",
    "temp['अडकले']"
   ]
  },
  {
   "cell_type": "code",
   "execution_count": null,
   "metadata": {},
   "outputs": [],
   "source": []
  }
 ],
 "metadata": {
  "kernelspec": {
   "display_name": "Python 3",
   "language": "python",
   "name": "python3"
  },
  "language_info": {
   "codemirror_mode": {
    "name": "ipython",
    "version": 3
   },
   "file_extension": ".py",
   "mimetype": "text/x-python",
   "name": "python",
   "nbconvert_exporter": "python",
   "pygments_lexer": "ipython3",
   "version": "3.8.3"
  },
  "toc": {
   "base_numbering": 1,
   "nav_menu": {},
   "number_sections": true,
   "sideBar": true,
   "skip_h1_title": false,
   "title_cell": "Table of Contents",
   "title_sidebar": "Contents",
   "toc_cell": false,
   "toc_position": {},
   "toc_section_display": true,
   "toc_window_display": false
  }
 },
 "nbformat": 4,
 "nbformat_minor": 2
}
