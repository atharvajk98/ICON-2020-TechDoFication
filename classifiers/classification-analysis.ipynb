{
 "cells": [
  {
   "cell_type": "code",
   "execution_count": 47,
   "metadata": {},
   "outputs": [
    {
     "data": {
      "text/html": [
       "        <script type=\"text/javascript\">\n",
       "        window.PlotlyConfig = {MathJaxConfig: 'local'};\n",
       "        if (window.MathJax) {MathJax.Hub.Config({SVG: {font: \"STIX-Web\"}});}\n",
       "        if (typeof require !== 'undefined') {\n",
       "        require.undef(\"plotly\");\n",
       "        requirejs.config({\n",
       "            paths: {\n",
       "                'plotly': ['https://cdn.plot.ly/plotly-latest.min']\n",
       "            }\n",
       "        });\n",
       "        require(['plotly'], function(Plotly) {\n",
       "            window._Plotly = Plotly;\n",
       "        });\n",
       "        }\n",
       "        </script>\n",
       "        "
      ]
     },
     "metadata": {},
     "output_type": "display_data"
    }
   ],
   "source": [
    "import pandas as pd\n",
    "import numpy as np\n",
    "import cufflinks as cf\n",
    "cf.go_offline()\n",
    "cf.set_config_file(offline=False, world_readable=True)\n",
    "from model import *\n",
    "from data_preprocessing import *\n",
    "from preprocess_text import Preprocess\n",
    "import seaborn as sn\n",
    "import matplotlib.pyplot as plt\n",
    "from googletrans import Translator\n",
    "translator = Translator()"
   ]
  },
  {
   "cell_type": "code",
   "execution_count": 5,
   "metadata": {},
   "outputs": [],
   "source": [
    "def perf_measure(y_actual, y_hat):\n",
    "    wc = []\n",
    "    y_act = []\n",
    "    y_pre = []\n",
    "    \n",
    "\n",
    "    for i in range(len(y_hat)): \n",
    "        if not y_actual[i] == y_hat[i]:\n",
    "            wc.append(i)\n",
    "            y_act.append(y_actual[i])\n",
    "            y_pre.append(y_hat[i])\n",
    "        \n",
    "    return wc,y_act,y_pre\n",
    "\n",
    "def label_convert(label, label_mapping):\n",
    "    for key in label_mapping:\n",
    "        if label_mapping[key] == label:\n",
    "            return key\n",
    "    \n",
    "\n",
    "def generate_pairwise_heatmap(dataframe, col1, col2, label_names = [], color = \"Reds\", annot = True):\n",
    "    tuple_list = []\n",
    "    num_labels = len(np.unique(dataframe[col1]))\n",
    "    \n",
    "    print('Number of Labels: \\t {} \\n Number of records: {}'.format(num_labels, (dataframe[col1].shape[0])))\n",
    "    for index, row in mistakes.iterrows():\n",
    "        class_tuple = (row[col1],row[col2])\n",
    "        tuple_list.append(class_tuple)\n",
    "        \n",
    "    class_pairs = pd.Series(tuple_list).value_counts().keys().tolist()\n",
    "    count_pairs = [x for x in pd.Series(tuple_list).value_counts()]\n",
    "    pairwise_results = np.zeros([num_labels, num_labels],int).tolist()\n",
    "\n",
    "    for pair,val in zip(class_pairs,count_pairs):\n",
    "\n",
    "        i = pair[0]\n",
    "        j = pair[1]\n",
    "\n",
    "        pairwise_results[i][j] = val\n",
    "\n",
    "    if label_names:\n",
    "        hm = sn.heatmap(data = np.asarray(pairwise_results),xticklabels=label_names, \n",
    "                        yticklabels=label_names, cmap=color, annot = annot)\n",
    "    else:\n",
    "        hm = sn.heatmap(data = np.asarray(pairwise_results), cmap=color, annot = annot)\n",
    "    \n",
    "    return pairwise_results\n",
    "\n",
    "def get_vocab(document):\n",
    "    vocab = set()\n",
    "    for text in document:\n",
    "        for token in text.split():\n",
    "            vocab.add(token)\n",
    "    return vocab\n",
    "\n"
   ]
  },
  {
   "cell_type": "markdown",
   "metadata": {},
   "source": [
    "<h3>Preparing data for training<h3>"
   ]
  },
  {
   "cell_type": "code",
   "execution_count": 4,
   "metadata": {},
   "outputs": [
    {
     "name": "stdout",
     "output_type": "stream",
     "text": [
      "Loading Data\n",
      "\n",
      "\n",
      "Encoding Labels\n",
      "\n",
      "\n",
      "{'bioche': 0, 'com_tech': 1, 'cse': 2, 'phy': 3}\n",
      "Building Vocab\n",
      "\n",
      "\n",
      "Tokenizing Train and Test\n",
      "\n",
      "\n",
      "Padding Train and Test\n",
      "\n",
      "\n"
     ]
    }
   ],
   "source": [
    "pp = Preprocess([])\n",
    "\n",
    "print('Loading Data\\n\\n')\n",
    "x_train = pd.read_csv('../Data/training_data_marathi.csv')['text'].apply(lambda x : pp.clean_text(x))\n",
    "y_train = pd.read_csv('../Data/training_data_marathi.csv')['label']\n",
    "x_val = pd.read_csv('../Data/test_data_marathi.csv')['text'].apply(lambda x : pp.clean_text(x))\n",
    "y_val = pd.read_csv('../Data/test_data_marathi.csv')['label']\n",
    "\n",
    "\n",
    "print('Encoding Labels\\n\\n')\n",
    "y_train, y_val, label_mappings = label_encoder(y_train, y_val)\n",
    "y_train = y_train.reshape(y_train.shape[0], -1)\n",
    "y_val = y_val.reshape(y_val.shape[0], -1)\n",
    "print(label_mappings)\n",
    " \n",
    "\n",
    "print('Building Vocab\\n\\n')\n",
    "pad_len=100\n",
    "padding_type='post'\n",
    "truncating_type='post'\n",
    "\n",
    "corpus = []\n",
    "\n",
    "for text in x_train:\n",
    "    corpus.append(text)\n",
    "\n",
    "for text in x_val:\n",
    "    corpus.append(text)\n",
    "    \n",
    "\n",
    "print('Tokenizing Train and Test\\n\\n')\n",
    "tokenizer, x_train_tokenzied, x_val_tokenzied = tokenize_text(corpus,x_train, x_val)\n",
    "\n",
    "print('Padding Train and Test\\n\\n')\n",
    "x_train_padded, x_val_padded = pad_text(x_train_tokenzied, \n",
    "                                        x_val_tokenzied, \n",
    "                                        pad_len, \n",
    "                                        padding_type, \n",
    "                                        truncating_type)"
   ]
  },
  {
   "cell_type": "markdown",
   "metadata": {},
   "source": [
    "<h3>Predicting results<h3>"
   ]
  },
  {
   "cell_type": "code",
   "execution_count": 6,
   "metadata": {},
   "outputs": [],
   "source": [
    "model = model_load('../models/FINALS/LSTM_combined_embeddings.h5.h5')"
   ]
  },
  {
   "cell_type": "code",
   "execution_count": 7,
   "metadata": {},
   "outputs": [],
   "source": [
    "results = np.argmax(model.predict(x_val_padded),axis = -1)\n",
    "del(model)"
   ]
  },
  {
   "cell_type": "code",
   "execution_count": 8,
   "metadata": {},
   "outputs": [],
   "source": [
    "wc, yact, yhat = perf_measure(y_val,results)"
   ]
  },
  {
   "cell_type": "code",
   "execution_count": 24,
   "metadata": {},
   "outputs": [],
   "source": [
    "mistakes = pd.DataFrame(columns=['text','actual label','predicted label'])\n",
    "mistakes['text'] = x_val.loc[wc]\n",
    "mistakes['actual label'] = yact\n",
    "mistakes['predicted label'] = yhat\n",
    "mistakes['actual label'] = mistakes['actual label'].apply(lambda x : x[0])"
   ]
  },
  {
   "cell_type": "markdown",
   "metadata": {},
   "source": [
    "<h3>Classification Analysis<h3>"
   ]
  },
  {
   "cell_type": "code",
   "execution_count": 10,
   "metadata": {},
   "outputs": [
    {
     "name": "stdout",
     "output_type": "stream",
     "text": [
      "Total classifaction mistakes:  387\n"
     ]
    }
   ],
   "source": [
    "print('Total classifaction mistakes: ',mistakes.shape[0])"
   ]
  },
  {
   "cell_type": "code",
   "execution_count": 26,
   "metadata": {},
   "outputs": [
    {
     "name": "stdout",
     "output_type": "stream",
     "text": [
      "Number of Labels: \t 4 \n",
      " Number of records: 387\n"
     ]
    },
    {
     "data": {
      "image/png": "[encoded data removed]",
      "text/plain": [
       "<Figure size 432x288 with 2 Axes>"
      ]
     },
     "metadata": {
      "needs_background": "light"
     },
     "output_type": "display_data"
    }
   ],
   "source": [
    "heatmap = generate_pairwise_heatmap(mistakes, 'actual label', 'predicted label',\n",
    "                                    label_names= label_mappings.keys())"
   ]
  },
  {
   "cell_type": "code",
   "execution_count": 27,
   "metadata": {},
   "outputs": [
    {
     "name": "stdout",
     "output_type": "stream",
     "text": [
      "Word count stats:\n",
      "\n",
      " count    387.000000\n",
      "mean      16.449612\n",
      "std       11.897421\n",
      "min        2.000000\n",
      "25%        8.000000\n",
      "50%       13.000000\n",
      "75%       20.000000\n",
      "max       73.000000\n",
      "Name: word count, dtype: float64 \n",
      "\n",
      "\n"
     ]
    },
    {
     "data": {
      "application/vnd.plotly.v1+json": {
       "config": {
        "linkText": "Export to plot.ly",
        "plotlyServerURL": "https://plot.ly",
        "showLink": true
       },
       "data": [
        {
         "histfunc": "count",
         "histnorm": "",
         "marker": {
          "color": "rgba(255, 153, 51, 1.0)",
          "line": {
           "color": "#4D5663",
           "width": 1.3
          }
         },
         "name": "word count",
         "nbinsx": 100,
         "opacity": 0.8,
         "orientation": "v",
         "type": "histogram",
         "x": [
          3,
          4,
          18,
          13,
          8,
          13,
          39,
          47,
          8,
          8,
          53,
          3,
          8,
          9,
          11,
          17,
          6,
          16,
          25,
          55,
          4,
          14,
          12,
          17,
          11,
          25,
          40,
          6,
          4,
          7,
          16,
          4,
          16,
          23,
          2,
          14,
          6,
          11,
          8,
          10,
          5,
          12,
          18,
          8,
          7,
          5,
          14,
          7,
          6,
          11,
          33,
          13,
          11,
          28,
          4,
          14,
          45,
          13,
          16,
          16,
          31,
          64,
          4,
          7,
          6,
          10,
          23,
          9,
          11,
          10,
          15,
          8,
          5,
          9,
          45,
          12,
          26,
          12,
          10,
          29,
          8,
          18,
          13,
          4,
          15,
          41,
          8,
          45,
          9,
          10,
          17,
          21,
          41,
          24,
          22,
          3,
          33,
          16,
          44,
          8,
          19,
          17,
          12,
          14,
          9,
          18,
          7,
          17,
          7,
          20,
          13,
          18,
          38,
          7,
          36,
          20,
          10,
          6,
          11,
          12,
          30,
          21,
          19,
          5,
          8,
          32,
          14,
          41,
          36,
          15,
          23,
          15,
          9,
          10,
          18,
          15,
          6,
          38,
          5,
          2,
          11,
          22,
          7,
          16,
          11,
          7,
          4,
          39,
          12,
          9,
          22,
          21,
          12,
          20,
          10,
          13,
          19,
          53,
          26,
          17,
          8,
          13,
          13,
          12,
          11,
          17,
          12,
          5,
          11,
          25,
          17,
          38,
          12,
          3,
          5,
          11,
          6,
          47,
          33,
          10,
          26,
          26,
          5,
          6,
          19,
          28,
          19,
          13,
          73,
          13,
          11,
          16,
          9,
          37,
          22,
          17,
          14,
          10,
          8,
          45,
          31,
          40,
          11,
          11,
          20,
          29,
          17,
          9,
          5,
          10,
          14,
          5,
          6,
          22,
          23,
          35,
          13,
          15,
          8,
          9,
          5,
          5,
          10,
          7,
          17,
          11,
          16,
          27,
          11,
          6,
          16,
          31,
          2,
          18,
          19,
          22,
          22,
          12,
          9,
          17,
          6,
          29,
          5,
          11,
          16,
          16,
          6,
          6,
          40,
          6,
          12,
          7,
          25,
          5,
          15,
          10,
          5,
          9,
          8,
          27,
          16,
          14,
          40,
          9,
          15,
          11,
          20,
          12,
          26,
          41,
          14,
          11,
          16,
          16,
          7,
          21,
          19,
          28,
          12,
          4,
          37,
          36,
          36,
          24,
          32,
          4,
          17,
          3,
          5,
          8,
          3,
          6,
          8,
          5,
          12,
          19,
          8,
          5,
          10,
          13,
          5,
          27,
          25,
          7,
          16,
          5,
          17,
          6,
          42,
          14,
          5,
          4,
          29,
          14,
          22,
          6,
          13,
          5,
          12,
          5,
          19,
          6,
          8,
          53,
          22,
          6,
          18,
          18,
          14,
          32,
          11,
          14,
          8,
          11,
          37,
          23,
          4,
          22,
          4,
          16,
          42,
          37,
          5,
          52,
          26,
          6,
          13,
          10,
          12,
          20,
          14,
          12,
          18,
          16,
          3,
          20,
          27,
          20,
          25,
          28,
          15,
          72,
          4,
          14,
          22,
          6,
          17,
          20,
          13,
          7,
          8,
          18,
          10,
          18,
          12,
          10,
          22,
          5,
          19,
          13,
          7,
          20,
          16,
          15,
          9,
          19,
          5
         ]
        }
       ],
       "layout": {
        "barmode": "overlay",
        "legend": {
         "bgcolor": "#F5F6F9",
         "font": {
          "color": "#4D5663"
         }
        },
        "paper_bgcolor": "#F5F6F9",
        "plot_bgcolor": "#F5F6F9",
        "template": {
         "data": {
          "bar": [
           {
            "error_x": {
             "color": "#2a3f5f"
            },
            "error_y": {
             "color": "#2a3f5f"
            },
            "marker": {
             "line": {
              "color": "#E5ECF6",
              "width": 0.5
             }
            },
            "type": "bar"
           }
          ],
          "barpolar": [
           {
            "marker": {
             "line": {
              "color": "#E5ECF6",
              "width": 0.5
             }
            },
            "type": "barpolar"
           }
          ],
          "carpet": [
           {
            "aaxis": {
             "endlinecolor": "#2a3f5f",
             "gridcolor": "white",
             "linecolor": "white",
             "minorgridcolor": "white",
             "startlinecolor": "#2a3f5f"
            },
            "baxis": {
             "endlinecolor": "#2a3f5f",
             "gridcolor": "white",
             "linecolor": "white",
             "minorgridcolor": "white",
             "startlinecolor": "#2a3f5f"
            },
            "type": "carpet"
           }
          ],
          "choropleth": [
           {
            "colorbar": {
             "outlinewidth": 0,
             "ticks": ""
            },
            "type": "choropleth"
           }
          ],
          "contour": [
           {
            "colorbar": {
             "outlinewidth": 0,
             "ticks": ""
            },
            "colorscale": [
             [
              0,
              "#0d0887"
             ],
             [
              0.1111111111111111,
              "#46039f"
             ],
             [
              0.2222222222222222,
              "#7201a8"
             ],
             [
              0.3333333333333333,
              "#9c179e"
             ],
             [
              0.4444444444444444,
              "#bd3786"
             ],
             [
              0.5555555555555556,
              "#d8576b"
             ],
             [
              0.6666666666666666,
              "#ed7953"
             ],
             [
              0.7777777777777778,
              "#fb9f3a"
             ],
             [
              0.8888888888888888,
              "#fdca26"
             ],
             [
              1,
              "#f0f921"
             ]
            ],
            "type": "contour"
           }
          ],
          "contourcarpet": [
           {
            "colorbar": {
             "outlinewidth": 0,
             "ticks": ""
            },
            "type": "contourcarpet"
           }
          ],
          "heatmap": [
           {
            "colorbar": {
             "outlinewidth": 0,
             "ticks": ""
            },
            "colorscale": [
             [
              0,
              "#0d0887"
             ],
             [
              0.1111111111111111,
              "#46039f"
             ],
             [
              0.2222222222222222,
              "#7201a8"
             ],
             [
              0.3333333333333333,
              "#9c179e"
             ],
             [
              0.4444444444444444,
              "#bd3786"
             ],
             [
              0.5555555555555556,
              "#d8576b"
             ],
             [
              0.6666666666666666,
              "#ed7953"
             ],
             [
              0.7777777777777778,
              "#fb9f3a"
             ],
             [
              0.8888888888888888,
              "#fdca26"
             ],
             [
              1,
              "#f0f921"
             ]
            ],
            "type": "heatmap"
           }
          ],
          "heatmapgl": [
           {
            "colorbar": {
             "outlinewidth": 0,
             "ticks": ""
            },
            "colorscale": [
             [
              0,
              "#0d0887"
             ],
             [
              0.1111111111111111,
              "#46039f"
             ],
             [
              0.2222222222222222,
              "#7201a8"
             ],
             [
              0.3333333333333333,
              "#9c179e"
             ],
             [
              0.4444444444444444,
              "#bd3786"
             ],
             [
              0.5555555555555556,
              "#d8576b"
             ],
             [
              0.6666666666666666,
              "#ed7953"
             ],
             [
              0.7777777777777778,
              "#fb9f3a"
             ],
             [
              0.8888888888888888,
              "#fdca26"
             ],
             [
              1,
              "#f0f921"
             ]
            ],
            "type": "heatmapgl"
           }
          ],
          "histogram": [
           {
            "marker": {
             "colorbar": {
              "outlinewidth": 0,
              "ticks": ""
             }
            },
            "type": "histogram"
           }
          ],
          "histogram2d": [
           {
            "colorbar": {
             "outlinewidth": 0,
             "ticks": ""
            },
            "colorscale": [
             [
              0,
              "#0d0887"
             ],
             [
              0.1111111111111111,
              "#46039f"
             ],
             [
              0.2222222222222222,
              "#7201a8"
             ],
             [
              0.3333333333333333,
              "#9c179e"
             ],
             [
              0.4444444444444444,
              "#bd3786"
             ],
             [
              0.5555555555555556,
              "#d8576b"
             ],
             [
              0.6666666666666666,
              "#ed7953"
             ],
             [
              0.7777777777777778,
              "#fb9f3a"
             ],
             [
              0.8888888888888888,
              "#fdca26"
             ],
             [
              1,
              "#f0f921"
             ]
            ],
            "type": "histogram2d"
           }
          ],
          "histogram2dcontour": [
           {
            "colorbar": {
             "outlinewidth": 0,
             "ticks": ""
            },
            "colorscale": [
             [
              0,
              "#0d0887"
             ],
             [
              0.1111111111111111,
              "#46039f"
             ],
             [
              0.2222222222222222,
              "#7201a8"
             ],
             [
              0.3333333333333333,
              "#9c179e"
             ],
             [
              0.4444444444444444,
              "#bd3786"
             ],
             [
              0.5555555555555556,
              "#d8576b"
             ],
             [
              0.6666666666666666,
              "#ed7953"
             ],
             [
              0.7777777777777778,
              "#fb9f3a"
             ],
             [
              0.8888888888888888,
              "#fdca26"
             ],
             [
              1,
              "#f0f921"
             ]
            ],
            "type": "histogram2dcontour"
           }
          ],
          "mesh3d": [
           {
            "colorbar": {
             "outlinewidth": 0,
             "ticks": ""
            },
            "type": "mesh3d"
           }
          ],
          "parcoords": [
           {
            "line": {
             "colorbar": {
              "outlinewidth": 0,
              "ticks": ""
             }
            },
            "type": "parcoords"
           }
          ],
          "pie": [
           {
            "automargin": true,
            "type": "pie"
           }
          ],
          "scatter": [
           {
            "marker": {
             "colorbar": {
              "outlinewidth": 0,
              "ticks": ""
             }
            },
            "type": "scatter"
           }
          ],
          "scatter3d": [
           {
            "line": {
             "colorbar": {
              "outlinewidth": 0,
              "ticks": ""
             }
            },
            "marker": {
             "colorbar": {
              "outlinewidth": 0,
              "ticks": ""
             }
            },
            "type": "scatter3d"
           }
          ],
          "scattercarpet": [
           {
            "marker": {
             "colorbar": {
              "outlinewidth": 0,
              "ticks": ""
             }
            },
            "type": "scattercarpet"
           }
          ],
          "scattergeo": [
           {
            "marker": {
             "colorbar": {
              "outlinewidth": 0,
              "ticks": ""
             }
            },
            "type": "scattergeo"
           }
          ],
          "scattergl": [
           {
            "marker": {
             "colorbar": {
              "outlinewidth": 0,
              "ticks": ""
             }
            },
            "type": "scattergl"
           }
          ],
          "scattermapbox": [
           {
            "marker": {
             "colorbar": {
              "outlinewidth": 0,
              "ticks": ""
             }
            },
            "type": "scattermapbox"
           }
          ],
          "scatterpolar": [
           {
            "marker": {
             "colorbar": {
              "outlinewidth": 0,
              "ticks": ""
             }
            },
            "type": "scatterpolar"
           }
          ],
          "scatterpolargl": [
           {
            "marker": {
             "colorbar": {
              "outlinewidth": 0,
              "ticks": ""
             }
            },
            "type": "scatterpolargl"
           }
          ],
          "scatterternary": [
           {
            "marker": {
             "colorbar": {
              "outlinewidth": 0,
              "ticks": ""
             }
            },
            "type": "scatterternary"
           }
          ],
          "surface": [
           {
            "colorbar": {
             "outlinewidth": 0,
             "ticks": ""
            },
            "colorscale": [
             [
              0,
              "#0d0887"
             ],
             [
              0.1111111111111111,
              "#46039f"
             ],
             [
              0.2222222222222222,
              "#7201a8"
             ],
             [
              0.3333333333333333,
              "#9c179e"
             ],
             [
              0.4444444444444444,
              "#bd3786"
             ],
             [
              0.5555555555555556,
              "#d8576b"
             ],
             [
              0.6666666666666666,
              "#ed7953"
             ],
             [
              0.7777777777777778,
              "#fb9f3a"
             ],
             [
              0.8888888888888888,
              "#fdca26"
             ],
             [
              1,
              "#f0f921"
             ]
            ],
            "type": "surface"
           }
          ],
          "table": [
           {
            "cells": {
             "fill": {
              "color": "#EBF0F8"
             },
             "line": {
              "color": "white"
             }
            },
            "header": {
             "fill": {
              "color": "#C8D4E3"
             },
             "line": {
              "color": "white"
             }
            },
            "type": "table"
           }
          ]
         },
         "layout": {
          "annotationdefaults": {
           "arrowcolor": "#2a3f5f",
           "arrowhead": 0,
           "arrowwidth": 1
          },
          "coloraxis": {
           "colorbar": {
            "outlinewidth": 0,
            "ticks": ""
           }
          },
          "colorscale": {
           "diverging": [
            [
             0,
             "#8e0152"
            ],
            [
             0.1,
             "#c51b7d"
            ],
            [
             0.2,
             "#de77ae"
            ],
            [
             0.3,
             "#f1b6da"
            ],
            [
             0.4,
             "#fde0ef"
            ],
            [
             0.5,
             "#f7f7f7"
            ],
            [
             0.6,
             "#e6f5d0"
            ],
            [
             0.7,
             "#b8e186"
            ],
            [
             0.8,
             "#7fbc41"
            ],
            [
             0.9,
             "#4d9221"
            ],
            [
             1,
             "#276419"
            ]
           ],
           "sequential": [
            [
             0,
             "#0d0887"
            ],
            [
             0.1111111111111111,
             "#46039f"
            ],
            [
             0.2222222222222222,
             "#7201a8"
            ],
            [
             0.3333333333333333,
             "#9c179e"
            ],
            [
             0.4444444444444444,
             "#bd3786"
            ],
            [
             0.5555555555555556,
             "#d8576b"
            ],
            [
             0.6666666666666666,
             "#ed7953"
            ],
            [
             0.7777777777777778,
             "#fb9f3a"
            ],
            [
             0.8888888888888888,
             "#fdca26"
            ],
            [
             1,
             "#f0f921"
            ]
           ],
           "sequentialminus": [
            [
             0,
             "#0d0887"
            ],
            [
             0.1111111111111111,
             "#46039f"
            ],
            [
             0.2222222222222222,
             "#7201a8"
            ],
            [
             0.3333333333333333,
             "#9c179e"
            ],
            [
             0.4444444444444444,
             "#bd3786"
            ],
            [
             0.5555555555555556,
             "#d8576b"
            ],
            [
             0.6666666666666666,
             "#ed7953"
            ],
            [
             0.7777777777777778,
             "#fb9f3a"
            ],
            [
             0.8888888888888888,
             "#fdca26"
            ],
            [
             1,
             "#f0f921"
            ]
           ]
          },
          "colorway": [
           "#636efa",
           "#EF553B",
           "#00cc96",
           "#ab63fa",
           "#FFA15A",
           "#19d3f3",
           "#FF6692",
           "#B6E880",
           "#FF97FF",
           "#FECB52"
          ],
          "font": {
           "color": "#2a3f5f"
          },
          "geo": {
           "bgcolor": "white",
           "lakecolor": "white",
           "landcolor": "#E5ECF6",
           "showlakes": true,
           "showland": true,
           "subunitcolor": "white"
          },
          "hoverlabel": {
           "align": "left"
          },
          "hovermode": "closest",
          "mapbox": {
           "style": "light"
          },
          "paper_bgcolor": "white",
          "plot_bgcolor": "#E5ECF6",
          "polar": {
           "angularaxis": {
            "gridcolor": "white",
            "linecolor": "white",
            "ticks": ""
           },
           "bgcolor": "#E5ECF6",
           "radialaxis": {
            "gridcolor": "white",
            "linecolor": "white",
            "ticks": ""
           }
          },
          "scene": {
           "xaxis": {
            "backgroundcolor": "#E5ECF6",
            "gridcolor": "white",
            "gridwidth": 2,
            "linecolor": "white",
            "showbackground": true,
            "ticks": "",
            "zerolinecolor": "white"
           },
           "yaxis": {
            "backgroundcolor": "#E5ECF6",
            "gridcolor": "white",
            "gridwidth": 2,
            "linecolor": "white",
            "showbackground": true,
            "ticks": "",
            "zerolinecolor": "white"
           },
           "zaxis": {
            "backgroundcolor": "#E5ECF6",
            "gridcolor": "white",
            "gridwidth": 2,
            "linecolor": "white",
            "showbackground": true,
            "ticks": "",
            "zerolinecolor": "white"
           }
          },
          "shapedefaults": {
           "line": {
            "color": "#2a3f5f"
           }
          },
          "ternary": {
           "aaxis": {
            "gridcolor": "white",
            "linecolor": "white",
            "ticks": ""
           },
           "baxis": {
            "gridcolor": "white",
            "linecolor": "white",
            "ticks": ""
           },
           "bgcolor": "#E5ECF6",
           "caxis": {
            "gridcolor": "white",
            "linecolor": "white",
            "ticks": ""
           }
          },
          "title": {
           "x": 0.05
          },
          "xaxis": {
           "automargin": true,
           "gridcolor": "white",
           "linecolor": "white",
           "ticks": "",
           "title": {
            "standoff": 15
           },
           "zerolinecolor": "white",
           "zerolinewidth": 2
          },
          "yaxis": {
           "automargin": true,
           "gridcolor": "white",
           "linecolor": "white",
           "ticks": "",
           "title": {
            "standoff": 15
           },
           "zerolinecolor": "white",
           "zerolinewidth": 2
          }
         }
        },
        "title": {
         "font": {
          "color": "#4D5663"
         },
         "text": "Histogram depicting distibution of word count across misclassified data"
        },
        "xaxis": {
         "gridcolor": "#E1E5ED",
         "showgrid": true,
         "tickfont": {
          "color": "#4D5663"
         },
         "title": {
          "font": {
           "color": "#4D5663"
          },
          "text": "word count"
         },
         "zerolinecolor": "#E1E5ED"
        },
        "yaxis": {
         "gridcolor": "#E1E5ED",
         "showgrid": true,
         "tickfont": {
          "color": "#4D5663"
         },
         "title": {
          "font": {
           "color": "#4D5663"
          },
          "text": "num records"
         },
         "zerolinecolor": "#E1E5ED"
        }
       }
      },
      "text/html": [
       "<div>                            <div id=\"531ad9ad-e2c9-49d6-a957-c59d06879445\" class=\"plotly-graph-div\" style=\"height:525px; width:100%;\"></div>            <script type=\"text/javascript\">                require([\"plotly\"], function(Plotly) {                    window.PLOTLYENV=window.PLOTLYENV || {};\n",
       "                    window.PLOTLYENV.BASE_URL='https://plot.ly';                                    if (document.getElementById(\"531ad9ad-e2c9-49d6-a957-c59d06879445\")) {                    Plotly.newPlot(                        \"531ad9ad-e2c9-49d6-a957-c59d06879445\",                        [{\"histfunc\": \"count\", \"histnorm\": \"\", \"marker\": {\"color\": \"rgba(255, 153, 51, 1.0)\", \"line\": {\"color\": \"#4D5663\", \"width\": 1.3}}, \"name\": \"word count\", \"nbinsx\": 100, \"opacity\": 0.8, \"orientation\": \"v\", \"type\": \"histogram\", \"x\": [3, 4, 18, 13, 8, 13, 39, 47, 8, 8, 53, 3, 8, 9, 11, 17, 6, 16, 25, 55, 4, 14, 12, 17, 11, 25, 40, 6, 4, 7, 16, 4, 16, 23, 2, 14, 6, 11, 8, 10, 5, 12, 18, 8, 7, 5, 14, 7, 6, 11, 33, 13, 11, 28, 4, 14, 45, 13, 16, 16, 31, 64, 4, 7, 6, 10, 23, 9, 11, 10, 15, 8, 5, 9, 45, 12, 26, 12, 10, 29, 8, 18, 13, 4, 15, 41, 8, 45, 9, 10, 17, 21, 41, 24, 22, 3, 33, 16, 44, 8, 19, 17, 12, 14, 9, 18, 7, 17, 7, 20, 13, 18, 38, 7, 36, 20, 10, 6, 11, 12, 30, 21, 19, 5, 8, 32, 14, 41, 36, 15, 23, 15, 9, 10, 18, 15, 6, 38, 5, 2, 11, 22, 7, 16, 11, 7, 4, 39, 12, 9, 22, 21, 12, 20, 10, 13, 19, 53, 26, 17, 8, 13, 13, 12, 11, 17, 12, 5, 11, 25, 17, 38, 12, 3, 5, 11, 6, 47, 33, 10, 26, 26, 5, 6, 19, 28, 19, 13, 73, 13, 11, 16, 9, 37, 22, 17, 14, 10, 8, 45, 31, 40, 11, 11, 20, 29, 17, 9, 5, 10, 14, 5, 6, 22, 23, 35, 13, 15, 8, 9, 5, 5, 10, 7, 17, 11, 16, 27, 11, 6, 16, 31, 2, 18, 19, 22, 22, 12, 9, 17, 6, 29, 5, 11, 16, 16, 6, 6, 40, 6, 12, 7, 25, 5, 15, 10, 5, 9, 8, 27, 16, 14, 40, 9, 15, 11, 20, 12, 26, 41, 14, 11, 16, 16, 7, 21, 19, 28, 12, 4, 37, 36, 36, 24, 32, 4, 17, 3, 5, 8, 3, 6, 8, 5, 12, 19, 8, 5, 10, 13, 5, 27, 25, 7, 16, 5, 17, 6, 42, 14, 5, 4, 29, 14, 22, 6, 13, 5, 12, 5, 19, 6, 8, 53, 22, 6, 18, 18, 14, 32, 11, 14, 8, 11, 37, 23, 4, 22, 4, 16, 42, 37, 5, 52, 26, 6, 13, 10, 12, 20, 14, 12, 18, 16, 3, 20, 27, 20, 25, 28, 15, 72, 4, 14, 22, 6, 17, 20, 13, 7, 8, 18, 10, 18, 12, 10, 22, 5, 19, 13, 7, 20, 16, 15, 9, 19, 5]}],                        {\"barmode\": \"overlay\", \"legend\": {\"bgcolor\": \"#F5F6F9\", \"font\": {\"color\": \"#4D5663\"}}, \"paper_bgcolor\": \"#F5F6F9\", \"plot_bgcolor\": \"#F5F6F9\", \"template\": {\"data\": {\"bar\": [{\"error_x\": {\"color\": \"#2a3f5f\"}, \"error_y\": {\"color\": \"#2a3f5f\"}, \"marker\": {\"line\": {\"color\": \"#E5ECF6\", \"width\": 0.5}}, \"type\": \"bar\"}], \"barpolar\": [{\"marker\": {\"line\": {\"color\": \"#E5ECF6\", \"width\": 0.5}}, \"type\": \"barpolar\"}], \"carpet\": [{\"aaxis\": {\"endlinecolor\": \"#2a3f5f\", \"gridcolor\": \"white\", \"linecolor\": \"white\", \"minorgridcolor\": \"white\", \"startlinecolor\": \"#2a3f5f\"}, \"baxis\": {\"endlinecolor\": \"#2a3f5f\", \"gridcolor\": \"white\", \"linecolor\": \"white\", \"minorgridcolor\": \"white\", \"startlinecolor\": \"#2a3f5f\"}, \"type\": \"carpet\"}], \"choropleth\": [{\"colorbar\": {\"outlinewidth\": 0, \"ticks\": \"\"}, \"type\": \"choropleth\"}], \"contour\": [{\"colorbar\": {\"outlinewidth\": 0, \"ticks\": \"\"}, \"colorscale\": [[0.0, \"#0d0887\"], [0.1111111111111111, \"#46039f\"], [0.2222222222222222, \"#7201a8\"], [0.3333333333333333, \"#9c179e\"], [0.4444444444444444, \"#bd3786\"], [0.5555555555555556, \"#d8576b\"], [0.6666666666666666, \"#ed7953\"], [0.7777777777777778, \"#fb9f3a\"], [0.8888888888888888, \"#fdca26\"], [1.0, \"#f0f921\"]], \"type\": \"contour\"}], \"contourcarpet\": [{\"colorbar\": {\"outlinewidth\": 0, \"ticks\": \"\"}, \"type\": \"contourcarpet\"}], \"heatmap\": [{\"colorbar\": {\"outlinewidth\": 0, \"ticks\": \"\"}, \"colorscale\": [[0.0, \"#0d0887\"], [0.1111111111111111, \"#46039f\"], [0.2222222222222222, \"#7201a8\"], [0.3333333333333333, \"#9c179e\"], [0.4444444444444444, \"#bd3786\"], [0.5555555555555556, \"#d8576b\"], [0.6666666666666666, \"#ed7953\"], [0.7777777777777778, \"#fb9f3a\"], [0.8888888888888888, \"#fdca26\"], [1.0, \"#f0f921\"]], \"type\": \"heatmap\"}], \"heatmapgl\": [{\"colorbar\": {\"outlinewidth\": 0, \"ticks\": \"\"}, \"colorscale\": [[0.0, \"#0d0887\"], [0.1111111111111111, \"#46039f\"], [0.2222222222222222, \"#7201a8\"], [0.3333333333333333, \"#9c179e\"], [0.4444444444444444, \"#bd3786\"], [0.5555555555555556, \"#d8576b\"], [0.6666666666666666, \"#ed7953\"], [0.7777777777777778, \"#fb9f3a\"], [0.8888888888888888, \"#fdca26\"], [1.0, \"#f0f921\"]], \"type\": \"heatmapgl\"}], \"histogram\": [{\"marker\": {\"colorbar\": {\"outlinewidth\": 0, \"ticks\": \"\"}}, \"type\": \"histogram\"}], \"histogram2d\": [{\"colorbar\": {\"outlinewidth\": 0, \"ticks\": \"\"}, \"colorscale\": [[0.0, \"#0d0887\"], [0.1111111111111111, \"#46039f\"], [0.2222222222222222, \"#7201a8\"], [0.3333333333333333, \"#9c179e\"], [0.4444444444444444, \"#bd3786\"], [0.5555555555555556, \"#d8576b\"], [0.6666666666666666, \"#ed7953\"], [0.7777777777777778, \"#fb9f3a\"], [0.8888888888888888, \"#fdca26\"], [1.0, \"#f0f921\"]], \"type\": \"histogram2d\"}], \"histogram2dcontour\": [{\"colorbar\": {\"outlinewidth\": 0, \"ticks\": \"\"}, \"colorscale\": [[0.0, \"#0d0887\"], [0.1111111111111111, \"#46039f\"], [0.2222222222222222, \"#7201a8\"], [0.3333333333333333, \"#9c179e\"], [0.4444444444444444, \"#bd3786\"], [0.5555555555555556, \"#d8576b\"], [0.6666666666666666, \"#ed7953\"], [0.7777777777777778, \"#fb9f3a\"], [0.8888888888888888, \"#fdca26\"], [1.0, \"#f0f921\"]], \"type\": \"histogram2dcontour\"}], \"mesh3d\": [{\"colorbar\": {\"outlinewidth\": 0, \"ticks\": \"\"}, \"type\": \"mesh3d\"}], \"parcoords\": [{\"line\": {\"colorbar\": {\"outlinewidth\": 0, \"ticks\": \"\"}}, \"type\": \"parcoords\"}], \"pie\": [{\"automargin\": true, \"type\": \"pie\"}], \"scatter\": [{\"marker\": {\"colorbar\": {\"outlinewidth\": 0, \"ticks\": \"\"}}, \"type\": \"scatter\"}], \"scatter3d\": [{\"line\": {\"colorbar\": {\"outlinewidth\": 0, \"ticks\": \"\"}}, \"marker\": {\"colorbar\": {\"outlinewidth\": 0, \"ticks\": \"\"}}, \"type\": \"scatter3d\"}], \"scattercarpet\": [{\"marker\": {\"colorbar\": {\"outlinewidth\": 0, \"ticks\": \"\"}}, \"type\": \"scattercarpet\"}], \"scattergeo\": [{\"marker\": {\"colorbar\": {\"outlinewidth\": 0, \"ticks\": \"\"}}, \"type\": \"scattergeo\"}], \"scattergl\": [{\"marker\": {\"colorbar\": {\"outlinewidth\": 0, \"ticks\": \"\"}}, \"type\": \"scattergl\"}], \"scattermapbox\": [{\"marker\": {\"colorbar\": {\"outlinewidth\": 0, \"ticks\": \"\"}}, \"type\": \"scattermapbox\"}], \"scatterpolar\": [{\"marker\": {\"colorbar\": {\"outlinewidth\": 0, \"ticks\": \"\"}}, \"type\": \"scatterpolar\"}], \"scatterpolargl\": [{\"marker\": {\"colorbar\": {\"outlinewidth\": 0, \"ticks\": \"\"}}, \"type\": \"scatterpolargl\"}], \"scatterternary\": [{\"marker\": {\"colorbar\": {\"outlinewidth\": 0, \"ticks\": \"\"}}, \"type\": \"scatterternary\"}], \"surface\": [{\"colorbar\": {\"outlinewidth\": 0, \"ticks\": \"\"}, \"colorscale\": [[0.0, \"#0d0887\"], [0.1111111111111111, \"#46039f\"], [0.2222222222222222, \"#7201a8\"], [0.3333333333333333, \"#9c179e\"], [0.4444444444444444, \"#bd3786\"], [0.5555555555555556, \"#d8576b\"], [0.6666666666666666, \"#ed7953\"], [0.7777777777777778, \"#fb9f3a\"], [0.8888888888888888, \"#fdca26\"], [1.0, \"#f0f921\"]], \"type\": \"surface\"}], \"table\": [{\"cells\": {\"fill\": {\"color\": \"#EBF0F8\"}, \"line\": {\"color\": \"white\"}}, \"header\": {\"fill\": {\"color\": \"#C8D4E3\"}, \"line\": {\"color\": \"white\"}}, \"type\": \"table\"}]}, \"layout\": {\"annotationdefaults\": {\"arrowcolor\": \"#2a3f5f\", \"arrowhead\": 0, \"arrowwidth\": 1}, \"coloraxis\": {\"colorbar\": {\"outlinewidth\": 0, \"ticks\": \"\"}}, \"colorscale\": {\"diverging\": [[0, \"#8e0152\"], [0.1, \"#c51b7d\"], [0.2, \"#de77ae\"], [0.3, \"#f1b6da\"], [0.4, \"#fde0ef\"], [0.5, \"#f7f7f7\"], [0.6, \"#e6f5d0\"], [0.7, \"#b8e186\"], [0.8, \"#7fbc41\"], [0.9, \"#4d9221\"], [1, \"#276419\"]], \"sequential\": [[0.0, \"#0d0887\"], [0.1111111111111111, \"#46039f\"], [0.2222222222222222, \"#7201a8\"], [0.3333333333333333, \"#9c179e\"], [0.4444444444444444, \"#bd3786\"], [0.5555555555555556, \"#d8576b\"], [0.6666666666666666, \"#ed7953\"], [0.7777777777777778, \"#fb9f3a\"], [0.8888888888888888, \"#fdca26\"], [1.0, \"#f0f921\"]], \"sequentialminus\": [[0.0, \"#0d0887\"], [0.1111111111111111, \"#46039f\"], [0.2222222222222222, \"#7201a8\"], [0.3333333333333333, \"#9c179e\"], [0.4444444444444444, \"#bd3786\"], [0.5555555555555556, \"#d8576b\"], [0.6666666666666666, \"#ed7953\"], [0.7777777777777778, \"#fb9f3a\"], [0.8888888888888888, \"#fdca26\"], [1.0, \"#f0f921\"]]}, \"colorway\": [\"#636efa\", \"#EF553B\", \"#00cc96\", \"#ab63fa\", \"#FFA15A\", \"#19d3f3\", \"#FF6692\", \"#B6E880\", \"#FF97FF\", \"#FECB52\"], \"font\": {\"color\": \"#2a3f5f\"}, \"geo\": {\"bgcolor\": \"white\", \"lakecolor\": \"white\", \"landcolor\": \"#E5ECF6\", \"showlakes\": true, \"showland\": true, \"subunitcolor\": \"white\"}, \"hoverlabel\": {\"align\": \"left\"}, \"hovermode\": \"closest\", \"mapbox\": {\"style\": \"light\"}, \"paper_bgcolor\": \"white\", \"plot_bgcolor\": \"#E5ECF6\", \"polar\": {\"angularaxis\": {\"gridcolor\": \"white\", \"linecolor\": \"white\", \"ticks\": \"\"}, \"bgcolor\": \"#E5ECF6\", \"radialaxis\": {\"gridcolor\": \"white\", \"linecolor\": \"white\", \"ticks\": \"\"}}, \"scene\": {\"xaxis\": {\"backgroundcolor\": \"#E5ECF6\", \"gridcolor\": \"white\", \"gridwidth\": 2, \"linecolor\": \"white\", \"showbackground\": true, \"ticks\": \"\", \"zerolinecolor\": \"white\"}, \"yaxis\": {\"backgroundcolor\": \"#E5ECF6\", \"gridcolor\": \"white\", \"gridwidth\": 2, \"linecolor\": \"white\", \"showbackground\": true, \"ticks\": \"\", \"zerolinecolor\": \"white\"}, \"zaxis\": {\"backgroundcolor\": \"#E5ECF6\", \"gridcolor\": \"white\", \"gridwidth\": 2, \"linecolor\": \"white\", \"showbackground\": true, \"ticks\": \"\", \"zerolinecolor\": \"white\"}}, \"shapedefaults\": {\"line\": {\"color\": \"#2a3f5f\"}}, \"ternary\": {\"aaxis\": {\"gridcolor\": \"white\", \"linecolor\": \"white\", \"ticks\": \"\"}, \"baxis\": {\"gridcolor\": \"white\", \"linecolor\": \"white\", \"ticks\": \"\"}, \"bgcolor\": \"#E5ECF6\", \"caxis\": {\"gridcolor\": \"white\", \"linecolor\": \"white\", \"ticks\": \"\"}}, \"title\": {\"x\": 0.05}, \"xaxis\": {\"automargin\": true, \"gridcolor\": \"white\", \"linecolor\": \"white\", \"ticks\": \"\", \"title\": {\"standoff\": 15}, \"zerolinecolor\": \"white\", \"zerolinewidth\": 2}, \"yaxis\": {\"automargin\": true, \"gridcolor\": \"white\", \"linecolor\": \"white\", \"ticks\": \"\", \"title\": {\"standoff\": 15}, \"zerolinecolor\": \"white\", \"zerolinewidth\": 2}}}, \"title\": {\"font\": {\"color\": \"#4D5663\"}, \"text\": \"Histogram depicting distibution of word count across misclassified data\"}, \"xaxis\": {\"gridcolor\": \"#E1E5ED\", \"showgrid\": true, \"tickfont\": {\"color\": \"#4D5663\"}, \"title\": {\"font\": {\"color\": \"#4D5663\"}, \"text\": \"word count\"}, \"zerolinecolor\": \"#E1E5ED\"}, \"yaxis\": {\"gridcolor\": \"#E1E5ED\", \"showgrid\": true, \"tickfont\": {\"color\": \"#4D5663\"}, \"title\": {\"font\": {\"color\": \"#4D5663\"}, \"text\": \"num records\"}, \"zerolinecolor\": \"#E1E5ED\"}},                        {\"showLink\": true, \"linkText\": \"Export to plot.ly\", \"plotlyServerURL\": \"https://plot.ly\", \"responsive\": true}                    ).then(function(){\n",
       "                            \n",
       "var gd = document.getElementById('531ad9ad-e2c9-49d6-a957-c59d06879445');\n",
       "var x = new MutationObserver(function (mutations, observer) {{\n",
       "        var display = window.getComputedStyle(gd).display;\n",
       "        if (!display || display === 'none') {{\n",
       "            console.log([gd, 'removed!']);\n",
       "            Plotly.purge(gd);\n",
       "            observer.disconnect();\n",
       "        }}\n",
       "}});\n",
       "\n",
       "// Listen for the removal of the full notebook cells\n",
       "var notebookContainer = gd.closest('#notebook-container');\n",
       "if (notebookContainer) {{\n",
       "    x.observe(notebookContainer, {childList: true});\n",
       "}}\n",
       "\n",
       "// Listen for the clearing of the current output cell\n",
       "var outputEl = gd.closest('.output');\n",
       "if (outputEl) {{\n",
       "    x.observe(outputEl, {childList: true});\n",
       "}}\n",
       "\n",
       "                        })                };                });            </script>        </div>"
      ]
     },
     "metadata": {},
     "output_type": "display_data"
    }
   ],
   "source": [
    "mistakes['word count'] = mistakes['text'].apply(lambda x : len(x.split()))\n",
    "print('Word count stats:\\n\\n',mistakes['word count'].describe(),'\\n\\n')\n",
    "\n",
    "mistakes['word count'].iplot(kind = 'hist', xTitle = \"word count\", yTitle = 'num records', \n",
    "                            title = \"Histogram depicting distibution of word count across misclassified data\" ,bins=(100))"
   ]
  },
  {
   "cell_type": "code",
   "execution_count": 29,
   "metadata": {},
   "outputs": [],
   "source": [
    "mistakes['actual label'] = mistakes['actual label'].apply(lambda x: label_convert(x,label_mappings))\n",
    "mistakes['predicted label'] = mistakes['predicted label'].apply(lambda x: label_convert(x,label_mappings))"
   ]
  },
  {
   "cell_type": "code",
   "execution_count": 30,
   "metadata": {},
   "outputs": [
    {
     "name": "stdout",
     "output_type": "stream",
     "text": [
      "Misclassified class frequency\n"
     ]
    },
    {
     "data": {
      "text/plain": [
       "phy         110\n",
       "com_tech     99\n",
       "cse          94\n",
       "bioche       84\n",
       "Name: actual label, dtype: int64"
      ]
     },
     "execution_count": 30,
     "metadata": {},
     "output_type": "execute_result"
    }
   ],
   "source": [
    "print('Misclassified class frequency')\n",
    "mistakes['actual label'].value_counts()"
   ]
  },
  {
   "cell_type": "code",
   "execution_count": 31,
   "metadata": {},
   "outputs": [
    {
     "name": "stdout",
     "output_type": "stream",
     "text": [
      "Misclassification class frequency\n"
     ]
    },
    {
     "data": {
      "text/plain": [
       "com_tech    191\n",
       "phy         104\n",
       "cse          57\n",
       "bioche       35\n",
       "Name: predicted label, dtype: int64"
      ]
     },
     "execution_count": 31,
     "metadata": {},
     "output_type": "execute_result"
    }
   ],
   "source": [
    "print('Misclassification class frequency')\n",
    "\n",
    "mistakes['predicted label'].value_counts()"
   ]
  },
  {
   "cell_type": "code",
   "execution_count": null,
   "metadata": {},
   "outputs": [],
   "source": []
  },
  {
   "cell_type": "code",
   "execution_count": null,
   "metadata": {},
   "outputs": [],
   "source": [
    "below_20 = [x  for x in mistakes[mistakes['word count'] <= 20 ].values.tolist()]\n",
    "for rec in below_20:\n",
    "    print(rec, '\\n\\n', translator.translate(rec[0]).text,'\\n\\n')"
   ]
  },
  {
   "cell_type": "code",
   "execution_count": 63,
   "metadata": {},
   "outputs": [
    {
     "name": "stdout",
     "output_type": "stream",
     "text": [
      "['म्हणून आपल्याला येथे पहाण्याची कोणतीही विशिष्ट ऑर्डर नाही जी आपल्यास जे आवडेल ते आपल्या अनुप्रयोगावर खरोखरच अवलंबून असते आणि म्हणूनच मी म्हणेन की आपल्याला माहित आहे की या दिवसात जेव्हा ते आपल्याला पाहतात तेव्हा आपल्याला छंद क्लब क्रियाकलाप माहित असतात आपल्या विशिष्ट गरजा पूर्ण करणाऱ्या काही गोष्टी निवडण्याची लवचिकता असलेल्या विद्यापीठांमध्ये आपल्याकडे आहे', 'phy', 'com_tech', 53] \n",
      "\n",
      " So there’s no specific order to watch here that really depends on your application of what you like and that’s why I would say you know these days when they see you you know the hobby club activities with the flexibility to choose something that meets your specific needs We have it in universities \n",
      "\n",
      "\n",
      "['कारण आज आपल्या आयुष्यात सामान्यतः प्रकाश शीर्षस्थानावरून येतो आणि जर प्रकाश शीर्षस्थानापासून आला आणि जर एखादे वस्तु उत्परिवर्तनीय असेल तर छाया सावलीच्या पृष्ठभागाच्या खालच्या भागावर असेल आणि जर तो अव्यवस्थित असेल तर प्रकाश प्रकाश खालच्या भागात असेल आणि सावली वरच्या भागावर आणि उत्तल पृष्ठभागावर असेल तर प्रकाश वरच्या भागावर असेल आणि सावली खालच्या भागात असेल', 'com_tech', 'phy', 55] \n",
      "\n",
      " Because in our life today light usually comes from the top and if the light comes from the top and if an object is mutable then the shadow is on the bottom of the shadow surface and if it is irregular then the light is on the bottom and the shadow is on the top and if it is on the convex surface then the light is on the top And the shadow will be at the bottom \n",
      "\n",
      "\n",
      "['विदेशी अन्न चांगले आहे काही लोक आनंद घेऊ शकतात तर जगभरातील प्रत्येकजण यासारखे विदेशी अन्न मिळवू शकत नाहीत तर बरेच लोक आनंद घेऊ शकतात परंतु असमानता इतकी आहे की एक शेवटी एकीकडे आपल्याला परदेशी अन्न मिळत आहे आम्ही काही लोक खरेदी आणि इतर काही घेऊ शकतात जेणेकरून काही लोक लाभ घेण्याची क्षमता घेऊ शकत नाहीत दोन्हीही खरे आहेत आणि ते खरोखरच संघर्ष करीत आहेत', 'bioche', 'com_tech', 64] \n",
      "\n",
      " Exotic food is good Some people can enjoy it while not everyone around the world can get exotic food like this, many people can enjoy it but the inequality is such that on the one hand we are getting foreign food we can buy some people and take others so that some people benefit Can't afford to take both are true and they're really struggling \n",
      "\n",
      "\n",
      "['तर आम्ही या आणखी काही गोष्टींचा उल्लेख करू इच्छितो की यातील काही साहित्य यापैकी काही आकडे इत्यादी वेगवेगळ्या स्रोतांकडून घेण्यात आल्या आहेत आम्ही सर्व संदर्भ ठेवण्याचा प्रयत्न केला आहे आणि त्या गोष्टींचा स्वीकार करतो ज्यासाठी आम्ही ते करू इच्छितो आमच्या लँडिंग तंत्रासाठी केवळ शैक्षणिक हेतू नाही जिथे ते सर्व काही व्यावसायिकपणे वापरत नाही', 'cse', 'phy', 53] \n",
      "\n",
      " So we would like to mention a few more things that some of these materials, some of these figures, etc. are taken from different sources. We have tried to keep all the references and accept the things that we want to do. Not used commercially \n",
      "\n",
      "\n",
      "['म्हणून व्हॉल्टर मीटर दोन स्थाने जो नमुना च्या आतील बाजूस जोडतो वर्तमान दोन बाह्य स्थानांवरुन जाते तर आपल्याकडे अशी परिस्थिती आहे आणि जेव्हा आपल्याला परिस्थिती असेल तेव्हा आपण मुळात हे संपर्क प्रतिकारशक्ती टाळता येते कारण संपर्क प्रतिकारशक्ती आहे वास्तविकपणे व्हॉल्टर मीटर सर्किटमधून चालू होणारी संख्या नगण्य आहे आणि म्हणूनच तांत्रिकदृष्ट्या आपण असे म्हणू शकता की येथे देखील संपर्क प्रतिकार करा पण त्या संपर्क प्रतिकार आपण येथे प्राप्त संपर्क प्रतिकार अत्यंत अत्यंत सापेक्ष आहे', 'com_tech', 'phy', 73] \n",
      "\n",
      " So if a voltmeter connects two locations on the inside of the sample the current passes through two external locations then we have such a situation and when you have a situation you can basically avoid this contact resistance because the contact resistance is in fact the number of current from the voltmeter circuit is negligible and therefore technically You can say that here also make contact resistance but that contact resistance you get here is very highly relative \n",
      "\n",
      "\n",
      "['हे विशेषत एक कार्बन कापड किंवा कार्बन पेपर असते आणि तेथे लोक वेगवेगळ्या प्रकारचे काम करीत आहेत ज्यायोगे आपल्याला संशोधनात्मक क्रिया माहित आहेत की या विशिष्ट लेयरची अंमलबजावणी करणारी विविध पद्धतींमधील पर्याय आहेत की नाही हे पहाण्यासाठी जेणेकरुन आपण ते गुणधर्म मिळवू शकाल त्यांच्याकडे असलेल्या गुणधर्मांवर असण्याची किंवा ते सुधारण्याची देखील शक्यता आहे', 'phy', 'com_tech', 53] \n",
      "\n",
      " This is typically a carbon cloth or carbon paper and there are people doing different kinds of work so that you know the research activities to see if there are options in different methods implementing this particular layer so that you can get those properties based on their properties or improve them. There is also the possibility \n",
      "\n",
      "\n",
      "['तर आपण त्यापैकी एक असू शकता जो आपल्याला सांगणार नाही असे आपल्याला वाटत नाही कारण हे आम्हाला माहित आहे की हे कायदे आहेत हे असे कायदेशीर कायदे आहेत जिथे आपल्याला हे माहित होईल की जर आपण तुम्हाला असे चुकीचे साधन सापडले तर पकडले जाते तर तुम्हाला दंड आकारला जाईल तुरुंगात पाठवले जाईल', 'bioche', 'com_tech', 52] \n",
      "\n",
      " So you can be one of those who don’t think they won’t tell you because we know that these are legal laws where you will know that if you find such a wrong tool you will be fined if caught Will be sent \n",
      "\n",
      "\n",
      "['म्हणून याबद्दल काही चांगले काही असू शकत नाही आणि कदाचित आपल्याला परिस्थितीबद्दल समजण्याची अभाव माहित आहे आणि परिस्थिति त्यांच्या परिस्थतींनाही समजली असली तरी ती आरोग्यासाठी चांगली नसली तरी ते कोपर्यात आहेत खरोखर काहीतरी करण्याची गरज आहेहे पूर्ण करण्याचा प्रयत्न करा आणि ही एक अत्यंत वाईट परिस्थिती आहे आणि अशा प्रकारची बर्न थांबविण्यासाठी त्यांना शिक्षित करा आणि त्यांना फक्त शिक्षित न करण्याचे त्यांना बरेच काही प्रयत्न करावे लागतील जेणेकरून त्यांना एक महसूल मिळेल', 'phy', 'com_tech', 72] \n",
      "\n",
      " So there may not be anything good about it and maybe you know the lack of understanding of the situation and even if the situation understands their situation even if it is not good for health they are in the corner really need to do something try to meet and this is a very bad situation and such Educate them to stop burning and they will have to put a lot of effort into not just educating them so that they get a revenue \n",
      "\n",
      "\n"
     ]
    }
   ],
   "source": [
    "above_50 = [x  for x in mistakes[mistakes['word count'] > 50].values.tolist()]\n",
    "for rec in above_50:\n",
    "    print(rec, '\\n\\n', translator.translate(rec[0]).text,'\\n\\n')"
   ]
  },
  {
   "cell_type": "markdown",
   "metadata": {},
   "source": [
    "Document Similarity between misclassified classes"
   ]
  },
  {
   "cell_type": "code",
   "execution_count": 34,
   "metadata": {},
   "outputs": [],
   "source": [
    "bioche = mistakes.loc[mistakes['actual label'] == 'bioche']\n",
    "phy =  mistakes.loc[mistakes['actual label'] == 'phy']\n",
    "cse =  mistakes.loc[mistakes['actual label'] == 'cse']\n",
    "com_tech =  mistakes.loc[mistakes['actual label'] == 'com_tech']"
   ]
  },
  {
   "cell_type": "code",
   "execution_count": 35,
   "metadata": {},
   "outputs": [],
   "source": [
    "v_bioche = get_vocab(bioche.text.values.tolist())\n",
    "v_phy = get_vocab(phy.text.values.tolist())\n",
    "v_cse = get_vocab(cse.text.values.tolist())\n",
    "v_com_tech = get_vocab(com_tech.text.values.tolist())"
   ]
  },
  {
   "cell_type": "code",
   "execution_count": 39,
   "metadata": {},
   "outputs": [
    {
     "name": "stdout",
     "output_type": "stream",
     "text": [
      "Bioche:\n",
      "\n",
      " Physics: 231 \n",
      " CSE: 191 \n",
      " Com_tech: 218\n"
     ]
    }
   ],
   "source": [
    "print('Bioche:\\n\\n Physics: {} \\n CSE: {} \\n Com_tech: {}'.format(len(v_bioche.intersection(v_phy)),len(v_bioche.intersection(v_cse)),\n",
    "      len(v_bioche.intersection(v_com_tech))))"
   ]
  },
  {
   "cell_type": "code",
   "execution_count": 40,
   "metadata": {},
   "outputs": [
    {
     "name": "stdout",
     "output_type": "stream",
     "text": [
      "Physics:\n",
      "\n",
      " Bioche: 231 \n",
      " CSE: 227 \n",
      " Com_tech: 250\n"
     ]
    }
   ],
   "source": [
    "print('Physics:\\n\\n Bioche: {} \\n CSE: {} \\n Com_tech: {}'.format(len(v_phy.intersection(v_bioche)),len(v_phy.intersection(v_cse)),\n",
    "      len(v_phy.intersection(v_com_tech))))"
   ]
  },
  {
   "cell_type": "code",
   "execution_count": 42,
   "metadata": {},
   "outputs": [
    {
     "name": "stdout",
     "output_type": "stream",
     "text": [
      "CSE :\n",
      "\n",
      " Physics: 227 \n",
      " Bioche: 191 \n",
      " Com_tech: 216\n"
     ]
    }
   ],
   "source": [
    "print('CSE :\\n\\n Physics: {} \\n Bioche: {} \\n Com_tech: {}'.format(len(v_cse.intersection(v_phy)),len(v_cse.intersection(v_bioche)),\n",
    "      len(v_cse.intersection(v_com_tech))))"
   ]
  },
  {
   "cell_type": "code",
   "execution_count": 43,
   "metadata": {},
   "outputs": [
    {
     "name": "stdout",
     "output_type": "stream",
     "text": [
      "Com_tech:\n",
      "\n",
      " Physics: 250 \n",
      " CSE: 216 \n",
      " Biology: 218\n"
     ]
    }
   ],
   "source": [
    "print('Com_tech:\\n\\n Physics: {} \\n CSE: {} \\n Biology: {}'.format(len(v_com_tech.intersection(v_phy)),len(v_com_tech.intersection(v_cse)),\n",
    "      len(v_com_tech.intersection(v_bioche))))"
   ]
  },
  {
   "cell_type": "code",
   "execution_count": null,
   "metadata": {},
   "outputs": [],
   "source": []
  }
 ],
 "metadata": {
  "kernelspec": {
   "display_name": "Python 3",
   "language": "python",
   "name": "python3"
  },
  "language_info": {
   "codemirror_mode": {
    "name": "ipython",
    "version": 3
   },
   "file_extension": ".py",
   "mimetype": "text/x-python",
   "name": "python",
   "nbconvert_exporter": "python",
   "pygments_lexer": "ipython3",
   "version": "3.7.4"
  },
  "toc": {
   "base_numbering": 1,
   "nav_menu": {},
   "number_sections": true,
   "sideBar": true,
   "skip_h1_title": false,
   "title_cell": "Table of Contents",
   "title_sidebar": "Contents",
   "toc_cell": false,
   "toc_position": {},
   "toc_section_display": true,
   "toc_window_display": false
  }
 },
 "nbformat": 4,
 "nbformat_minor": 2
}
