{
 "cells": [
  {
   "cell_type": "code",
   "execution_count": 35,
   "metadata": {},
   "outputs": [
    {
     "data": {
      "text/html": [
       "        <script type=\"text/javascript\">\n",
       "        window.PlotlyConfig = {MathJaxConfig: 'local'};\n",
       "        if (window.MathJax) {MathJax.Hub.Config({SVG: {font: \"STIX-Web\"}});}\n",
       "        if (typeof require !== 'undefined') {\n",
       "        require.undef(\"plotly\");\n",
       "        requirejs.config({\n",
       "            paths: {\n",
       "                'plotly': ['https://cdn.plot.ly/plotly-latest.min']\n",
       "            }\n",
       "        });\n",
       "        require(['plotly'], function(Plotly) {\n",
       "            window._Plotly = Plotly;\n",
       "        });\n",
       "        }\n",
       "        </script>\n",
       "        "
      ]
     },
     "metadata": {},
     "output_type": "display_data"
    }
   ],
   "source": [
    "import pandas as pd\n",
    "import numpy as np\n",
    "import cufflinks as cf\n",
    "cf.go_offline()\n",
    "cf.set_config_file(offline=False, world_readable=True)\n",
    "from model import *\n",
    "from data_preprocessing import *\n",
    "from preprocess_text import Preprocess\n",
    "import seaborn as sn\n",
    "import matplotlib.pyplot as plt"
   ]
  },
  {
   "cell_type": "code",
   "execution_count": 45,
   "metadata": {},
   "outputs": [],
   "source": [
    "def perf_measure(y_actual, y_hat):\n",
    "    wc = []\n",
    "    y_act = []\n",
    "    y_pre = []\n",
    "    \n",
    "\n",
    "    for i in range(len(y_hat)): \n",
    "        if not y_actual[i] == y_hat[i]:\n",
    "            wc.append(i)\n",
    "            y_act.append(y_actual[i])\n",
    "            y_pre.append(y_hat[i])\n",
    "        \n",
    "    return wc,y_act,y_pre\n",
    "\n",
    "def label_convert(label):\n",
    "    if label == 0: return 'com_tech '\n",
    "    elif label == 1: return 'phy'\n",
    "    elif label == 2: return 'cse '\n",
    "    elif label == 3: return 'bioche'\n",
    "    else: return 'NAN'\n",
    "    \n",
    "\n",
    "def generate_pairwise_heatmap(dataframe, col1, col2, label_names = [], color = \"Reds\", annot = True):\n",
    "    tuple_list = []\n",
    "    num_labels = len(np.unique(dataframe[col1]))\n",
    "    \n",
    "    print('Number of Labels: \\t {} \\n Number of records: {}'.format(num_labels, (dataframe[col1].shape[0])))\n",
    "    for index, row in mistakes.iterrows():\n",
    "        class_tuple = (row[col1],row[col2])\n",
    "        tuple_list.append(class_tuple)\n",
    "        \n",
    "    class_pairs = pd.Series(tuple_list).value_counts().keys().tolist()\n",
    "    count_pairs = [x for x in pd.Series(tuple_list).value_counts()]\n",
    "    pairwise_results = np.zeros([num_labels, num_labels],int).tolist()\n",
    "\n",
    "    for pair,val in zip(class_pairs,count_pairs):\n",
    "\n",
    "        i = pair[0]\n",
    "        j = pair[1]\n",
    "\n",
    "        pairwise_results[i][j] = val\n",
    "\n",
    "    if label_names:\n",
    "        hm = sn.heatmap(data = np.asarray(pairwise_results),xticklabels=label_names, \n",
    "                        yticklabels=label_names, cmap=color, annot = annot)\n",
    "    else:\n",
    "        hm = sn.heatmap(data = np.asarray(pairwise_results), cmap=color, annot = annot)\n",
    "    \n",
    "    return pairwise_results"
   ]
  },
  {
   "cell_type": "markdown",
   "metadata": {},
   "source": [
    "<h3>Preparing data for training<h3>"
   ]
  },
  {
   "cell_type": "code",
   "execution_count": 37,
   "metadata": {},
   "outputs": [
    {
     "name": "stdout",
     "output_type": "stream",
     "text": [
      "Loading Data\n",
      "\n",
      "\n",
      "Encoding Labels\n",
      "\n",
      "\n",
      "Building Vocab\n",
      "\n",
      "\n",
      "Tokenizing Train and Test\n",
      "\n",
      "\n"
     ]
    },
    {
     "name": "stderr",
     "output_type": "stream",
     "text": [
      "C:\\Users\\Amey\\Anaconda3\\lib\\site-packages\\sklearn\\preprocessing\\label.py:252: DataConversionWarning:\n",
      "\n",
      "A column-vector y was passed when a 1d array was expected. Please change the shape of y to (n_samples, ), for example using ravel().\n",
      "\n"
     ]
    },
    {
     "name": "stdout",
     "output_type": "stream",
     "text": [
      "Padding Train and Test\n",
      "\n",
      "\n"
     ]
    }
   ],
   "source": [
    "pp = Preprocess([])\n",
    "\n",
    "print('Loading Data\\n\\n')\n",
    "x_train = pd.read_csv('../Data/training_data_marathi.csv')['text'].apply(lambda x : pp.clean_text(x))\n",
    "y_train = pd.read_csv('../Data/training_data_marathi.csv')['label']\n",
    "x_val = pd.read_csv('../Data/test_data_marathi.csv')['text'].apply(lambda x : pp.clean_text(x))\n",
    "y_val = pd.read_csv('../Data/test_data_marathi.csv')['label']\n",
    "\n",
    "print('Encoding Labels\\n\\n')\n",
    "y_train = y_train.values.reshape(y_train.shape[0], -1)\n",
    "y_val = y_val.values.reshape(y_val.shape[0], -1)\n",
    "\n",
    "\n",
    "print('Building Vocab\\n\\n')\n",
    "pad_len=100\n",
    "padding_type='post'\n",
    "truncating_type='post'\n",
    "\n",
    "corpus = []\n",
    "\n",
    "for text in x_train:\n",
    "    corpus.append(text)\n",
    "\n",
    "for text in x_val:\n",
    "    corpus.append(text)\n",
    "\n",
    "y_train, y_val = label_encoder(y_train, y_val)\n",
    "\n",
    "print('Tokenizing Train and Test\\n\\n')\n",
    "tokenizer, x_train_tokenzied, x_val_tokenzied = tokenize_text(corpus,x_train, x_val)\n",
    "\n",
    "print('Padding Train and Test\\n\\n')\n",
    "x_train_padded, x_val_padded = pad_text(x_train_tokenzied, \n",
    "                                        x_val_tokenzied, \n",
    "                                        pad_len, \n",
    "                                        padding_type, \n",
    "                                        truncating_type)"
   ]
  },
  {
   "cell_type": "markdown",
   "metadata": {},
   "source": [
    "<h3>Predicting results<h3>"
   ]
  },
  {
   "cell_type": "code",
   "execution_count": 39,
   "metadata": {},
   "outputs": [],
   "source": [
    "model = model_load('../models/FINALS/LSTM_combined_embeddings.h5.h5')"
   ]
  },
  {
   "cell_type": "code",
   "execution_count": 40,
   "metadata": {},
   "outputs": [],
   "source": [
    "results = np.argmax(model.predict(x_val_padded),axis = -1)\n",
    "del(model)"
   ]
  },
  {
   "cell_type": "code",
   "execution_count": 41,
   "metadata": {},
   "outputs": [],
   "source": [
    "wc, yact, yhat = perf_measure(y_val,results)"
   ]
  },
  {
   "cell_type": "code",
   "execution_count": 42,
   "metadata": {},
   "outputs": [],
   "source": [
    "mistakes = pd.DataFrame(columns=['text','actual label','predicted label'])\n",
    "mistakes['text'] = x_val.loc[wc]\n",
    "mistakes['actual label'] = yact\n",
    "mistakes['predicted label'] = yhat"
   ]
  },
  {
   "cell_type": "markdown",
   "metadata": {},
   "source": [
    "<h3>Classification Analysis<h3>"
   ]
  },
  {
   "cell_type": "code",
   "execution_count": 43,
   "metadata": {},
   "outputs": [
    {
     "name": "stdout",
     "output_type": "stream",
     "text": [
      "Total classifaction mistakes:  387\n"
     ]
    }
   ],
   "source": [
    "print('Total classifaction mistakes: ',mistakes.shape[0])"
   ]
  },
  {
   "cell_type": "code",
   "execution_count": 46,
   "metadata": {},
   "outputs": [
    {
     "name": "stdout",
     "output_type": "stream",
     "text": [
      "Number of Labels: \t 4 \n",
      " Number of records: 387\n"
     ]
    },
    {
     "data": {
      "image/png": "[encoded data removed]",
      "text/plain": [
       "<Figure size 432x288 with 2 Axes>"
      ]
     },
     "metadata": {
      "needs_background": "light"
     },
     "output_type": "display_data"
    }
   ],
   "source": [
    "heatmap = generate_pairwise_heatmap(mistakes, 'actual label', 'predicted label',\n",
    "                                    label_names= ['c-tech','phy','cse','bioche'])"
   ]
  },
  {
   "cell_type": "code",
   "execution_count": 25,
   "metadata": {},
   "outputs": [
    {
     "name": "stdout",
     "output_type": "stream",
     "text": [
      "Word count stats:\n",
      "\n",
      " count    387.000000\n",
      "mean      16.449612\n",
      "std       11.897421\n",
      "min        2.000000\n",
      "25%        8.000000\n",
      "50%       13.000000\n",
      "75%       20.000000\n",
      "max       73.000000\n",
      "Name: word count, dtype: float64 \n",
      "\n",
      "\n"
     ]
    },
    {
     "data": {
      "application/vnd.plotly.v1+json": {
       "config": {
        "linkText": "Export to plot.ly",
        "plotlyServerURL": "https://plot.ly",
        "showLink": true
       },
       "data": [
        {
         "histfunc": "count",
         "histnorm": "",
         "marker": {
          "color": "rgba(255, 153, 51, 1.0)",
          "line": {
           "color": "#4D5663",
           "width": 1.3
          }
         },
         "name": "word count",
         "nbinsx": 100,
         "opacity": 0.8,
         "orientation": "v",
         "type": "histogram",
         "x": [
          3,
          4,
          18,
          13,
          8,
          13,
          39,
          47,
          8,
          8,
          53,
          3,
          8,
          9,
          11,
          17,
          6,
          16,
          25,
          55,
          4,
          14,
          12,
          17,
          11,
          25,
          40,
          6,
          4,
          7,
          16,
          4,
          16,
          23,
          2,
          14,
          6,
          11,
          8,
          10,
          5,
          12,
          18,
          8,
          7,
          5,
          14,
          7,
          6,
          11,
          33,
          13,
          11,
          28,
          4,
          14,
          45,
          13,
          16,
          16,
          31,
          64,
          4,
          7,
          6,
          10,
          23,
          9,
          11,
          10,
          15,
          8,
          5,
          9,
          45,
          12,
          26,
          12,
          10,
          29,
          8,
          18,
          13,
          4,
          15,
          41,
          8,
          45,
          9,
          10,
          17,
          21,
          41,
          24,
          22,
          3,
          33,
          16,
          44,
          8,
          19,
          17,
          12,
          14,
          9,
          18,
          7,
          17,
          7,
          20,
          13,
          18,
          38,
          7,
          36,
          20,
          10,
          6,
          11,
          12,
          30,
          21,
          19,
          5,
          8,
          32,
          14,
          41,
          36,
          15,
          23,
          15,
          9,
          10,
          18,
          15,
          6,
          38,
          5,
          2,
          11,
          22,
          7,
          16,
          11,
          7,
          4,
          39,
          12,
          9,
          22,
          21,
          12,
          20,
          10,
          13,
          19,
          53,
          26,
          17,
          8,
          13,
          13,
          12,
          11,
          17,
          12,
          5,
          11,
          25,
          17,
          38,
          12,
          3,
          5,
          11,
          6,
          47,
          33,
          10,
          26,
          26,
          5,
          6,
          19,
          28,
          19,
          13,
          73,
          13,
          11,
          16,
          9,
          37,
          22,
          17,
          14,
          10,
          8,
          45,
          31,
          40,
          11,
          11,
          20,
          29,
          17,
          9,
          5,
          10,
          14,
          5,
          6,
          22,
          23,
          35,
          13,
          15,
          8,
          9,
          5,
          5,
          10,
          7,
          17,
          11,
          16,
          27,
          11,
          6,
          16,
          31,
          2,
          18,
          19,
          22,
          22,
          12,
          9,
          17,
          6,
          29,
          5,
          11,
          16,
          16,
          6,
          6,
          40,
          6,
          12,
          7,
          25,
          5,
          15,
          10,
          5,
          9,
          8,
          27,
          16,
          14,
          40,
          9,
          15,
          11,
          20,
          12,
          26,
          41,
          14,
          11,
          16,
          16,
          7,
          21,
          19,
          28,
          12,
          4,
          37,
          36,
          36,
          24,
          32,
          4,
          17,
          3,
          5,
          8,
          3,
          6,
          8,
          5,
          12,
          19,
          8,
          5,
          10,
          13,
          5,
          27,
          25,
          7,
          16,
          5,
          17,
          6,
          42,
          14,
          5,
          4,
          29,
          14,
          22,
          6,
          13,
          5,
          12,
          5,
          19,
          6,
          8,
          53,
          22,
          6,
          18,
          18,
          14,
          32,
          11,
          14,
          8,
          11,
          37,
          23,
          4,
          22,
          4,
          16,
          42,
          37,
          5,
          52,
          26,
          6,
          13,
          10,
          12,
          20,
          14,
          12,
          18,
          16,
          3,
          20,
          27,
          20,
          25,
          28,
          15,
          72,
          4,
          14,
          22,
          6,
          17,
          20,
          13,
          7,
          8,
          18,
          10,
          18,
          12,
          10,
          22,
          5,
          19,
          13,
          7,
          20,
          16,
          15,
          9,
          19,
          5
         ]
        }
       ],
       "layout": {
        "barmode": "overlay",
        "legend": {
         "bgcolor": "#F5F6F9",
         "font": {
          "color": "#4D5663"
         }
        },
        "paper_bgcolor": "#F5F6F9",
        "plot_bgcolor": "#F5F6F9",
        "template": {
         "data": {
          "bar": [
           {
            "error_x": {
             "color": "#2a3f5f"
            },
            "error_y": {
             "color": "#2a3f5f"
            },
            "marker": {
             "line": {
              "color": "#E5ECF6",
              "width": 0.5
             }
            },
            "type": "bar"
           }
          ],
          "barpolar": [
           {
            "marker": {
             "line": {
              "color": "#E5ECF6",
              "width": 0.5
             }
            },
            "type": "barpolar"
           }
          ],
          "carpet": [
           {
            "aaxis": {
             "endlinecolor": "#2a3f5f",
             "gridcolor": "white",
             "linecolor": "white",
             "minorgridcolor": "white",
             "startlinecolor": "#2a3f5f"
            },
            "baxis": {
             "endlinecolor": "#2a3f5f",
             "gridcolor": "white",
             "linecolor": "white",
             "minorgridcolor": "white",
             "startlinecolor": "#2a3f5f"
            },
            "type": "carpet"
           }
          ],
          "choropleth": [
           {
            "colorbar": {
             "outlinewidth": 0,
             "ticks": ""
            },
            "type": "choropleth"
           }
          ],
          "contour": [
           {
            "colorbar": {
             "outlinewidth": 0,
             "ticks": ""
            },
            "colorscale": [
             [
              0,
              "#0d0887"
             ],
             [
              0.1111111111111111,
              "#46039f"
             ],
             [
              0.2222222222222222,
              "#7201a8"
             ],
             [
              0.3333333333333333,
              "#9c179e"
             ],
             [
              0.4444444444444444,
              "#bd3786"
             ],
             [
              0.5555555555555556,
              "#d8576b"
             ],
             [
              0.6666666666666666,
              "#ed7953"
             ],
             [
              0.7777777777777778,
              "#fb9f3a"
             ],
             [
              0.8888888888888888,
              "#fdca26"
             ],
             [
              1,
              "#f0f921"
             ]
            ],
            "type": "contour"
           }
          ],
          "contourcarpet": [
           {
            "colorbar": {
             "outlinewidth": 0,
             "ticks": ""
            },
            "type": "contourcarpet"
           }
          ],
          "heatmap": [
           {
            "colorbar": {
             "outlinewidth": 0,
             "ticks": ""
            },
            "colorscale": [
             [
              0,
              "#0d0887"
             ],
             [
              0.1111111111111111,
              "#46039f"
             ],
             [
              0.2222222222222222,
              "#7201a8"
             ],
             [
              0.3333333333333333,
              "#9c179e"
             ],
             [
              0.4444444444444444,
              "#bd3786"
             ],
             [
              0.5555555555555556,
              "#d8576b"
             ],
             [
              0.6666666666666666,
              "#ed7953"
             ],
             [
              0.7777777777777778,
              "#fb9f3a"
             ],
             [
              0.8888888888888888,
              "#fdca26"
             ],
             [
              1,
              "#f0f921"
             ]
            ],
            "type": "heatmap"
           }
          ],
          "heatmapgl": [
           {
            "colorbar": {
             "outlinewidth": 0,
             "ticks": ""
            },
            "colorscale": [
             [
              0,
              "#0d0887"
             ],
             [
              0.1111111111111111,
              "#46039f"
             ],
             [
              0.2222222222222222,
              "#7201a8"
             ],
             [
              0.3333333333333333,
              "#9c179e"
             ],
             [
              0.4444444444444444,
              "#bd3786"
             ],
             [
              0.5555555555555556,
              "#d8576b"
             ],
             [
              0.6666666666666666,
              "#ed7953"
             ],
             [
              0.7777777777777778,
              "#fb9f3a"
             ],
             [
              0.8888888888888888,
              "#fdca26"
             ],
             [
              1,
              "#f0f921"
             ]
            ],
            "type": "heatmapgl"
           }
          ],
          "histogram": [
           {
            "marker": {
             "colorbar": {
              "outlinewidth": 0,
              "ticks": ""
             }
            },
            "type": "histogram"
           }
          ],
          "histogram2d": [
           {
            "colorbar": {
             "outlinewidth": 0,
             "ticks": ""
            },
            "colorscale": [
             [
              0,
              "#0d0887"
             ],
             [
              0.1111111111111111,
              "#46039f"
             ],
             [
              0.2222222222222222,
              "#7201a8"
             ],
             [
              0.3333333333333333,
              "#9c179e"
             ],
             [
              0.4444444444444444,
              "#bd3786"
             ],
             [
              0.5555555555555556,
              "#d8576b"
             ],
             [
              0.6666666666666666,
              "#ed7953"
             ],
             [
              0.7777777777777778,
              "#fb9f3a"
             ],
             [
              0.8888888888888888,
              "#fdca26"
             ],
             [
              1,
              "#f0f921"
             ]
            ],
            "type": "histogram2d"
           }
          ],
          "histogram2dcontour": [
           {
            "colorbar": {
             "outlinewidth": 0,
             "ticks": ""
            },
            "colorscale": [
             [
              0,
              "#0d0887"
             ],
             [
              0.1111111111111111,
              "#46039f"
             ],
             [
              0.2222222222222222,
              "#7201a8"
             ],
             [
              0.3333333333333333,
              "#9c179e"
             ],
             [
              0.4444444444444444,
              "#bd3786"
             ],
             [
              0.5555555555555556,
              "#d8576b"
             ],
             [
              0.6666666666666666,
              "#ed7953"
             ],
             [
              0.7777777777777778,
              "#fb9f3a"
             ],
             [
              0.8888888888888888,
              "#fdca26"
             ],
             [
              1,
              "#f0f921"
             ]
            ],
            "type": "histogram2dcontour"
           }
          ],
          "mesh3d": [
           {
            "colorbar": {
             "outlinewidth": 0,
             "ticks": ""
            },
            "type": "mesh3d"
           }
          ],
          "parcoords": [
           {
            "line": {
             "colorbar": {
              "outlinewidth": 0,
              "ticks": ""
             }
            },
            "type": "parcoords"
           }
          ],
          "pie": [
           {
            "automargin": true,
            "type": "pie"
           }
          ],
          "scatter": [
           {
            "marker": {
             "colorbar": {
              "outlinewidth": 0,
              "ticks": ""
             }
            },
            "type": "scatter"
           }
          ],
          "scatter3d": [
           {
            "line": {
             "colorbar": {
              "outlinewidth": 0,
              "ticks": ""
             }
            },
            "marker": {
             "colorbar": {
              "outlinewidth": 0,
              "ticks": ""
             }
            },
            "type": "scatter3d"
           }
          ],
          "scattercarpet": [
           {
            "marker": {
             "colorbar": {
              "outlinewidth": 0,
              "ticks": ""
             }
            },
            "type": "scattercarpet"
           }
          ],
          "scattergeo": [
           {
            "marker": {
             "colorbar": {
              "outlinewidth": 0,
              "ticks": ""
             }
            },
            "type": "scattergeo"
           }
          ],
          "scattergl": [
           {
            "marker": {
             "colorbar": {
              "outlinewidth": 0,
              "ticks": ""
             }
            },
            "type": "scattergl"
           }
          ],
          "scattermapbox": [
           {
            "marker": {
             "colorbar": {
              "outlinewidth": 0,
              "ticks": ""
             }
            },
            "type": "scattermapbox"
           }
          ],
          "scatterpolar": [
           {
            "marker": {
             "colorbar": {
              "outlinewidth": 0,
              "ticks": ""
             }
            },
            "type": "scatterpolar"
           }
          ],
          "scatterpolargl": [
           {
            "marker": {
             "colorbar": {
              "outlinewidth": 0,
              "ticks": ""
             }
            },
            "type": "scatterpolargl"
           }
          ],
          "scatterternary": [
           {
            "marker": {
             "colorbar": {
              "outlinewidth": 0,
              "ticks": ""
             }
            },
            "type": "scatterternary"
           }
          ],
          "surface": [
           {
            "colorbar": {
             "outlinewidth": 0,
             "ticks": ""
            },
            "colorscale": [
             [
              0,
              "#0d0887"
             ],
             [
              0.1111111111111111,
              "#46039f"
             ],
             [
              0.2222222222222222,
              "#7201a8"
             ],
             [
              0.3333333333333333,
              "#9c179e"
             ],
             [
              0.4444444444444444,
              "#bd3786"
             ],
             [
              0.5555555555555556,
              "#d8576b"
             ],
             [
              0.6666666666666666,
              "#ed7953"
             ],
             [
              0.7777777777777778,
              "#fb9f3a"
             ],
             [
              0.8888888888888888,
              "#fdca26"
             ],
             [
              1,
              "#f0f921"
             ]
            ],
            "type": "surface"
           }
          ],
          "table": [
           {
            "cells": {
             "fill": {
              "color": "#EBF0F8"
             },
             "line": {
              "color": "white"
             }
            },
            "header": {
             "fill": {
              "color": "#C8D4E3"
             },
             "line": {
              "color": "white"
             }
            },
            "type": "table"
           }
          ]
         },
         "layout": {
          "annotationdefaults": {
           "arrowcolor": "#2a3f5f",
           "arrowhead": 0,
           "arrowwidth": 1
          },
          "coloraxis": {
           "colorbar": {
            "outlinewidth": 0,
            "ticks": ""
           }
          },
          "colorscale": {
           "diverging": [
            [
             0,
             "#8e0152"
            ],
            [
             0.1,
             "#c51b7d"
            ],
            [
             0.2,
             "#de77ae"
            ],
            [
             0.3,
             "#f1b6da"
            ],
            [
             0.4,
             "#fde0ef"
            ],
            [
             0.5,
             "#f7f7f7"
            ],
            [
             0.6,
             "#e6f5d0"
            ],
            [
             0.7,
             "#b8e186"
            ],
            [
             0.8,
             "#7fbc41"
            ],
            [
             0.9,
             "#4d9221"
            ],
            [
             1,
             "#276419"
            ]
           ],
           "sequential": [
            [
             0,
             "#0d0887"
            ],
            [
             0.1111111111111111,
             "#46039f"
            ],
            [
             0.2222222222222222,
             "#7201a8"
            ],
            [
             0.3333333333333333,
             "#9c179e"
            ],
            [
             0.4444444444444444,
             "#bd3786"
            ],
            [
             0.5555555555555556,
             "#d8576b"
            ],
            [
             0.6666666666666666,
             "#ed7953"
            ],
            [
             0.7777777777777778,
             "#fb9f3a"
            ],
            [
             0.8888888888888888,
             "#fdca26"
            ],
            [
             1,
             "#f0f921"
            ]
           ],
           "sequentialminus": [
            [
             0,
             "#0d0887"
            ],
            [
             0.1111111111111111,
             "#46039f"
            ],
            [
             0.2222222222222222,
             "#7201a8"
            ],
            [
             0.3333333333333333,
             "#9c179e"
            ],
            [
             0.4444444444444444,
             "#bd3786"
            ],
            [
             0.5555555555555556,
             "#d8576b"
            ],
            [
             0.6666666666666666,
             "#ed7953"
            ],
            [
             0.7777777777777778,
             "#fb9f3a"
            ],
            [
             0.8888888888888888,
             "#fdca26"
            ],
            [
             1,
             "#f0f921"
            ]
           ]
          },
          "colorway": [
           "#636efa",
           "#EF553B",
           "#00cc96",
           "#ab63fa",
           "#FFA15A",
           "#19d3f3",
           "#FF6692",
           "#B6E880",
           "#FF97FF",
           "#FECB52"
          ],
          "font": {
           "color": "#2a3f5f"
          },
          "geo": {
           "bgcolor": "white",
           "lakecolor": "white",
           "landcolor": "#E5ECF6",
           "showlakes": true,
           "showland": true,
           "subunitcolor": "white"
          },
          "hoverlabel": {
           "align": "left"
          },
          "hovermode": "closest",
          "mapbox": {
           "style": "light"
          },
          "paper_bgcolor": "white",
          "plot_bgcolor": "#E5ECF6",
          "polar": {
           "angularaxis": {
            "gridcolor": "white",
            "linecolor": "white",
            "ticks": ""
           },
           "bgcolor": "#E5ECF6",
           "radialaxis": {
            "gridcolor": "white",
            "linecolor": "white",
            "ticks": ""
           }
          },
          "scene": {
           "xaxis": {
            "backgroundcolor": "#E5ECF6",
            "gridcolor": "white",
            "gridwidth": 2,
            "linecolor": "white",
            "showbackground": true,
            "ticks": "",
            "zerolinecolor": "white"
           },
           "yaxis": {
            "backgroundcolor": "#E5ECF6",
            "gridcolor": "white",
            "gridwidth": 2,
            "linecolor": "white",
            "showbackground": true,
            "ticks": "",
            "zerolinecolor": "white"
           },
           "zaxis": {
            "backgroundcolor": "#E5ECF6",
            "gridcolor": "white",
            "gridwidth": 2,
            "linecolor": "white",
            "showbackground": true,
            "ticks": "",
            "zerolinecolor": "white"
           }
          },
          "shapedefaults": {
           "line": {
            "color": "#2a3f5f"
           }
          },
          "ternary": {
           "aaxis": {
            "gridcolor": "white",
            "linecolor": "white",
            "ticks": ""
           },
           "baxis": {
            "gridcolor": "white",
            "linecolor": "white",
            "ticks": ""
           },
           "bgcolor": "#E5ECF6",
           "caxis": {
            "gridcolor": "white",
            "linecolor": "white",
            "ticks": ""
           }
          },
          "title": {
           "x": 0.05
          },
          "xaxis": {
           "automargin": true,
           "gridcolor": "white",
           "linecolor": "white",
           "ticks": "",
           "title": {
            "standoff": 15
           },
           "zerolinecolor": "white",
           "zerolinewidth": 2
          },
          "yaxis": {
           "automargin": true,
           "gridcolor": "white",
           "linecolor": "white",
           "ticks": "",
           "title": {
            "standoff": 15
           },
           "zerolinecolor": "white",
           "zerolinewidth": 2
          }
         }
        },
        "title": {
         "font": {
          "color": "#4D5663"
         },
         "text": "Histogram depicting distibution of word count across misclassified data"
        },
        "xaxis": {
         "gridcolor": "#E1E5ED",
         "showgrid": true,
         "tickfont": {
          "color": "#4D5663"
         },
         "title": {
          "font": {
           "color": "#4D5663"
          },
          "text": "word count"
         },
         "zerolinecolor": "#E1E5ED"
        },
        "yaxis": {
         "gridcolor": "#E1E5ED",
         "showgrid": true,
         "tickfont": {
          "color": "#4D5663"
         },
         "title": {
          "font": {
           "color": "#4D5663"
          },
          "text": "num records"
         },
         "zerolinecolor": "#E1E5ED"
        }
       }
      },
      "text/html": [
       "<div>                            <div id=\"33c7c9fd-f142-4b53-a4d8-a44db8c43504\" class=\"plotly-graph-div\" style=\"height:525px; width:100%;\"></div>            <script type=\"text/javascript\">                require([\"plotly\"], function(Plotly) {                    window.PLOTLYENV=window.PLOTLYENV || {};\n",
       "                    window.PLOTLYENV.BASE_URL='https://plot.ly';                                    if (document.getElementById(\"33c7c9fd-f142-4b53-a4d8-a44db8c43504\")) {                    Plotly.newPlot(                        \"33c7c9fd-f142-4b53-a4d8-a44db8c43504\",                        [{\"histfunc\": \"count\", \"histnorm\": \"\", \"marker\": {\"color\": \"rgba(255, 153, 51, 1.0)\", \"line\": {\"color\": \"#4D5663\", \"width\": 1.3}}, \"name\": \"word count\", \"nbinsx\": 100, \"opacity\": 0.8, \"orientation\": \"v\", \"type\": \"histogram\", \"x\": [3, 4, 18, 13, 8, 13, 39, 47, 8, 8, 53, 3, 8, 9, 11, 17, 6, 16, 25, 55, 4, 14, 12, 17, 11, 25, 40, 6, 4, 7, 16, 4, 16, 23, 2, 14, 6, 11, 8, 10, 5, 12, 18, 8, 7, 5, 14, 7, 6, 11, 33, 13, 11, 28, 4, 14, 45, 13, 16, 16, 31, 64, 4, 7, 6, 10, 23, 9, 11, 10, 15, 8, 5, 9, 45, 12, 26, 12, 10, 29, 8, 18, 13, 4, 15, 41, 8, 45, 9, 10, 17, 21, 41, 24, 22, 3, 33, 16, 44, 8, 19, 17, 12, 14, 9, 18, 7, 17, 7, 20, 13, 18, 38, 7, 36, 20, 10, 6, 11, 12, 30, 21, 19, 5, 8, 32, 14, 41, 36, 15, 23, 15, 9, 10, 18, 15, 6, 38, 5, 2, 11, 22, 7, 16, 11, 7, 4, 39, 12, 9, 22, 21, 12, 20, 10, 13, 19, 53, 26, 17, 8, 13, 13, 12, 11, 17, 12, 5, 11, 25, 17, 38, 12, 3, 5, 11, 6, 47, 33, 10, 26, 26, 5, 6, 19, 28, 19, 13, 73, 13, 11, 16, 9, 37, 22, 17, 14, 10, 8, 45, 31, 40, 11, 11, 20, 29, 17, 9, 5, 10, 14, 5, 6, 22, 23, 35, 13, 15, 8, 9, 5, 5, 10, 7, 17, 11, 16, 27, 11, 6, 16, 31, 2, 18, 19, 22, 22, 12, 9, 17, 6, 29, 5, 11, 16, 16, 6, 6, 40, 6, 12, 7, 25, 5, 15, 10, 5, 9, 8, 27, 16, 14, 40, 9, 15, 11, 20, 12, 26, 41, 14, 11, 16, 16, 7, 21, 19, 28, 12, 4, 37, 36, 36, 24, 32, 4, 17, 3, 5, 8, 3, 6, 8, 5, 12, 19, 8, 5, 10, 13, 5, 27, 25, 7, 16, 5, 17, 6, 42, 14, 5, 4, 29, 14, 22, 6, 13, 5, 12, 5, 19, 6, 8, 53, 22, 6, 18, 18, 14, 32, 11, 14, 8, 11, 37, 23, 4, 22, 4, 16, 42, 37, 5, 52, 26, 6, 13, 10, 12, 20, 14, 12, 18, 16, 3, 20, 27, 20, 25, 28, 15, 72, 4, 14, 22, 6, 17, 20, 13, 7, 8, 18, 10, 18, 12, 10, 22, 5, 19, 13, 7, 20, 16, 15, 9, 19, 5]}],                        {\"barmode\": \"overlay\", \"legend\": {\"bgcolor\": \"#F5F6F9\", \"font\": {\"color\": \"#4D5663\"}}, \"paper_bgcolor\": \"#F5F6F9\", \"plot_bgcolor\": \"#F5F6F9\", \"template\": {\"data\": {\"bar\": [{\"error_x\": {\"color\": \"#2a3f5f\"}, \"error_y\": {\"color\": \"#2a3f5f\"}, \"marker\": {\"line\": {\"color\": \"#E5ECF6\", \"width\": 0.5}}, \"type\": \"bar\"}], \"barpolar\": [{\"marker\": {\"line\": {\"color\": \"#E5ECF6\", \"width\": 0.5}}, \"type\": \"barpolar\"}], \"carpet\": [{\"aaxis\": {\"endlinecolor\": \"#2a3f5f\", \"gridcolor\": \"white\", \"linecolor\": \"white\", \"minorgridcolor\": \"white\", \"startlinecolor\": \"#2a3f5f\"}, \"baxis\": {\"endlinecolor\": \"#2a3f5f\", \"gridcolor\": \"white\", \"linecolor\": \"white\", \"minorgridcolor\": \"white\", \"startlinecolor\": \"#2a3f5f\"}, \"type\": \"carpet\"}], \"choropleth\": [{\"colorbar\": {\"outlinewidth\": 0, \"ticks\": \"\"}, \"type\": \"choropleth\"}], \"contour\": [{\"colorbar\": {\"outlinewidth\": 0, \"ticks\": \"\"}, \"colorscale\": [[0.0, \"#0d0887\"], [0.1111111111111111, \"#46039f\"], [0.2222222222222222, \"#7201a8\"], [0.3333333333333333, \"#9c179e\"], [0.4444444444444444, \"#bd3786\"], [0.5555555555555556, \"#d8576b\"], [0.6666666666666666, \"#ed7953\"], [0.7777777777777778, \"#fb9f3a\"], [0.8888888888888888, \"#fdca26\"], [1.0, \"#f0f921\"]], \"type\": \"contour\"}], \"contourcarpet\": [{\"colorbar\": {\"outlinewidth\": 0, \"ticks\": \"\"}, \"type\": \"contourcarpet\"}], \"heatmap\": [{\"colorbar\": {\"outlinewidth\": 0, \"ticks\": \"\"}, \"colorscale\": [[0.0, \"#0d0887\"], [0.1111111111111111, \"#46039f\"], [0.2222222222222222, \"#7201a8\"], [0.3333333333333333, \"#9c179e\"], [0.4444444444444444, \"#bd3786\"], [0.5555555555555556, \"#d8576b\"], [0.6666666666666666, \"#ed7953\"], [0.7777777777777778, \"#fb9f3a\"], [0.8888888888888888, \"#fdca26\"], [1.0, \"#f0f921\"]], \"type\": \"heatmap\"}], \"heatmapgl\": [{\"colorbar\": {\"outlinewidth\": 0, \"ticks\": \"\"}, \"colorscale\": [[0.0, \"#0d0887\"], [0.1111111111111111, \"#46039f\"], [0.2222222222222222, \"#7201a8\"], [0.3333333333333333, \"#9c179e\"], [0.4444444444444444, \"#bd3786\"], [0.5555555555555556, \"#d8576b\"], [0.6666666666666666, \"#ed7953\"], [0.7777777777777778, \"#fb9f3a\"], [0.8888888888888888, \"#fdca26\"], [1.0, \"#f0f921\"]], \"type\": \"heatmapgl\"}], \"histogram\": [{\"marker\": {\"colorbar\": {\"outlinewidth\": 0, \"ticks\": \"\"}}, \"type\": \"histogram\"}], \"histogram2d\": [{\"colorbar\": {\"outlinewidth\": 0, \"ticks\": \"\"}, \"colorscale\": [[0.0, \"#0d0887\"], [0.1111111111111111, \"#46039f\"], [0.2222222222222222, \"#7201a8\"], [0.3333333333333333, \"#9c179e\"], [0.4444444444444444, \"#bd3786\"], [0.5555555555555556, \"#d8576b\"], [0.6666666666666666, \"#ed7953\"], [0.7777777777777778, \"#fb9f3a\"], [0.8888888888888888, \"#fdca26\"], [1.0, \"#f0f921\"]], \"type\": \"histogram2d\"}], \"histogram2dcontour\": [{\"colorbar\": {\"outlinewidth\": 0, \"ticks\": \"\"}, \"colorscale\": [[0.0, \"#0d0887\"], [0.1111111111111111, \"#46039f\"], [0.2222222222222222, \"#7201a8\"], [0.3333333333333333, \"#9c179e\"], [0.4444444444444444, \"#bd3786\"], [0.5555555555555556, \"#d8576b\"], [0.6666666666666666, \"#ed7953\"], [0.7777777777777778, \"#fb9f3a\"], [0.8888888888888888, \"#fdca26\"], [1.0, \"#f0f921\"]], \"type\": \"histogram2dcontour\"}], \"mesh3d\": [{\"colorbar\": {\"outlinewidth\": 0, \"ticks\": \"\"}, \"type\": \"mesh3d\"}], \"parcoords\": [{\"line\": {\"colorbar\": {\"outlinewidth\": 0, \"ticks\": \"\"}}, \"type\": \"parcoords\"}], \"pie\": [{\"automargin\": true, \"type\": \"pie\"}], \"scatter\": [{\"marker\": {\"colorbar\": {\"outlinewidth\": 0, \"ticks\": \"\"}}, \"type\": \"scatter\"}], \"scatter3d\": [{\"line\": {\"colorbar\": {\"outlinewidth\": 0, \"ticks\": \"\"}}, \"marker\": {\"colorbar\": {\"outlinewidth\": 0, \"ticks\": \"\"}}, \"type\": \"scatter3d\"}], \"scattercarpet\": [{\"marker\": {\"colorbar\": {\"outlinewidth\": 0, \"ticks\": \"\"}}, \"type\": \"scattercarpet\"}], \"scattergeo\": [{\"marker\": {\"colorbar\": {\"outlinewidth\": 0, \"ticks\": \"\"}}, \"type\": \"scattergeo\"}], \"scattergl\": [{\"marker\": {\"colorbar\": {\"outlinewidth\": 0, \"ticks\": \"\"}}, \"type\": \"scattergl\"}], \"scattermapbox\": [{\"marker\": {\"colorbar\": {\"outlinewidth\": 0, \"ticks\": \"\"}}, \"type\": \"scattermapbox\"}], \"scatterpolar\": [{\"marker\": {\"colorbar\": {\"outlinewidth\": 0, \"ticks\": \"\"}}, \"type\": \"scatterpolar\"}], \"scatterpolargl\": [{\"marker\": {\"colorbar\": {\"outlinewidth\": 0, \"ticks\": \"\"}}, \"type\": \"scatterpolargl\"}], \"scatterternary\": [{\"marker\": {\"colorbar\": {\"outlinewidth\": 0, \"ticks\": \"\"}}, \"type\": \"scatterternary\"}], \"surface\": [{\"colorbar\": {\"outlinewidth\": 0, \"ticks\": \"\"}, \"colorscale\": [[0.0, \"#0d0887\"], [0.1111111111111111, \"#46039f\"], [0.2222222222222222, \"#7201a8\"], [0.3333333333333333, \"#9c179e\"], [0.4444444444444444, \"#bd3786\"], [0.5555555555555556, \"#d8576b\"], [0.6666666666666666, \"#ed7953\"], [0.7777777777777778, \"#fb9f3a\"], [0.8888888888888888, \"#fdca26\"], [1.0, \"#f0f921\"]], \"type\": \"surface\"}], \"table\": [{\"cells\": {\"fill\": {\"color\": \"#EBF0F8\"}, \"line\": {\"color\": \"white\"}}, \"header\": {\"fill\": {\"color\": \"#C8D4E3\"}, \"line\": {\"color\": \"white\"}}, \"type\": \"table\"}]}, \"layout\": {\"annotationdefaults\": {\"arrowcolor\": \"#2a3f5f\", \"arrowhead\": 0, \"arrowwidth\": 1}, \"coloraxis\": {\"colorbar\": {\"outlinewidth\": 0, \"ticks\": \"\"}}, \"colorscale\": {\"diverging\": [[0, \"#8e0152\"], [0.1, \"#c51b7d\"], [0.2, \"#de77ae\"], [0.3, \"#f1b6da\"], [0.4, \"#fde0ef\"], [0.5, \"#f7f7f7\"], [0.6, \"#e6f5d0\"], [0.7, \"#b8e186\"], [0.8, \"#7fbc41\"], [0.9, \"#4d9221\"], [1, \"#276419\"]], \"sequential\": [[0.0, \"#0d0887\"], [0.1111111111111111, \"#46039f\"], [0.2222222222222222, \"#7201a8\"], [0.3333333333333333, \"#9c179e\"], [0.4444444444444444, \"#bd3786\"], [0.5555555555555556, \"#d8576b\"], [0.6666666666666666, \"#ed7953\"], [0.7777777777777778, \"#fb9f3a\"], [0.8888888888888888, \"#fdca26\"], [1.0, \"#f0f921\"]], \"sequentialminus\": [[0.0, \"#0d0887\"], [0.1111111111111111, \"#46039f\"], [0.2222222222222222, \"#7201a8\"], [0.3333333333333333, \"#9c179e\"], [0.4444444444444444, \"#bd3786\"], [0.5555555555555556, \"#d8576b\"], [0.6666666666666666, \"#ed7953\"], [0.7777777777777778, \"#fb9f3a\"], [0.8888888888888888, \"#fdca26\"], [1.0, \"#f0f921\"]]}, \"colorway\": [\"#636efa\", \"#EF553B\", \"#00cc96\", \"#ab63fa\", \"#FFA15A\", \"#19d3f3\", \"#FF6692\", \"#B6E880\", \"#FF97FF\", \"#FECB52\"], \"font\": {\"color\": \"#2a3f5f\"}, \"geo\": {\"bgcolor\": \"white\", \"lakecolor\": \"white\", \"landcolor\": \"#E5ECF6\", \"showlakes\": true, \"showland\": true, \"subunitcolor\": \"white\"}, \"hoverlabel\": {\"align\": \"left\"}, \"hovermode\": \"closest\", \"mapbox\": {\"style\": \"light\"}, \"paper_bgcolor\": \"white\", \"plot_bgcolor\": \"#E5ECF6\", \"polar\": {\"angularaxis\": {\"gridcolor\": \"white\", \"linecolor\": \"white\", \"ticks\": \"\"}, \"bgcolor\": \"#E5ECF6\", \"radialaxis\": {\"gridcolor\": \"white\", \"linecolor\": \"white\", \"ticks\": \"\"}}, \"scene\": {\"xaxis\": {\"backgroundcolor\": \"#E5ECF6\", \"gridcolor\": \"white\", \"gridwidth\": 2, \"linecolor\": \"white\", \"showbackground\": true, \"ticks\": \"\", \"zerolinecolor\": \"white\"}, \"yaxis\": {\"backgroundcolor\": \"#E5ECF6\", \"gridcolor\": \"white\", \"gridwidth\": 2, \"linecolor\": \"white\", \"showbackground\": true, \"ticks\": \"\", \"zerolinecolor\": \"white\"}, \"zaxis\": {\"backgroundcolor\": \"#E5ECF6\", \"gridcolor\": \"white\", \"gridwidth\": 2, \"linecolor\": \"white\", \"showbackground\": true, \"ticks\": \"\", \"zerolinecolor\": \"white\"}}, \"shapedefaults\": {\"line\": {\"color\": \"#2a3f5f\"}}, \"ternary\": {\"aaxis\": {\"gridcolor\": \"white\", \"linecolor\": \"white\", \"ticks\": \"\"}, \"baxis\": {\"gridcolor\": \"white\", \"linecolor\": \"white\", \"ticks\": \"\"}, \"bgcolor\": \"#E5ECF6\", \"caxis\": {\"gridcolor\": \"white\", \"linecolor\": \"white\", \"ticks\": \"\"}}, \"title\": {\"x\": 0.05}, \"xaxis\": {\"automargin\": true, \"gridcolor\": \"white\", \"linecolor\": \"white\", \"ticks\": \"\", \"title\": {\"standoff\": 15}, \"zerolinecolor\": \"white\", \"zerolinewidth\": 2}, \"yaxis\": {\"automargin\": true, \"gridcolor\": \"white\", \"linecolor\": \"white\", \"ticks\": \"\", \"title\": {\"standoff\": 15}, \"zerolinecolor\": \"white\", \"zerolinewidth\": 2}}}, \"title\": {\"font\": {\"color\": \"#4D5663\"}, \"text\": \"Histogram depicting distibution of word count across misclassified data\"}, \"xaxis\": {\"gridcolor\": \"#E1E5ED\", \"showgrid\": true, \"tickfont\": {\"color\": \"#4D5663\"}, \"title\": {\"font\": {\"color\": \"#4D5663\"}, \"text\": \"word count\"}, \"zerolinecolor\": \"#E1E5ED\"}, \"yaxis\": {\"gridcolor\": \"#E1E5ED\", \"showgrid\": true, \"tickfont\": {\"color\": \"#4D5663\"}, \"title\": {\"font\": {\"color\": \"#4D5663\"}, \"text\": \"num records\"}, \"zerolinecolor\": \"#E1E5ED\"}},                        {\"showLink\": true, \"linkText\": \"Export to plot.ly\", \"plotlyServerURL\": \"https://plot.ly\", \"responsive\": true}                    ).then(function(){\n",
       "                            \n",
       "var gd = document.getElementById('33c7c9fd-f142-4b53-a4d8-a44db8c43504');\n",
       "var x = new MutationObserver(function (mutations, observer) {{\n",
       "        var display = window.getComputedStyle(gd).display;\n",
       "        if (!display || display === 'none') {{\n",
       "            console.log([gd, 'removed!']);\n",
       "            Plotly.purge(gd);\n",
       "            observer.disconnect();\n",
       "        }}\n",
       "}});\n",
       "\n",
       "// Listen for the removal of the full notebook cells\n",
       "var notebookContainer = gd.closest('#notebook-container');\n",
       "if (notebookContainer) {{\n",
       "    x.observe(notebookContainer, {childList: true});\n",
       "}}\n",
       "\n",
       "// Listen for the clearing of the current output cell\n",
       "var outputEl = gd.closest('.output');\n",
       "if (outputEl) {{\n",
       "    x.observe(outputEl, {childList: true});\n",
       "}}\n",
       "\n",
       "                        })                };                });            </script>        </div>"
      ]
     },
     "metadata": {},
     "output_type": "display_data"
    }
   ],
   "source": [
    "mistakes['word count'] = mistakes['text'].apply(lambda x : len(x.split()))\n",
    "print('Word count stats:\\n\\n',mistakes['word count'].describe(),'\\n\\n')\n",
    "\n",
    "mistakes['word count'].iplot(kind = 'hist', xTitle = \"word count\", yTitle = 'num records', \n",
    "                            title = \"Histogram depicting distibution of word count across misclassified data\" ,bins=(100))"
   ]
  },
  {
   "cell_type": "code",
   "execution_count": 26,
   "metadata": {},
   "outputs": [],
   "source": [
    "mistakes['actual label'] = mistakes['actual label'].apply(lambda x: label_convert(x))\n",
    "mistakes['predicted label'] = mistakes['predicted label'].apply(lambda x: label_convert(x))"
   ]
  },
  {
   "cell_type": "code",
   "execution_count": 27,
   "metadata": {},
   "outputs": [
    {
     "name": "stdout",
     "output_type": "stream",
     "text": [
      "Misclassified class frequency\n"
     ]
    },
    {
     "data": {
      "text/plain": [
       "bioche       110\n",
       "phy           99\n",
       "cse           94\n",
       "com_tech      84\n",
       "Name: actual label, dtype: int64"
      ]
     },
     "execution_count": 27,
     "metadata": {},
     "output_type": "execute_result"
    }
   ],
   "source": [
    "print('Misclassified class frequency')\n",
    "mistakes['actual label'].value_counts()"
   ]
  },
  {
   "cell_type": "code",
   "execution_count": 28,
   "metadata": {},
   "outputs": [
    {
     "name": "stdout",
     "output_type": "stream",
     "text": [
      "Misclassification class frequency\n"
     ]
    },
    {
     "data": {
      "text/plain": [
       "phy          191\n",
       "bioche       104\n",
       "cse           57\n",
       "com_tech      35\n",
       "Name: predicted label, dtype: int64"
      ]
     },
     "execution_count": 28,
     "metadata": {},
     "output_type": "execute_result"
    }
   ],
   "source": [
    "print('Misclassification class frequency')\n",
    "\n",
    "mistakes['predicted label'].value_counts()"
   ]
  },
  {
   "cell_type": "code",
   "execution_count": null,
   "metadata": {},
   "outputs": [],
   "source": []
  },
  {
   "cell_type": "code",
   "execution_count": 32,
   "metadata": {},
   "outputs": [
    {
     "name": "stdout",
     "output_type": "stream",
     "text": [
      " 1 ची ओळ \n",
      "\n",
      "\n",
      "तर या चार पायरयाआहेत \n",
      "\n",
      "\n",
      "तर मी ती वस्तू भारतात आणू इच्छितो आणि कदाचित आपल्याला माहित असेल की आपण तंत्रज्ञानाच्या कार्यप्रणालीवर क्रांतिकारक आहात \n",
      "\n",
      "\n",
      "जर आपण लोकांशी योग्य रीतीने वागलो तर ते आपल्यास  90 वेळेस बरोबर वागवतात \n",
      "\n",
      "\n",
      "याचा अर्थ काय हे पहाण्यासाठी आपण स्लाईड पाहू \n",
      "\n",
      "\n",
      "म्हणून आपण काही संधी बोलूया सर्व दार्शनिकांनी एकाचवेळी त्यांच्या उजव्या फोरॅकची निवड केली \n",
      "\n",
      "\n",
      "ठीक आहे हे काय आहे विसंगती काय आहे \n",
      "\n",
      "\n",
      "एकतर या टप्प्यात दोन्ही एकत्रितपणे अनुसरण केले जातात \n",
      "\n",
      "\n",
      "श्रेणी एक्स एसपी \n",
      "\n",
      "\n",
      "म्हणून मात्राच्या दृष्टीने ते प्रमाणानुसार तेथे उपस्थित आहेत \n",
      "\n",
      "\n",
      "तर वेगवेगळ्या शक्यता आहेत ज्या आपण विचार करू शकता \n",
      "\n",
      "\n",
      "तर आपण हे स्पष्टपणे तयार केल्यावर आपण हे तयार करीत आहात \n",
      "\n",
      "\n",
      "आपण हे करू शकत नाही आपण तेथे फक्त तेथे दर्शविण्यासाठी आणि अनिश्चित काळासाठी सुरू करणे योग्य नाही \n",
      "\n",
      "\n",
      "म्हणूनच काळाची गरज बदलण्याची गरज आहे \n",
      "\n",
      "\n",
      "आता अशा परिस्थितीत आपल्याला कॉन्सॉर्डच्या वापराबद्दल खूपच विशिष्ट असणे आवश्यक आहे आणि ज्याला करार म्हटले जाते \n",
      "\n",
      "\n",
      "तर ते स्थिर नाही \n",
      "\n",
      "\n",
      "आणि आजपासून जसे तुमच्याकडे इतके सारे भोजनालय आहेत त्या काळात त्या गोष्टी तेथे नव्हत्या \n",
      "\n",
      "\n",
      "तर आपण आहात आणि  60 देखील निश्चितपणे इतर अशुद्धता मोठ्या प्रमाणावर आहेत \n",
      "\n",
      "\n",
      "तर आम्ही अशा प्रकारच्या परिदृश्यात म्हटल्या जाणार्या एका आकड्यावर आलो आहोत CM Pc PiF Prr द्वारे आहे \n",
      "\n",
      "\n",
      "तर तो एक बेक उत्पादन आहे म्हणून केक बनविला जातो तेव्हा \n",
      "\n",
      "\n",
      "तर आता आपण शब्दावली समजून घेतो \n",
      "\n",
      "\n",
      "त्या पुढे subordination आहे \n",
      "\n",
      "\n",
      "तर  2 हा वितरक एक हक्क आहे \n",
      "\n",
      "\n",
      "तर आपण जे पाहणार आहोत ते असे आहे की एका श्रेणीतील माहिती दुसर्या वर्गाकडे कसे जाते \n",
      "\n",
      "\n",
      "तर पर्याय काय आहेत \n",
      "\n",
      "\n",
      "नक्कीच आपण जे काही लिहू शकता ते खरे असू शकते परंतु ते कदाचित देखील दुखू शकते \n",
      "\n",
      "\n",
      "त्यांच्या पुढे \n",
      "\n",
      "\n",
      "तर बहुतेक बाबतीत व्यावसायिक पातळीवर ती स्टीम च्या इतर कोणत्याही पद्धतीशी तुलना केली जाते \n",
      "\n",
      "\n",
      "ठीक आहे आम्ही येथे तयार आहोत \n",
      "\n",
      "\n",
      "तर इथे असे वाटते की आम्ही हे करण्याचा प्रयत्न करीत आहोत \n",
      "\n",
      "\n",
      "स्पष्टतः भौगोलिक मालमत्ता ज्यामध्ये चित्रात मुख्यत चिपचिपापन येते \n",
      "\n",
      "\n",
      "संख्या आणि आपण या पृष्ठ क्रमांकांचा देखील उल्लेख करू शकता \n",
      "\n",
      "\n",
      "तर आपण काय करू शकतो \n",
      "\n",
      "\n",
      "तर हे पार्श्वभूमी सेट करून आता आपण काय करणार आहोत ते पहा \n",
      "\n",
      "\n",
      "तर हे सर्व वेगळं आहे ते सर्व वाचण्यासाठी वेगवेगळ्या धडपडणार्या प्रेक्षकांसाठी वेगळ्या पातळीचे गहिरे वेगवेगळ्या पातळीवर लिहिलेले आहेत \n",
      "\n",
      "\n",
      "एका चरणबद्ध क्रमाने मी तेच येथे दाखवत आहे \n",
      "\n",
      "\n",
      "तर उदाहरणार्थ आपण आपल्या उदाहरणाकडे परत जाऊया \n",
      "\n",
      "\n",
      "तर हे सहज उपलब्ध आहे \n",
      "\n",
      "\n",
      "तर दुसऱ्या अर्थाने मी एक विरोधाभासी परिस्थिती केली आहे ज्या मी करू इच्छित नाही \n",
      "\n",
      "\n",
      "तर ते करण्याचा एक सोपा मार्ग आहे \n",
      "\n",
      "\n",
      "आणि आमचा एक दार्शनिक कार्य आहे \n",
      "\n",
      "\n",
      "म्हणूनच वेट्सवरील टक्केवारी कमीतकमी सामान्यतः कमीत कमी मजल्यापेक्षा कमी लोकप्रिय आहे \n",
      "\n",
      "\n",
      "ज्या ठिकाणी भौतिकशास्त्र वेगळे आहे अशा अनेक ठिकाणी आपल्याला स्वतःच वातावरण माहित आहे \n",
      "\n",
      "\n",
      "समजा की हे एकसमान पृष्ठभाग नाही परंतु माझ्यासारख्या वेगवान बिंदू आहेत \n",
      "\n",
      "\n",
      "आज व्याख्यान  17 आहे \n",
      "\n",
      "\n",
      "मी कधीच असे म्हटले नाही की आपण ओळखू शकता आणि मापन पूर्णपणे भिन्न आहेत \n",
      "\n",
      "\n",
      "म्हणून ओळख चोरीच्या मुख्य आव्हानास प्रतिबंध मुख्यत्वे भव्य डेटा खनन माध्यमातून गोपनीयता समस्या \n",
      "\n",
      "\n",
      "तर येथे ऊर्जा आवश्यकता काहीच नाही परंतु  mcpΔt  आहे कारण काही टप्प्यात काहीही बदल होत नाही \n",
      "\n",
      "\n",
      "तथापि ते वेगवेगळ्या ठिकाणी येऊन पोहचतात ज्या क्षणी ते तयार रांगेत प्रवेश करतात ते वेगळं असतं \n",
      "\n",
      "\n",
      "तर ते ठीक आहे \n",
      "\n",
      "\n",
      "भविष्यात फ्लुइड तसेच वस्तुमान हस्तांतरण करणार आहोत \n",
      "\n",
      "\n",
      "तर ही देखील महत्वाची गोष्ट आहे \n",
      "\n",
      "\n",
      "कारण या गोष्टी कशा वापरल्या जातात हे आपल्याला माहिती मिळेल \n",
      "\n",
      "\n",
      "मला वाटते की सामान्य लोकांच्या समजूतदारपणात ते सारखेच आहेत \n",
      "\n",
      "\n",
      "मग तुम्ही पाहता की विनंत्या आणि प्रकाशनांनुसार आम्ही प्राप्त करू शकतो \n",
      "\n",
      "\n",
      "म्हणून आपण जोडू शकता तो  9 तास  25 मिनिटांचा आहे \n",
      "\n",
      "\n",
      "परंतु आपण वापरत असलेले कोणतेही इन्स्ट्रुमेंट काही वेळ घेईल परंतु आपल्याला जवळजवळ निर्णय घ्यावा लागेल \n",
      "\n",
      "\n",
      "तर काय उपलब्ध सर्वात जवळ येते गूगल असेल \n",
      "\n",
      "\n",
      "मी म्हटल्याप्रमाणे आम्ही चबिंग करतो \n",
      "\n",
      "\n",
      "आपण प्रेषक पाठवू शकता अचानक आपण इनपुट पाठवू शकता \n",
      "\n",
      "\n",
      "अशा प्रकारे आपण बर्याच इव्हेंट असू शकतात जे एकाच वेळी सेवेत आहेत \n",
      "\n",
      "\n",
      "तर अशा प्रकारे आपण येथे खाली ठेवूया की आपल्या रिक्त बाटल्यांचे स्वागत \n",
      "\n",
      "\n",
      "आणि हे केल्यावर नंतर पुन्हा काही विशिष्ठ अवधीसाठी झोप येते \n",
      "\n",
      "\n",
      "तर आपण प्रत्यक्षात प्रकाश आणि झुकणारा पाहू शकता \n",
      "\n",
      "\n",
      "तर जर आपण त्या पॉइंट्सला प्लॉट करीत असाल तर आपण पहाल की वास्तविक वळण हा एक अधिकार आहे \n",
      "\n",
      "\n",
      "त्यामुळे लेटेक्स मधील बीआयब फाइलचा वापर करून मार्ग शोधणे हे अगदी सरळ आहे \n",
      "\n",
      "\n",
      "एनएस माने आणि एम \n",
      "\n",
      "\n",
      "तर हे विमा पॉलिसी नाही तुम्हाला माहिती आहे त्याला आपल्या उष्णतेचे हस्तांतरण का काढले पाहिजे \n",
      "\n",
      "\n",
      "तर येथे आपल्याला काही प्रकारचे सायकल उपलब्ध आहे \n",
      "\n",
      "\n",
      "आपण येथे मागील स्लाईड मध्ये दर्शविलेले दुसरे समीकरण आहे \n",
      "\n",
      "\n",
      "तर ही एक संकल्पना आहे जी आपण लक्षात ठेवली पाहिजे \n",
      "\n",
      "\n",
      "त्यानंतर पुढची पिढी व्यवसाय घेते आणि ती ते विस्तारित करण्यास सक्षम करते आणि ती सर्व ठिकाणी घेते \n",
      "\n",
      "\n",
      "आम्हाला थांबवण्याचा मार्ग \n",
      "\n",
      "\n",
      "तर मूलभूतरित्या सर्व प्रक्रियांची सीडीमध्ये चालविण्यात येत असलेली प्रक्रिया वगळता सर्वसमावेशक निश्चित मूल्यासह वाढीस प्राधान्य वाढते \n",
      "\n",
      "\n",
      "त्यामुळे कनेक्शनमध्ये किंवा कनेक्टिव्हिटीमध्ये काही समस्या असू शकतात \n",
      "\n",
      "\n",
      "सूचीमध्ये जोडलेल्या आयटमची संख्या दर्शविली जाईल आणि आम्ही याची खात्री करुन घेणे आवश्यक आहे की आम्ही काय शोधत आहोत \n",
      "\n",
      "\n",
      "आपल्याकडे उच्च माध्यमिक शाळा असू शकतात ज्यामध्ये आपल्याकडे ऑप्टिकल सूक्ष्मदर्शक असतील अभियांत्रिकी महाविद्यालयांमध्ये आपल्याकडे ऑप्टिकल मायक्रोस्कोप असतील \n",
      "\n",
      "\n",
      "त्या वेळी ते खरे होते तर ते उल्लेखनीय सिद्धी म्हणून गणले गेले \n",
      "\n",
      "\n",
      "म्हणूनच असे म्हणणे आहे की ते कशा प्रकारे फ्रेम करतात ते कशा प्रकारे आहेत \n",
      "\n",
      "\n",
      "तर हे  5 कलाकार आहेत जे NIST पर्यंत आहेत \n",
      "\n",
      "\n",
      "तर जेव्हा ते समुद्र तयार करतात तेव्हा ते अशा प्रकारे घेतले जातात की अगदी  32 अंश सेंटीग्रेडपेक्षा कमी \n",
      "\n",
      "\n",
      "तर ही जागा आधीच परिभाषित केली आहे \n",
      "\n",
      "\n",
      "येथे सिम्युलेक्रमचे उदाहरण आहे पूर्णपणे जीवनसारखे एक प्रतिमा जी शक्य असेल त्या कोणत्याही फोटोपेक्षा अधिक वास्तविक दिसते \n",
      "\n",
      "\n",
      "तर आता आपण नमूना वितरणाच्या गुणधर्मांकडे पाहू \n",
      "\n",
      "\n",
      "तर या तीन व्यापक गोष्टी आहेत आपण या पैलूवर त्वरित लक्ष देण्याचा प्रयत्न करू जेणेकरुन आपल्याला याची भावना येऊ शकेल \n",
      "\n",
      "\n",
      "तर मूलभूत वर्तन मूलभूत असे म्हटले जाते जे आपण मोठे होते तेव्हाच राहते \n",
      "\n",
      "\n",
      "तर खुल्या प्रवेशास खूपच उपलब्ध आहे आणि आपण पाहू शकता की खुल्या प्रवेशाअंतर्गत कोणत्या प्रकारच्या पत्रिका उपलब्ध आहेत \n",
      "\n",
      "\n",
      "त्यामुळे त्या किंवा सामान्यतः इतर जीवनशैलीतील जीवनशैली \n",
      "\n",
      "\n",
      "तर हे आपण शोधत होता की हे दोन टप्प्यात हे दोन स्टेज वॉल्व्ह किंवा चित्र आपण आकृती  2 दिले होते \n",
      "\n",
      "\n",
      "किंवा अंतर्निहित यादृच्छिक प्रक्रिया एकसमान अ रेखीय आणि अशीच आहे \n",
      "\n",
      "\n",
      "विश्वासार्हता प्रवेशयोग्यता विचारात घ्या आणि आतापर्यंत \n",
      "\n",
      "\n",
      "काही आव्हाने आहेत आणि मी त्या आव्हानांना पूर्ण करण्यास सक्षम असल्यास \n",
      "\n",
      "\n",
      "तर असे लोक आहेत जे उच्च दबाव अभ्यासांवर लक्ष केंद्रित करतात आणि \n",
      "\n",
      "\n",
      "ते मी सध्या परिधान करत असलेल्या फक्त भिन्न भिन्न आवृत्त्या आहेत विविध आकार भिन्न जाडी आणि असेच उपलब्ध आहेत \n",
      "\n",
      "\n",
      "चला फक्त एक उदाहरण आहे \n",
      "\n",
      "\n",
      "परंतु दुसर्या बाजूला सुधारकांना काही मिनिटे लागू शकतात \n",
      "\n",
      "\n",
      "तर त्या गोष्टी अधिक प्रमुख किंवा प्रत्यक्ष तथ्य बनतात जेव्हा आपण ढगाच्या संदर्भात बोलतो \n",
      "\n",
      "\n",
      "या भागांपैकी पहिले पदार्थ प्रीफेरेटोरियल पदार्थ असतात नंतर मुख्य घटक आणि नंतर मागील गोष्टी येतात \n",
      "\n",
      "\n",
      "आम्ही बहुतेक प्रथिने जोडल्या आहेत आता आम्हाला कागदपत्रांची माहिती आहे आम्हाला कागदाची तळाशी ओळख आहे \n",
      "\n",
      "\n",
      "दरम्यानची लेयर म्हणजे आपण त्या लेयर बद्दल बोलणार आहोत \n",
      "\n",
      "\n",
      "तर ते दोन मुद्दे आहेत जे मी हायलाइट करू इच्छितो \n",
      "\n",
      "\n",
      "हे असाधारण असू शकते की स्त्रोत ते गंतव्यस्थानाकडे जाते परंतु इतर कोणीही त्यात अडथळा आणत आणि ऐकत असतो \n",
      "\n",
      "\n",
      "त्यामध्ये बर्याच अनुप्रयोगांची उपयुक्तता आणि कार्यक्षमता आहे आणि ही अतिशय वेगळी वेगळी नसलेली पाठ्यपुस्तक आहे \n",
      "\n",
      "\n",
      "तर काही जण नेहमीच असेच करतात \n",
      "\n",
      "\n",
      "तर संपूर्ण जग तुमच्याबरोबर आहे \n",
      "\n",
      "\n",
      "प्रक्रिया करण्यासाठी \n",
      "\n",
      "\n",
      "तर अशी कल्पना आहे की आम्ही येथे पाहण्याचा प्रयत्न करीत आहोत \n",
      "\n",
      "\n",
      "म्हणून तो पुन्हा पुन्हा सक्षम होऊ शकतो \n",
      "\n",
      "\n",
      "म्हणून हा संदेश इतरांकडे गेला पाहिजे की सर्वजण समान आहेत आणि प्रत्येकास असे करणे आवश्यक आहे \n",
      "\n",
      "\n",
      "आणि आम्ही एक विशिष्ट प्रक्रिया आहे जो अंतराळ म्हणून ओळखली जाते \n",
      "\n",
      "\n",
      "तर डेटाची वैशिष्ट्ये ही काही वैशिष्ट्ये आहेत \n",
      "\n",
      "\n",
      "तर ते विकसित होईल \n",
      "\n",
      "\n",
      "महाराष्ट्र  2 क्रमांकाची संख्या  17 टक्क्यांपेक्षा जास्त आहे गुजरात  15 टक्के आहे \n",
      "\n",
      "\n",
      "तर तो त्या क्षेत्रात आणि अर्थातच जपानमध्ये कुठेतरी आहे \n",
      "\n",
      "\n",
      "आपले ऑप्टिमायझेशन इंजिन किंवा अनुवांशिक अल्गोरिदम चालविण्यासाठी या तंत्रिका नेटवर्कचा वापर करा \n",
      "\n",
      "\n",
      "तर हे खरेदी दारांचे बाजारपेठेसारखे आहे की खरेदी दाराकडे दुसरा कोणताही पर्याय नसतो हे मान्य करण्याव्यतिरिक्त हे सर्व वेगळे आहे \n",
      "\n",
      "\n",
      "आपल्याला कसे माहित आहे की ते चांगले आहे किंवा नाही \n",
      "\n",
      "\n",
      "प्रत्येक आठवड्यात किंवा दर महिन्याला किंवा पाच वर्षांत एकतर अशी परिस्थिती उद्भवते का \n",
      "\n",
      "\n",
      "म्हणून विलंब ही जास्त उशीर झाल्याने निश्चितच उच्च असते आणि सामान्यत ते उच्च असते आणि फॉगमध्ये किंवा कशाबद्दलही बोलता \n",
      "\n",
      "\n",
      "जेव्हा मी तर ही एक प्रक्रिया आहे जी मी तुम्हाला सांगितले आहे की हे काही मिनिटांत घडेल \n",
      "\n",
      "\n",
      "तर त्यानी संवाद मार्गात क्रांती निर्माण केली आहे \n",
      "\n",
      "\n",
      "कालक्रम किंवा पावर स्पेक्ट्रल घनता पाहण्याद्वारे आपण एक रेषीय कल फिट करू शकता \n",
      "\n",
      "\n",
      "हे डॉट्स आणि डॉट्सची यादी आहे आणि बर्याच गोष्टी आहेत जे बरोबर आहेत \n",
      "\n",
      "\n",
      "तो लॉक आणि कीसारखा आहे लॉकशिवाय की तयार केली जाऊ शकत नाही \n",
      "\n",
      "\n",
      "म्हणून समोरच्या बसच्या बसच्या संदर्भात सर्व प्रोसेसरांदरम्यान नेहमी एक सामायिकरण असते \n",
      "\n",
      "\n",
      "आणि लॅब सेटिंगमध्ये हे सहसा बाटलीच्या मदतीने किंवा आपल्याला सिलिंडर माहित असल्याने आपण त्याला कॉल करू शकता \n",
      "\n",
      "\n",
      "तर आता आपल्याकडे दोन मजेदार संख्या आहेत ज्या आपल्याशी तुलना करू शकतात \n",
      "\n",
      "\n",
      "कल्पना देखील अगदी सोयीस्कर आहेत \n",
      "\n",
      "\n",
      "जर आपण इतर मार्गाने जाणे प्रारंभ केले तर अगदी बरोबर होईल \n",
      "\n",
      "\n",
      "ऊर्जा अवलंबित्व कमी करणे आवश्यक आहे म्हणून ऊर्जा अवलंबित्व कमी करण्यासाठी आपल्याकडे काही यंत्रणा असणे आवश्यक आहे \n",
      "\n",
      "\n",
      "पण आम्ही ज्या पद्धतीने कार्यरत आहोत सर्किटच्या पाठोपाठ चालणारे वर्तमान आहे तेच \n",
      "\n",
      "\n",
      "ते मध्यभागी आहे \n",
      "\n",
      "\n",
      "तर ते फार महत्वाचे आहे \n",
      "\n",
      "\n",
      "आता मला वाटते की सतत सेट पॉइंट ऑपरेशन वर चालवू शकता \n",
      "\n",
      "\n",
      "तर आम्ही कशाचा संदर्भ देत आहोत \n",
      "\n",
      "\n",
      "मी एक लहान उदाहरण देतो जे आपण दररोज ओलांडता बरोबर \n",
      "\n",
      "\n",
      "मी हे पुन्हा व्यवस्थित करेल \n",
      "\n",
      "\n",
      "म्हणूनच करण्यासारखी सोपी गोष्ट म्हणजे जोडणीसाठी \n",
      "\n",
      "\n",
      "म्हणून सॉफ्ट ड्रिंक किंवा काही संबोधित केचअप संबोधित करणे हे सर्व लागू होऊ शकतात ते कदाचित वापरले जाऊ शकते \n",
      "\n",
      "\n",
      "काही उद्योग व्यवस्था असू शकते कंपनी कायदा म्हणून काही इतर कायदे असतील ज्याद्वारे आपण कंपनीचे नाव नोंदणी करू शकता \n",
      "\n",
      "\n",
      "आम्हाला तेथे तर हा एक विशिष्ट मार्ग आहे आणि हा दुसरा मार्ग आहे \n",
      "\n",
      "\n",
      "तर या कंडक्टर तपासणी यंत्रास येथे लिहिलेले आहे आणि त्याचा अर्थ खालीलप्रमाणे आहे \n",
      "\n",
      "\n",
      "उदाहरणार्थ आम्ही असे गृहित धरले आहे की विंडमिल एक विमान आहे \n",
      "\n",
      "\n",
      "परंतु हा अभिव्यक्ती दर्शवितो की संबंध हा गुंतागुंतीचा आहे तो काही स्थिर वेळेचा सरळ रेष नाही \n",
      "\n",
      "\n",
      "दुसरीकडे उद्दीष्टे अप्रत्यक्ष घटक आहेत जे माहिती साठवून ठेवतात \n",
      "\n",
      "\n",
      "म्हणूनच सुरक्षा व्यवस्थेचा एक छोटा आकार याची खात्री करेल की त्याला काही कठोर सत्यापन केले जाऊ शकते \n",
      "\n",
      "\n",
      "आणि आपण स्पष्टपणे पाहू शकता की ते त्या फोनसाठी विशेषतः तयार केले गेले आहेत \n",
      "\n",
      "\n",
      "खरं तर मी तुम्हाला हमी देतो की मला खात्री आहे \n",
      "\n",
      "\n",
      "तर हे x च्या दिशेने काही प्रमाणात आहे \n",
      "\n",
      "\n",
      "तर इथे असेच आपण म्हणूया आपण इथे समान कार्य केले आहे \n",
      "\n",
      "\n",
      "अशा श्रेणीच्या खोलीतही  20  30 लोक आपल्यापासून वेगळ्या अंतरावर बसले असतील \n",
      "\n",
      "\n",
      "आम्ही प्रस्तावना दिलेल्या आहेत आम्ही कशा प्रकारे अनुसरण करणार आहोत आणि कोणते फायदे मिळणार आहेत याबद्दल आम्ही काय बोलणार आहोत \n",
      "\n",
      "\n",
      "याला आंतरराष्ट्रीय संघ व्यावहारिक आणि लागू रसायनशास्त्राचा अधिकार व्यावहारिक आणि लागू रसायनशास्त्र यासाठी आंतरराष्ट्रीय संघ असे म्हणतात \n",
      "\n",
      "\n",
      "तर त्याच नमुन्यापासून आपण अंतराल अंदाज तयार करू शकतो \n",
      "\n",
      "\n",
      "हे  12 लोक गेले आहेत \n",
      "\n",
      "\n",
      "तर अशा अनेक समस्या आहेत ज्यांना संबोधित करणे आवश्यक आहे \n",
      "\n",
      "\n",
      "ते असे आहेत की ते एकाग्र आहेत परंतु त्यांची उपस्थिती दर्शविण्यासाठी पुरेसे चांगले आहेत \n",
      "\n",
      "\n",
      "तर  6 वगळले जाऊ शकतात \n",
      "\n",
      "\n",
      "तर आपण असे करण्याचा प्रयत्न करू \n",
      "\n",
      "\n",
      "आपण एक भाग घेतल्यास असे दिसते की ती योजना बाहेरील वॉर्ड्स सरळ हलवते \n",
      "\n",
      "\n",
      "म्हणूनच आपल्याला माहित नाही की हा परिणाम अंमलात आणून आपण प्रत्यक्षात या परिणामावर येऊ शकतो \n",
      "\n",
      "\n",
      "हे खरं तर अगदी क्लिष्ट आणि त्रासदायक आहे \n",
      "\n",
      "\n",
      "तर औद्योगिक आर ऍण्ड डी मोठ्या प्रमाणात मिळवत आहे \n",
      "\n",
      "\n",
      "सत्य म्हणजे अन्न घेण्याची भूक \n",
      "\n",
      "\n",
      "तर ती दुसरी गोष्ट आहे \n",
      "\n",
      "\n",
      "तर आपण असे म्हणू शकतो की एक समांतर बांधकाम आहे \n",
      "\n",
      "\n",
      "तर हा एक मानवी फंक्शन वक्र आहे \n",
      "\n",
      "\n",
      "म्हणून आपण कॅलिकल भाषेत बोलता तेव्हा आपण डोके म्हणता हे सरळ जाते आणि सामान्यतः आपण विसरत नाही \n",
      "\n",
      "\n",
      "मी सर्वच लोक आकडेवारीनुसार येत आहोत त्याच वेळी कदाचित तेथे नसतील \n",
      "\n",
      "\n",
      "तर मला वाटते की आपल्याकडे असा वातावरण आहे जो आपल्याला बाहेरच्या पारंपारिक सेटअपच्या बाहेर आव्हान देईल \n",
      "\n",
      "\n",
      "तर प्लेट हीट एक्सचेंजर वापरत आहात तेव्हा आपण रीजनर बनवू शकता \n",
      "\n",
      "\n",
      "तर या प्रकरणात आपण काय करतो \n",
      "\n",
      "\n",
      "तर अपोलोचा पहिला अपवाद म्हणजे आपण खरोखरच उठलो आहोत म्हणजे मला असेच पहिले रॉकेट म्हणायचे आहे \n",
      "\n",
      "\n",
      "नोटर श्रेणी \n",
      "\n",
      "\n",
      "हे डॉलर ऑपरेटर आर मध्ये एक ऑपरेटर आहे जे आपल्याला एका डेटा फ्रेमच्या स्तंभांवर प्रवेश करण्याची परवानगी देते \n",
      "\n",
      "\n",
      "खरं तर मी जात आहे आणि आपण कोणत्याही ऑनलाइन शोधात पहात आहात तर कृपया खोल पाण्याच्या क्षितिजासाठी शोध घ्या \n",
      "\n",
      "\n",
      "तर जेव्हा कधी वेगळ्या डोमेनसारख्या असतात तेव्हा त्यात वेगवेगळ्या प्रकारचे अर्थशास्त्र असतात \n",
      "\n",
      "\n",
      "तर अशा अनेक समस्या आपण परिचित होऊ शकल्या पाहिजेत \n",
      "\n",
      "\n",
      "तर इलेक्ट्रोड्स इटेट्रा बरोबर स्टिकिंग करून हे दस्तखत बॉक्समध्ये ठेवण्यात आले आहे परंतु माझे विद्युत् विद्यमान विरघळतील \n",
      "\n",
      "\n",
      "म्हणून हे संबोधित करणे आवश्यक आहे \n",
      "\n",
      "\n",
      "अर्थात विशिष्टता वेगळी असू शकते \n",
      "\n",
      "\n",
      "तर शेवटी मी या स्लाइडबरोबर बंद करू जे आपण सुरवातीलाच पाहिले \n",
      "\n",
      "\n",
      "सर्वप्रथम डिझाइनच्या थर्मोडायनामिक पैलूंशी निगडीत आहे जसेकी ऊर्जा बदलणे ऊर्जा संवर्धन आणि अशा गोष्टींशी संबंधित आहे \n",
      "\n",
      "\n",
      "तर मूलभूतपणे असे घडते की ध्यान म्हणजे फिल्टरिंगच्या प्रक्रियेची तीव्र प्रक्रिया तसेच लक्ष केंद्रित करणे होय \n",
      "\n",
      "\n",
      "तर त्यांच्याकडे विविध समस्या असू शकतात \n",
      "\n",
      "\n",
      "होय दोन्ही इनकमिंग आणि आउटगोइंग आधारित \n",
      "\n",
      "\n",
      "तर येथे एक वेगळा दृष्टिकोन घेऊया \n",
      "\n",
      "\n",
      "आपल्यापैकी प्रत्येकास आपल्या वाहनचा काय करायला पाहिजे याबद्दल एक भिन्न कल्पना असेल \n",
      "\n",
      "\n",
      "पुन्हा आवश्यक असलेल्या प्रकारांची आवश्यकता अवलंबून असते \n",
      "\n",
      "\n",
      "तर आज हे सर्व आहे \n",
      "\n",
      "\n",
      "जर आपण प्लास्टिकच्या कंटेनरमध्ये राहिलात तर आपण काही धातूंच्या कंटेनरमध्ये ठेवल्यास त्यास जास्त वेळ लागेल \n",
      "\n",
      "\n",
      "तथापि शाखेत या स्थितीत इतरांच्या या प्रदर्शनासह एकत्रित केले जाते \n",
      "\n",
      "\n",
      "तर आपल्याकडे बाह्य लोड नसल्यास \n",
      "\n",
      "\n",
      "तर आपण हे व्याख्यानास एक प्रेरित उदाहरणाने सुरू करू \n",
      "\n",
      "\n",
      "आणि असं वाटतं की जास्त कार्यक्षमता जास्त आहे \n",
      "\n",
      "\n",
      "मी अल्फाच्या विविध मूल्यांच्या सर्व मूल्यांकडे चिन्हांकित केले आहे आणि त्यासाठी पीचे शून्य मूल्य वेगवेगळे आहेत \n",
      "\n",
      "\n",
      "आजकाल आपल्याकडे कित्येक चॅनेल असल्यामुळे आपल्यासाठी उपलब्ध असलेल्या चॅनेलची जास्तीत जास्त वापर व्हायला पाहिजे \n",
      "\n",
      "\n",
      "याव्यतिरिक्त आपणास असे आढळते की हे एकसारखे वितरित नाही \n",
      "\n",
      "\n",
      "तर काय होत आहे जे त्यातील कुठल्याही वस्तूमध्ये आहे परंतु आतील हवेतून गाळले गेले आहे \n",
      "\n",
      "\n",
      "तर तरीही वेगाने आपल्याला हे माहित आहे की प्रकाशात वेगवान प्रकाश \n",
      "\n",
      "\n",
      "म्हणून आपल्याला माहिती आहे की आम्हाला हे गंधक क्षेत्र असे म्हणतात ज्यास आमच्याकडे हे नाक आणि तोंड गुहा एकत्र ठेवतात \n",
      "\n",
      "\n",
      "सामान्यत माझ्यासोबत असेच झाले आहे आणि बहुतेक लोकांसाठी हे असेच झाले असेल \n",
      "\n",
      "\n",
      "जेव्हा उत्तर गोलार्ध हिवाळ्यापासून बंद पडतो तेव्हा दिलेला वर्षाचा मार्च हा विशेषत वेळी असतो \n",
      "\n",
      "\n",
      "मग आपण पुढील गोष्टी बघू शकतो की हे कसे प्राप्त होते \n",
      "\n",
      "\n",
      "आम्ही येथे प्रकल्प तयार करू शकलो असतो जर आपण आधीच काही प्रकल्प तयार केले असतील तर \n",
      "\n",
      "\n",
      "म्हणून कोणत्याही वेळी त्यासारखे काही ठिकाण ठिकाण जागा वेळ आणि इतर कोणतीही वस्तू आणि कोणतीही वस्तू \n",
      "\n",
      "\n",
      "तर सर्वप्रथम ही ही अंमलबजावणी करण्यायोग्य आहे \n",
      "\n",
      "\n",
      "तर हे उलटा असेल आपण कसे चांगले आहे कल्पना करू शकता हे काही वक्र शक्तीच्या ई साठी देखील आहे \n",
      "\n",
      "\n",
      "जेव्हा ते जलद आणि वेगाने घडण्याचा प्रयत्न करते तेव्हा ते अक्षमतेने होते \n",
      "\n",
      "\n",
      "तर हे एकत्रीकरण होते \n",
      "\n",
      "\n",
      "ही सरळ प्रक्रिया आहे \n",
      "\n",
      "\n",
      "ते पूर्णपणे नवीन बाळ किंवा नवीन सामग्री आहे किंवा ते एकत्रिकरण किंवा गोष्टींद्वारे विकसित होत आहे बरोबर \n",
      "\n",
      "\n",
      "दोष कसा द्यावा \n",
      "\n",
      "\n",
      "मी हे इशारा म्हणून दिले \n",
      "\n",
      "\n",
      "कसे या सर्व गोष्टी त्यांना त्रास देत नाहीत \n",
      "\n",
      "\n",
      "यास वेळ लागतो \n",
      "\n",
      "\n",
      "अंतिम निकष आता आपण बघणार आहोत \n",
      "\n",
      "\n",
      "यामध्ये पानाची नवीन सोय आहे जे सक्रिय होते \n",
      "\n",
      "\n",
      "सीओबीला उकळत्या वर क्लॉट म्हणतात \n",
      "\n",
      "\n",
      "म्हणून आम्हाला मिळणारी कोणतीही जुळणी आम्ही मानक संभाव्यतेची आवश्यकता शोधण्याचा प्रयत्न करतो \n",
      "\n",
      "\n",
      "म्हणून वक्र खाली असलेले क्षेत्र  100 टक्के आहे आणि जर तुम्ही त्यास संभाव्यतेच्या दृष्टिकोनातून पाहिले तर ते  1 होईल \n",
      "\n",
      "\n",
      "कामकाजाची ठिकाणे आज चांगली ठिकाणे कशी बनली आहेत \n",
      "\n",
      "\n",
      "तर हा Biba मॉडेल आहे \n",
      "\n",
      "\n",
      "त्या प्रतिक्रियेचे तापमान जर तपमान  10 डिग्री सेल्सिअस असे म्हणावे \n",
      "\n",
      "\n",
      "लोभी शोध आधारित ह्युरिस्टिक्स सब इष्टतम समाधाने कोणतेही बहुपद वेळ समाधान उपलब्ध नाहीत \n",
      "\n",
      "\n",
      "म्हणूनच ही रुचीपूर्ण गोष्टी उमटतात \n",
      "\n",
      "\n",
      "आणि कोणत्याही डेटासह आपल्या धोरणांचे समर्थन करते \n",
      "\n",
      "\n",
      "जोपर्यंत हा कॉल जोपर्यंत कॉल केल्याने हा कॉल पूर्ण झाला नाही तोपर्यंत ब्लॉक करणे आवश्यक नाही \n",
      "\n",
      "\n",
      "तर येथे आपल्याकडे सामग्री आहे \n",
      "\n",
      "\n",
      "तर मी त्यात समाविष्ट असलेल्या काही जोखमीसह प्रवेश करू शकत आहे की नाही हे मी करू शकतो \n",
      "\n",
      "\n",
      "तर आता बाह्य आकार निश्चित आहे \n",
      "\n",
      "\n",
      "आणि हे सर्व डिझाइनमध्ये एकत्रित केले आहे जे यापैकी काही भागांवर विशिष्ट आवश्यकता ठेवते \n",
      "\n",
      "\n",
      "तर आम्ही काय करू शकतो \n",
      "\n",
      "\n",
      "मग ते काय आहेत \n",
      "\n",
      "\n",
      "आपण स्पष्टपणे सांगितले आहे की तेथे तेल व वायू आहे औषधोपतदान रासायनिक क्षेत्र स्वतःच \n",
      "\n",
      "\n",
      "हे पुस्तक फेनेमाच्या नावावर ओळखले जाते \n",
      "\n",
      "\n",
      "तर सहजपणे आपल्याला एक वाचक म्हणून आवडेल आपल्याला ते सहज प्रवाह हवे असेल \n",
      "\n",
      "\n",
      "पीपीएम म्हणजे प्रति दशलक्ष भाग \n",
      "\n",
      "\n",
      "तर त्या विशिष्ट व्यक्तीने का वापरले ते कदाचित एक कारण असू शकते \n",
      "\n",
      "\n",
      "तर येथे हे केले जाते \n",
      "\n",
      "\n",
      "म्हणूनच या संभाव्यतेस सुधारित केले जाऊ शकते जर आपण यासह आणखी काही मदत केली तर पुन्हा एक संयोजन आहे \n",
      "\n",
      "\n",
      "आपणास आदर खिलौने इत्यादि माहित आहे \n",
      "\n",
      "\n",
      "आता आपण असे काही करू तर काय होईल \n",
      "\n",
      "\n",
      "कारण हे सर्वात कमी संख्या आहे \n",
      "\n",
      "\n",
      "तर  55 प्रणाली असणे परंतु असे होऊ शकते की भर्ती झालेल्या विद्यार्थ्यांची संख्या  50 पेक्षा कमी असू शकते \n",
      "\n",
      "\n",
      "तर जर आपण त्यांच्याद्वारे ताकद पाठवत असाल तर ते फक्त विस्फोट करू शकतात किंवा काहीतरी वाईट होऊ शकते \n",
      "\n",
      "\n",
      "म्हणून आपल्याला हे पार्श्वभूमी देण्याने मी जे काही पहाणार आहे त्याचा विहंगावलोकन त्वरीत करू \n",
      "\n",
      "\n",
      "हे प्रत्यक्षात विशेषतः हाताळणीसाठी होते आणि ते ऍसिडचे अधिक प्रतिरोधक असतात \n",
      "\n",
      "\n",
      "तर त्यांच्यापैकी काही फायदे आधीपासूनच आपण पाहिल्या आहेत आणि त्यापैकी बॅटरीचे आयुष्य वाढवित आहे \n",
      "\n",
      "\n",
      "आणि आम्ही त्यास माइनस सी ऑप्शनसह संकलित करू \n",
      "\n",
      "\n",
      "कारण आपण या सेवेसाठी अधिक पैसे द्याल याची आपल्याला खात्री आहे \n",
      "\n",
      "\n",
      "तर तो सार्वभौम आहे \n",
      "\n",
      "\n",
      "तर उपलब्ध काहीतरी आहे \n",
      "\n",
      "\n",
      "तर आपण पाहता की दोन घटक महत्वाचे एक इतर ज्ञान क्षमस्व प्रवेशयोग्यता येथे परस्पर जोडलेले आहेत \n",
      "\n",
      "\n",
      "तर हे त्यांचे परिणाम आहेत \n",
      "\n",
      "\n",
      "अन्यथा योग्य समजणे कठीण होऊ शकते \n",
      "\n",
      "\n",
      "तिथे मी सूची तयार करू शकत नाही कारण त्यास एक मोठा वेळ लागेल \n",
      "\n",
      "\n",
      "आपल्या आयुष्यातून प्रकाश निघून गेला आहे आणि सर्वत्र अंधार आहे \n",
      "\n",
      "\n",
      "तर हे आपल्याला पूर्ण करण्यासारखे वाटते हे आपल्याला आपल्या वेळेचा कचरा समजतो \n",
      "\n",
      "\n",
      "म्हणून दिवसाचे  24 तास योग्य ते  8 दिवसांचे परीक्षण आहे म्हणून आपण तपासत असलेल्या सुमारे  8 दिवसांचा शोध घेत आहात \n",
      "\n",
      "\n",
      "आपल्याकडे इतर प्रकारचे हार्डवेअर असू शकतात जिथे आपल्याकडे या नमुनाचे भिन्न संस्करण असू शकतात \n",
      "\n",
      "\n",
      "तर आपण त्यांच्याकडे दुर्लक्ष करणार आहात आणि आपण त्यासारखे निराकरण करणार आहात \n",
      "\n",
      "\n",
      "म्हणून जेव्हा आपण बदल कार्यान्वित करीत असता या चरणावर काहीही निश्चित नसते आपण नियोजित केल्याप्रमाणे हे हलणार नाही \n",
      "\n",
      "\n",
      "तर येथे वाफे टेबल आहेत जे आम्हाला वरच्या वरच्या मर्यादा देतात परंतु ही वरील मर्यादा आहे \n",
      "\n",
      "\n",
      "एच Rho g \n",
      "\n",
      "\n",
      "हा वेगळ्या भाषेच्या बोलीभाषा ओळखण्याचा एक मार्ग आहे ज्यामध्ये विशिष्ट अर्थशास्त्र आणि प्रक्रियांचा अर्थ योग्य आहे अशा नावांचा समावेश आहे \n",
      "\n",
      "\n",
      "बरेच मॉडेल उपलब्ध आहेत आणि त्यावर आधारित असे मॉडेल मी आपल्याला दर्शवित आहे अर्थात हे नेटवरील उपलब्ध स्रोतावर आधारित आहे \n",
      "\n",
      "\n",
      "आणि नंतर मायक्रोसॉफ्ट  2007 एक्सएमएल हे मायक्रोसॉफ्ट ऑफिसच्या नंतरच्या आवृत्त्यांशी सुसंगत अशा स्वरूपाचे म्हणून निवडा \n",
      "\n",
      "\n",
      "तर यासारखे मुद्दे आहेत \n",
      "\n",
      "\n",
      "तर या रेखांमधील या वळणाचा ढीग येथे पाहतो आणि तो एक घटनेचा दर दर्शवितो \n",
      "\n",
      "\n",
      "तर ही अतिशय महत्वाची गोष्ट आहे \n",
      "\n",
      "\n",
      "तर ही दोन वस्तू या ग्लास शीटद्वारे समोर ठेवली जातील ज्यात मी थोडा वेळ आधी दाखवला आहे \n",
      "\n",
      "\n",
      "आणि त्या बाबतीत आपण खूप जास्त असले पाहिजे आपण आपल्या प्रभावीतेच्या संदर्भात तंत्रज्ञानाचे परीक्षण करणार्या प्रक्रियेचे फारच परीक्षण केले पाहिजे \n",
      "\n",
      "\n",
      "या निष्क्रिय अवस्थेतदेखील ही ऊर्जा भरपूर प्रमाणात घेते जेणेकरून ती नेहमी ऊर्जा चालविते \n",
      "\n",
      "\n",
      "तर जेव्हाही आपण डिझाइन करत असाल तेव्हा \n",
      "\n",
      "\n",
      "तर हा खंड तर मग आपल्याकडे काय आहे \n",
      "\n",
      "\n",
      "तर जेव्हा आपण प्रक्रियेबद्दल बोलत असतो आणि जेव्हा आपण उत्पादनांबद्दल बोलत असतो तेव्हा ते पुन्हा सर्व वेगळे असतात \n",
      "\n",
      "\n",
      "त्यामुळे हे केवळ संशोधनात्मक आहे आणि कर्नलमध्ये एक सूत्र आहे \n",
      "\n",
      "\n",
      "भूतकाळात आम्ही ही चूक आधीच केली आहे जिथे आम्ही म्हणालो की आपणास पेट्रोलियम चांगले आढळले आहे पेट्रोलियम वापरु \n",
      "\n",
      "\n",
      "त्यामुळे योग्य धारकाला काय करण्याची आवश्यकता आहे असे दोन गोष्टी आहेत  1 \n",
      "\n",
      "\n",
      "आपण पाहू शकता म्हणून अनुप्रयोग बरेच वैविध्यपूर्ण आणि विभिन्न आहेत \n",
      "\n",
      "\n",
      "तर हे आपण लक्षात ठेवा \n",
      "\n",
      "\n",
      "आणि मग आपण त्यांना मानक स्थितीत वापरू शकता परंतु ते मानक स्थितीत कसे वागले तर आपण असे कसे कराल \n",
      "\n",
      "\n",
      "प्रामुख्याने मोठ्या प्रमाणावर शोध लागू करा मोठ्या प्रमाणावरील शोध अंमलबजावणीचा मूळ उद्देश होता \n",
      "\n",
      "\n",
      "तर हा रोजगारचा एक चांगला स्त्रोत आहे \n",
      "\n",
      "\n",
      "जर आपण नेटवर्किंगमध्ये काम करत असाल तर आपण कदाचित  10  24 पोर्ट नेटवर्क्स उजवीकडे स्विच केले असल्याचे कदाचित पाहिले असेल \n",
      "\n",
      "\n",
      "शेवटी काही रासायनिक घटक बदलले आहेत जे काही घटकांमुळे झाले आहे जेणेकरून काही संयुगे तयार झाली \n",
      "\n",
      "\n",
      "आम्ही आधीपासूनच इथे आहोत म्हणून आपल्याला एक वेगळा खोली मिळविणे अधिक अर्थपूर्ण होणार नाही का \n",
      "\n",
      "\n",
      "प्रथम टर्म आणि येथे दुसरा टर्म स्थिर दबाव म्हणून \n",
      "\n",
      "\n",
      "डेअरी सायन्स मध्ये त्यांचा हा एक वास्तविक दिवस आहे हे आपण खरोखरच बनवू शकता असे एक खरे यश आहे \n",
      "\n",
      "\n",
      "याचा अर्थ प्रवाह क्षमता आहे \n",
      "\n",
      "\n"
     ]
    }
   ],
   "source": [
    "below_20 = [x  for x in mistakes[mistakes['word count'] <= 20 ].text.values.tolist()]\n",
    "for rec in below_20:\n",
    "    print(rec, '\\n\\n')"
   ]
  },
  {
   "cell_type": "code",
   "execution_count": 31,
   "metadata": {},
   "outputs": [
    {
     "name": "stdout",
     "output_type": "stream",
     "text": [
      "['म्हणून आपल्याला येथे पहाण्याची कोणतीही विशिष्ट ऑर्डर नाही जी आपल्यास जे आवडेल ते आपल्या अनुप्रयोगावर खरोखरच अवलंबून असते आणि म्हणूनच मी म्हणेन की आपल्याला माहित आहे की या दिवसात जेव्हा ते आपल्याला पाहतात तेव्हा आपल्याला छंद क्लब क्रियाकलाप माहित असतात आपल्या विशिष्ट गरजा पूर्ण करणाऱ्या काही गोष्टी निवडण्याची लवचिकता असलेल्या विद्यापीठांमध्ये आपल्याकडे आहे', 'bioche', 'phy', 53] \n",
      "\n",
      "\n",
      "['कारण आज आपल्या आयुष्यात सामान्यतः प्रकाश शीर्षस्थानावरून येतो आणि जर प्रकाश शीर्षस्थानापासून आला आणि जर एखादे वस्तु उत्परिवर्तनीय असेल तर छाया सावलीच्या पृष्ठभागाच्या खालच्या भागावर असेल आणि जर तो अव्यवस्थित असेल तर प्रकाश प्रकाश खालच्या भागात असेल आणि सावली वरच्या भागावर आणि उत्तल पृष्ठभागावर असेल तर प्रकाश वरच्या भागावर असेल आणि सावली खालच्या भागात असेल', 'phy', 'bioche', 55] \n",
      "\n",
      "\n",
      "['विदेशी अन्न चांगले आहे काही लोक आनंद घेऊ शकतात तर जगभरातील प्रत्येकजण यासारखे विदेशी अन्न मिळवू शकत नाहीत तर बरेच लोक आनंद घेऊ शकतात परंतु असमानता इतकी आहे की एक शेवटी एकीकडे आपल्याला परदेशी अन्न मिळत आहे आम्ही काही लोक खरेदी आणि इतर काही घेऊ शकतात जेणेकरून काही लोक लाभ घेण्याची क्षमता घेऊ शकत नाहीत दोन्हीही खरे आहेत आणि ते खरोखरच संघर्ष करीत आहेत', 'com_tech ', 'phy', 64] \n",
      "\n",
      "\n",
      "['तर आम्ही या आणखी काही गोष्टींचा उल्लेख करू इच्छितो की यातील काही साहित्य यापैकी काही आकडे इत्यादी वेगवेगळ्या स्रोतांकडून घेण्यात आल्या आहेत आम्ही सर्व संदर्भ ठेवण्याचा प्रयत्न केला आहे आणि त्या गोष्टींचा स्वीकार करतो ज्यासाठी आम्ही ते करू इच्छितो आमच्या लँडिंग तंत्रासाठी केवळ शैक्षणिक हेतू नाही जिथे ते सर्व काही व्यावसायिकपणे वापरत नाही', 'cse ', 'bioche', 53] \n",
      "\n",
      "\n",
      "['म्हणून व्हॉल्टर मीटर दोन स्थाने जो नमुना च्या आतील बाजूस जोडतो वर्तमान दोन बाह्य स्थानांवरुन जाते तर आपल्याकडे अशी परिस्थिती आहे आणि जेव्हा आपल्याला परिस्थिती असेल तेव्हा आपण मुळात हे संपर्क प्रतिकारशक्ती टाळता येते कारण संपर्क प्रतिकारशक्ती आहे वास्तविकपणे व्हॉल्टर मीटर सर्किटमधून चालू होणारी संख्या नगण्य आहे आणि म्हणूनच तांत्रिकदृष्ट्या आपण असे म्हणू शकता की येथे देखील संपर्क प्रतिकार करा पण त्या संपर्क प्रतिकार आपण येथे प्राप्त संपर्क प्रतिकार अत्यंत अत्यंत सापेक्ष आहे', 'phy', 'bioche', 73] \n",
      "\n",
      "\n",
      "['हे विशेषत एक कार्बन कापड किंवा कार्बन पेपर असते आणि तेथे लोक वेगवेगळ्या प्रकारचे काम करीत आहेत ज्यायोगे आपल्याला संशोधनात्मक क्रिया माहित आहेत की या विशिष्ट लेयरची अंमलबजावणी करणारी विविध पद्धतींमधील पर्याय आहेत की नाही हे पहाण्यासाठी जेणेकरुन आपण ते गुणधर्म मिळवू शकाल त्यांच्याकडे असलेल्या गुणधर्मांवर असण्याची किंवा ते सुधारण्याची देखील शक्यता आहे', 'bioche', 'phy', 53] \n",
      "\n",
      "\n",
      "['तर आपण त्यापैकी एक असू शकता जो आपल्याला सांगणार नाही असे आपल्याला वाटत नाही कारण हे आम्हाला माहित आहे की हे कायदे आहेत हे असे कायदेशीर कायदे आहेत जिथे आपल्याला हे माहित होईल की जर आपण तुम्हाला असे चुकीचे साधन सापडले तर पकडले जाते तर तुम्हाला दंड आकारला जाईल तुरुंगात पाठवले जाईल', 'com_tech ', 'phy', 52] \n",
      "\n",
      "\n",
      "['म्हणून याबद्दल काही चांगले काही असू शकत नाही आणि कदाचित आपल्याला परिस्थितीबद्दल समजण्याची अभाव माहित आहे आणि परिस्थिति त्यांच्या परिस्थतींनाही समजली असली तरी ती आरोग्यासाठी चांगली नसली तरी ते कोपर्यात आहेत खरोखर काहीतरी करण्याची गरज आहेहे पूर्ण करण्याचा प्रयत्न करा आणि ही एक अत्यंत वाईट परिस्थिती आहे आणि अशा प्रकारची बर्न थांबविण्यासाठी त्यांना शिक्षित करा आणि त्यांना फक्त शिक्षित न करण्याचे त्यांना बरेच काही प्रयत्न करावे लागतील जेणेकरून त्यांना एक महसूल मिळेल', 'bioche', 'phy', 72] \n",
      "\n",
      "\n"
     ]
    }
   ],
   "source": [
    "above_50 = [x  for x in mistakes[mistakes['word count'] > 50].values.tolist()]\n",
    "for rec in above_50:\n",
    "    print(rec, '\\n\\n')"
   ]
  }
 ],
 "metadata": {
  "kernelspec": {
   "display_name": "Python 3",
   "language": "python",
   "name": "python3"
  },
  "language_info": {
   "codemirror_mode": {
    "name": "ipython",
    "version": 3
   },
   "file_extension": ".py",
   "mimetype": "text/x-python",
   "name": "python",
   "nbconvert_exporter": "python",
   "pygments_lexer": "ipython3",
   "version": "3.7.4"
  },
  "toc": {
   "base_numbering": 1,
   "nav_menu": {},
   "number_sections": true,
   "sideBar": true,
   "skip_h1_title": false,
   "title_cell": "Table of Contents",
   "title_sidebar": "Contents",
   "toc_cell": false,
   "toc_position": {},
   "toc_section_display": true,
   "toc_window_display": false
  }
 },
 "nbformat": 4,
 "nbformat_minor": 2
}
