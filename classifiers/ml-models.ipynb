{
 "cells": [
  {
   "cell_type": "code",
   "execution_count": 1,
   "metadata": {},
   "outputs": [],
   "source": [
    "from data_preprocessing import *\n",
    "from model import ml_classifier_model, classification_report\n",
    "from sklearn.naive_bayes import MultinomialNB\n",
    "from sklearn.svm import LinearSVC\n",
    "from sklearn.neighbors import KNeighborsClassifier\n",
    "from joblib import dump\n",
    "from time import process_time"
   ]
  },
  {
   "cell_type": "code",
   "execution_count": 2,
   "metadata": {},
   "outputs": [],
   "source": [
    "stopword_list = get_stopwords(\"../marathi-stopwords.txt\")"
   ]
  },
  {
   "cell_type": "markdown",
   "metadata": {},
   "source": [
    "# Loading Data"
   ]
  },
  {
   "cell_type": "code",
   "execution_count": 2,
   "metadata": {},
   "outputs": [
    {
     "data": {
      "text/html": [
       "<div>\n",
       "<style scoped>\n",
       "    .dataframe tbody tr th:only-of-type {\n",
       "        vertical-align: middle;\n",
       "    }\n",
       "\n",
       "    .dataframe tbody tr th {\n",
       "        vertical-align: top;\n",
       "    }\n",
       "\n",
       "    .dataframe thead th {\n",
       "        text-align: right;\n",
       "    }\n",
       "</style>\n",
       "<table border=\"1\" class=\"dataframe\">\n",
       "  <thead>\n",
       "    <tr style=\"text-align: right;\">\n",
       "      <th></th>\n",
       "      <th>text</th>\n",
       "      <th>label</th>\n",
       "    </tr>\n",
       "  </thead>\n",
       "  <tbody>\n",
       "    <tr>\n",
       "      <th>0</th>\n",
       "      <td>प्रा . प्रताप हरिदास : होय , मला वाटते की हा ए...</td>\n",
       "      <td>com_tech</td>\n",
       "    </tr>\n",
       "    <tr>\n",
       "      <th>1</th>\n",
       "      <td>तर , विशिष्ट गोष्टींद्वारे , ठराविक कायद्यांद्...</td>\n",
       "      <td>bioche</td>\n",
       "    </tr>\n",
       "    <tr>\n",
       "      <th>2</th>\n",
       "      <td>- - - - - - - - - - - - - - - - - - - - - - - ...</td>\n",
       "      <td>cse</td>\n",
       "    </tr>\n",
       "    <tr>\n",
       "      <th>3</th>\n",
       "      <td>तर , आपला अर्धा चिन्ह 9 वाजता असेल .</td>\n",
       "      <td>phy</td>\n",
       "    </tr>\n",
       "    <tr>\n",
       "      <th>4</th>\n",
       "      <td>म्हणून , मी असे म्हणालो की जर शेकडो , हजारो कि...</td>\n",
       "      <td>phy</td>\n",
       "    </tr>\n",
       "    <tr>\n",
       "      <th>...</th>\n",
       "      <td>...</td>\n",
       "      <td>...</td>\n",
       "    </tr>\n",
       "    <tr>\n",
       "      <th>41992</th>\n",
       "      <td>जरी आपण डेटा कूटबद्ध केला , तरीही हा मुख्य व्य...</td>\n",
       "      <td>cse</td>\n",
       "    </tr>\n",
       "    <tr>\n",
       "      <th>41993</th>\n",
       "      <td>ते म्हणतात - \" ज्याला पाहण्यासाठी डोळे , ऎकण्य...</td>\n",
       "      <td>com_tech</td>\n",
       "    </tr>\n",
       "    <tr>\n",
       "      <th>41994</th>\n",
       "      <td>प्रथम क्रोनोलॉजिकल , क्रॉनोलॉजी म्हणजे आपल्याल...</td>\n",
       "      <td>com_tech</td>\n",
       "    </tr>\n",
       "    <tr>\n",
       "      <th>41995</th>\n",
       "      <td>त्या थोड्या तपशीलावर येईल , जेणेकरून संपूर्ण ग...</td>\n",
       "      <td>bioche</td>\n",
       "    </tr>\n",
       "    <tr>\n",
       "      <th>41996</th>\n",
       "      <td>आणि एका हॉटेलमध्ये त्यांनी एका स्विस रेस्ट्राम...</td>\n",
       "      <td>com_tech</td>\n",
       "    </tr>\n",
       "  </tbody>\n",
       "</table>\n",
       "<p>41997 rows × 2 columns</p>\n",
       "</div>"
      ],
      "text/plain": [
       "                                                    text     label\n",
       "0      प्रा . प्रताप हरिदास : होय , मला वाटते की हा ए...  com_tech\n",
       "1      तर , विशिष्ट गोष्टींद्वारे , ठराविक कायद्यांद्...    bioche\n",
       "2      - - - - - - - - - - - - - - - - - - - - - - - ...       cse\n",
       "3                   तर , आपला अर्धा चिन्ह 9 वाजता असेल .       phy\n",
       "4      म्हणून , मी असे म्हणालो की जर शेकडो , हजारो कि...       phy\n",
       "...                                                  ...       ...\n",
       "41992  जरी आपण डेटा कूटबद्ध केला , तरीही हा मुख्य व्य...       cse\n",
       "41993  ते म्हणतात - \" ज्याला पाहण्यासाठी डोळे , ऎकण्य...  com_tech\n",
       "41994  प्रथम क्रोनोलॉजिकल , क्रॉनोलॉजी म्हणजे आपल्याल...  com_tech\n",
       "41995  त्या थोड्या तपशीलावर येईल , जेणेकरून संपूर्ण ग...    bioche\n",
       "41996  आणि एका हॉटेलमध्ये त्यांनी एका स्विस रेस्ट्राम...  com_tech\n",
       "\n",
       "[41997 rows x 2 columns]"
      ]
     },
     "execution_count": 2,
     "metadata": {},
     "output_type": "execute_result"
    }
   ],
   "source": [
    "training_path = \"../dataset/original-dataset/marathi-training-data.csv\"\n",
    "train_data = read_data(training_path)\n",
    "train_data"
   ]
  },
  {
   "cell_type": "code",
   "execution_count": 3,
   "metadata": {},
   "outputs": [
    {
     "data": {
      "text/plain": [
       "com_tech    17995\n",
       "phy          9656\n",
       "cse          9344\n",
       "bioche       5002\n",
       "Name: label, dtype: int64"
      ]
     },
     "execution_count": 3,
     "metadata": {},
     "output_type": "execute_result"
    }
   ],
   "source": [
    "train_data.label.value_counts()"
   ]
  },
  {
   "cell_type": "code",
   "execution_count": 4,
   "metadata": {},
   "outputs": [
    {
     "data": {
      "text/html": [
       "<div>\n",
       "<style scoped>\n",
       "    .dataframe tbody tr th:only-of-type {\n",
       "        vertical-align: middle;\n",
       "    }\n",
       "\n",
       "    .dataframe tbody tr th {\n",
       "        vertical-align: top;\n",
       "    }\n",
       "\n",
       "    .dataframe thead th {\n",
       "        text-align: right;\n",
       "    }\n",
       "</style>\n",
       "<table border=\"1\" class=\"dataframe\">\n",
       "  <thead>\n",
       "    <tr style=\"text-align: right;\">\n",
       "      <th></th>\n",
       "      <th>text</th>\n",
       "      <th>label</th>\n",
       "    </tr>\n",
       "  </thead>\n",
       "  <tbody>\n",
       "    <tr>\n",
       "      <th>0</th>\n",
       "      <td>1 ची ओळ .</td>\n",
       "      <td>cse</td>\n",
       "    </tr>\n",
       "    <tr>\n",
       "      <th>1</th>\n",
       "      <td>तर , ही एक टॉवर आहे जी टॉवरवर निश्चित केली जात...</td>\n",
       "      <td>phy</td>\n",
       "    </tr>\n",
       "    <tr>\n",
       "      <th>2</th>\n",
       "      <td>तर , थ्रेडच्या परतीच्या स्थितीस पास करण्यासाठी...</td>\n",
       "      <td>cse</td>\n",
       "    </tr>\n",
       "    <tr>\n",
       "      <th>3</th>\n",
       "      <td>आपण लोक शोधत आहात जे आपल्यासाठी काहीतरी करू शक...</td>\n",
       "      <td>com_tech</td>\n",
       "    </tr>\n",
       "    <tr>\n",
       "      <th>4</th>\n",
       "      <td>लिनक्स कर्नल अनुसूचीतकरणामध्ये अशी तंत्र असण्य...</td>\n",
       "      <td>cse</td>\n",
       "    </tr>\n",
       "    <tr>\n",
       "      <th>...</th>\n",
       "      <td>...</td>\n",
       "      <td>...</td>\n",
       "    </tr>\n",
       "    <tr>\n",
       "      <th>3775</th>\n",
       "      <td>नंतर वृद्धत्व , व्हॉट मोठ्या प्रमाणात फ्रॉन 12...</td>\n",
       "      <td>bioche</td>\n",
       "    </tr>\n",
       "    <tr>\n",
       "      <th>3776</th>\n",
       "      <td>आणि मग सुद्धा आपल्याला काही सेकंदांनंतर माहित ...</td>\n",
       "      <td>phy</td>\n",
       "    </tr>\n",
       "    <tr>\n",
       "      <th>3777</th>\n",
       "      <td>तर , आपण ELF शीर्षलेखासह प्रारंभ करू .</td>\n",
       "      <td>cse</td>\n",
       "    </tr>\n",
       "    <tr>\n",
       "      <th>3778</th>\n",
       "      <td>तर , त्या क्रॉस्टची जाडी आहे .</td>\n",
       "      <td>phy</td>\n",
       "    </tr>\n",
       "    <tr>\n",
       "      <th>3779</th>\n",
       "      <td>तर , मला वाटते की ही माहिती अशी आहे की आपण एका...</td>\n",
       "      <td>phy</td>\n",
       "    </tr>\n",
       "  </tbody>\n",
       "</table>\n",
       "<p>3780 rows × 2 columns</p>\n",
       "</div>"
      ],
      "text/plain": [
       "                                                   text     label\n",
       "0                                             1 ची ओळ .       cse\n",
       "1     तर , ही एक टॉवर आहे जी टॉवरवर निश्चित केली जात...       phy\n",
       "2     तर , थ्रेडच्या परतीच्या स्थितीस पास करण्यासाठी...       cse\n",
       "3     आपण लोक शोधत आहात जे आपल्यासाठी काहीतरी करू शक...  com_tech\n",
       "4     लिनक्स कर्नल अनुसूचीतकरणामध्ये अशी तंत्र असण्य...       cse\n",
       "...                                                 ...       ...\n",
       "3775  नंतर वृद्धत्व , व्हॉट मोठ्या प्रमाणात फ्रॉन 12...    bioche\n",
       "3776  आणि मग सुद्धा आपल्याला काही सेकंदांनंतर माहित ...       phy\n",
       "3777             तर , आपण ELF शीर्षलेखासह प्रारंभ करू .       cse\n",
       "3778                     तर , त्या क्रॉस्टची जाडी आहे .       phy\n",
       "3779  तर , मला वाटते की ही माहिती अशी आहे की आपण एका...       phy\n",
       "\n",
       "[3780 rows x 2 columns]"
      ]
     },
     "execution_count": 4,
     "metadata": {},
     "output_type": "execute_result"
    }
   ],
   "source": [
    "val_path = \"../dataset/original-dataset/marathi-validation-data.csv\"\n",
    "val_data = read_data(val_path)\n",
    "val_data"
   ]
  },
  {
   "cell_type": "code",
   "execution_count": 5,
   "metadata": {},
   "outputs": [
    {
     "data": {
      "text/plain": [
       "com_tech    1505\n",
       "phy          970\n",
       "cse          885\n",
       "bioche       420\n",
       "Name: label, dtype: int64"
      ]
     },
     "execution_count": 5,
     "metadata": {},
     "output_type": "execute_result"
    }
   ],
   "source": [
    "val_data.label.value_counts()"
   ]
  },
  {
   "cell_type": "code",
   "execution_count": 7,
   "metadata": {},
   "outputs": [
    {
     "name": "stdout",
     "output_type": "stream",
     "text": [
      "41997\n",
      "41997\n",
      "3780\n",
      "3780\n"
     ]
    }
   ],
   "source": [
    "x_train = train_data.text.apply(lambda x: clean_text(x)).values.tolist()\n",
    "y_train = train_data.label.values.tolist()\n",
    "x_val = val_data.text.apply(lambda x: clean_text(x)).values.tolist()\n",
    "y_val = val_data.label.values.tolist()\n",
    "print(len(x_train))\n",
    "print(len(y_train))\n",
    "print(len(x_val))\n",
    "print(len(y_val))"
   ]
  },
  {
   "cell_type": "code",
   "execution_count": 8,
   "metadata": {},
   "outputs": [],
   "source": [
    "y_train, y_val = label_encoder(y_train, y_val)"
   ]
  },
  {
   "cell_type": "markdown",
   "metadata": {},
   "source": [
    "# Computing the sentence representation"
   ]
  },
  {
   "cell_type": "code",
   "execution_count": 9,
   "metadata": {},
   "outputs": [
    {
     "data": {
      "text/plain": [
       "52566"
      ]
     },
     "execution_count": 9,
     "metadata": {},
     "output_type": "execute_result"
    }
   ],
   "source": [
    "bow_vectorizer, bow_x_train, bow_x_val = bow_vectorize(x_train, x_val, min_df=1)\n",
    "len(bow_vectorizer.vocabulary_)"
   ]
  },
  {
   "cell_type": "code",
   "execution_count": 10,
   "metadata": {},
   "outputs": [
    {
     "data": {
      "text/plain": [
       "28981"
      ]
     },
     "execution_count": 10,
     "metadata": {},
     "output_type": "execute_result"
    }
   ],
   "source": [
    "char_bow_vectorizer, char_bow_x_train, char_bow_x_val = char_bow_vectorize(x_train, x_val, min_df=1)\n",
    "len(char_bow_vectorizer.vocabulary_)"
   ]
  },
  {
   "cell_type": "code",
   "execution_count": 11,
   "metadata": {},
   "outputs": [
    {
     "data": {
      "text/plain": [
       "52566"
      ]
     },
     "execution_count": 11,
     "metadata": {},
     "output_type": "execute_result"
    }
   ],
   "source": [
    "tfidf_vectorizer, tfidf_x_train, tfidf_x_val = tfidf_vectorize(x_train, x_val, min_df=1)\n",
    "len(tfidf_vectorizer.vocabulary_)"
   ]
  },
  {
   "cell_type": "code",
   "execution_count": 12,
   "metadata": {},
   "outputs": [
    {
     "data": {
      "text/plain": [
       "383099"
      ]
     },
     "execution_count": 12,
     "metadata": {},
     "output_type": "execute_result"
    }
   ],
   "source": [
    "n_gram_tfidf_vectorizer, n_gram_tfidf_x_train, n_gram_tfidf_x_val = n_gram_tfidf_vectorize(x_train, x_val, min_df=1)\n",
    "len(n_gram_tfidf_vectorizer.vocabulary_)"
   ]
  },
  {
   "cell_type": "code",
   "execution_count": 13,
   "metadata": {},
   "outputs": [
    {
     "data": {
      "text/plain": [
       "28981"
      ]
     },
     "execution_count": 13,
     "metadata": {},
     "output_type": "execute_result"
    }
   ],
   "source": [
    "char_tfidf_vectorizer, char_tfidf_x_train, char_tfidf_x_val = char_tfidf_vectorize(x_train, x_val)\n",
    "len(char_tfidf_vectorizer.vocabulary_)"
   ]
  },
  {
   "cell_type": "code",
   "execution_count": 14,
   "metadata": {},
   "outputs": [
    {
     "data": {
      "text/plain": [
       "['../tokenizers/char-tfidf-vectorizer.pkl']"
      ]
     },
     "execution_count": 14,
     "metadata": {},
     "output_type": "execute_result"
    }
   ],
   "source": [
    "dump(bow_vectorizer, \"../tokenizers/bow-vectorizer.pkl\")\n",
    "dump(char_bow_vectorizer, \"../tokenizers/char-bow-vectorizer.pkl\")\n",
    "dump(tfidf_vectorizer, \"../tokenizers/tfidf-vectorizer.pkl\")\n",
    "dump(n_gram_tfidf_vectorizer, \"../tokenizers/ngram-tfidf-vectorizer.pkl\")\n",
    "dump(char_tfidf_vectorizer, \"../tokenizers/char-tfidf-vectorizer.pkl\")"
   ]
  },
  {
   "cell_type": "code",
   "execution_count": 15,
   "metadata": {},
   "outputs": [],
   "source": [
    "vocab = bow_vectorizer.vocabulary_"
   ]
  },
  {
   "cell_type": "markdown",
   "metadata": {},
   "source": [
    "# Ai4Bharat Indic-Fasttext Marathi Word Embeddings"
   ]
  },
  {
   "cell_type": "code",
   "execution_count": 16,
   "metadata": {},
   "outputs": [
    {
     "name": "stdout",
     "output_type": "stream",
     "text": [
      "29680\n",
      "Total time taken:  19.138324173999997\n"
     ]
    },
    {
     "data": {
      "text/plain": [
       "(52567, 300)"
      ]
     },
     "execution_count": 16,
     "metadata": {},
     "output_type": "execute_result"
    }
   ],
   "source": [
    "start = process_time()\n",
    "embedding_path1 = \"/home/eastwind/word-embeddings/fasttext/indicnlp.ft.mr.300.vec\"\n",
    "embedding_matrix1 = get_embedding_matrix(embedding_path1, vocab, 300)\n",
    "end = process_time()\n",
    "print(\"Total time taken: \", end-start)\n",
    "embedding_matrix1.shape"
   ]
  },
  {
   "cell_type": "code",
   "execution_count": 17,
   "metadata": {},
   "outputs": [
    {
     "name": "stdout",
     "output_type": "stream",
     "text": [
      "(41997, 300)\n",
      "(3780, 300)\n"
     ]
    }
   ],
   "source": [
    "ft_bow_x_train = get_sentence_embedding(embedding_matrix1, bow_x_train, 'bow')\n",
    "ft_bow_x_val = get_sentence_embedding(embedding_matrix1, bow_x_val, 'bow')\n",
    "print(ft_bow_x_train.shape)\n",
    "print(ft_bow_x_val.shape)"
   ]
  },
  {
   "cell_type": "code",
   "execution_count": 18,
   "metadata": {},
   "outputs": [
    {
     "name": "stdout",
     "output_type": "stream",
     "text": [
      "(41997, 300)\n",
      "(3780, 300)\n"
     ]
    }
   ],
   "source": [
    "ft_tfidf_x_train = get_sentence_embedding(embedding_matrix1, tfidf_x_train, 'tfidf')\n",
    "ft_tfidf_x_val = get_sentence_embedding(embedding_matrix1, tfidf_x_val, 'tfidf')\n",
    "print(ft_tfidf_x_train.shape)\n",
    "print(ft_tfidf_x_val.shape)"
   ]
  },
  {
   "cell_type": "markdown",
   "metadata": {},
   "source": [
    "# Domain Specific fasttext Word Embeddings"
   ]
  },
  {
   "cell_type": "code",
   "execution_count": 36,
   "metadata": {},
   "outputs": [
    {
     "name": "stdout",
     "output_type": "stream",
     "text": [
      "51246\n",
      "Total time taken:  6.155927305000091\n"
     ]
    },
    {
     "data": {
      "text/plain": [
       "(52567, 300)"
      ]
     },
     "execution_count": 36,
     "metadata": {},
     "output_type": "execute_result"
    }
   ],
   "source": [
    "start = process_time()\n",
    "embedding_path2 = \"/home/eastwind/word-embeddings/fasttext/TechDofication.mr.raw.ft.skipgram.d300.vec\"\n",
    "embedding_matrix2 = get_embedding_matrix(embedding_path2, vocab, 300)\n",
    "end = process_time()\n",
    "print(\"Total time taken: \", end-start)\n",
    "embedding_matrix2.shape"
   ]
  },
  {
   "cell_type": "code",
   "execution_count": 37,
   "metadata": {},
   "outputs": [
    {
     "name": "stdout",
     "output_type": "stream",
     "text": [
      "(41997, 300)\n",
      "(3780, 300)\n"
     ]
    }
   ],
   "source": [
    "ds_bow_x_train = get_sentence_embedding(embedding_matrix2, bow_x_train, 'bow')\n",
    "ds_bow_x_val = get_sentence_embedding(embedding_matrix2, bow_x_val, 'bow')\n",
    "print(ds_bow_x_train.shape)\n",
    "print(ds_bow_x_val.shape)"
   ]
  },
  {
   "cell_type": "code",
   "execution_count": 38,
   "metadata": {},
   "outputs": [
    {
     "name": "stdout",
     "output_type": "stream",
     "text": [
      "(41997, 300)\n",
      "(3780, 300)\n"
     ]
    }
   ],
   "source": [
    "ds_tfidf_x_train = get_sentence_embedding(embedding_matrix2, tfidf_x_train, 'tfidf')\n",
    "ds_tfidf_x_val = get_sentence_embedding(embedding_matrix2, tfidf_x_val, 'tfidf')\n",
    "print(ds_tfidf_x_train.shape)\n",
    "print(ds_tfidf_x_val.shape)"
   ]
  },
  {
   "cell_type": "markdown",
   "metadata": {},
   "source": [
    "# Multinomial Naive Bayes"
   ]
  },
  {
   "cell_type": "code",
   "execution_count": 22,
   "metadata": {
    "scrolled": true
   },
   "outputs": [
    {
     "name": "stdout",
     "output_type": "stream",
     "text": [
      "Validation Accuracy:  0.8674603174603175\n",
      "\n",
      "Precision:  [0.92038217 0.84232868 0.91625616 0.85273632]\n",
      "Average Precision:  0.8829258314248659\n",
      "\n",
      "Recall:  [0.68809524 0.92292359 0.84067797 0.88350515]\n",
      "Average nRecall:  0.8338004867189939\n",
      "\n",
      "F1-Score:  [0.78746594 0.8807863  0.87684148 0.8678481 ]\n",
      "Average F1-Score:  0.8532354573502416\n"
     ]
    }
   ],
   "source": [
    "# Naive Bayes on Count Vectors\n",
    "NB_bow, NB_bow_predictions = ml_classifier_model(MultinomialNB(), \n",
    "                                                  bow_x_train, bow_x_val, \n",
    "                                                  y_train, y_val)\n",
    "\n",
    "acc, precision, recall, f1 = classification_report(y_val, NB_bow_predictions)\n",
    "print(\"Validation Accuracy: \", acc)\n",
    "print(\"\\nPrecision: \", precision)\n",
    "print(\"Average Precision: \", np.mean(precision))\n",
    "print(\"\\nRecall: \", recall)\n",
    "print(\"Average nRecall: \", np.mean(recall))\n",
    "print(\"\\nF1-Score: \", f1)\n",
    "print(\"Average F1-Score: \", np.mean(f1))"
   ]
  },
  {
   "cell_type": "code",
   "execution_count": 23,
   "metadata": {},
   "outputs": [
    {
     "name": "stdout",
     "output_type": "stream",
     "text": [
      "Validation Accuracy:  0.8161375661375662\n",
      "\n",
      "Precision:  [0.73860911 0.83279115 0.8200692  0.81960375]\n",
      "Average Precision:  0.8027683055916047\n",
      "\n",
      "Recall:  [0.73333333 0.85049834 0.80338983 0.81030928]\n",
      "Average nRecall:  0.7993826952656888\n",
      "\n",
      "F1-Score:  [0.73596177 0.84155161 0.81164384 0.81493002]\n",
      "Average F1-Score:  0.8010218075426877\n"
     ]
    }
   ],
   "source": [
    "# Naive Bayes on character level Count Vectors\n",
    "NB_char_bow, NB_char_bow_predictions = ml_classifier_model(MultinomialNB(), \n",
    "                                                           char_bow_x_train, char_bow_x_val, \n",
    "                                                           y_train, y_val)\n",
    "\n",
    "acc, precision, recall, f1 = classification_report(y_val, NB_char_bow_predictions)\n",
    "print(\"Validation Accuracy: \", acc)\n",
    "print(\"\\nPrecision: \", precision)\n",
    "print(\"Average Precision: \", np.mean(precision))\n",
    "print(\"\\nRecall: \", recall)\n",
    "print(\"Average nRecall: \", np.mean(recall))\n",
    "print(\"\\nF1-Score: \", f1)\n",
    "print(\"Average F1-Score: \", np.mean(f1))"
   ]
  },
  {
   "cell_type": "code",
   "execution_count": 24,
   "metadata": {},
   "outputs": [
    {
     "name": "stdout",
     "output_type": "stream",
     "text": [
      "Validation Accuracy:  0.7716931216931217\n",
      "\n",
      "Precision:  [1.         0.66696997 0.95761381 0.86934673]\n",
      "Average Precision:  0.8734826302818676\n",
      "\n",
      "Recall:  [0.3547619  0.97408638 0.68926554 0.71340206]\n",
      "Average nRecall:  0.6828789705195701\n",
      "\n",
      "F1-Score:  [0.52372583 0.79179044 0.80157687 0.78369196]\n",
      "Average F1-Score:  0.7251962766868902\n"
     ]
    }
   ],
   "source": [
    "# Naive Bayes on TF-IDF\n",
    "NB_tfidf, NB_tfidf_predictions = ml_classifier_model(MultinomialNB(), \n",
    "                                                      tfidf_x_train, tfidf_x_val, \n",
    "                                                      y_train, y_val)\n",
    "\n",
    "acc, precision, recall, f1 = classification_report(y_val, NB_tfidf_predictions)\n",
    "print(\"Validation Accuracy: \", acc)\n",
    "print(\"\\nPrecision: \", precision)\n",
    "print(\"Average Precision: \", np.mean(precision))\n",
    "print(\"\\nRecall: \", recall)\n",
    "print(\"Average nRecall: \", np.mean(recall))\n",
    "print(\"\\nF1-Score: \", f1)\n",
    "print(\"Average F1-Score: \", np.mean(f1))"
   ]
  },
  {
   "cell_type": "code",
   "execution_count": 25,
   "metadata": {},
   "outputs": [
    {
     "name": "stdout",
     "output_type": "stream",
     "text": [
      "Validation Accuracy:  0.6198412698412699\n",
      "\n",
      "Precision:  [1.         0.52018093 0.96632124 0.90546218]\n",
      "Average Precision:  0.8479910902238814\n",
      "\n",
      "Recall:  [0.1047619  0.99335548 0.42146893 0.4443299 ]\n",
      "Average nRecall:  0.49097905248759205\n",
      "\n",
      "F1-Score:  [0.18965517 0.68280429 0.58693942 0.59612725]\n",
      "Average F1-Score:  0.5138815327480567\n"
     ]
    }
   ],
   "source": [
    "# Naive Bayes on n-gram TF-IDF\n",
    "NB_ngram_tfidf, NB_ngram_predictions = ml_classifier_model(MultinomialNB(), \n",
    "                                                           n_gram_tfidf_x_train, n_gram_tfidf_x_val, \n",
    "                                                           y_train, y_val)\n",
    "\n",
    "acc, precision, recall, f1 = classification_report(y_val, NB_ngram_predictions)\n",
    "print(\"Validation Accuracy: \", acc)\n",
    "print(\"\\nPrecision: \", precision)\n",
    "print(\"Average Precision: \", np.mean(precision))\n",
    "print(\"\\nRecall: \", recall)\n",
    "print(\"Average nRecall: \", np.mean(recall))\n",
    "print(\"\\nF1-Score: \", f1)\n",
    "print(\"Average F1-Score: \", np.mean(f1))"
   ]
  },
  {
   "cell_type": "code",
   "execution_count": 26,
   "metadata": {},
   "outputs": [
    {
     "name": "stdout",
     "output_type": "stream",
     "text": [
      "Validation Accuracy:  0.7693121693121693\n",
      "\n",
      "Precision:  [0.95652174 0.68279828 0.89985486 0.83780488]\n",
      "Average Precision:  0.8442449385835413\n",
      "\n",
      "Recall:  [0.41904762 0.94684385 0.70056497 0.70824742]\n",
      "Average nRecall:  0.6936759668250105\n",
      "\n",
      "F1-Score:  [0.58278146 0.79342984 0.78780178 0.76759777]\n",
      "Average F1-Score:  0.7329027113305022\n"
     ]
    }
   ],
   "source": [
    "# Naive Bayes on character-level TF-IDF\n",
    "NB_char_tfidf, NB_char_predictions = ml_classifier_model(MultinomialNB(), \n",
    "                                                         char_tfidf_x_train, char_tfidf_x_val, \n",
    "                                                         y_train, y_val)\n",
    "\n",
    "acc, precision, recall, f1 = classification_report(y_val, NB_char_predictions)\n",
    "print(\"Validation Accuracy: \", acc)\n",
    "print(\"\\nPrecision: \", precision)\n",
    "print(\"Average Precision: \", np.mean(precision))\n",
    "print(\"\\nRecall: \", recall)\n",
    "print(\"Average nRecall: \", np.mean(recall))\n",
    "print(\"\\nF1-Score: \", f1)\n",
    "print(\"Average F1-Score: \", np.mean(f1))"
   ]
  },
  {
   "cell_type": "code",
   "execution_count": 27,
   "metadata": {},
   "outputs": [
    {
     "data": {
      "text/plain": [
       "['../models/naive-bayes/NB-char-tfidf.pkl']"
      ]
     },
     "execution_count": 27,
     "metadata": {},
     "output_type": "execute_result"
    }
   ],
   "source": [
    "dump(NB_bow, \"../models/naive-bayes/NB-bow.pkl\")\n",
    "dump(NB_char_bow, \"../models/naive-bayes/NB-char-bow.pkl\")\n",
    "dump(NB_tfidf, \"../models/naive-bayes/NB-tfidf.pkl\")\n",
    "dump(NB_ngram_tfidf, \"../models/naive-bayes/NB-ngram-tfidf.pkl\")\n",
    "dump(NB_char_tfidf, \"../models/naive-bayes/NB-char-tfidf.pkl\")"
   ]
  },
  {
   "cell_type": "markdown",
   "metadata": {},
   "source": [
    "# Linear SVC"
   ]
  },
  {
   "cell_type": "markdown",
   "metadata": {},
   "source": [
    "## Statsitical word representation approach"
   ]
  },
  {
   "cell_type": "code",
   "execution_count": 28,
   "metadata": {},
   "outputs": [
    {
     "name": "stdout",
     "output_type": "stream",
     "text": [
      "Validation Accuracy:  0.8576719576719577\n",
      "\n",
      "Precision:  [0.84254144 0.85759695 0.87514451 0.84795918]\n",
      "Average Precision:  0.8558105193285293\n",
      "\n",
      "Recall:  [0.72619048 0.89634551 0.85536723 0.85670103]\n",
      "Average nRecall:  0.8336510634267239\n",
      "\n",
      "F1-Score:  [0.78005115 0.87654321 0.86514286 0.85230769]\n",
      "Average F1-Score:  0.8435112275555583\n"
     ]
    }
   ],
   "source": [
    "# Linear SVC on Count Vectors\n",
    "LSVC_bow, LSVC_bow_predictions = ml_classifier_model(LinearSVC(max_iter=2000), \n",
    "                                                     bow_x_train, bow_x_val, \n",
    "                                                     y_train, y_val)\n",
    "\n",
    "acc, precision, recall, f1 = classification_report(y_val, LSVC_bow_predictions)\n",
    "print(\"Validation Accuracy: \", acc)\n",
    "print(\"\\nPrecision: \", precision)\n",
    "print(\"Average Precision: \", np.mean(precision))\n",
    "print(\"\\nRecall: \", recall)\n",
    "print(\"Average nRecall: \", np.mean(recall))\n",
    "print(\"\\nF1-Score: \", f1)\n",
    "print(\"Average F1-Score: \", np.mean(f1))"
   ]
  },
  {
   "cell_type": "code",
   "execution_count": 30,
   "metadata": {},
   "outputs": [
    {
     "name": "stdout",
     "output_type": "stream",
     "text": [
      "Validation Accuracy:  0.861904761904762\n",
      "\n",
      "Precision:  [0.80916031 0.87702265 0.87514318 0.84726522]\n",
      "Average Precision:  0.8521478413412386\n",
      "\n",
      "Recall:  [0.75714286 0.90033223 0.86327684 0.84639175]\n",
      "Average nRecall:  0.8417859179479975\n",
      "\n",
      "F1-Score:  [0.78228782 0.88852459 0.86916951 0.84682826]\n",
      "Average F1-Score:  0.8467025464601541\n"
     ]
    }
   ],
   "source": [
    "# Linear SVC on character-level Count Vectors\n",
    "LSVC_char_bow, LSVC_char_bow_predictions = ml_classifier_model(LinearSVC(max_iter=5000), \n",
    "                                                               char_bow_x_train, char_bow_x_val, \n",
    "                                                               y_train, y_val)\n",
    "\n",
    "acc, precision, recall, f1 = classification_report(y_val, LSVC_char_bow_predictions)\n",
    "print(\"Validation Accuracy: \", acc)\n",
    "print(\"\\nPrecision: \", precision)\n",
    "print(\"Average Precision: \", np.mean(precision))\n",
    "print(\"\\nRecall: \", recall)\n",
    "print(\"Average nRecall: \", np.mean(recall))\n",
    "print(\"\\nF1-Score: \", f1)\n",
    "print(\"Average F1-Score: \", np.mean(f1))"
   ]
  },
  {
   "cell_type": "code",
   "execution_count": 31,
   "metadata": {},
   "outputs": [
    {
     "name": "stdout",
     "output_type": "stream",
     "text": [
      "Validation Accuracy:  0.8817460317460317\n",
      "\n",
      "Precision:  [0.88135593 0.871875   0.90592334 0.87668394]\n",
      "Average Precision:  0.8839595537437399\n",
      "\n",
      "Recall:  [0.74285714 0.9269103  0.88135593 0.87216495]\n",
      "Average nRecall:  0.8558220806293658\n",
      "\n",
      "F1-Score:  [0.80620155 0.89855072 0.89347079 0.8744186 ]\n",
      "Average F1-Score:  0.868160417513612\n"
     ]
    }
   ],
   "source": [
    "# Linear SVC on TF-IDF\n",
    "LSVC_tfidf, LSVC_tfidf_predictions = ml_classifier_model(LinearSVC(), \n",
    "                                                         tfidf_x_train, tfidf_x_val, \n",
    "                                                         y_train, y_val)\n",
    "\n",
    "acc, precision, recall, f1 = classification_report(y_val, LSVC_tfidf_predictions)\n",
    "print(\"Validation Accuracy: \", acc)\n",
    "print(\"\\nPrecision: \", precision)\n",
    "print(\"Average Precision: \", np.mean(precision))\n",
    "print(\"\\nRecall: \", recall)\n",
    "print(\"Average nRecall: \", np.mean(recall))\n",
    "print(\"\\nF1-Score: \", f1)\n",
    "print(\"Average F1-Score: \", np.mean(f1))"
   ]
  },
  {
   "cell_type": "code",
   "execution_count": 32,
   "metadata": {},
   "outputs": [
    {
     "name": "stdout",
     "output_type": "stream",
     "text": [
      "Validation Accuracy:  0.8727513227513227\n",
      "\n",
      "Precision:  [0.89367816 0.85067319 0.89647059 0.88185654]\n",
      "Average Precision:  0.8806696209634165\n",
      "\n",
      "Recall:  [0.74047619 0.92358804 0.86101695 0.86185567]\n",
      "Average nRecall:  0.8467342123997338\n",
      "\n",
      "F1-Score:  [0.80989583 0.88563237 0.87838617 0.8717414 ]\n",
      "Average F1-Score:  0.861413941191252\n"
     ]
    }
   ],
   "source": [
    "# Linear SVC on n-gram TF-IDF\n",
    "LSVC_ngram_tfidf, LSVC_ngram_tfidf_predictions = ml_classifier_model(LinearSVC(), \n",
    "                                                                     n_gram_tfidf_x_train, n_gram_tfidf_x_val, \n",
    "                                                                     y_train, y_val)\n",
    "\n",
    "acc, precision, recall, f1 = classification_report(y_val, LSVC_ngram_tfidf_predictions)\n",
    "print(\"Validation Accuracy: \", acc)\n",
    "print(\"\\nPrecision: \", precision)\n",
    "print(\"Average Precision: \", np.mean(precision))\n",
    "print(\"\\nRecall: \", recall)\n",
    "print(\"Average nRecall: \", np.mean(recall))\n",
    "print(\"\\nF1-Score: \", f1)\n",
    "print(\"Average F1-Score: \", np.mean(f1))"
   ]
  },
  {
   "cell_type": "code",
   "execution_count": 33,
   "metadata": {},
   "outputs": [
    {
     "name": "stdout",
     "output_type": "stream",
     "text": [
      "Validation Accuracy:  0.8878306878306879\n",
      "\n",
      "Precision:  [0.9154519  0.87352759 0.89874858 0.89206349]\n",
      "Average Precision:  0.8949478883453471\n",
      "\n",
      "Recall:  [0.74761905 0.93621262 0.89265537 0.86907216]\n",
      "Average nRecall:  0.8613898010959643\n",
      "\n",
      "F1-Score:  [0.82306684 0.90378448 0.89569161 0.88041775]\n",
      "Average F1-Score:  0.8757401707977434\n"
     ]
    }
   ],
   "source": [
    "# Linear SVC on character-level TF-IDF\n",
    "LSVC_char_tfidf, LSVC_char_tfidf_predictions = ml_classifier_model(LinearSVC(), \n",
    "                                                                   char_tfidf_x_train, char_tfidf_x_val, \n",
    "                                                                   y_train, y_val)\n",
    "\n",
    "acc, precision, recall, f1 = classification_report(y_val, LSVC_char_tfidf_predictions)\n",
    "print(\"Validation Accuracy: \", acc)\n",
    "print(\"\\nPrecision: \", precision)\n",
    "print(\"Average Precision: \", np.mean(precision))\n",
    "print(\"\\nRecall: \", recall)\n",
    "print(\"Average nRecall: \", np.mean(recall))\n",
    "print(\"\\nF1-Score: \", f1)\n",
    "print(\"Average F1-Score: \", np.mean(f1))"
   ]
  },
  {
   "cell_type": "markdown",
   "metadata": {},
   "source": [
    "## Indic-Word Embedding bassed approach"
   ]
  },
  {
   "cell_type": "code",
   "execution_count": 34,
   "metadata": {},
   "outputs": [
    {
     "name": "stdout",
     "output_type": "stream",
     "text": [
      "Validation Accuracy:  0.792063492063492\n",
      "\n",
      "Precision:  [0.80063291 0.78950507 0.80260047 0.78427205]\n",
      "Average Precision:  0.794252625947511\n",
      "\n",
      "Recall:  [0.60238095 0.87973422 0.76723164 0.76082474]\n",
      "Average nRecall:  0.7525428880840439\n",
      "\n",
      "F1-Score:  [0.6875     0.83218102 0.78451762 0.77237049]\n",
      "Average F1-Score:  0.7691422811891593\n"
     ]
    }
   ],
   "source": [
    "# Linear SVC on Count Vectors based indic fasttext word embeddings\n",
    "LSVC_ft_bow, LSVC_ft_bow_predictions = ml_classifier_model(LinearSVC(max_iter=10000), \n",
    "                                                           ft_bow_x_train, ft_bow_x_val, \n",
    "                                                           y_train, y_val)\n",
    "\n",
    "acc, precision, recall, f1 = classification_report(y_val, LSVC_ft_bow_predictions)\n",
    "print(\"Validation Accuracy: \", acc)\n",
    "print(\"\\nPrecision: \", precision)\n",
    "print(\"Average Precision: \", np.mean(precision))\n",
    "print(\"\\nRecall: \", recall)\n",
    "print(\"Average nRecall: \", np.mean(recall))\n",
    "print(\"\\nF1-Score: \", f1)\n",
    "print(\"Average F1-Score: \", np.mean(f1))"
   ]
  },
  {
   "cell_type": "code",
   "execution_count": 35,
   "metadata": {},
   "outputs": [
    {
     "name": "stdout",
     "output_type": "stream",
     "text": [
      "Total time taken:  454.692336331\n",
      "\n",
      "Validation Accuracy:  0.7767195767195767\n",
      "\n",
      "Precision:  [0.76708075 0.77982196 0.77267373 0.77813853]\n",
      "Average Precision:  0.7744287414353981\n",
      "\n",
      "Recall:  [0.58809524 0.8730897  0.74124294 0.74123711]\n",
      "Average nRecall:  0.7359162475867713\n",
      "\n",
      "F1-Score:  [0.66576819 0.82382445 0.75663206 0.7592397 ]\n",
      "Average F1-Score:  0.7513661036001857\n"
     ]
    }
   ],
   "source": [
    "# Linear SVC on TF-IDF based indic fasttext word embeddings\n",
    "start = process_time()\n",
    "LSVC_ft_tfidf, LSVC_ft_tfidf_predictions = ml_classifier_model(LinearSVC(max_iter=10000), \n",
    "                                                               ft_tfidf_x_train, ft_tfidf_x_val, \n",
    "                                                               y_train, y_val)\n",
    "\n",
    "acc, precision, recall, f1 = classification_report(y_val, LSVC_ft_tfidf_predictions)\n",
    "end = process_time()\n",
    "print(\"Total time taken: \", end-start)\n",
    "print(\"\\nValidation Accuracy: \", acc)\n",
    "print(\"\\nPrecision: \", precision)\n",
    "print(\"Average Precision: \", np.mean(precision))\n",
    "print(\"\\nRecall: \", recall)\n",
    "print(\"Average nRecall: \", np.mean(recall))\n",
    "print(\"\\nF1-Score: \", f1)\n",
    "print(\"Average F1-Score: \", np.mean(f1))"
   ]
  },
  {
   "cell_type": "markdown",
   "metadata": {},
   "source": [
    "## Domain Specific Word Embedding bassed approach"
   ]
  },
  {
   "cell_type": "code",
   "execution_count": 39,
   "metadata": {},
   "outputs": [
    {
     "name": "stdout",
     "output_type": "stream",
     "text": [
      "Total time taken:  127.31809967800007\n",
      "\n",
      "Validation Accuracy:  0.8544973544973545\n",
      "\n",
      "Precision:  [0.89189189 0.84051724 0.88056206 0.84210526]\n",
      "Average Precision:  0.8637691143297567\n",
      "\n",
      "Recall:  [0.70714286 0.90697674 0.84971751 0.84123711]\n",
      "Average nRecall:  0.8262685572138149\n",
      "\n",
      "F1-Score:  [0.78884462 0.87248322 0.86486486 0.84167096]\n",
      "Average F1-Score:  0.8419659180674914\n"
     ]
    }
   ],
   "source": [
    "# Linear SVC on Count Vectors based domain specific word embeddings\n",
    "start = process_time()\n",
    "LSVC_ds_bow, LSVC_ds_bow_predictions = ml_classifier_model(LinearSVC(max_iter=10000), \n",
    "                                                           ds_bow_x_train, ds_bow_x_val, \n",
    "                                                           y_train, y_val)\n",
    "\n",
    "acc, precision, recall, f1 = classification_report(y_val, LSVC_ds_bow_predictions)\n",
    "end = process_time()\n",
    "print(\"Total time taken: \", end-start)\n",
    "print(\"\\nValidation Accuracy: \", acc)\n",
    "print(\"\\nPrecision: \", precision)\n",
    "print(\"Average Precision: \", np.mean(precision))\n",
    "print(\"\\nRecall: \", recall)\n",
    "print(\"Average nRecall: \", np.mean(recall))\n",
    "print(\"\\nF1-Score: \", f1)\n",
    "print(\"Average F1-Score: \", np.mean(f1))"
   ]
  },
  {
   "cell_type": "code",
   "execution_count": 40,
   "metadata": {},
   "outputs": [
    {
     "name": "stdout",
     "output_type": "stream",
     "text": [
      "Total time taken:  663.0182165110001\n",
      "\n",
      "Validation Accuracy:  0.8542328042328042\n",
      "\n",
      "Precision:  [0.89877301 0.82891566 0.88690476 0.85429769]\n",
      "Average Precision:  0.8672227811526673\n",
      "\n",
      "Recall:  [0.69761905 0.91428571 0.84180791 0.84020619]\n",
      "Average nRecall:  0.8234797142690731\n",
      "\n",
      "F1-Score:  [0.78552279 0.86951027 0.86376812 0.84719335]\n",
      "Average F1-Score:  0.8414986299753827\n"
     ]
    },
    {
     "name": "stderr",
     "output_type": "stream",
     "text": [
      "/home/eastwind/anaconda3/lib/python3.8/site-packages/sklearn/svm/_base.py:976: ConvergenceWarning: Liblinear failed to converge, increase the number of iterations.\n",
      "  warnings.warn(\"Liblinear failed to converge, increase \"\n"
     ]
    }
   ],
   "source": [
    "# Linear SVC on TF-IDF based domain specific word embeddings\n",
    "start = process_time()\n",
    "LSVC_ds_tfidf, LSVC_ds_tfidf_predictions = ml_classifier_model(LinearSVC(max_iter=10000), \n",
    "                                                               ds_tfidf_x_train, ds_tfidf_x_val, \n",
    "                                                               y_train, y_val)\n",
    "\n",
    "acc, precision, recall, f1 = classification_report(y_val, LSVC_ds_tfidf_predictions)\n",
    "end = process_time()\n",
    "print(\"Total time taken: \", end-start)\n",
    "print(\"\\nValidation Accuracy: \", acc)\n",
    "print(\"\\nPrecision: \", precision)\n",
    "print(\"Average Precision: \", np.mean(precision))\n",
    "print(\"\\nRecall: \", recall)\n",
    "print(\"Average nRecall: \", np.mean(recall))\n",
    "print(\"\\nF1-Score: \", f1)\n",
    "print(\"Average F1-Score: \", np.mean(f1))"
   ]
  },
  {
   "cell_type": "code",
   "execution_count": 41,
   "metadata": {},
   "outputs": [
    {
     "data": {
      "text/plain": [
       "['../models/linear-svc/LSVC-ds-tfidf.pkl']"
      ]
     },
     "execution_count": 41,
     "metadata": {},
     "output_type": "execute_result"
    }
   ],
   "source": [
    "dump(LSVC_bow, \"../models/linear-svc/LSVC-bow.pkl\")\n",
    "dump(LSVC_char_bow, \"../models/linear-svc/LSVC-char-bow.pkl\")\n",
    "dump(LSVC_tfidf, \"../models/linear-svc/LSVC-tfidf.pkl\")\n",
    "dump(LSVC_ngram_tfidf, \"../models/linear-svc/LSVC-ngram-tfidf.pkl\")\n",
    "dump(LSVC_char_tfidf, \"../models/linear-svc/LSVC-char-tfidf.pkl\")\n",
    "dump(LSVC_ft_bow, \"../models/linear-svc/LSVC-indic-bow.pkl\")\n",
    "dump(LSVC_ft_tfidf, \"../models/linear-svc/LSVC-indic-tfidf.pkl\")\n",
    "dump(LSVC_ds_bow, \"../models/linear-svc/LSVC-ds-bow.pkl\")\n",
    "dump(LSVC_ds_tfidf, \"../models/linear-svc/LSVC-ds-tfidf.pkl\")"
   ]
  },
  {
   "cell_type": "markdown",
   "metadata": {},
   "source": [
    "# K-Nearest Neighbors"
   ]
  },
  {
   "cell_type": "markdown",
   "metadata": {},
   "source": [
    "## Statistical word representation"
   ]
  },
  {
   "cell_type": "code",
   "execution_count": 42,
   "metadata": {},
   "outputs": [
    {
     "name": "stdout",
     "output_type": "stream",
     "text": [
      "Validation Accuracy:  0.4846560846560847\n",
      "\n",
      "Precision:  [0.25619835 0.55561829 0.43559322 0.47159091]\n",
      "Average Precision:  0.42975019282151494\n",
      "\n",
      "Recall:  [0.22142857 0.6538206  0.29039548 0.51340206]\n",
      "Average nRecall:  0.4197616778792187\n",
      "\n",
      "F1-Score:  [0.23754789 0.6007326  0.34847458 0.49160908]\n",
      "Average F1-Score:  0.4195910379147352\n"
     ]
    }
   ],
   "source": [
    "# K-Nearest Neighbors on  Count Vectors\n",
    "knn_bow, knn_bow_predictions = ml_classifier_model(KNeighborsClassifier(n_neighbors=7), \n",
    "                                                   bow_x_train, bow_x_val, \n",
    "                                                   y_train, y_val)\n",
    "\n",
    "acc, precision, recall, f1 = classification_report(y_val, knn_bow_predictions)\n",
    "print(\"Validation Accuracy: \", acc)\n",
    "print(\"\\nPrecision: \", precision)\n",
    "print(\"Average Precision: \", np.mean(precision))\n",
    "print(\"\\nRecall: \", recall)\n",
    "print(\"Average nRecall: \", np.mean(recall))\n",
    "print(\"\\nF1-Score: \", f1)\n",
    "print(\"Average F1-Score: \", np.mean(f1))"
   ]
  },
  {
   "cell_type": "code",
   "execution_count": 43,
   "metadata": {},
   "outputs": [
    {
     "name": "stdout",
     "output_type": "stream",
     "text": [
      "Validation Accuracy:  0.6021164021164022\n",
      "\n",
      "Precision:  [0.53149606 0.62104689 0.64050235 0.56303318]\n",
      "Average Precision:  0.589019621293726\n",
      "\n",
      "Recall:  [0.32142857 0.75681063 0.46101695 0.61237113]\n",
      "Average nRecall:  0.537906821457742\n",
      "\n",
      "F1-Score:  [0.40059347 0.68224019 0.53613666 0.58666667]\n",
      "Average F1-Score:  0.5514092481093438\n"
     ]
    }
   ],
   "source": [
    "# K-Nearest Neighbors on  character level Count Vectors\n",
    "knn_char_bow, knn_char_bow_predictions = ml_classifier_model(KNeighborsClassifier(n_neighbors=7), \n",
    "                                                             char_bow_x_train, char_bow_x_val, \n",
    "                                                             y_train, y_val)\n",
    "\n",
    "acc, precision, recall, f1 = classification_report(y_val, knn_char_bow_predictions)\n",
    "print(\"Validation Accuracy: \", acc)\n",
    "print(\"\\nPrecision: \", precision)\n",
    "print(\"Average Precision: \", np.mean(precision))\n",
    "print(\"\\nRecall: \", recall)\n",
    "print(\"Average nRecall: \", np.mean(recall))\n",
    "print(\"\\nF1-Score: \", f1)\n",
    "print(\"Average F1-Score: \", np.mean(f1))"
   ]
  },
  {
   "cell_type": "code",
   "execution_count": 44,
   "metadata": {},
   "outputs": [
    {
     "name": "stdout",
     "output_type": "stream",
     "text": [
      "Validation Accuracy:  0.753968253968254\n",
      "\n",
      "Precision:  [0.69920844 0.77891374 0.71384615 0.77816492]\n",
      "Average Precision:  0.7425333149108697\n",
      "\n",
      "Recall:  [0.63095238 0.80996678 0.78644068 0.69072165]\n",
      "Average nRecall:  0.7295203714529142\n",
      "\n",
      "F1-Score:  [0.66332916 0.79413681 0.7483871  0.73184052]\n",
      "Average F1-Score:  0.7344233975868143\n"
     ]
    }
   ],
   "source": [
    "# Random Forest on TF-IDF\n",
    "knn_tfidf, knn_tfidf_predictions = ml_classifier_model(KNeighborsClassifier(n_neighbors=7), \n",
    "                                                       tfidf_x_train, tfidf_x_val, \n",
    "                                                       y_train, y_val)\n",
    "\n",
    "acc, precision, recall, f1 = classification_report(y_val, knn_tfidf_predictions)\n",
    "print(\"Validation Accuracy: \", acc)\n",
    "print(\"\\nPrecision: \", precision)\n",
    "print(\"Average Precision: \", np.mean(precision))\n",
    "print(\"\\nRecall: \", recall)\n",
    "print(\"Average nRecall: \", np.mean(recall))\n",
    "print(\"\\nF1-Score: \", f1)\n",
    "print(\"Average F1-Score: \", np.mean(f1))"
   ]
  },
  {
   "cell_type": "code",
   "execution_count": 45,
   "metadata": {},
   "outputs": [
    {
     "name": "stdout",
     "output_type": "stream",
     "text": [
      "Validation Accuracy:  0.47433862433862434\n",
      "\n",
      "Precision:  [0.79061372 0.91377091 0.31631154 0.75      ]\n",
      "Average Precision:  0.692674041954507\n",
      "\n",
      "Recall:  [0.52142857 0.4717608  0.97288136 0.00309278]\n",
      "Average nRecall:  0.49229087705203056\n",
      "\n",
      "F1-Score:  [0.62840746 0.62226117 0.47740505 0.00616016]\n",
      "Average F1-Score:  0.43355846124226016\n"
     ]
    }
   ],
   "source": [
    "# Random Forest on n-gram TF-IDF\n",
    "knn_ngram_tfidf, knn_ngram_tfidf_predictions = ml_classifier_model(KNeighborsClassifier(n_neighbors=7), \n",
    "                                                                   n_gram_tfidf_x_train, n_gram_tfidf_x_val, \n",
    "                                                                   y_train, y_val)\n",
    "\n",
    "acc, precision, recall, f1 = classification_report(y_val, knn_ngram_tfidf_predictions)\n",
    "print(\"Validation Accuracy: \", acc)\n",
    "print(\"\\nPrecision: \", precision)\n",
    "print(\"Average Precision: \", np.mean(precision))\n",
    "print(\"\\nRecall: \", recall)\n",
    "print(\"Average nRecall: \", np.mean(recall))\n",
    "print(\"\\nF1-Score: \", f1)\n",
    "print(\"Average F1-Score: \", np.mean(f1))"
   ]
  },
  {
   "cell_type": "code",
   "execution_count": 46,
   "metadata": {},
   "outputs": [
    {
     "name": "stdout",
     "output_type": "stream",
     "text": [
      "Validation Accuracy:  0.8113756613756614\n",
      "\n",
      "Precision:  [0.81792717 0.82207792 0.81526549 0.78855975]\n",
      "Average Precision:  0.8109575836309557\n",
      "\n",
      "Recall:  [0.6952381  0.84119601 0.83276836 0.79587629]\n",
      "Average nRecall:  0.7912696896922116\n",
      "\n",
      "F1-Score:  [0.75160875 0.83152709 0.82392398 0.79220113]\n",
      "Average F1-Score:  0.7998152384664572\n"
     ]
    }
   ],
   "source": [
    "# Random Forest on character-level TF-IDF\n",
    "knn_char_tfidf, knn_char_tfidf_predictions = ml_classifier_model(KNeighborsClassifier(n_neighbors=7), \n",
    "                                                                 char_tfidf_x_train, char_tfidf_x_val, \n",
    "                                                                 y_train, y_val)\n",
    "\n",
    "acc, precision, recall, f1 = classification_report(y_val, knn_char_tfidf_predictions)\n",
    "print(\"Validation Accuracy: \", acc)\n",
    "print(\"\\nPrecision: \", precision)\n",
    "print(\"Average Precision: \", np.mean(precision))\n",
    "print(\"\\nRecall: \", recall)\n",
    "print(\"Average nRecall: \", np.mean(recall))\n",
    "print(\"\\nF1-Score: \", f1)\n",
    "print(\"Average F1-Score: \", np.mean(f1))"
   ]
  },
  {
   "cell_type": "markdown",
   "metadata": {},
   "source": [
    "## Indic-fasttext Word Embeddings based approach"
   ]
  },
  {
   "cell_type": "code",
   "execution_count": 47,
   "metadata": {
    "scrolled": true
   },
   "outputs": [
    {
     "name": "stdout",
     "output_type": "stream",
     "text": [
      "Validation Accuracy:  0.7304232804232804\n",
      "\n",
      "Precision:  [0.6313253  0.76489028 0.79207921 0.67638758]\n",
      "Average Precision:  0.7161705933928695\n",
      "\n",
      "Recall:  [0.62380952 0.81063123 0.63276836 0.74123711]\n",
      "Average nRecall:  0.7021115570073467\n",
      "\n",
      "F1-Score:  [0.62754491 0.78709677 0.70351759 0.70732907]\n",
      "Average F1-Score:  0.7063720856630717\n"
     ]
    }
   ],
   "source": [
    "# KNN on Indic fasttext embeddings (BoW)\n",
    "knn_bow_indic, knn_bow_indic_predictions = ml_classifier_model(KNeighborsClassifier(n_neighbors=7), \n",
    "                                                                 ft_bow_x_train, ft_bow_x_val, \n",
    "                                                                 y_train, y_val)\n",
    "\n",
    "acc, precision, recall, f1 = classification_report(y_val, knn_bow_indic_predictions)\n",
    "print(\"Validation Accuracy: \", acc)\n",
    "print(\"\\nPrecision: \", precision)\n",
    "print(\"Average Precision: \", np.mean(precision))\n",
    "print(\"\\nRecall: \", recall)\n",
    "print(\"Average nRecall: \", np.mean(recall))\n",
    "print(\"\\nF1-Score: \", f1)\n",
    "print(\"Average F1-Score: \", np.mean(f1))"
   ]
  },
  {
   "cell_type": "code",
   "execution_count": 48,
   "metadata": {},
   "outputs": [
    {
     "name": "stdout",
     "output_type": "stream",
     "text": [
      "Validation Accuracy:  0.7444444444444445\n",
      "\n",
      "Precision:  [0.63636364 0.80601093 0.6904277  0.75469613]\n",
      "Average Precision:  0.7218745991241021\n",
      "\n",
      "Recall:  [0.65       0.78405316 0.76610169 0.70412371]\n",
      "Average nRecall:  0.72606964060041\n",
      "\n",
      "F1-Score:  [0.64310954 0.79488043 0.72629888 0.72853333]\n",
      "Average F1-Score:  0.7232055450729556\n"
     ]
    }
   ],
   "source": [
    "# KNN on Indic fasttext embeddings (TF-IDF)\n",
    "knn_tfidf_indic, knn_tfidf_indic_predictions = ml_classifier_model(KNeighborsClassifier(n_neighbors=7), \n",
    "                                                                 ft_tfidf_x_train, ft_tfidf_x_val, \n",
    "                                                                 y_train, y_val)\n",
    "\n",
    "acc, precision, recall, f1 = classification_report(y_val, knn_tfidf_indic_predictions)\n",
    "print(\"Validation Accuracy: \", acc)\n",
    "print(\"\\nPrecision: \", precision)\n",
    "print(\"Average Precision: \", np.mean(precision))\n",
    "print(\"\\nRecall: \", recall)\n",
    "print(\"Average nRecall: \", np.mean(recall))\n",
    "print(\"\\nF1-Score: \", f1)\n",
    "print(\"Average F1-Score: \", np.mean(f1))"
   ]
  },
  {
   "cell_type": "markdown",
   "metadata": {},
   "source": [
    "## Domain Specific Word Embeddings based approach"
   ]
  },
  {
   "cell_type": "code",
   "execution_count": 49,
   "metadata": {},
   "outputs": [
    {
     "name": "stdout",
     "output_type": "stream",
     "text": [
      "Validation Accuracy:  0.796031746031746\n",
      "\n",
      "Precision:  [0.81615599 0.79409957 0.9222395  0.72198089]\n",
      "Average Precision:  0.8136189867842435\n",
      "\n",
      "Recall:  [0.69761905 0.85847176 0.6700565  0.85670103]\n",
      "Average nRecall:  0.7707120841298415\n",
      "\n",
      "F1-Score:  [0.75224647 0.82503193 0.77617801 0.78359264]\n",
      "Average F1-Score:  0.7842622634408278\n"
     ]
    }
   ],
   "source": [
    "# KNN on Domain Specific fasttext embeddings (BoW)\n",
    "\n",
    "knn_bow_ds, knn_bow_ds_predictions = ml_classifier_model(KNeighborsClassifier(n_neighbors=9), \n",
    "                                                         ds_bow_x_train, ds_bow_x_val, \n",
    "                                                         y_train, y_val)\n",
    "\n",
    "acc, precision, recall, f1 = classification_report(y_val, knn_bow_ds_predictions)\n",
    "\n",
    "print(\"Validation Accuracy: \", acc)\n",
    "print(\"\\nPrecision: \", precision)\n",
    "print(\"Average Precision: \", np.mean(precision))\n",
    "print(\"\\nRecall: \", recall)\n",
    "print(\"Average nRecall: \", np.mean(recall))\n",
    "print(\"\\nF1-Score: \", f1)\n",
    "print(\"Average F1-Score: \", np.mean(f1))"
   ]
  },
  {
   "cell_type": "code",
   "execution_count": 50,
   "metadata": {},
   "outputs": [
    {
     "name": "stdout",
     "output_type": "stream",
     "text": [
      "Validation Accuracy:  0.8026455026455026\n",
      "\n",
      "Precision:  [0.84294872 0.79176755 0.87664042 0.75426945]\n",
      "Average Precision:  0.8164065355227534\n",
      "\n",
      "Recall:  [0.62619048 0.86910299 0.75480226 0.81958763]\n",
      "Average nRecall:  0.767420838744171\n",
      "\n",
      "F1-Score:  [0.71857923 0.82863478 0.81117183 0.78557312]\n",
      "Average F1-Score:  0.785989741230471\n"
     ]
    }
   ],
   "source": [
    "# KNN on Domain Specific fasttext embeddings (TF-IDF)\n",
    "\n",
    "knn_tfidf_ds, knn_tfidf_ds_predictions = ml_classifier_model(KNeighborsClassifier(n_neighbors=9), \n",
    "                                                             ds_tfidf_x_train, ds_tfidf_x_val, \n",
    "                                                             y_train, y_val)\n",
    "\n",
    "acc, precision, recall, f1 = classification_report(y_val, knn_tfidf_ds_predictions)\n",
    "\n",
    "print(\"Validation Accuracy: \", acc)\n",
    "print(\"\\nPrecision: \", precision)\n",
    "print(\"Average Precision: \", np.mean(precision))\n",
    "print(\"\\nRecall: \", recall)\n",
    "print(\"Average nRecall: \", np.mean(recall))\n",
    "print(\"\\nF1-Score: \", f1)\n",
    "print(\"Average F1-Score: \", np.mean(f1))"
   ]
  },
  {
   "cell_type": "code",
   "execution_count": null,
   "metadata": {},
   "outputs": [],
   "source": []
  }
 ],
 "metadata": {
  "kernelspec": {
   "display_name": "Python 3",
   "language": "python",
   "name": "python3"
  },
  "language_info": {
   "codemirror_mode": {
    "name": "ipython",
    "version": 3
   },
   "file_extension": ".py",
   "mimetype": "text/x-python",
   "name": "python",
   "nbconvert_exporter": "python",
   "pygments_lexer": "ipython3",
   "version": "3.8.3"
  }
 },
 "nbformat": 4,
 "nbformat_minor": 4
}
