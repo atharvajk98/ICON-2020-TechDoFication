{
 "cells": [
  {
   "cell_type": "code",
   "execution_count": 1,
   "metadata": {},
   "outputs": [],
   "source": [
    "from data_preprocessing import *\n",
    "from model import ml_classifier_model\n",
    "from sklearn.naive_bayes import MultinomialNB\n",
    "from sklearn.ensemble import RandomForestClassifier\n",
    "from sklearn.svm import LinearSVC, SVC\n",
    "from sklearn.neighbors import KNeighborsClassifier\n",
    "from joblib import dump\n",
    "from time import process_time"
   ]
  },
  {
   "cell_type": "markdown",
   "metadata": {},
   "source": [
    "# Loading Training Data"
   ]
  },
  {
   "cell_type": "code",
   "execution_count": 2,
   "metadata": {},
   "outputs": [
    {
     "data": {
      "text/html": [
       "<div>\n",
       "<style scoped>\n",
       "    .dataframe tbody tr th:only-of-type {\n",
       "        vertical-align: middle;\n",
       "    }\n",
       "\n",
       "    .dataframe tbody tr th {\n",
       "        vertical-align: top;\n",
       "    }\n",
       "\n",
       "    .dataframe thead th {\n",
       "        text-align: right;\n",
       "    }\n",
       "</style>\n",
       "<table border=\"1\" class=\"dataframe\">\n",
       "  <thead>\n",
       "    <tr style=\"text-align: right;\">\n",
       "      <th></th>\n",
       "      <th>text</th>\n",
       "      <th>label</th>\n",
       "    </tr>\n",
       "  </thead>\n",
       "  <tbody>\n",
       "    <tr>\n",
       "      <th>0</th>\n",
       "      <td>प्रा . प्रताप हरिदास : होय , मला वाटते की हा ए...</td>\n",
       "      <td>com_tech</td>\n",
       "    </tr>\n",
       "    <tr>\n",
       "      <th>1</th>\n",
       "      <td>तर , विशिष्ट गोष्टींद्वारे , ठराविक कायद्यांद्...</td>\n",
       "      <td>bioche</td>\n",
       "    </tr>\n",
       "    <tr>\n",
       "      <th>2</th>\n",
       "      <td>- - - - - - - - - - - - - - - - - - - - - - - ...</td>\n",
       "      <td>cse</td>\n",
       "    </tr>\n",
       "    <tr>\n",
       "      <th>3</th>\n",
       "      <td>तर , आपला अर्धा चिन्ह 9 वाजता असेल .</td>\n",
       "      <td>phy</td>\n",
       "    </tr>\n",
       "    <tr>\n",
       "      <th>4</th>\n",
       "      <td>म्हणून , मी असे म्हणालो की जर शेकडो , हजारो कि...</td>\n",
       "      <td>phy</td>\n",
       "    </tr>\n",
       "    <tr>\n",
       "      <th>...</th>\n",
       "      <td>...</td>\n",
       "      <td>...</td>\n",
       "    </tr>\n",
       "    <tr>\n",
       "      <th>41992</th>\n",
       "      <td>जरी आपण डेटा कूटबद्ध केला , तरीही हा मुख्य व्य...</td>\n",
       "      <td>cse</td>\n",
       "    </tr>\n",
       "    <tr>\n",
       "      <th>41993</th>\n",
       "      <td>ते म्हणतात - \" ज्याला पाहण्यासाठी डोळे , ऎकण्य...</td>\n",
       "      <td>com_tech</td>\n",
       "    </tr>\n",
       "    <tr>\n",
       "      <th>41994</th>\n",
       "      <td>प्रथम क्रोनोलॉजिकल , क्रॉनोलॉजी म्हणजे आपल्याल...</td>\n",
       "      <td>com_tech</td>\n",
       "    </tr>\n",
       "    <tr>\n",
       "      <th>41995</th>\n",
       "      <td>त्या थोड्या तपशीलावर येईल , जेणेकरून संपूर्ण ग...</td>\n",
       "      <td>bioche</td>\n",
       "    </tr>\n",
       "    <tr>\n",
       "      <th>41996</th>\n",
       "      <td>आणि एका हॉटेलमध्ये त्यांनी एका स्विस रेस्ट्राम...</td>\n",
       "      <td>com_tech</td>\n",
       "    </tr>\n",
       "  </tbody>\n",
       "</table>\n",
       "<p>41997 rows × 2 columns</p>\n",
       "</div>"
      ],
      "text/plain": [
       "                                                    text     label\n",
       "0      प्रा . प्रताप हरिदास : होय , मला वाटते की हा ए...  com_tech\n",
       "1      तर , विशिष्ट गोष्टींद्वारे , ठराविक कायद्यांद्...    bioche\n",
       "2      - - - - - - - - - - - - - - - - - - - - - - - ...       cse\n",
       "3                   तर , आपला अर्धा चिन्ह 9 वाजता असेल .       phy\n",
       "4      म्हणून , मी असे म्हणालो की जर शेकडो , हजारो कि...       phy\n",
       "...                                                  ...       ...\n",
       "41992  जरी आपण डेटा कूटबद्ध केला , तरीही हा मुख्य व्य...       cse\n",
       "41993  ते म्हणतात - \" ज्याला पाहण्यासाठी डोळे , ऎकण्य...  com_tech\n",
       "41994  प्रथम क्रोनोलॉजिकल , क्रॉनोलॉजी म्हणजे आपल्याल...  com_tech\n",
       "41995  त्या थोड्या तपशीलावर येईल , जेणेकरून संपूर्ण ग...    bioche\n",
       "41996  आणि एका हॉटेलमध्ये त्यांनी एका स्विस रेस्ट्राम...  com_tech\n",
       "\n",
       "[41997 rows x 2 columns]"
      ]
     },
     "execution_count": 2,
     "metadata": {},
     "output_type": "execute_result"
    }
   ],
   "source": [
    "training_path = \"../dataset/original-dataset/marathi-training-data.csv\"\n",
    "train_data = read_data(training_path)\n",
    "train_data"
   ]
  },
  {
   "cell_type": "code",
   "execution_count": 3,
   "metadata": {},
   "outputs": [
    {
     "data": {
      "text/html": [
       "<div>\n",
       "<style scoped>\n",
       "    .dataframe tbody tr th:only-of-type {\n",
       "        vertical-align: middle;\n",
       "    }\n",
       "\n",
       "    .dataframe tbody tr th {\n",
       "        vertical-align: top;\n",
       "    }\n",
       "\n",
       "    .dataframe thead th {\n",
       "        text-align: right;\n",
       "    }\n",
       "</style>\n",
       "<table border=\"1\" class=\"dataframe\">\n",
       "  <thead>\n",
       "    <tr style=\"text-align: right;\">\n",
       "      <th></th>\n",
       "      <th>text</th>\n",
       "      <th>label</th>\n",
       "    </tr>\n",
       "  </thead>\n",
       "  <tbody>\n",
       "    <tr>\n",
       "      <th>0</th>\n",
       "      <td>प्रा प्रताप हरिदास मला वाटते महत्त्वाचा मुद्दा...</td>\n",
       "      <td>com_tech</td>\n",
       "    </tr>\n",
       "    <tr>\n",
       "      <th>1</th>\n",
       "      <td>विशिष्ट गोष्टींद्वारे ठराविक कायद्यांद्वारे वि...</td>\n",
       "      <td>bioche</td>\n",
       "    </tr>\n",
       "    <tr>\n",
       "      <th>2</th>\n",
       "      <td>- - - - - - - - - - - - - - - - - - - - - - - ...</td>\n",
       "      <td>cse</td>\n",
       "    </tr>\n",
       "    <tr>\n",
       "      <th>3</th>\n",
       "      <td>आपला अर्धा चिन्ह [DIGIT] वाजता असेल</td>\n",
       "      <td>phy</td>\n",
       "    </tr>\n",
       "    <tr>\n",
       "      <th>4</th>\n",
       "      <td>म्हणालो जर शेकडो हजारो किंवा लाखो विंडील्स बाह...</td>\n",
       "      <td>phy</td>\n",
       "    </tr>\n",
       "    <tr>\n",
       "      <th>...</th>\n",
       "      <td>...</td>\n",
       "      <td>...</td>\n",
       "    </tr>\n",
       "    <tr>\n",
       "      <th>41992</th>\n",
       "      <td>डेटा कूटबद्ध तरीही मुख्य व्यवस्थापन गोष्टींवर ...</td>\n",
       "      <td>cse</td>\n",
       "    </tr>\n",
       "    <tr>\n",
       "      <th>41993</th>\n",
       "      <td>म्हणतात - ज्याला पाहण्यासाठी डोळे ऎकण्यासाठी क...</td>\n",
       "      <td>com_tech</td>\n",
       "    </tr>\n",
       "    <tr>\n",
       "      <th>41994</th>\n",
       "      <td>प्रथम क्रोनोलॉजिकल क्रॉनोलॉजी आपल्याला अर्थ मा...</td>\n",
       "      <td>com_tech</td>\n",
       "    </tr>\n",
       "    <tr>\n",
       "      <th>41995</th>\n",
       "      <td>थोड्या तपशीलावर येईल जेणेकरून संपूर्ण गोष्टींच...</td>\n",
       "      <td>bioche</td>\n",
       "    </tr>\n",
       "    <tr>\n",
       "      <th>41996</th>\n",
       "      <td>हॉटेलमध्ये त्यांनी स्विस रेस्ट्रामध्ये स्विस र...</td>\n",
       "      <td>com_tech</td>\n",
       "    </tr>\n",
       "  </tbody>\n",
       "</table>\n",
       "<p>41997 rows × 2 columns</p>\n",
       "</div>"
      ],
      "text/plain": [
       "                                                    text     label\n",
       "0      प्रा प्रताप हरिदास मला वाटते महत्त्वाचा मुद्दा...  com_tech\n",
       "1      विशिष्ट गोष्टींद्वारे ठराविक कायद्यांद्वारे वि...    bioche\n",
       "2      - - - - - - - - - - - - - - - - - - - - - - - ...       cse\n",
       "3                    आपला अर्धा चिन्ह [DIGIT] वाजता असेल       phy\n",
       "4      म्हणालो जर शेकडो हजारो किंवा लाखो विंडील्स बाह...       phy\n",
       "...                                                  ...       ...\n",
       "41992  डेटा कूटबद्ध तरीही मुख्य व्यवस्थापन गोष्टींवर ...       cse\n",
       "41993  म्हणतात - ज्याला पाहण्यासाठी डोळे ऎकण्यासाठी क...  com_tech\n",
       "41994  प्रथम क्रोनोलॉजिकल क्रॉनोलॉजी आपल्याला अर्थ मा...  com_tech\n",
       "41995  थोड्या तपशीलावर येईल जेणेकरून संपूर्ण गोष्टींच...    bioche\n",
       "41996  हॉटेलमध्ये त्यांनी स्विस रेस्ट्रामध्ये स्विस र...  com_tech\n",
       "\n",
       "[41997 rows x 2 columns]"
      ]
     },
     "execution_count": 3,
     "metadata": {},
     "output_type": "execute_result"
    }
   ],
   "source": [
    "train_data['text'] = train_data['text'].apply(lambda x: preprocess_data(x))\n",
    "train_data"
   ]
  },
  {
   "cell_type": "code",
   "execution_count": 4,
   "metadata": {},
   "outputs": [
    {
     "data": {
      "text/plain": [
       "com_tech    17995\n",
       "phy          9656\n",
       "cse          9344\n",
       "bioche       5002\n",
       "Name: label, dtype: int64"
      ]
     },
     "execution_count": 4,
     "metadata": {},
     "output_type": "execute_result"
    }
   ],
   "source": [
    "train_data.label.value_counts()"
   ]
  },
  {
   "cell_type": "code",
   "execution_count": 5,
   "metadata": {},
   "outputs": [
    {
     "name": "stdout",
     "output_type": "stream",
     "text": [
      "41997\n",
      "41997\n"
     ]
    }
   ],
   "source": [
    "x_train = train_data.text.values.tolist()\n",
    "y_train = train_data.label.values.tolist()\n",
    "print(len(x_train))\n",
    "print(len(y_train))"
   ]
  },
  {
   "cell_type": "markdown",
   "metadata": {},
   "source": [
    "# loading Validation Data"
   ]
  },
  {
   "cell_type": "code",
   "execution_count": 6,
   "metadata": {},
   "outputs": [
    {
     "data": {
      "text/html": [
       "<div>\n",
       "<style scoped>\n",
       "    .dataframe tbody tr th:only-of-type {\n",
       "        vertical-align: middle;\n",
       "    }\n",
       "\n",
       "    .dataframe tbody tr th {\n",
       "        vertical-align: top;\n",
       "    }\n",
       "\n",
       "    .dataframe thead th {\n",
       "        text-align: right;\n",
       "    }\n",
       "</style>\n",
       "<table border=\"1\" class=\"dataframe\">\n",
       "  <thead>\n",
       "    <tr style=\"text-align: right;\">\n",
       "      <th></th>\n",
       "      <th>text</th>\n",
       "      <th>label</th>\n",
       "    </tr>\n",
       "  </thead>\n",
       "  <tbody>\n",
       "    <tr>\n",
       "      <th>0</th>\n",
       "      <td>1 ची ओळ .</td>\n",
       "      <td>cse</td>\n",
       "    </tr>\n",
       "    <tr>\n",
       "      <th>1</th>\n",
       "      <td>तर , ही एक टॉवर आहे जी टॉवरवर निश्चित केली जात...</td>\n",
       "      <td>phy</td>\n",
       "    </tr>\n",
       "    <tr>\n",
       "      <th>2</th>\n",
       "      <td>तर , थ्रेडच्या परतीच्या स्थितीस पास करण्यासाठी...</td>\n",
       "      <td>cse</td>\n",
       "    </tr>\n",
       "    <tr>\n",
       "      <th>3</th>\n",
       "      <td>आपण लोक शोधत आहात जे आपल्यासाठी काहीतरी करू शक...</td>\n",
       "      <td>com_tech</td>\n",
       "    </tr>\n",
       "    <tr>\n",
       "      <th>4</th>\n",
       "      <td>लिनक्स कर्नल अनुसूचीतकरणामध्ये अशी तंत्र असण्य...</td>\n",
       "      <td>cse</td>\n",
       "    </tr>\n",
       "    <tr>\n",
       "      <th>...</th>\n",
       "      <td>...</td>\n",
       "      <td>...</td>\n",
       "    </tr>\n",
       "    <tr>\n",
       "      <th>3775</th>\n",
       "      <td>नंतर वृद्धत्व , व्हॉट मोठ्या प्रमाणात फ्रॉन 12...</td>\n",
       "      <td>bioche</td>\n",
       "    </tr>\n",
       "    <tr>\n",
       "      <th>3776</th>\n",
       "      <td>आणि मग सुद्धा आपल्याला काही सेकंदांनंतर माहित ...</td>\n",
       "      <td>phy</td>\n",
       "    </tr>\n",
       "    <tr>\n",
       "      <th>3777</th>\n",
       "      <td>तर , आपण ELF शीर्षलेखासह प्रारंभ करू .</td>\n",
       "      <td>cse</td>\n",
       "    </tr>\n",
       "    <tr>\n",
       "      <th>3778</th>\n",
       "      <td>तर , त्या क्रॉस्टची जाडी आहे .</td>\n",
       "      <td>phy</td>\n",
       "    </tr>\n",
       "    <tr>\n",
       "      <th>3779</th>\n",
       "      <td>तर , मला वाटते की ही माहिती अशी आहे की आपण एका...</td>\n",
       "      <td>phy</td>\n",
       "    </tr>\n",
       "  </tbody>\n",
       "</table>\n",
       "<p>3780 rows × 2 columns</p>\n",
       "</div>"
      ],
      "text/plain": [
       "                                                   text     label\n",
       "0                                             1 ची ओळ .       cse\n",
       "1     तर , ही एक टॉवर आहे जी टॉवरवर निश्चित केली जात...       phy\n",
       "2     तर , थ्रेडच्या परतीच्या स्थितीस पास करण्यासाठी...       cse\n",
       "3     आपण लोक शोधत आहात जे आपल्यासाठी काहीतरी करू शक...  com_tech\n",
       "4     लिनक्स कर्नल अनुसूचीतकरणामध्ये अशी तंत्र असण्य...       cse\n",
       "...                                                 ...       ...\n",
       "3775  नंतर वृद्धत्व , व्हॉट मोठ्या प्रमाणात फ्रॉन 12...    bioche\n",
       "3776  आणि मग सुद्धा आपल्याला काही सेकंदांनंतर माहित ...       phy\n",
       "3777             तर , आपण ELF शीर्षलेखासह प्रारंभ करू .       cse\n",
       "3778                     तर , त्या क्रॉस्टची जाडी आहे .       phy\n",
       "3779  तर , मला वाटते की ही माहिती अशी आहे की आपण एका...       phy\n",
       "\n",
       "[3780 rows x 2 columns]"
      ]
     },
     "execution_count": 6,
     "metadata": {},
     "output_type": "execute_result"
    }
   ],
   "source": [
    "val_path = \"../dataset/original-dataset/marathi-validation-data.csv\"\n",
    "val_data = read_data(val_path)\n",
    "val_data"
   ]
  },
  {
   "cell_type": "code",
   "execution_count": 7,
   "metadata": {},
   "outputs": [
    {
     "data": {
      "text/html": [
       "<div>\n",
       "<style scoped>\n",
       "    .dataframe tbody tr th:only-of-type {\n",
       "        vertical-align: middle;\n",
       "    }\n",
       "\n",
       "    .dataframe tbody tr th {\n",
       "        vertical-align: top;\n",
       "    }\n",
       "\n",
       "    .dataframe thead th {\n",
       "        text-align: right;\n",
       "    }\n",
       "</style>\n",
       "<table border=\"1\" class=\"dataframe\">\n",
       "  <thead>\n",
       "    <tr style=\"text-align: right;\">\n",
       "      <th></th>\n",
       "      <th>text</th>\n",
       "      <th>label</th>\n",
       "    </tr>\n",
       "  </thead>\n",
       "  <tbody>\n",
       "    <tr>\n",
       "      <th>0</th>\n",
       "      <td>[DIGIT] ची ओळ</td>\n",
       "      <td>cse</td>\n",
       "    </tr>\n",
       "    <tr>\n",
       "      <th>1</th>\n",
       "      <td>टॉवर टॉवरवर निश्चित जाते नखेला जोडली जाते नंतर...</td>\n",
       "      <td>phy</td>\n",
       "    </tr>\n",
       "    <tr>\n",
       "      <th>2</th>\n",
       "      <td>थ्रेडच्या परतीच्या स्थितीस पास करण्यासाठी पर्थ...</td>\n",
       "      <td>cse</td>\n",
       "    </tr>\n",
       "    <tr>\n",
       "      <th>3</th>\n",
       "      <td>लोक शोधत आहात आपल्यासाठी काहीतरी करू शकतात</td>\n",
       "      <td>com_tech</td>\n",
       "    </tr>\n",
       "    <tr>\n",
       "      <th>4</th>\n",
       "      <td>लिनक्स कर्नल अनुसूचीतकरणामध्ये तंत्र असण्याचे ...</td>\n",
       "      <td>cse</td>\n",
       "    </tr>\n",
       "    <tr>\n",
       "      <th>...</th>\n",
       "      <td>...</td>\n",
       "      <td>...</td>\n",
       "    </tr>\n",
       "    <tr>\n",
       "      <th>3775</th>\n",
       "      <td>नंतर वृद्धत्व व्हॉट मोठ्या प्रमाणात फ्रॉन [DIG...</td>\n",
       "      <td>bioche</td>\n",
       "    </tr>\n",
       "    <tr>\n",
       "      <th>3776</th>\n",
       "      <td>सुद्धा आपल्याला सेकंदांनंतर माहित असेल जमिनीवर...</td>\n",
       "      <td>phy</td>\n",
       "    </tr>\n",
       "    <tr>\n",
       "      <th>3777</th>\n",
       "      <td>elf शीर्षलेखासह प्रारंभ करू</td>\n",
       "      <td>cse</td>\n",
       "    </tr>\n",
       "    <tr>\n",
       "      <th>3778</th>\n",
       "      <td>क्रॉस्टची जाडी</td>\n",
       "      <td>phy</td>\n",
       "    </tr>\n",
       "    <tr>\n",
       "      <th>3779</th>\n",
       "      <td>मला वाटते माहिती क्षणाबद्दल विचार पाहिजे त्याव...</td>\n",
       "      <td>phy</td>\n",
       "    </tr>\n",
       "  </tbody>\n",
       "</table>\n",
       "<p>3780 rows × 2 columns</p>\n",
       "</div>"
      ],
      "text/plain": [
       "                                                   text     label\n",
       "0                                         [DIGIT] ची ओळ       cse\n",
       "1     टॉवर टॉवरवर निश्चित जाते नखेला जोडली जाते नंतर...       phy\n",
       "2     थ्रेडच्या परतीच्या स्थितीस पास करण्यासाठी पर्थ...       cse\n",
       "3            लोक शोधत आहात आपल्यासाठी काहीतरी करू शकतात  com_tech\n",
       "4     लिनक्स कर्नल अनुसूचीतकरणामध्ये तंत्र असण्याचे ...       cse\n",
       "...                                                 ...       ...\n",
       "3775  नंतर वृद्धत्व व्हॉट मोठ्या प्रमाणात फ्रॉन [DIG...    bioche\n",
       "3776  सुद्धा आपल्याला सेकंदांनंतर माहित असेल जमिनीवर...       phy\n",
       "3777                        elf शीर्षलेखासह प्रारंभ करू       cse\n",
       "3778                                     क्रॉस्टची जाडी       phy\n",
       "3779  मला वाटते माहिती क्षणाबद्दल विचार पाहिजे त्याव...       phy\n",
       "\n",
       "[3780 rows x 2 columns]"
      ]
     },
     "execution_count": 7,
     "metadata": {},
     "output_type": "execute_result"
    }
   ],
   "source": [
    "val_data['text'] = val_data['text'].apply(lambda x: preprocess_data(x))\n",
    "val_data"
   ]
  },
  {
   "cell_type": "code",
   "execution_count": 8,
   "metadata": {},
   "outputs": [
    {
     "data": {
      "text/plain": [
       "com_tech    1505\n",
       "phy          970\n",
       "cse          885\n",
       "bioche       420\n",
       "Name: label, dtype: int64"
      ]
     },
     "execution_count": 8,
     "metadata": {},
     "output_type": "execute_result"
    }
   ],
   "source": [
    "val_data.label.value_counts()"
   ]
  },
  {
   "cell_type": "code",
   "execution_count": 9,
   "metadata": {},
   "outputs": [
    {
     "name": "stdout",
     "output_type": "stream",
     "text": [
      "3780\n",
      "3780\n"
     ]
    }
   ],
   "source": [
    "x_val = val_data.text.values.tolist()\n",
    "y_val = val_data.label.values.tolist()\n",
    "print(len(x_val))\n",
    "print(len(y_val))"
   ]
  },
  {
   "cell_type": "markdown",
   "metadata": {},
   "source": [
    "# Computing the BoW and TF-IDF representation"
   ]
  },
  {
   "cell_type": "code",
   "execution_count": 48,
   "metadata": {},
   "outputs": [
    {
     "data": {
      "text/plain": [
       "51775"
      ]
     },
     "execution_count": 48,
     "metadata": {},
     "output_type": "execute_result"
    }
   ],
   "source": [
    "bow_vectorizer, bow_x_train, bow_x_val = bow_vectorize(x_train, x_val, min_df=1)\n",
    "len(bow_vectorizer.vocabulary_)"
   ]
  },
  {
   "cell_type": "code",
   "execution_count": 49,
   "metadata": {},
   "outputs": [
    {
     "data": {
      "text/plain": [
       "51775"
      ]
     },
     "execution_count": 49,
     "metadata": {},
     "output_type": "execute_result"
    }
   ],
   "source": [
    "tfidf_vectorizer, tfidf_x_train, tfidf_x_val = tfidf_vectorize(x_train, x_val, min_df=1)\n",
    "len(tfidf_vectorizer.vocabulary_)"
   ]
  },
  {
   "cell_type": "code",
   "execution_count": 50,
   "metadata": {},
   "outputs": [
    {
     "data": {
      "text/plain": [
       "356722"
      ]
     },
     "execution_count": 50,
     "metadata": {},
     "output_type": "execute_result"
    }
   ],
   "source": [
    "n_gram_tfidf_vectorizer, n_gram_tfidf_x_train, n_gram_tfidf_x_val = n_gram_tfidf_vectorize(x_train, x_val, min_df=1)\n",
    "len(n_gram_tfidf_vectorizer.vocabulary_)"
   ]
  },
  {
   "cell_type": "code",
   "execution_count": 51,
   "metadata": {},
   "outputs": [
    {
     "data": {
      "text/plain": [
       "27521"
      ]
     },
     "execution_count": 51,
     "metadata": {},
     "output_type": "execute_result"
    }
   ],
   "source": [
    "char_tfidf_vectorizer, char_tfidf_x_train, char_tfidf_x_val = char_tfidf_vectorize(x_train, x_val)\n",
    "len(char_tfidf_vectorizer.vocabulary_)"
   ]
  },
  {
   "cell_type": "code",
   "execution_count": 45,
   "metadata": {},
   "outputs": [
    {
     "data": {
      "text/plain": [
       "['../tokenizers/char_tfidf_vectorizer_min_df_2.pk1']"
      ]
     },
     "execution_count": 45,
     "metadata": {},
     "output_type": "execute_result"
    }
   ],
   "source": [
    "dump(bow_vectorizer, \"../tokenizers/bow_vectorizer_min_df_1.pk1\")\n",
    "dump(tfidf_vectorizer, \"../tokenizers/tfidf_vectorizer_min_df_1.pk1\")\n",
    "dump(n_gram_tfidf_vectorizer, \"../tokenizers/n_gram_tfidf_vectorizer_min_df_1.pk1\")\n",
    "dump(char_tfidf_vectorizer, \"../tokenizers/char_tfidf_vectorizer_min_df_1.pk1\")"
   ]
  },
  {
   "cell_type": "code",
   "execution_count": 14,
   "metadata": {},
   "outputs": [],
   "source": [
    "integer_y_train, integer_y_val = label_encoder(y_train, y_val)"
   ]
  },
  {
   "cell_type": "markdown",
   "metadata": {},
   "source": [
    "# Computing Word Embedding Representation"
   ]
  },
  {
   "cell_type": "code",
   "execution_count": 52,
   "metadata": {},
   "outputs": [],
   "source": [
    "vocab = bow_vectorizer.vocabulary_"
   ]
  },
  {
   "cell_type": "code",
   "execution_count": 53,
   "metadata": {},
   "outputs": [],
   "source": [
    "def get_embedding_matrix(embedding_path, vocab):\n",
    "    cnt = 0\n",
    "    vocab_words = set(vocab.keys())\n",
    "    embedding_matrix = np.zeros((len(vocab), 300))\n",
    "    embedding_file = open(embedding_path, 'r')\n",
    "    for row in embedding_file:\n",
    "        row = row.split()\n",
    "        word = row[0].strip()\n",
    "        if word in vocab_words:\n",
    "            wv = np.asarray(row[1:], dtype='float32')\n",
    "            if len(wv) == 300:\n",
    "                embedding_matrix[vocab[word]] = wv\n",
    "                cnt = cnt + 1\n",
    "    print(cnt)\n",
    "    embedding_file.close()\n",
    "    return embedding_matrix"
   ]
  },
  {
   "cell_type": "code",
   "execution_count": 54,
   "metadata": {},
   "outputs": [],
   "source": [
    "def get_sentence_embedding(embedding_matrix, corpus, option='bow'):\n",
    "    all_sentence_embeddings = []\n",
    "    if option == 'bow':\n",
    "        for row in corpus:\n",
    "            sentence_embedding = np.zeros(300)\n",
    "            for loc, value in list(zip(row.indices, row.data)):\n",
    "                sentence_embedding = sentence_embedding + value*embedding_matrix[loc]\n",
    "            if row.data.shape[0] != 0:\n",
    "                sentence_embedding = sentence_embedding/row.data.shape[0]\n",
    "            all_sentence_embeddings.append(sentence_embedding)\n",
    "        all_sentence_embeddings = np.array([np.array(x) for x in all_sentence_embeddings])\n",
    "        return all_sentence_embeddings\n",
    "        \n",
    "    elif option == 'tfidf':\n",
    "        for row in corpus:\n",
    "            sentence_embedding = np.zeros(300)\n",
    "            for loc, value in list(zip(row.indices, row.data)):\n",
    "                sentence_embedding = sentence_embedding + value*embedding_matrix[loc]\n",
    "            all_sentence_embeddings.append(sentence_embedding)\n",
    "        all_sentence_embeddings = np.array([np.array(x) for x in all_sentence_embeddings])\n",
    "        return all_sentence_embeddings\n",
    "    \n",
    "    else:\n",
    "        print(\"Invalid option\")\n",
    "        return text"
   ]
  },
  {
   "cell_type": "markdown",
   "metadata": {},
   "source": [
    "# Official Fasttext Marathi Word Embeddings"
   ]
  },
  {
   "cell_type": "code",
   "execution_count": 55,
   "metadata": {},
   "outputs": [
    {
     "name": "stdout",
     "output_type": "stream",
     "text": [
      "32696\n",
      "Total time taken:  17.543095697999888\n"
     ]
    },
    {
     "data": {
      "text/plain": [
       "(51775, 300)"
      ]
     },
     "execution_count": 55,
     "metadata": {},
     "output_type": "execute_result"
    }
   ],
   "source": [
    "start = process_time()\n",
    "embedding_path1 = \"/home/eastwind/word-embeddings/fasttext/cc.mr.300.vec\"\n",
    "embedding_matrix1 = get_embedding_matrix(embedding_path1, vocab)\n",
    "end = process_time()\n",
    "print(\"Total time taken: \", end-start)\n",
    "embedding_matrix1.shape"
   ]
  },
  {
   "cell_type": "code",
   "execution_count": 56,
   "metadata": {},
   "outputs": [
    {
     "name": "stdout",
     "output_type": "stream",
     "text": [
      "(41997, 300)\n",
      "(3780, 300)\n"
     ]
    }
   ],
   "source": [
    "ft_bow_x_train = get_sentence_embedding(embedding_matrix1, bow_x_train, 'bow')\n",
    "ft_bow_x_val = get_sentence_embedding(embedding_matrix1, bow_x_val, 'bow')\n",
    "print(ft_bow_x_train.shape)\n",
    "print(ft_bow_x_val.shape)"
   ]
  },
  {
   "cell_type": "code",
   "execution_count": 57,
   "metadata": {},
   "outputs": [
    {
     "name": "stdout",
     "output_type": "stream",
     "text": [
      "(41997, 300)\n",
      "(3780, 300)\n"
     ]
    }
   ],
   "source": [
    "ft_tfidf_x_train = get_sentence_embedding(embedding_matrix1, tfidf_x_train, 'tfidf')\n",
    "ft_tfidf_x_val = get_sentence_embedding(embedding_matrix1, tfidf_x_val, 'tfidf')\n",
    "print(ft_tfidf_x_train.shape)\n",
    "print(ft_tfidf_x_val.shape)"
   ]
  },
  {
   "cell_type": "markdown",
   "metadata": {},
   "source": [
    "# Ai4Bharat Indic-Fasttext Marathi Word Embeddings"
   ]
  },
  {
   "cell_type": "code",
   "execution_count": 58,
   "metadata": {},
   "outputs": [
    {
     "name": "stdout",
     "output_type": "stream",
     "text": [
      "29203\n",
      "Total time taken:  7.498510450999902\n"
     ]
    },
    {
     "data": {
      "text/plain": [
       "(51775, 300)"
      ]
     },
     "execution_count": 58,
     "metadata": {},
     "output_type": "execute_result"
    }
   ],
   "source": [
    "start = process_time()\n",
    "embedding_path2 = \"/home/eastwind/word-embeddings/fasttext/indicnlp.ft.mr.300.vec\"\n",
    "embedding_matrix2 = get_embedding_matrix(embedding_path2, vocab)\n",
    "end = process_time()\n",
    "print(\"Total time taken: \", end-start)\n",
    "embedding_matrix2.shape"
   ]
  },
  {
   "cell_type": "code",
   "execution_count": 59,
   "metadata": {},
   "outputs": [
    {
     "name": "stdout",
     "output_type": "stream",
     "text": [
      "(41997, 300)\n",
      "(3780, 300)\n"
     ]
    }
   ],
   "source": [
    "indic_ft_bow_x_train = get_sentence_embedding(embedding_matrix2, bow_x_train, 'bow')\n",
    "indic_ft_bow_x_val = get_sentence_embedding(embedding_matrix2, bow_x_val, 'bow')\n",
    "print(indic_ft_bow_x_train.shape)\n",
    "print(indic_ft_bow_x_val.shape)"
   ]
  },
  {
   "cell_type": "code",
   "execution_count": 60,
   "metadata": {},
   "outputs": [
    {
     "name": "stdout",
     "output_type": "stream",
     "text": [
      "(41997, 300)\n",
      "(3780, 300)\n"
     ]
    }
   ],
   "source": [
    "indic_ft_tfidf_x_train = get_sentence_embedding(embedding_matrix2, tfidf_x_train, 'tfidf')\n",
    "indic_ft_tfidf_x_val = get_sentence_embedding(embedding_matrix2, tfidf_x_val, 'tfidf')\n",
    "print(indic_ft_tfidf_x_train.shape)\n",
    "print(indic_ft_tfidf_x_val.shape)"
   ]
  },
  {
   "cell_type": "markdown",
   "metadata": {},
   "source": [
    "# Multinomial Naive Bayes"
   ]
  },
  {
   "cell_type": "code",
   "execution_count": 61,
   "metadata": {
    "scrolled": true
   },
   "outputs": [
    {
     "name": "stdout",
     "output_type": "stream",
     "text": [
      "Naive Bayes, Count Vectors Accuracy:  0.8629629629629629\n",
      "Naive Bayes, Count Vectors F1-Score:  [0.79566982 0.87232704 0.88276671 0.85581395]\n"
     ]
    }
   ],
   "source": [
    "# Naive Bayes on Count Vectors\n",
    "NB_bow, NB_bow_accuracy, NB_bow_f1 = ml_classifier_model(MultinomialNB(), \n",
    "                                                         bow_x_train, bow_x_val, \n",
    "                                                         integer_y_train, integer_y_val)\n",
    "print(\"Naive Bayes, Count Vectors Accuracy: \", NB_bow_accuracy)\n",
    "print(\"Naive Bayes, Count Vectors F1-Score: \", NB_bow_f1)"
   ]
  },
  {
   "cell_type": "code",
   "execution_count": 1,
   "metadata": {},
   "outputs": [
    {
     "data": {
      "text/plain": [
       "0.85164438"
      ]
     },
     "execution_count": 1,
     "metadata": {},
     "output_type": "execute_result"
    }
   ],
   "source": [
    "(0.79566982+0.87232704+0.88276671+0.85581395)/4"
   ]
  },
  {
   "cell_type": "code",
   "execution_count": 62,
   "metadata": {},
   "outputs": [
    {
     "name": "stdout",
     "output_type": "stream",
     "text": [
      "Naive Bayes, TF-IDF Vectors Accuracy:  0.7849206349206349\n",
      "Naive Bayes, TF-IDF Vectors F1-Score:  [0.56164384 0.80538018 0.81853282 0.78695897]\n"
     ]
    }
   ],
   "source": [
    "# Naive Bayes on TF-IDF\n",
    "NB_tfidf, NB_tfidf_accuracy, NB_tfidf_f1 = ml_classifier_model(MultinomialNB(), \n",
    "                                                               tfidf_x_train, tfidf_x_val, \n",
    "                                                               integer_y_train, integer_y_val)\n",
    "print(\"Naive Bayes, TF-IDF Vectors Accuracy: \", NB_tfidf_accuracy)\n",
    "print(\"Naive Bayes, TF-IDF Vectors F1-Score: \", NB_tfidf_f1)"
   ]
  },
  {
   "cell_type": "code",
   "execution_count": 4,
   "metadata": {},
   "outputs": [
    {
     "data": {
      "text/plain": [
       "0.7431289525000001"
      ]
     },
     "execution_count": 4,
     "metadata": {},
     "output_type": "execute_result"
    }
   ],
   "source": [
    "(0.56164384+0.80538018+0.81853282+0.78695897)/4"
   ]
  },
  {
   "cell_type": "code",
   "execution_count": 63,
   "metadata": {},
   "outputs": [
    {
     "name": "stdout",
     "output_type": "stream",
     "text": [
      "Naive Bayes, n-gram TF-IDF Vectors Accuracy:  0.6513227513227513\n",
      "Naive Bayes, n-gram TF-IDF Vectors F1-Score:  [0.29208925 0.70304748 0.65473527 0.62022773]\n"
     ]
    }
   ],
   "source": [
    "# Naive Bayes on n-gram TF-IDF\n",
    "NB_ngram_tfidf, NB_ngram_tfidf_accuracy, NB_ngram_tfidf_f1 = ml_classifier_model(MultinomialNB(), \n",
    "                                                                                 n_gram_tfidf_x_train, n_gram_tfidf_x_val, \n",
    "                                                                                 integer_y_train, integer_y_val)\n",
    "print(\"Naive Bayes, n-gram TF-IDF Vectors Accuracy: \", NB_ngram_tfidf_accuracy)\n",
    "print(\"Naive Bayes, n-gram TF-IDF Vectors F1-Score: \", NB_ngram_tfidf_f1)"
   ]
  },
  {
   "cell_type": "code",
   "execution_count": 3,
   "metadata": {},
   "outputs": [
    {
     "data": {
      "text/plain": [
       "0.5675249325"
      ]
     },
     "execution_count": 3,
     "metadata": {},
     "output_type": "execute_result"
    }
   ],
   "source": [
    "(0.29208925+0.70304748+0.65473527+0.62022773)/4"
   ]
  },
  {
   "cell_type": "code",
   "execution_count": 64,
   "metadata": {},
   "outputs": [
    {
     "name": "stdout",
     "output_type": "stream",
     "text": [
      "Naive Bayes, character-level TF-IDF Vectors Accuracy:  0.7753968253968254\n",
      "Naive Bayes, character-level TF-IDF Vectors F1-Score:  [0.61363636 0.79763912 0.79646018 0.76829268]\n"
     ]
    }
   ],
   "source": [
    "# Naive Bayes on character-level TF-IDF\n",
    "NB_char_tfidf, NB_char_tfidf_accuracy, NB_char_tfidf_f1 = ml_classifier_model(MultinomialNB(), \n",
    "                                                                              char_tfidf_x_train, char_tfidf_x_val, \n",
    "                                                                              integer_y_train, integer_y_val)\n",
    "print(\"Naive Bayes, character-level TF-IDF Vectors Accuracy: \", NB_char_tfidf_accuracy)\n",
    "print(\"Naive Bayes, character-level TF-IDF Vectors F1-Score: \", NB_char_tfidf_f1)"
   ]
  },
  {
   "cell_type": "code",
   "execution_count": 2,
   "metadata": {},
   "outputs": [
    {
     "data": {
      "text/plain": [
       "0.744007085"
      ]
     },
     "execution_count": 2,
     "metadata": {},
     "output_type": "execute_result"
    }
   ],
   "source": [
    "(0.61363636+0.79763912+0.79646018+0.76829268)/4"
   ]
  },
  {
   "cell_type": "code",
   "execution_count": 46,
   "metadata": {},
   "outputs": [
    {
     "data": {
      "text/plain": [
       "['../models/naive-bayes/NB_char_tfidf_min_df_2.pk1']"
      ]
     },
     "execution_count": 46,
     "metadata": {},
     "output_type": "execute_result"
    }
   ],
   "source": [
    "dump(NB_bow, \"../models/naive-bayes/NB_bow_min_df_1.pk1\")\n",
    "dump(NB_tfidf, \"../models/naive-bayes/NB_tfidf_min_df_1.pk1\")\n",
    "dump(NB_ngram_tfidf, \"../models/naive-bayes/NB_ngram_tfidf_min_df_1.pk1\")\n",
    "dump(NB_char_tfidf, \"../models/naive-bayes/NB_char_tfidf_min_df_1.pk1\")"
   ]
  },
  {
   "cell_type": "markdown",
   "metadata": {},
   "source": [
    "# Linear SVC"
   ]
  },
  {
   "cell_type": "markdown",
   "metadata": {},
   "source": [
    "## Statsitical word representation approach"
   ]
  },
  {
   "cell_type": "code",
   "execution_count": 65,
   "metadata": {},
   "outputs": [
    {
     "name": "stdout",
     "output_type": "stream",
     "text": [
      "Linear SVC, Count Vectors Accuracy:  0.8391534391534392\n",
      "Linear SVC, Count Vectors F1-Score:  [0.77835052 0.85308363 0.84911073 0.83230453]\n"
     ]
    },
    {
     "name": "stderr",
     "output_type": "stream",
     "text": [
      "/home/eastwind/anaconda3/lib/python3.8/site-packages/sklearn/svm/_base.py:976: ConvergenceWarning: Liblinear failed to converge, increase the number of iterations.\n",
      "  warnings.warn(\"Liblinear failed to converge, increase \"\n"
     ]
    }
   ],
   "source": [
    "# Linear SVC on Count Vectors\n",
    "LSVC_bow, LSVC_bow_accuracy, LSVC_bow_f1 = ml_classifier_model(LinearSVC(max_iter=2000), \n",
    "                                                               bow_x_train, bow_x_val, \n",
    "                                                               integer_y_train, integer_y_val)\n",
    "print(\"Linear SVC, Count Vectors Accuracy: \", LSVC_bow_accuracy)\n",
    "print(\"Linear SVC, Count Vectors F1-Score: \", LSVC_bow_f1)"
   ]
  },
  {
   "cell_type": "code",
   "execution_count": 5,
   "metadata": {},
   "outputs": [
    {
     "data": {
      "text/plain": [
       "0.8282123525"
      ]
     },
     "execution_count": 5,
     "metadata": {},
     "output_type": "execute_result"
    }
   ],
   "source": [
    "(0.77835052+0.85308363+0.84911073+0.83230453)/4"
   ]
  },
  {
   "cell_type": "code",
   "execution_count": 66,
   "metadata": {},
   "outputs": [
    {
     "name": "stdout",
     "output_type": "stream",
     "text": [
      "Linear SVC, TF-IDF Vectors Accuracy:  0.8653439153439153\n",
      "Linear SVC, TF-IDF Vectors F1-Score:  [0.81095176 0.87769328 0.87804878 0.85535248]\n"
     ]
    }
   ],
   "source": [
    "# Linear SVC on TF-IDF\n",
    "LSVC_tfidf, LSVC_tfidf_accuracy, LSVC_tfidf_f1 = ml_classifier_model(LinearSVC(), \n",
    "                                                                     tfidf_x_train, tfidf_x_val, \n",
    "                                                                     integer_y_train, integer_y_val)\n",
    "print(\"Linear SVC, TF-IDF Vectors Accuracy: \", LSVC_tfidf_accuracy)\n",
    "print(\"Linear SVC, TF-IDF Vectors F1-Score: \", LSVC_tfidf_f1)"
   ]
  },
  {
   "cell_type": "code",
   "execution_count": 6,
   "metadata": {},
   "outputs": [
    {
     "data": {
      "text/plain": [
       "0.855511575"
      ]
     },
     "execution_count": 6,
     "metadata": {},
     "output_type": "execute_result"
    }
   ],
   "source": [
    "(0.81095176+0.87769328+0.87804878+0.85535248)/4"
   ]
  },
  {
   "cell_type": "code",
   "execution_count": 67,
   "metadata": {},
   "outputs": [
    {
     "name": "stdout",
     "output_type": "stream",
     "text": [
      "Linear SVC, n-gram TF-IDF Vectors Accuracy:  0.8597883597883598\n",
      "Linear SVC, n-gram TF-IDF Vectors F1-Score:  [0.79896239 0.87225231 0.86886193 0.85565399]\n"
     ]
    }
   ],
   "source": [
    "# Linear SVC on n-gram TF-IDF\n",
    "LSVC_ngram_tfidf, LSVC_ngram_tfidf_accuracy, LSVC_ngram_tfidf_f1 = ml_classifier_model(LinearSVC(), \n",
    "                                                                                       n_gram_tfidf_x_train, n_gram_tfidf_x_val, \n",
    "                                                                                       integer_y_train, integer_y_val)\n",
    "print(\"Linear SVC, n-gram TF-IDF Vectors Accuracy: \", LSVC_ngram_tfidf_accuracy)\n",
    "print(\"Linear SVC, n-gram TF-IDF Vectors F1-Score: \", LSVC_ngram_tfidf_f1)"
   ]
  },
  {
   "cell_type": "code",
   "execution_count": 7,
   "metadata": {},
   "outputs": [
    {
     "data": {
      "text/plain": [
       "0.848932655"
      ]
     },
     "execution_count": 7,
     "metadata": {},
     "output_type": "execute_result"
    }
   ],
   "source": [
    "(0.79896239+0.87225231+0.86886193+0.85565399)/4"
   ]
  },
  {
   "cell_type": "code",
   "execution_count": 68,
   "metadata": {},
   "outputs": [
    {
     "name": "stdout",
     "output_type": "stream",
     "text": [
      "Linear SVC, character-level TF-IDF Vectors Accuracy:  0.8756613756613757\n",
      "Linear SVC, character-level TF-IDF Vectors F1-Score:  [0.81298701 0.88675008 0.89623717 0.86399166]\n"
     ]
    }
   ],
   "source": [
    "# Linear SVC on character-level TF-IDF\n",
    "LSVC_char_tfidf, LSVC_char_tfidf_accuracy, LSVC_char_tfidf_f1 = ml_classifier_model(LinearSVC(), \n",
    "                                                                                    char_tfidf_x_train, char_tfidf_x_val, \n",
    "                                                                                    integer_y_train, integer_y_val)\n",
    "print(\"Linear SVC, character-level TF-IDF Vectors Accuracy: \", LSVC_char_tfidf_accuracy)\n",
    "print(\"Linear SVC, character-level TF-IDF Vectors F1-Score: \", LSVC_char_tfidf_f1)"
   ]
  },
  {
   "cell_type": "code",
   "execution_count": 8,
   "metadata": {},
   "outputs": [
    {
     "data": {
      "text/plain": [
       "0.86499148"
      ]
     },
     "execution_count": 8,
     "metadata": {},
     "output_type": "execute_result"
    }
   ],
   "source": [
    "(0.81298701+0.88675008+0.89623717+0.86399166)/4"
   ]
  },
  {
   "cell_type": "markdown",
   "metadata": {},
   "source": [
    "## Word Embedding bassed approach"
   ]
  },
  {
   "cell_type": "code",
   "execution_count": 69,
   "metadata": {},
   "outputs": [
    {
     "name": "stdout",
     "output_type": "stream",
     "text": [
      "Linear SVC, Count Vectors based word embeddings Accuracy:  0.7288359788359788\n",
      "Linear SVC, Count Vectors based word embeddings F1-Score:  [0.61849711 0.78284343 0.6971831  0.70163934]\n"
     ]
    }
   ],
   "source": [
    "# Linear SVC on Count Vectors based fasttext word embeddings\n",
    "LSVC_ft_bow, LSVC_ft_bow_accuracy, LSVC_ft_bow_f1 = ml_classifier_model(LinearSVC(), \n",
    "                                                                        ft_bow_x_train, ft_bow_x_val, \n",
    "                                                                        integer_y_train, integer_y_val)\n",
    "print(\"Linear SVC, Count Vectors based word embeddings Accuracy: \", LSVC_ft_bow_accuracy)\n",
    "print(\"Linear SVC, Count Vectors based word embeddings F1-Score: \", LSVC_ft_bow_f1)"
   ]
  },
  {
   "cell_type": "code",
   "execution_count": 5,
   "metadata": {},
   "outputs": [
    {
     "data": {
      "text/plain": [
       "0.7000407449999999"
      ]
     },
     "execution_count": 5,
     "metadata": {},
     "output_type": "execute_result"
    }
   ],
   "source": [
    "(0.61849711+0.78284343+0.6971831+0.70163934)/4"
   ]
  },
  {
   "cell_type": "code",
   "execution_count": 70,
   "metadata": {},
   "outputs": [
    {
     "name": "stdout",
     "output_type": "stream",
     "text": [
      "Linear SVC, TF-IDF based word embeddings Accuracy:  0.7293650793650793\n",
      "Linear SVC, TF-IDF based word embeddings F1-Score:  [0.63366337 0.7831141  0.70086455 0.69767442]\n"
     ]
    }
   ],
   "source": [
    "# Linear SVC on TF-IDF based fasttext  word embeddings\n",
    "LSVC_ft_tfidf, LSVC_ft_tfidf_accuracy, LSVC_ft_tfidf_f1 = ml_classifier_model(LinearSVC(), \n",
    "                                                                              ft_tfidf_x_train, ft_tfidf_x_val, \n",
    "                                                                              integer_y_train, integer_y_val)\n",
    "print(\"Linear SVC, TF-IDF based word embeddings Accuracy: \", LSVC_ft_tfidf_accuracy)\n",
    "print(\"Linear SVC, TF-IDF based word embeddings F1-Score: \", LSVC_ft_tfidf_f1)"
   ]
  },
  {
   "cell_type": "code",
   "execution_count": 6,
   "metadata": {},
   "outputs": [
    {
     "data": {
      "text/plain": [
       "0.70382911"
      ]
     },
     "execution_count": 6,
     "metadata": {},
     "output_type": "execute_result"
    }
   ],
   "source": [
    "(0.63366337+0.7831141+0.70086455+0.69767442)/4"
   ]
  },
  {
   "cell_type": "code",
   "execution_count": 71,
   "metadata": {},
   "outputs": [
    {
     "name": "stdout",
     "output_type": "stream",
     "text": [
      "Linear SVC, Count Vectors based word embeddings Accuracy:  0.780952380952381\n",
      "Linear SVC, Count Vectors based word embeddings F1-Score:  [0.67671233 0.82084894 0.7720504  0.76170213]\n"
     ]
    }
   ],
   "source": [
    "# Linear SVC on Count Vectors based indic fasttext word embeddings\n",
    "LSVC_indic_ft_bow, LSVC_indic_ft_bow_accuracy, LSVC_indic_ft_bow_f1 = ml_classifier_model(LinearSVC(max_iter=5000), \n",
    "                                                                                          indic_ft_bow_x_train, indic_ft_bow_x_val, \n",
    "                                                                                          integer_y_train, integer_y_val)\n",
    "print(\"Linear SVC, Count Vectors based word embeddings Accuracy: \", LSVC_indic_ft_bow_accuracy)\n",
    "print(\"Linear SVC, Count Vectors based word embeddings F1-Score: \", LSVC_indic_ft_bow_f1)"
   ]
  },
  {
   "cell_type": "code",
   "execution_count": 7,
   "metadata": {},
   "outputs": [
    {
     "data": {
      "text/plain": [
       "0.7578284499999999"
      ]
     },
     "execution_count": 7,
     "metadata": {},
     "output_type": "execute_result"
    }
   ],
   "source": [
    "(0.67671233+0.82084894+0.7720504+0.76170213)/4"
   ]
  },
  {
   "cell_type": "code",
   "execution_count": 43,
   "metadata": {},
   "outputs": [
    {
     "name": "stdout",
     "output_type": "stream",
     "text": [
      "Linear SVC, TF-IDF based word embeddings Accuracy:  0.771957671957672\n",
      "Linear SVC, TF-IDF based word embeddings F1-Score:  [0.67025572 0.81628847 0.75728155 0.74959438]\n"
     ]
    },
    {
     "name": "stderr",
     "output_type": "stream",
     "text": [
      "/home/eastwind/anaconda3/lib/python3.8/site-packages/sklearn/svm/_base.py:976: ConvergenceWarning: Liblinear failed to converge, increase the number of iterations.\n",
      "  warnings.warn(\"Liblinear failed to converge, increase \"\n"
     ]
    }
   ],
   "source": [
    "# Linear SVC on TF-IDF based indic fasttext word embeddings\n",
    "LSVC_indic_ft_tfidf, LSVC_indic_ft_tfidf_accuracy, LSVC_indic_ft_tfidf_f1 = ml_classifier_model(LinearSVC(max_iter=5000), \n",
    "                                                                                                indic_ft_tfidf_x_train, indic_ft_tfidf_x_val, \n",
    "                                                                                                integer_y_train, integer_y_val)\n",
    "print(\"Linear SVC, TF-IDF based word embeddings Accuracy: \", LSVC_indic_ft_tfidf_accuracy)\n",
    "print(\"Linear SVC, TF-IDF based word embeddings F1-Score: \", LSVC_indic_ft_tfidf_f1)"
   ]
  },
  {
   "cell_type": "code",
   "execution_count": 8,
   "metadata": {},
   "outputs": [
    {
     "data": {
      "text/plain": [
       "0.74835503"
      ]
     },
     "execution_count": 8,
     "metadata": {},
     "output_type": "execute_result"
    }
   ],
   "source": [
    "(0.67025572+0.81628847+0.75728155+0.74959438)/4"
   ]
  },
  {
   "cell_type": "code",
   "execution_count": 47,
   "metadata": {},
   "outputs": [
    {
     "data": {
      "text/plain": [
       "['../models/linear-svc/LSVC_indic_ft_tfidf_min_df_2.pk1']"
      ]
     },
     "execution_count": 47,
     "metadata": {},
     "output_type": "execute_result"
    }
   ],
   "source": [
    "dump(LSVC_bow, \"../models/linear-svc/LSVC_bow_min_df_1.pk1\")\n",
    "dump(LSVC_tfidf, \"../models/linear-svc/LSVC_tfidf_min_df_1.pk1\")\n",
    "dump(LSVC_ngram_tfidf, \"../models/linear-svc/LSVC_ngram_tfidf_min_df_1.pk1\")\n",
    "dump(LSVC_char_tfidf, \"../models/linear-svc/LSVC_char_tfidf_min_df_1.pk1\")\n",
    "dump(LSVC_ft_bow, \"../models/linear-svc/LSVC_ft_bow_min_df_1.pk1\")\n",
    "dump(LSVC_ft_tfidf, \"../models/linear-svc/LSVC_ft_tfidf_min_df_1.pk1\")\n",
    "dump(LSVC_indic_ft_bow, \"../models/linear-svc/LSVC_indic_ft_bow_min_df_1.pk1\")\n",
    "dump(LSVC_indic_ft_tfidf, \"../models/linear-svc/LSVC_indic_ft_tfidf_min_df_1.pk1\")"
   ]
  },
  {
   "cell_type": "markdown",
   "metadata": {},
   "source": [
    "# Random Forest"
   ]
  },
  {
   "cell_type": "code",
   "execution_count": 30,
   "metadata": {
    "scrolled": true
   },
   "outputs": [
    {
     "name": "stdout",
     "output_type": "stream",
     "text": [
      "Random Forest, Count Vectors:  0.7584656084656085\n"
     ]
    }
   ],
   "source": [
    "# Random Forest on  Count Vectors\n",
    "RF_bow, RF_bow_accuracy = ml_classifier_model(RandomForestClassifier(), \n",
    "                                              bow_train, bow_x_val, \n",
    "                                              integer_y_train, integer_y_val)\n",
    "print(\"Random Forest, Count Vectors Accuracy: \", RF_bow_accuracy)"
   ]
  },
  {
   "cell_type": "code",
   "execution_count": 51,
   "metadata": {},
   "outputs": [
    {
     "data": {
      "text/plain": [
       "['models/RF_bow.pk1']"
      ]
     },
     "execution_count": 51,
     "metadata": {},
     "output_type": "execute_result"
    }
   ],
   "source": [
    "dump(RF_bow, \"models/RF_bow.pk1\")"
   ]
  },
  {
   "cell_type": "code",
   "execution_count": 31,
   "metadata": {},
   "outputs": [
    {
     "name": "stdout",
     "output_type": "stream",
     "text": [
      "Random Forest, TF-IDF Vectors:  0.7505291005291005\n"
     ]
    }
   ],
   "source": [
    "# Random Forest on TF-IDF\n",
    "RF_tfidf, RF_tfidf_accuracy = ml_classifier_model(RandomForestClassifier(), \n",
    "                                                  tfidf_x_train, tfidf_x_val, \n",
    "                                                  integer_y_train, integer_y_val)\n",
    "print(\"Random Forest, TF-IDF Vectors Accuracy: \", RF_tfidf_accuracy)"
   ]
  },
  {
   "cell_type": "code",
   "execution_count": 52,
   "metadata": {},
   "outputs": [
    {
     "data": {
      "text/plain": [
       "['models/RF_tfidf.pk1']"
      ]
     },
     "execution_count": 52,
     "metadata": {},
     "output_type": "execute_result"
    }
   ],
   "source": [
    "dump(RF_tfidf, \"models/RF_tfidf.pk1\")"
   ]
  },
  {
   "cell_type": "code",
   "execution_count": 42,
   "metadata": {
    "scrolled": true
   },
   "outputs": [
    {
     "name": "stdout",
     "output_type": "stream",
     "text": [
      "Random Forest, n-gram TF-IDF Vectors:  0.741005291005291\n"
     ]
    }
   ],
   "source": [
    "# Random Forest on n-gram TF-IDF\n",
    "RF_ngram_tfidf, RF_ngram_tfidf_accuracy = ml_classifier_model(RandomForestClassifier(), \n",
    "                                                              n_gram_tfidf_x_train, n_gram_tfidf_x_val, \n",
    "                                                              integer_y_train, integer_y_val)\n",
    "print(\"Random Forest, n-gram TF-IDF Vectors Accuracy: \", RF_ngram_tfidf_accuracy)"
   ]
  },
  {
   "cell_type": "code",
   "execution_count": 53,
   "metadata": {},
   "outputs": [
    {
     "data": {
      "text/plain": [
       "['models/RF_ngram_tfidf.pk1']"
      ]
     },
     "execution_count": 53,
     "metadata": {},
     "output_type": "execute_result"
    }
   ],
   "source": [
    "dump(RF_ngram_tfidf, \"models/RF_ngram_tfidf.pk1\")"
   ]
  },
  {
   "cell_type": "code",
   "execution_count": 58,
   "metadata": {},
   "outputs": [
    {
     "name": "stdout",
     "output_type": "stream",
     "text": [
      "Random Forest, character-level TF-IDF Vectors:  0.7425925925925926\n"
     ]
    }
   ],
   "source": [
    "# Random Forest on character-level TF-IDF\n",
    "RF_char_tfidf, RF_char_tfidf_accuracy = ml_classifier_model(RandomForestClassifier(), \n",
    "                                                            char_tfidf_x_train, char_tfidf_x_val, \n",
    "                                                            integer_y_train, integer_y_val)\n",
    "print(\"Random Forest, character-level TF-IDF Vectors Accuracy: \", RF_char_tfidf_accuracy)"
   ]
  },
  {
   "cell_type": "code",
   "execution_count": 59,
   "metadata": {},
   "outputs": [
    {
     "data": {
      "text/plain": [
       "['models/RF_char_tfidf.pk1']"
      ]
     },
     "execution_count": 59,
     "metadata": {},
     "output_type": "execute_result"
    }
   ],
   "source": [
    "dump(RF_char_tfidf, \"models/RF_char_tfidf.pk1\")"
   ]
  },
  {
   "cell_type": "markdown",
   "metadata": {},
   "source": [
    "# K-Nearest Neighbors"
   ]
  },
  {
   "cell_type": "code",
   "execution_count": 26,
   "metadata": {},
   "outputs": [
    {
     "name": "stdout",
     "output_type": "stream",
     "text": [
      "K-Nearest Neighbors, Count Vectors:  0.5005291005291005\n"
     ]
    }
   ],
   "source": [
    "# K-Nearest Neighbors on  Count Vectors\n",
    "knn_bow, knn_bow_accuracy = ml_classifier_model(KNeighborsClassifier(n_neighbors=11), \n",
    "                                                bow_train, bow_x_val, \n",
    "                                                integer_y_train, integer_y_val)\n",
    "print(\"K-Nearest Neighbors, Count Vectors Accuracy: \", knn_bow_accuracy)"
   ]
  },
  {
   "cell_type": "code",
   "execution_count": 54,
   "metadata": {},
   "outputs": [
    {
     "data": {
      "text/plain": [
       "['models/knn_bow.pk1']"
      ]
     },
     "execution_count": 54,
     "metadata": {},
     "output_type": "execute_result"
    }
   ],
   "source": [
    "dump(knn_bow, \"models/knn_bow.pk1\")"
   ]
  },
  {
   "cell_type": "code",
   "execution_count": 27,
   "metadata": {},
   "outputs": [
    {
     "name": "stdout",
     "output_type": "stream",
     "text": [
      "Random Forest, TF-IDF Vectors:  0.7825396825396825\n"
     ]
    }
   ],
   "source": [
    "# Random Forest on TF-IDF\n",
    "knn_tfidf, knn_tfidf_accuracy = ml_classifier_model(KNeighborsClassifier(n_neighbors=11), \n",
    "                                                    tfidf_x_train, tfidf_x_val, \n",
    "                                                    integer_y_train, integer_y_val)\n",
    "print(\"Random Forest, TF-IDF Vectors Accuracy: \", knn_tfidf_accuracy)"
   ]
  },
  {
   "cell_type": "code",
   "execution_count": 55,
   "metadata": {},
   "outputs": [
    {
     "data": {
      "text/plain": [
       "['models/knn_tfidf.pk1']"
      ]
     },
     "execution_count": 55,
     "metadata": {},
     "output_type": "execute_result"
    }
   ],
   "source": [
    "dump(knn_tfidf, \"models/knn_tfidf.pk1\")"
   ]
  },
  {
   "cell_type": "code",
   "execution_count": 28,
   "metadata": {},
   "outputs": [
    {
     "name": "stdout",
     "output_type": "stream",
     "text": [
      "Random Forest, n-gram TF-IDF Vectors:  0.7412698412698413\n"
     ]
    }
   ],
   "source": [
    "# Random Forest on n-gram TF-IDF\n",
    "knn_ngram_tfidf, knn_ngram_tfidf_accuracy = ml_classifier_model(KNeighborsClassifier(n_neighbors=11), \n",
    "                                                                n_gram_tfidf_x_train, n_gram_tfidf_x_val, \n",
    "                                                                integer_y_train, integer_y_val)\n",
    "print(\"Random Forest, n-gram TF-IDF Vectors Accuracy: \", knn_ngram_tfidf_accuracy)"
   ]
  },
  {
   "cell_type": "code",
   "execution_count": 56,
   "metadata": {},
   "outputs": [
    {
     "data": {
      "text/plain": [
       "['models/knn_ngram_tfidf.pk1']"
      ]
     },
     "execution_count": 56,
     "metadata": {},
     "output_type": "execute_result"
    }
   ],
   "source": [
    "dump(knn_ngram_tfidf, \"models/knn_ngram_tfidf.pk1\")"
   ]
  },
  {
   "cell_type": "code",
   "execution_count": 29,
   "metadata": {},
   "outputs": [
    {
     "name": "stdout",
     "output_type": "stream",
     "text": [
      "Random Forest, character-level TF-IDF Vectors:  0.8132275132275132\n"
     ]
    }
   ],
   "source": [
    "# Random Forest on character-level TF-IDF\n",
    "knn_char_tfidf, knn_char_tfidf_accuracy = ml_classifier_model(KNeighborsClassifier(n_neighbors=11), \n",
    "                                                              char_tfidf_x_train, char_tfidf_x_val, \n",
    "                                                              integer_y_train, integer_y_val)\n",
    "print(\"Random Forest, character-level TF-IDF Vectors Accuracy: \", knn_char_tfidf_accuracy)"
   ]
  },
  {
   "cell_type": "code",
   "execution_count": 57,
   "metadata": {},
   "outputs": [
    {
     "data": {
      "text/plain": [
       "['models/knn_char_tfidf.pk1']"
      ]
     },
     "execution_count": 57,
     "metadata": {},
     "output_type": "execute_result"
    }
   ],
   "source": [
    "dump(knn_char_tfidf, \"models/knn_char_tfidf.pk1\")"
   ]
  },
  {
   "cell_type": "code",
   "execution_count": null,
   "metadata": {},
   "outputs": [],
   "source": []
  }
 ],
 "metadata": {
  "kernelspec": {
   "display_name": "Python 3",
   "language": "python",
   "name": "python3"
  },
  "language_info": {
   "codemirror_mode": {
    "name": "ipython",
    "version": 3
   },
   "file_extension": ".py",
   "mimetype": "text/x-python",
   "name": "python",
   "nbconvert_exporter": "python",
   "pygments_lexer": "ipython3",
   "version": "3.8.3"
  }
 },
 "nbformat": 4,
 "nbformat_minor": 4
}
