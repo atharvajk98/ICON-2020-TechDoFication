{
 "cells": [
  {
   "cell_type": "code",
   "execution_count": 1,
   "metadata": {},
   "outputs": [],
   "source": [
    "from data_preprocessing import *\n",
    "from model import ml_classifier_model, classification_report\n",
    "from sklearn.naive_bayes import MultinomialNB\n",
    "from sklearn.ensemble import RandomForestClassifier\n",
    "from sklearn.svm import LinearSVC, SVC\n",
    "from sklearn.neighbors import KNeighborsClassifier\n",
    "from joblib import dump\n",
    "from time import process_time"
   ]
  },
  {
   "cell_type": "code",
   "execution_count": 2,
   "metadata": {},
   "outputs": [],
   "source": [
    "stopword_list = get_stopwords(\"../marathi-stopwords.txt\")"
   ]
  },
  {
   "cell_type": "markdown",
   "metadata": {},
   "source": [
    "# Loading Data"
   ]
  },
  {
   "cell_type": "code",
   "execution_count": 3,
   "metadata": {},
   "outputs": [
    {
     "data": {
      "text/html": [
       "<div>\n",
       "<style scoped>\n",
       "    .dataframe tbody tr th:only-of-type {\n",
       "        vertical-align: middle;\n",
       "    }\n",
       "\n",
       "    .dataframe tbody tr th {\n",
       "        vertical-align: top;\n",
       "    }\n",
       "\n",
       "    .dataframe thead th {\n",
       "        text-align: right;\n",
       "    }\n",
       "</style>\n",
       "<table border=\"1\" class=\"dataframe\">\n",
       "  <thead>\n",
       "    <tr style=\"text-align: right;\">\n",
       "      <th></th>\n",
       "      <th>text</th>\n",
       "      <th>label</th>\n",
       "    </tr>\n",
       "  </thead>\n",
       "  <tbody>\n",
       "    <tr>\n",
       "      <th>0</th>\n",
       "      <td>प्रा . प्रताप हरिदास : होय , मला वाटते की हा ए...</td>\n",
       "      <td>com_tech</td>\n",
       "    </tr>\n",
       "    <tr>\n",
       "      <th>1</th>\n",
       "      <td>तर , विशिष्ट गोष्टींद्वारे , ठराविक कायद्यांद्...</td>\n",
       "      <td>bioche</td>\n",
       "    </tr>\n",
       "    <tr>\n",
       "      <th>2</th>\n",
       "      <td>- - - - - - - - - - - - - - - - - - - - - - - ...</td>\n",
       "      <td>cse</td>\n",
       "    </tr>\n",
       "    <tr>\n",
       "      <th>3</th>\n",
       "      <td>तर , आपला अर्धा चिन्ह 9 वाजता असेल .</td>\n",
       "      <td>phy</td>\n",
       "    </tr>\n",
       "    <tr>\n",
       "      <th>4</th>\n",
       "      <td>म्हणून , मी असे म्हणालो की जर शेकडो , हजारो कि...</td>\n",
       "      <td>phy</td>\n",
       "    </tr>\n",
       "    <tr>\n",
       "      <th>...</th>\n",
       "      <td>...</td>\n",
       "      <td>...</td>\n",
       "    </tr>\n",
       "    <tr>\n",
       "      <th>41992</th>\n",
       "      <td>जरी आपण डेटा कूटबद्ध केला , तरीही हा मुख्य व्य...</td>\n",
       "      <td>cse</td>\n",
       "    </tr>\n",
       "    <tr>\n",
       "      <th>41993</th>\n",
       "      <td>ते म्हणतात - \" ज्याला पाहण्यासाठी डोळे , ऎकण्य...</td>\n",
       "      <td>com_tech</td>\n",
       "    </tr>\n",
       "    <tr>\n",
       "      <th>41994</th>\n",
       "      <td>प्रथम क्रोनोलॉजिकल , क्रॉनोलॉजी म्हणजे आपल्याल...</td>\n",
       "      <td>com_tech</td>\n",
       "    </tr>\n",
       "    <tr>\n",
       "      <th>41995</th>\n",
       "      <td>त्या थोड्या तपशीलावर येईल , जेणेकरून संपूर्ण ग...</td>\n",
       "      <td>bioche</td>\n",
       "    </tr>\n",
       "    <tr>\n",
       "      <th>41996</th>\n",
       "      <td>आणि एका हॉटेलमध्ये त्यांनी एका स्विस रेस्ट्राम...</td>\n",
       "      <td>com_tech</td>\n",
       "    </tr>\n",
       "  </tbody>\n",
       "</table>\n",
       "<p>41997 rows × 2 columns</p>\n",
       "</div>"
      ],
      "text/plain": [
       "                                                    text     label\n",
       "0      प्रा . प्रताप हरिदास : होय , मला वाटते की हा ए...  com_tech\n",
       "1      तर , विशिष्ट गोष्टींद्वारे , ठराविक कायद्यांद्...    bioche\n",
       "2      - - - - - - - - - - - - - - - - - - - - - - - ...       cse\n",
       "3                   तर , आपला अर्धा चिन्ह 9 वाजता असेल .       phy\n",
       "4      म्हणून , मी असे म्हणालो की जर शेकडो , हजारो कि...       phy\n",
       "...                                                  ...       ...\n",
       "41992  जरी आपण डेटा कूटबद्ध केला , तरीही हा मुख्य व्य...       cse\n",
       "41993  ते म्हणतात - \" ज्याला पाहण्यासाठी डोळे , ऎकण्य...  com_tech\n",
       "41994  प्रथम क्रोनोलॉजिकल , क्रॉनोलॉजी म्हणजे आपल्याल...  com_tech\n",
       "41995  त्या थोड्या तपशीलावर येईल , जेणेकरून संपूर्ण ग...    bioche\n",
       "41996  आणि एका हॉटेलमध्ये त्यांनी एका स्विस रेस्ट्राम...  com_tech\n",
       "\n",
       "[41997 rows x 2 columns]"
      ]
     },
     "execution_count": 3,
     "metadata": {},
     "output_type": "execute_result"
    }
   ],
   "source": [
    "training_path = \"../dataset/original-dataset/marathi-training-data.csv\"\n",
    "train_data = read_data(training_path)\n",
    "train_data"
   ]
  },
  {
   "cell_type": "code",
   "execution_count": 4,
   "metadata": {},
   "outputs": [
    {
     "data": {
      "text/plain": [
       "com_tech    17995\n",
       "phy          9656\n",
       "cse          9344\n",
       "bioche       5002\n",
       "Name: label, dtype: int64"
      ]
     },
     "execution_count": 4,
     "metadata": {},
     "output_type": "execute_result"
    }
   ],
   "source": [
    "train_data.label.value_counts()"
   ]
  },
  {
   "cell_type": "code",
   "execution_count": 5,
   "metadata": {},
   "outputs": [
    {
     "data": {
      "text/html": [
       "<div>\n",
       "<style scoped>\n",
       "    .dataframe tbody tr th:only-of-type {\n",
       "        vertical-align: middle;\n",
       "    }\n",
       "\n",
       "    .dataframe tbody tr th {\n",
       "        vertical-align: top;\n",
       "    }\n",
       "\n",
       "    .dataframe thead th {\n",
       "        text-align: right;\n",
       "    }\n",
       "</style>\n",
       "<table border=\"1\" class=\"dataframe\">\n",
       "  <thead>\n",
       "    <tr style=\"text-align: right;\">\n",
       "      <th></th>\n",
       "      <th>text</th>\n",
       "      <th>label</th>\n",
       "    </tr>\n",
       "  </thead>\n",
       "  <tbody>\n",
       "    <tr>\n",
       "      <th>0</th>\n",
       "      <td>1 ची ओळ .</td>\n",
       "      <td>cse</td>\n",
       "    </tr>\n",
       "    <tr>\n",
       "      <th>1</th>\n",
       "      <td>तर , ही एक टॉवर आहे जी टॉवरवर निश्चित केली जात...</td>\n",
       "      <td>phy</td>\n",
       "    </tr>\n",
       "    <tr>\n",
       "      <th>2</th>\n",
       "      <td>तर , थ्रेडच्या परतीच्या स्थितीस पास करण्यासाठी...</td>\n",
       "      <td>cse</td>\n",
       "    </tr>\n",
       "    <tr>\n",
       "      <th>3</th>\n",
       "      <td>आपण लोक शोधत आहात जे आपल्यासाठी काहीतरी करू शक...</td>\n",
       "      <td>com_tech</td>\n",
       "    </tr>\n",
       "    <tr>\n",
       "      <th>4</th>\n",
       "      <td>लिनक्स कर्नल अनुसूचीतकरणामध्ये अशी तंत्र असण्य...</td>\n",
       "      <td>cse</td>\n",
       "    </tr>\n",
       "    <tr>\n",
       "      <th>...</th>\n",
       "      <td>...</td>\n",
       "      <td>...</td>\n",
       "    </tr>\n",
       "    <tr>\n",
       "      <th>3775</th>\n",
       "      <td>नंतर वृद्धत्व , व्हॉट मोठ्या प्रमाणात फ्रॉन 12...</td>\n",
       "      <td>bioche</td>\n",
       "    </tr>\n",
       "    <tr>\n",
       "      <th>3776</th>\n",
       "      <td>आणि मग सुद्धा आपल्याला काही सेकंदांनंतर माहित ...</td>\n",
       "      <td>phy</td>\n",
       "    </tr>\n",
       "    <tr>\n",
       "      <th>3777</th>\n",
       "      <td>तर , आपण ELF शीर्षलेखासह प्रारंभ करू .</td>\n",
       "      <td>cse</td>\n",
       "    </tr>\n",
       "    <tr>\n",
       "      <th>3778</th>\n",
       "      <td>तर , त्या क्रॉस्टची जाडी आहे .</td>\n",
       "      <td>phy</td>\n",
       "    </tr>\n",
       "    <tr>\n",
       "      <th>3779</th>\n",
       "      <td>तर , मला वाटते की ही माहिती अशी आहे की आपण एका...</td>\n",
       "      <td>phy</td>\n",
       "    </tr>\n",
       "  </tbody>\n",
       "</table>\n",
       "<p>3780 rows × 2 columns</p>\n",
       "</div>"
      ],
      "text/plain": [
       "                                                   text     label\n",
       "0                                             1 ची ओळ .       cse\n",
       "1     तर , ही एक टॉवर आहे जी टॉवरवर निश्चित केली जात...       phy\n",
       "2     तर , थ्रेडच्या परतीच्या स्थितीस पास करण्यासाठी...       cse\n",
       "3     आपण लोक शोधत आहात जे आपल्यासाठी काहीतरी करू शक...  com_tech\n",
       "4     लिनक्स कर्नल अनुसूचीतकरणामध्ये अशी तंत्र असण्य...       cse\n",
       "...                                                 ...       ...\n",
       "3775  नंतर वृद्धत्व , व्हॉट मोठ्या प्रमाणात फ्रॉन 12...    bioche\n",
       "3776  आणि मग सुद्धा आपल्याला काही सेकंदांनंतर माहित ...       phy\n",
       "3777             तर , आपण ELF शीर्षलेखासह प्रारंभ करू .       cse\n",
       "3778                     तर , त्या क्रॉस्टची जाडी आहे .       phy\n",
       "3779  तर , मला वाटते की ही माहिती अशी आहे की आपण एका...       phy\n",
       "\n",
       "[3780 rows x 2 columns]"
      ]
     },
     "execution_count": 5,
     "metadata": {},
     "output_type": "execute_result"
    }
   ],
   "source": [
    "val_path = \"../dataset/original-dataset/marathi-validation-data.csv\"\n",
    "val_data = read_data(val_path)\n",
    "val_data"
   ]
  },
  {
   "cell_type": "code",
   "execution_count": 6,
   "metadata": {},
   "outputs": [
    {
     "data": {
      "text/plain": [
       "com_tech    1505\n",
       "phy          970\n",
       "cse          885\n",
       "bioche       420\n",
       "Name: label, dtype: int64"
      ]
     },
     "execution_count": 6,
     "metadata": {},
     "output_type": "execute_result"
    }
   ],
   "source": [
    "val_data.label.value_counts()"
   ]
  },
  {
   "cell_type": "code",
   "execution_count": 7,
   "metadata": {},
   "outputs": [
    {
     "name": "stdout",
     "output_type": "stream",
     "text": [
      "41997\n",
      "41997\n",
      "3780\n",
      "3780\n"
     ]
    }
   ],
   "source": [
    "x_train = train_data.text.apply(lambda x: preprocess_data(stopword_list, x)).values.tolist()\n",
    "y_train = train_data.label.values.tolist()\n",
    "x_val = val_data.text.apply(lambda x: preprocess_data(stopword_list, x)).values.tolist()\n",
    "y_val = val_data.label.values.tolist()\n",
    "print(len(x_train))\n",
    "print(len(y_train))\n",
    "print(len(x_val))\n",
    "print(len(y_val))"
   ]
  },
  {
   "cell_type": "code",
   "execution_count": 8,
   "metadata": {},
   "outputs": [],
   "source": [
    "y_train, y_val = label_encoder(y_train, y_val)"
   ]
  },
  {
   "cell_type": "markdown",
   "metadata": {},
   "source": [
    "# Computing the BoW and TF-IDF representation"
   ]
  },
  {
   "cell_type": "code",
   "execution_count": 9,
   "metadata": {},
   "outputs": [
    {
     "data": {
      "text/plain": [
       "51799"
      ]
     },
     "execution_count": 9,
     "metadata": {},
     "output_type": "execute_result"
    }
   ],
   "source": [
    "bow_vectorizer, bow_x_train, bow_x_val = bow_vectorize(x_train, x_val, min_df=1)\n",
    "len(bow_vectorizer.vocabulary_)"
   ]
  },
  {
   "cell_type": "code",
   "execution_count": 10,
   "metadata": {},
   "outputs": [
    {
     "data": {
      "text/plain": [
       "51799"
      ]
     },
     "execution_count": 10,
     "metadata": {},
     "output_type": "execute_result"
    }
   ],
   "source": [
    "tfidf_vectorizer, tfidf_x_train, tfidf_x_val = tfidf_vectorize(x_train, x_val, min_df=1)\n",
    "len(tfidf_vectorizer.vocabulary_)"
   ]
  },
  {
   "cell_type": "code",
   "execution_count": 11,
   "metadata": {},
   "outputs": [
    {
     "data": {
      "text/plain": [
       "354606"
      ]
     },
     "execution_count": 11,
     "metadata": {},
     "output_type": "execute_result"
    }
   ],
   "source": [
    "n_gram_tfidf_vectorizer, n_gram_tfidf_x_train, n_gram_tfidf_x_val = n_gram_tfidf_vectorize(x_train, x_val, min_df=1)\n",
    "len(n_gram_tfidf_vectorizer.vocabulary_)"
   ]
  },
  {
   "cell_type": "code",
   "execution_count": 12,
   "metadata": {},
   "outputs": [
    {
     "data": {
      "text/plain": [
       "26786"
      ]
     },
     "execution_count": 12,
     "metadata": {},
     "output_type": "execute_result"
    }
   ],
   "source": [
    "char_tfidf_vectorizer, char_tfidf_x_train, char_tfidf_x_val = char_tfidf_vectorize(x_train, x_val)\n",
    "len(char_tfidf_vectorizer.vocabulary_)"
   ]
  },
  {
   "cell_type": "code",
   "execution_count": null,
   "metadata": {},
   "outputs": [],
   "source": [
    "dump(bow_vectorizer, \"../tokenizers/bow_vectorizer_min_df_1.pk1\")\n",
    "dump(tfidf_vectorizer, \"../tokenizers/tfidf_vectorizer_min_df_1.pk1\")\n",
    "dump(n_gram_tfidf_vectorizer, \"../tokenizers/n_gram_tfidf_vectorizer_min_df_1.pk1\")\n",
    "dump(char_tfidf_vectorizer, \"../tokenizers/char_tfidf_vectorizer_min_df_1.pk1\")"
   ]
  },
  {
   "cell_type": "code",
   "execution_count": 13,
   "metadata": {},
   "outputs": [],
   "source": [
    "vocab = bow_vectorizer.vocabulary_"
   ]
  },
  {
   "cell_type": "markdown",
   "metadata": {},
   "source": [
    "# Ai4Bharat Indic-Fasttext Marathi Word Embeddings"
   ]
  },
  {
   "cell_type": "code",
   "execution_count": 14,
   "metadata": {},
   "outputs": [
    {
     "name": "stdout",
     "output_type": "stream",
     "text": [
      "29155\n",
      "Total time taken:  8.653920267\n"
     ]
    },
    {
     "data": {
      "text/plain": [
       "(51800, 300)"
      ]
     },
     "execution_count": 14,
     "metadata": {},
     "output_type": "execute_result"
    }
   ],
   "source": [
    "start = process_time()\n",
    "embedding_path1 = \"/home/eastwind/word-embeddings/fasttext/indicnlp.ft.mr.300.vec\"\n",
    "embedding_matrix1 = get_embedding_matrix(embedding_path1, vocab, 300)\n",
    "end = process_time()\n",
    "print(\"Total time taken: \", end-start)\n",
    "embedding_matrix1.shape"
   ]
  },
  {
   "cell_type": "code",
   "execution_count": 15,
   "metadata": {},
   "outputs": [
    {
     "name": "stdout",
     "output_type": "stream",
     "text": [
      "(41997, 300)\n",
      "(3780, 300)\n"
     ]
    }
   ],
   "source": [
    "ft_bow_x_train = get_sentence_embedding(embedding_matrix1, bow_x_train, 'bow')\n",
    "ft_bow_x_val = get_sentence_embedding(embedding_matrix1, bow_x_val, 'bow')\n",
    "print(ft_bow_x_train.shape)\n",
    "print(ft_bow_x_val.shape)"
   ]
  },
  {
   "cell_type": "code",
   "execution_count": 16,
   "metadata": {},
   "outputs": [
    {
     "name": "stdout",
     "output_type": "stream",
     "text": [
      "(41997, 300)\n",
      "(3780, 300)\n"
     ]
    }
   ],
   "source": [
    "ft_tfidf_x_train = get_sentence_embedding(embedding_matrix1, tfidf_x_train, 'tfidf')\n",
    "ft_tfidf_x_val = get_sentence_embedding(embedding_matrix1, tfidf_x_val, 'tfidf')\n",
    "print(ft_tfidf_x_train.shape)\n",
    "print(ft_tfidf_x_val.shape)"
   ]
  },
  {
   "cell_type": "markdown",
   "metadata": {},
   "source": [
    "# Domain Specific fasttext Word Embeddings"
   ]
  },
  {
   "cell_type": "code",
   "execution_count": 17,
   "metadata": {},
   "outputs": [
    {
     "name": "stdout",
     "output_type": "stream",
     "text": [
      "51795\n",
      "Total time taken:  4.836589748999998\n"
     ]
    },
    {
     "data": {
      "text/plain": [
       "(51800, 300)"
      ]
     },
     "execution_count": 17,
     "metadata": {},
     "output_type": "execute_result"
    }
   ],
   "source": [
    "start = process_time()\n",
    "embedding_path2 = \"/home/eastwind/word-embeddings/fasttext/TechDofication.mr.cleaned.ft.skipgram.d300.vec\"\n",
    "embedding_matrix2 = get_embedding_matrix(embedding_path2, vocab, 300)\n",
    "end = process_time()\n",
    "print(\"Total time taken: \", end-start)\n",
    "embedding_matrix2.shape"
   ]
  },
  {
   "cell_type": "code",
   "execution_count": 18,
   "metadata": {},
   "outputs": [
    {
     "name": "stdout",
     "output_type": "stream",
     "text": [
      "(41997, 300)\n",
      "(3780, 300)\n"
     ]
    }
   ],
   "source": [
    "ds_bow_x_train = get_sentence_embedding(embedding_matrix2, bow_x_train, 'bow')\n",
    "ds_bow_x_val = get_sentence_embedding(embedding_matrix2, bow_x_val, 'bow')\n",
    "print(ds_bow_x_train.shape)\n",
    "print(ds_bow_x_val.shape)"
   ]
  },
  {
   "cell_type": "code",
   "execution_count": 19,
   "metadata": {},
   "outputs": [
    {
     "name": "stdout",
     "output_type": "stream",
     "text": [
      "(41997, 300)\n",
      "(3780, 300)\n"
     ]
    }
   ],
   "source": [
    "ds_tfidf_x_train = get_sentence_embedding(embedding_matrix2, tfidf_x_train, 'tfidf')\n",
    "ds_tfidf_x_val = get_sentence_embedding(embedding_matrix2, tfidf_x_val, 'tfidf')\n",
    "print(ds_tfidf_x_train.shape)\n",
    "print(ds_tfidf_x_val.shape)"
   ]
  },
  {
   "cell_type": "markdown",
   "metadata": {},
   "source": [
    "# Multinomial Naive Bayes"
   ]
  },
  {
   "cell_type": "code",
   "execution_count": 21,
   "metadata": {
    "scrolled": true
   },
   "outputs": [
    {
     "name": "stdout",
     "output_type": "stream",
     "text": [
      "Validation Accuracy:  0.8621693121693121\n",
      "\n",
      "Precision:  [0.92163009 0.82678571 0.91799266 0.85684647]\n",
      "Average Precision:  0.8808137343543497\n",
      "\n",
      "Recall:  [0.7        0.92292359 0.84745763 0.85154639]\n",
      "Average nRecall:  0.8304819017277721\n",
      "\n",
      "F1-Score:  [0.79566982 0.8722135  0.8813161  0.85418821]\n",
      "Average F1-Score:  0.8508469086351682\n"
     ]
    }
   ],
   "source": [
    "# Naive Bayes on Count Vectors\n",
    "NB_bow, NB__bow_predictions = ml_classifier_model(MultinomialNB(), \n",
    "                                                  bow_x_train, bow_x_val, \n",
    "                                                  y_train, y_val)\n",
    "\n",
    "acc, precision, recall, f1 = classification_report(y_val, NB__bow_predictions)\n",
    "print(\"Validation Accuracy: \", acc)\n",
    "print(\"\\nPrecision: \", precision)\n",
    "print(\"Average Precision: \", np.mean(precision))\n",
    "print(\"\\nRecall: \", recall)\n",
    "print(\"Average nRecall: \", np.mean(recall))\n",
    "print(\"\\nF1-Score: \", f1)\n",
    "print(\"Average F1-Score: \", np.mean(f1))"
   ]
  },
  {
   "cell_type": "code",
   "execution_count": 22,
   "metadata": {},
   "outputs": [
    {
     "name": "stdout",
     "output_type": "stream",
     "text": [
      "Validation Accuracy:  0.7849206349206349\n",
      "\n",
      "Precision:  [1.         0.68600842 0.9505988  0.86509901]\n",
      "Average Precision:  0.8754265588297823\n",
      "\n",
      "Recall:  [0.39761905 0.97408638 0.71751412 0.72061856]\n",
      "Average nRecall:  0.7024595268378514\n",
      "\n",
      "F1-Score:  [0.56899489 0.80505217 0.81777205 0.78627672]\n",
      "Average F1-Score:  0.744523956976183\n"
     ]
    }
   ],
   "source": [
    "# Naive Bayes on TF-IDF\n",
    "NB_tfidf, NB__tfidf_predictions = ml_classifier_model(MultinomialNB(), \n",
    "                                                      tfidf_x_train, tfidf_x_val, \n",
    "                                                      y_train, y_val)\n",
    "\n",
    "acc, precision, recall, f1 = classification_report(y_val, NB__tfidf_predictions)\n",
    "print(\"Validation Accuracy: \", acc)\n",
    "print(\"\\nPrecision: \", precision)\n",
    "print(\"Average Precision: \", np.mean(precision))\n",
    "print(\"\\nRecall: \", recall)\n",
    "print(\"Average nRecall: \", np.mean(recall))\n",
    "print(\"\\nF1-Score: \", f1)\n",
    "print(\"Average F1-Score: \", np.mean(f1))"
   ]
  },
  {
   "cell_type": "code",
   "execution_count": 23,
   "metadata": {},
   "outputs": [
    {
     "name": "stdout",
     "output_type": "stream",
     "text": [
      "Validation Accuracy:  0.6502645502645502\n",
      "\n",
      "Precision:  [0.98611111 0.54445664 0.96247241 0.88697318]\n",
      "Average Precision:  0.8450033346056356\n",
      "\n",
      "Recall:  [0.16904762 0.98870432 0.49265537 0.47731959]\n",
      "Average nRecall:  0.5319317232112502\n",
      "\n",
      "F1-Score:  [0.28861789 0.70221803 0.65171898 0.62064343]\n",
      "Average F1-Score:  0.5657995821858002\n"
     ]
    }
   ],
   "source": [
    "# Naive Bayes on n-gram TF-IDF\n",
    "NB_ngram_tfidf, NB_ngram_predictions = ml_classifier_model(MultinomialNB(), \n",
    "                                                           n_gram_tfidf_x_train, n_gram_tfidf_x_val, \n",
    "                                                           y_train, y_val)\n",
    "\n",
    "acc, precision, recall, f1 = classification_report(y_val, NB_ngram_predictions)\n",
    "print(\"Validation Accuracy: \", acc)\n",
    "print(\"\\nPrecision: \", precision)\n",
    "print(\"Average Precision: \", np.mean(precision))\n",
    "print(\"\\nRecall: \", recall)\n",
    "print(\"Average nRecall: \", np.mean(recall))\n",
    "print(\"\\nF1-Score: \", f1)\n",
    "print(\"Average F1-Score: \", np.mean(f1))"
   ]
  },
  {
   "cell_type": "code",
   "execution_count": 24,
   "metadata": {},
   "outputs": [
    {
     "name": "stdout",
     "output_type": "stream",
     "text": [
      "Validation Accuracy:  0.7748677248677248\n",
      "\n",
      "Precision:  [0.98445596 0.69151545 0.89044944 0.83133971]\n",
      "Average Precision:  0.8494401396048793\n",
      "\n",
      "Recall:  [0.45238095 0.93687708 0.71638418 0.71649485]\n",
      "Average nRecall:  0.7055342637361744\n",
      "\n",
      "F1-Score:  [0.61990212 0.79571106 0.79398873 0.7696567 ]\n",
      "Average F1-Score:  0.7448146526054364\n"
     ]
    }
   ],
   "source": [
    "# Naive Bayes on character-level TF-IDF\n",
    "NB_char_tfidf, NB_char_predictions = ml_classifier_model(MultinomialNB(), \n",
    "                                                         char_tfidf_x_train, char_tfidf_x_val, \n",
    "                                                         y_train, y_val)\n",
    "\n",
    "acc, precision, recall, f1 = classification_report(y_val, NB_char_predictions)\n",
    "print(\"Validation Accuracy: \", acc)\n",
    "print(\"\\nPrecision: \", precision)\n",
    "print(\"Average Precision: \", np.mean(precision))\n",
    "print(\"\\nRecall: \", recall)\n",
    "print(\"Average nRecall: \", np.mean(recall))\n",
    "print(\"\\nF1-Score: \", f1)\n",
    "print(\"Average F1-Score: \", np.mean(f1))"
   ]
  },
  {
   "cell_type": "code",
   "execution_count": 35,
   "metadata": {},
   "outputs": [
    {
     "data": {
      "text/plain": [
       "['../models/naive-bayes/NB-char-tfidf.pk1']"
      ]
     },
     "execution_count": 35,
     "metadata": {},
     "output_type": "execute_result"
    }
   ],
   "source": [
    "dump(NB_bow, \"../models/naive-bayes/NB-bow.pk1\")\n",
    "dump(NB_tfidf, \"../models/naive-bayes/NB-tfidf.pk1\")\n",
    "dump(NB_ngram_tfidf, \"../models/naive-bayes/NB-ngram-tfidf.pk1\")\n",
    "dump(NB_char_tfidf, \"../models/naive-bayes/NB-char-tfidf.pk1\")"
   ]
  },
  {
   "cell_type": "markdown",
   "metadata": {},
   "source": [
    "# Linear SVC"
   ]
  },
  {
   "cell_type": "markdown",
   "metadata": {},
   "source": [
    "## Statsitical word representation approach"
   ]
  },
  {
   "cell_type": "code",
   "execution_count": 25,
   "metadata": {},
   "outputs": [
    {
     "name": "stdout",
     "output_type": "stream",
     "text": [
      "Validation Accuracy:  0.83994708994709\n",
      "\n",
      "Precision:  [0.84636872 0.82914573 0.8685446  0.83026585]\n",
      "Average Precision:  0.8435812233341846\n",
      "\n",
      "Recall:  [0.72142857 0.87707641 0.83615819 0.8371134 ]\n",
      "Average nRecall:  0.8179441443852389\n",
      "\n",
      "F1-Score:  [0.77892031 0.85243784 0.85204375 0.83367556]\n",
      "Average F1-Score:  0.8292693674592789\n"
     ]
    }
   ],
   "source": [
    "# Linear SVC on Count Vectors\n",
    "LSVC_bow, LSVC_bow_predictions = ml_classifier_model(LinearSVC(max_iter=2000), \n",
    "                                                     bow_x_train, bow_x_val, \n",
    "                                                     y_train, y_val)\n",
    "\n",
    "acc, precision, recall, f1 = classification_report(y_val, LSVC_bow_predictions)\n",
    "print(\"Validation Accuracy: \", acc)\n",
    "print(\"\\nPrecision: \", precision)\n",
    "print(\"Average Precision: \", np.mean(precision))\n",
    "print(\"\\nRecall: \", recall)\n",
    "print(\"Average nRecall: \", np.mean(recall))\n",
    "print(\"\\nF1-Score: \", f1)\n",
    "print(\"Average F1-Score: \", np.mean(f1))"
   ]
  },
  {
   "cell_type": "code",
   "execution_count": 26,
   "metadata": {},
   "outputs": [
    {
     "name": "stdout",
     "output_type": "stream",
     "text": [
      "Validation Accuracy:  0.8669312169312169\n",
      "\n",
      "Precision:  [0.89942529 0.83898305 0.90572792 0.86942675]\n",
      "Average Precision:  0.8783907533559553\n",
      "\n",
      "Recall:  [0.7452381  0.92093023 0.85762712 0.8443299 ]\n",
      "Average nRecall:  0.8420313358368798\n",
      "\n",
      "F1-Score:  [0.81510417 0.87804878 0.88102147 0.85669456]\n",
      "Average F1-Score:  0.8577172454992206\n"
     ]
    }
   ],
   "source": [
    "# Linear SVC on TF-IDF\n",
    "LSVC_tfidf, LSVC_tfidf_predictions = ml_classifier_model(LinearSVC(), \n",
    "                                                         tfidf_x_train, tfidf_x_val, \n",
    "                                                         y_train, y_val)\n",
    "\n",
    "acc, precision, recall, f1 = classification_report(y_val, LSVC_tfidf_predictions)\n",
    "print(\"Validation Accuracy: \", acc)\n",
    "print(\"\\nPrecision: \", precision)\n",
    "print(\"Average Precision: \", np.mean(precision))\n",
    "print(\"\\nRecall: \", recall)\n",
    "print(\"Average nRecall: \", np.mean(recall))\n",
    "print(\"\\nF1-Score: \", f1)\n",
    "print(\"Average F1-Score: \", np.mean(f1))"
   ]
  },
  {
   "cell_type": "code",
   "execution_count": 27,
   "metadata": {},
   "outputs": [
    {
     "name": "stdout",
     "output_type": "stream",
     "text": [
      "Validation Accuracy:  0.8603174603174604\n",
      "\n",
      "Precision:  [0.88352273 0.83618582 0.88770686 0.86892178]\n",
      "Average Precision:  0.8690842945085285\n",
      "\n",
      "Recall:  [0.74047619 0.9089701  0.84858757 0.84742268]\n",
      "Average nRecall:  0.8363641352944512\n",
      "\n",
      "F1-Score:  [0.80569948 0.87106017 0.86770653 0.85803758]\n",
      "Average F1-Score:  0.8506259400229106\n"
     ]
    }
   ],
   "source": [
    "# Linear SVC on n-gram TF-IDF\n",
    "LSVC_ngram_tfidf, LSVC_ngram_tfidf_predictions = ml_classifier_model(LinearSVC(), \n",
    "                                                                     n_gram_tfidf_x_train, n_gram_tfidf_x_val, \n",
    "                                                                     y_train, y_val)\n",
    "\n",
    "acc, precision, recall, f1 = classification_report(y_val, LSVC_ngram_tfidf_predictions)\n",
    "print(\"Validation Accuracy: \", acc)\n",
    "print(\"\\nPrecision: \", precision)\n",
    "print(\"Average Precision: \", np.mean(precision))\n",
    "print(\"\\nRecall: \", recall)\n",
    "print(\"Average nRecall: \", np.mean(recall))\n",
    "print(\"\\nF1-Score: \", f1)\n",
    "print(\"Average F1-Score: \", np.mean(f1))"
   ]
  },
  {
   "cell_type": "code",
   "execution_count": 28,
   "metadata": {},
   "outputs": [
    {
     "name": "stdout",
     "output_type": "stream",
     "text": [
      "Validation Accuracy:  0.8693121693121693\n",
      "\n",
      "Precision:  [0.89488636 0.85545171 0.88195233 0.87154989]\n",
      "Average Precision:  0.8759600744440346\n",
      "\n",
      "Recall:  [0.75       0.91229236 0.8779661  0.84639175]\n",
      "Average nRecall:  0.8466625532690555\n",
      "\n",
      "F1-Score:  [0.81606218 0.8829582  0.8799547  0.85878661]\n",
      "Average F1-Score:  0.8594404215720317\n"
     ]
    }
   ],
   "source": [
    "# Linear SVC on character-level TF-IDF\n",
    "LSVC_char_tfidf, LSVC_char_tfidf_predictions = ml_classifier_model(LinearSVC(), \n",
    "                                                                   char_tfidf_x_train, char_tfidf_x_val, \n",
    "                                                                   y_train, y_val)\n",
    "\n",
    "acc, precision, recall, f1 = classification_report(y_val, LSVC_char_tfidf_predictions)\n",
    "print(\"Validation Accuracy: \", acc)\n",
    "print(\"\\nPrecision: \", precision)\n",
    "print(\"Average Precision: \", np.mean(precision))\n",
    "print(\"\\nRecall: \", recall)\n",
    "print(\"Average nRecall: \", np.mean(recall))\n",
    "print(\"\\nF1-Score: \", f1)\n",
    "print(\"Average F1-Score: \", np.mean(f1))"
   ]
  },
  {
   "cell_type": "markdown",
   "metadata": {},
   "source": [
    "## Indic-Word Embedding bassed approach"
   ]
  },
  {
   "cell_type": "code",
   "execution_count": 31,
   "metadata": {},
   "outputs": [
    {
     "name": "stdout",
     "output_type": "stream",
     "text": [
      "Validation Accuracy:  0.7775132275132275\n",
      "\n",
      "Precision:  [0.78594249 0.77227139 0.78103044 0.78104575]\n",
      "Average Precision:  0.780072518760579\n",
      "\n",
      "Recall:  [0.58571429 0.86976744 0.75367232 0.73917526]\n",
      "Average nRecall:  0.7370823254227226\n",
      "\n",
      "F1-Score:  [0.67121419 0.818125   0.76710753 0.7595339 ]\n",
      "Average F1-Score:  0.7539951549093648\n"
     ]
    },
    {
     "name": "stderr",
     "output_type": "stream",
     "text": [
      "/home/eastwind/anaconda3/lib/python3.8/site-packages/sklearn/svm/_base.py:976: ConvergenceWarning: Liblinear failed to converge, increase the number of iterations.\n",
      "  warnings.warn(\"Liblinear failed to converge, increase \"\n"
     ]
    }
   ],
   "source": [
    "# Linear SVC on Count Vectors based indic fasttext word embeddings\n",
    "LSVC_ft_bow, LSVC_ft_bow_predictions = ml_classifier_model(LinearSVC(max_iter=2000), \n",
    "                                                           ft_bow_x_train, ft_bow_x_val, \n",
    "                                                           y_train, y_val)\n",
    "\n",
    "acc, precision, recall, f1 = classification_report(y_val, LSVC_ft_bow_predictions)\n",
    "print(\"Validation Accuracy: \", acc)\n",
    "print(\"\\nPrecision: \", precision)\n",
    "print(\"Average Precision: \", np.mean(precision))\n",
    "print(\"\\nRecall: \", recall)\n",
    "print(\"Average nRecall: \", np.mean(recall))\n",
    "print(\"\\nF1-Score: \", f1)\n",
    "print(\"Average F1-Score: \", np.mean(f1))"
   ]
  },
  {
   "cell_type": "code",
   "execution_count": 32,
   "metadata": {},
   "outputs": [
    {
     "name": "stdout",
     "output_type": "stream",
     "text": [
      "Validation Accuracy:  0.7735449735449735\n",
      "\n",
      "Precision:  [0.76380368 0.77008798 0.77842907 0.77901786]\n",
      "Average Precision:  0.7728346471302543\n",
      "\n",
      "Recall:  [0.59285714 0.87242525 0.75028249 0.71958763]\n",
      "Average nRecall:  0.733788126692066\n",
      "\n",
      "F1-Score:  [0.66756032 0.81806854 0.76409666 0.74812433]\n",
      "Average F1-Score:  0.7494624626225255\n"
     ]
    },
    {
     "name": "stderr",
     "output_type": "stream",
     "text": [
      "/home/eastwind/anaconda3/lib/python3.8/site-packages/sklearn/svm/_base.py:976: ConvergenceWarning: Liblinear failed to converge, increase the number of iterations.\n",
      "  warnings.warn(\"Liblinear failed to converge, increase \"\n"
     ]
    }
   ],
   "source": [
    "# Linear SVC on TF-IDF based indic fasttext word embeddings\n",
    "LSVC_ft_tfidf, LSVC_ft_tfidf_predictions = ml_classifier_model(LinearSVC(), \n",
    "                                                               ft_tfidf_x_train, ft_tfidf_x_val, \n",
    "                                                               y_train, y_val)\n",
    "\n",
    "acc, precision, recall, f1 = classification_report(y_val, LSVC_ft_tfidf_predictions)\n",
    "print(\"Validation Accuracy: \", acc)\n",
    "print(\"\\nPrecision: \", precision)\n",
    "print(\"Average Precision: \", np.mean(precision))\n",
    "print(\"\\nRecall: \", recall)\n",
    "print(\"Average nRecall: \", np.mean(recall))\n",
    "print(\"\\nF1-Score: \", f1)\n",
    "print(\"Average F1-Score: \", np.mean(f1))"
   ]
  },
  {
   "cell_type": "markdown",
   "metadata": {},
   "source": [
    "## Domain Specific Word Embedding bassed approach"
   ]
  },
  {
   "cell_type": "code",
   "execution_count": 33,
   "metadata": {},
   "outputs": [
    {
     "name": "stdout",
     "output_type": "stream",
     "text": [
      "Validation Accuracy:  0.8457671957671957\n",
      "\n",
      "Precision:  [0.85422741 0.82735562 0.88915375 0.8363064 ]\n",
      "Average Precision:  0.8517607959142947\n",
      "\n",
      "Recall:  [0.69761905 0.90431894 0.84293785 0.82164948]\n",
      "Average nRecall:  0.8166313305348878\n",
      "\n",
      "F1-Score:  [0.76802097 0.86412698 0.86542923 0.82891316]\n",
      "Average F1-Score:  0.8316225862119562\n"
     ]
    },
    {
     "name": "stderr",
     "output_type": "stream",
     "text": [
      "/home/eastwind/anaconda3/lib/python3.8/site-packages/sklearn/svm/_base.py:976: ConvergenceWarning: Liblinear failed to converge, increase the number of iterations.\n",
      "  warnings.warn(\"Liblinear failed to converge, increase \"\n"
     ]
    }
   ],
   "source": [
    "# Linear SVC on Count Vectors based domain specific word embeddings\n",
    "LSVC_ds_bow, LSVC_ds_bow_predictions = ml_classifier_model(LinearSVC(), \n",
    "                                                           ds_bow_x_train, ds_bow_x_val, \n",
    "                                                           y_train, y_val)\n",
    "\n",
    "acc, precision, recall, f1 = classification_report(y_val, LSVC_ds_bow_predictions)\n",
    "print(\"Validation Accuracy: \", acc)\n",
    "print(\"\\nPrecision: \", precision)\n",
    "print(\"Average Precision: \", np.mean(precision))\n",
    "print(\"\\nRecall: \", recall)\n",
    "print(\"Average nRecall: \", np.mean(recall))\n",
    "print(\"\\nF1-Score: \", f1)\n",
    "print(\"Average F1-Score: \", np.mean(f1))"
   ]
  },
  {
   "cell_type": "code",
   "execution_count": 34,
   "metadata": {},
   "outputs": [
    {
     "name": "stdout",
     "output_type": "stream",
     "text": [
      "Validation Accuracy:  0.8494708994708995\n",
      "\n",
      "Precision:  [0.88855422 0.81195079 0.89927184 0.86041439]\n",
      "Average Precision:  0.8650478117885909\n",
      "\n",
      "Recall:  [0.70238095 0.92093023 0.83728814 0.81340206]\n",
      "Average nRecall:  0.8185003455969955\n",
      "\n",
      "F1-Score:  [0.78457447 0.8630137  0.86717379 0.83624801]\n",
      "Average F1-Score:  0.8377524913183791\n"
     ]
    },
    {
     "name": "stderr",
     "output_type": "stream",
     "text": [
      "/home/eastwind/anaconda3/lib/python3.8/site-packages/sklearn/svm/_base.py:976: ConvergenceWarning: Liblinear failed to converge, increase the number of iterations.\n",
      "  warnings.warn(\"Liblinear failed to converge, increase \"\n"
     ]
    }
   ],
   "source": [
    "# Linear SVC on TF-IDF based domain specific word embeddings\n",
    "LSVC_ds_tfidf, LSVC_ds_tfidf_predictions = ml_classifier_model(LinearSVC(), \n",
    "                                                               ds_tfidf_x_train, ds_tfidf_x_val, \n",
    "                                                               y_train, y_val)\n",
    "\n",
    "acc, precision, recall, f1 = classification_report(y_val, LSVC_ds_tfidf_predictions)\n",
    "print(\"Validation Accuracy: \", acc)\n",
    "print(\"\\nPrecision: \", precision)\n",
    "print(\"Average Precision: \", np.mean(precision))\n",
    "print(\"\\nRecall: \", recall)\n",
    "print(\"Average nRecall: \", np.mean(recall))\n",
    "print(\"\\nF1-Score: \", f1)\n",
    "print(\"Average F1-Score: \", np.mean(f1))"
   ]
  },
  {
   "cell_type": "code",
   "execution_count": 36,
   "metadata": {},
   "outputs": [
    {
     "data": {
      "text/plain": [
       "['../models/linear-svc/LSVC_-ds-tfidf.pk1']"
      ]
     },
     "execution_count": 36,
     "metadata": {},
     "output_type": "execute_result"
    }
   ],
   "source": [
    "dump(LSVC_bow, \"../models/linear-svc/LSVC-bow.pk1\")\n",
    "dump(LSVC_tfidf, \"../models/linear-svc/LSVC-tfidf.pk1\")\n",
    "dump(LSVC_ngram_tfidf, \"../models/linear-svc/LSVC-ngram-tfidf.pk1\")\n",
    "dump(LSVC_char_tfidf, \"../models/linear-svc/LSVC-char-tfidf.pk1\")\n",
    "dump(LSVC_ft_bow, \"../models/linear-svc/LSVC-indic-bow.pk1\")\n",
    "dump(LSVC_ft_tfidf, \"../models/linear-svc/LSVC-indic-tfidf.pk1\")\n",
    "dump(LSVC_ds_bow, \"../models/linear-svc/LSVC-ds-bow.pk1\")\n",
    "dump(LSVC_ds_tfidf, \"../models/linear-svc/LSVC_-ds-tfidf.pk1\")"
   ]
  },
  {
   "cell_type": "markdown",
   "metadata": {},
   "source": [
    "# Random Forest"
   ]
  },
  {
   "cell_type": "code",
   "execution_count": null,
   "metadata": {
    "scrolled": true
   },
   "outputs": [],
   "source": [
    "# Random Forest on  Count Vectors\n",
    "RF_bow, RF_bow_predictions = ml_classifier_model(RandomForestClassifier(), \n",
    "                                                 bow_x_train, bow_x_val, \n",
    "                                                 y_train, y_val)\n",
    "\n",
    "acc, precision, recall, f1 = classification_report(y_val, RF_bow_predictions)\n",
    "print(\"Validation Accuracy: \", acc)\n",
    "print(\"\\nPrecision: \", precision)\n",
    "print(\"Average Precision: \", np.mean(precision))\n",
    "print(\"\\nRecall: \", recall)\n",
    "print(\"Average nRecall: \", np.mean(recall))\n",
    "print(\"\\nF1-Score: \", f1)\n",
    "print(\"Average F1-Score: \", np.mean(f1))"
   ]
  },
  {
   "cell_type": "code",
   "execution_count": 31,
   "metadata": {},
   "outputs": [
    {
     "name": "stdout",
     "output_type": "stream",
     "text": [
      "Random Forest, TF-IDF Vectors:  0.7505291005291005\n"
     ]
    }
   ],
   "source": [
    "# Random Forest on TF-IDF\n",
    "RF_tfidf, RF_tfidf_predictions = ml_classifier_model(RandomForestClassifier(), \n",
    "                                                     tfidf_x_train, tfidf_x_val, \n",
    "                                                     y_train, y_val)\n",
    "\n",
    "acc, precision, recall, f1 = classification_report(y_val, RF_tfidf_predictions)\n",
    "print(\"Validation Accuracy: \", acc)\n",
    "print(\"\\nPrecision: \", precision)\n",
    "print(\"Average Precision: \", np.mean(precision))\n",
    "print(\"\\nRecall: \", recall)\n",
    "print(\"Average nRecall: \", np.mean(recall))\n",
    "print(\"\\nF1-Score: \", f1)\n",
    "print(\"Average F1-Score: \", np.mean(f1))"
   ]
  },
  {
   "cell_type": "code",
   "execution_count": 42,
   "metadata": {
    "scrolled": true
   },
   "outputs": [
    {
     "name": "stdout",
     "output_type": "stream",
     "text": [
      "Random Forest, n-gram TF-IDF Vectors:  0.741005291005291\n"
     ]
    }
   ],
   "source": [
    "# Random Forest on n-gram TF-IDF\n",
    "RF_ngram_tfidf, RF_ngram_tfidf_predictions = ml_classifier_model(RandomForestClassifier(), \n",
    "                                                                 n_gram_tfidf_x_train, n_gram_tfidf_x_val, \n",
    "                                                                 y_train, y_val)\n",
    "\n",
    "acc, precision, recall, f1 = classification_report(y_val, RF_ngram_tfidf_predictions)\n",
    "print(\"Validation Accuracy: \", acc)\n",
    "print(\"\\nPrecision: \", precision)\n",
    "print(\"Average Precision: \", np.mean(precision))\n",
    "print(\"\\nRecall: \", recall)\n",
    "print(\"Average nRecall: \", np.mean(recall))\n",
    "print(\"\\nF1-Score: \", f1)\n",
    "print(\"Average F1-Score: \", np.mean(f1))"
   ]
  },
  {
   "cell_type": "code",
   "execution_count": 58,
   "metadata": {},
   "outputs": [
    {
     "name": "stdout",
     "output_type": "stream",
     "text": [
      "Random Forest, character-level TF-IDF Vectors:  0.7425925925925926\n"
     ]
    }
   ],
   "source": [
    "# Random Forest on character-level TF-IDF\n",
    "RF_char_tfidf, RF_char_tfidf_predictions = ml_classifier_model(RandomForestClassifier(), \n",
    "                                                               char_tfidf_x_train, char_tfidf_x_val, \n",
    "                                                               y_train, y_val)\n",
    "\n",
    "acc, precision, recall, f1 = classification_report(y_val, RF_char_tfidf_predictions)\n",
    "print(\"Validation Accuracy: \", acc)\n",
    "print(\"\\nPrecision: \", precision)\n",
    "print(\"Average Precision: \", np.mean(precision))\n",
    "print(\"\\nRecall: \", recall)\n",
    "print(\"Average nRecall: \", np.mean(recall))\n",
    "print(\"\\nF1-Score: \", f1)\n",
    "print(\"Average F1-Score: \", np.mean(f1))"
   ]
  },
  {
   "cell_type": "markdown",
   "metadata": {},
   "source": [
    "# K-Nearest Neighbors"
   ]
  },
  {
   "cell_type": "code",
   "execution_count": 38,
   "metadata": {},
   "outputs": [
    {
     "name": "stdout",
     "output_type": "stream",
     "text": [
      "Validation Accuracy:  0.4746031746031746\n",
      "\n",
      "Precision:  [0.33957219 0.55125952 0.59060403 0.39257673]\n",
      "Average Precision:  0.46850311747264384\n",
      "\n",
      "Recall:  [0.30238095 0.62524917 0.19887006 0.56701031]\n",
      "Average nRecall:  0.42337762189792344\n",
      "\n",
      "F1-Score:  [0.31989924 0.58592777 0.29754861 0.46393927]\n",
      "Average F1-Score:  0.41682872164127943\n"
     ]
    }
   ],
   "source": [
    "# K-Nearest Neighbors on  Count Vectors\n",
    "knn_bow, knn_bow_predictions = ml_classifier_model(KNeighborsClassifier(n_neighbors=11), \n",
    "                                                   bow_x_train, bow_x_val, \n",
    "                                                   y_train, y_val)\n",
    "\n",
    "acc, precision, recall, f1 = classification_report(y_val, knn_bow_predictions)\n",
    "print(\"Validation Accuracy: \", acc)\n",
    "print(\"\\nPrecision: \", precision)\n",
    "print(\"Average Precision: \", np.mean(precision))\n",
    "print(\"\\nRecall: \", recall)\n",
    "print(\"Average nRecall: \", np.mean(recall))\n",
    "print(\"\\nF1-Score: \", f1)\n",
    "print(\"Average F1-Score: \", np.mean(f1))"
   ]
  },
  {
   "cell_type": "code",
   "execution_count": 39,
   "metadata": {},
   "outputs": [
    {
     "name": "stdout",
     "output_type": "stream",
     "text": [
      "Validation Accuracy:  0.3523809523809524\n",
      "\n",
      "Precision:  [0.16705882 0.43350785 0.69230769 0.28876245]\n",
      "Average Precision:  0.3954092039743572\n",
      "\n",
      "Recall:  [0.16904762 0.55016611 0.03050847 0.4185567 ]\n",
      "Average nRecall:  0.29206972690290717\n",
      "\n",
      "F1-Score:  [0.16804734 0.48491947 0.05844156 0.34175084]\n",
      "Average F1-Score:  0.2632898025960308\n"
     ]
    }
   ],
   "source": [
    "# Random Forest on TF-IDF\n",
    "knn_tfidf, knn_tfidf_predictions = ml_classifier_model(KNeighborsClassifier(n_neighbors=11), \n",
    "                                                       tfidf_x_train, tfidf_x_val, \n",
    "                                                       y_train, y_val)\n",
    "\n",
    "acc, precision, recall, f1 = classification_report(y_val, knn_tfidf_predictions)\n",
    "print(\"Validation Accuracy: \", acc)\n",
    "print(\"\\nPrecision: \", precision)\n",
    "print(\"Average Precision: \", np.mean(precision))\n",
    "print(\"\\nRecall: \", recall)\n",
    "print(\"Average nRecall: \", np.mean(recall))\n",
    "print(\"\\nF1-Score: \", f1)\n",
    "print(\"Average F1-Score: \", np.mean(f1))"
   ]
  },
  {
   "cell_type": "code",
   "execution_count": 40,
   "metadata": {},
   "outputs": [
    {
     "name": "stdout",
     "output_type": "stream",
     "text": [
      "Validation Accuracy:  0.3547619047619048\n",
      "\n",
      "Precision:  [0.09090909 0.41197183 0.8        0.27402135]\n",
      "Average Precision:  0.3942255685520435\n",
      "\n",
      "Recall:  [0.01904762 0.62192691 0.01355932 0.39690722]\n",
      "Average nRecall:  0.2628602669688415\n",
      "\n",
      "F1-Score:  [0.03149606 0.49563145 0.02666667 0.32421053]\n",
      "Average F1-Score:  0.2195011773772833\n"
     ]
    }
   ],
   "source": [
    "# Random Forest on n-gram TF-IDF\n",
    "knn_ngram_tfidf, knn_ngram_tfidf_predictions = ml_classifier_model(KNeighborsClassifier(n_neighbors=11), \n",
    "                                                                   n_gram_tfidf_x_train, n_gram_tfidf_x_val, \n",
    "                                                                   y_train, y_val)\n",
    "\n",
    "acc, precision, recall, f1 = classification_report(y_val, knn_ngram_tfidf_predictions)\n",
    "print(\"Validation Accuracy: \", acc)\n",
    "print(\"\\nPrecision: \", precision)\n",
    "print(\"Average Precision: \", np.mean(precision))\n",
    "print(\"\\nRecall: \", recall)\n",
    "print(\"Average nRecall: \", np.mean(recall))\n",
    "print(\"\\nF1-Score: \", f1)\n",
    "print(\"Average F1-Score: \", np.mean(f1))"
   ]
  },
  {
   "cell_type": "code",
   "execution_count": 41,
   "metadata": {},
   "outputs": [
    {
     "name": "stdout",
     "output_type": "stream",
     "text": [
      "Validation Accuracy:  0.3962962962962963\n",
      "\n",
      "Precision:  [0.24164524 0.46460177 0.88288288 0.31657609]\n",
      "Average Precision:  0.47642649599171183\n",
      "\n",
      "Recall:  [0.22380952 0.55813953 0.11073446 0.48041237]\n",
      "Average nRecall:  0.3432739732760254\n",
      "\n",
      "F1-Score:  [0.23238566 0.50709327 0.19678715 0.38165438]\n",
      "Average F1-Score:  0.329480115124889\n"
     ]
    }
   ],
   "source": [
    "# Random Forest on character-level TF-IDF\n",
    "knn_char_tfidf, knn_char_tfidf_predictions = ml_classifier_model(KNeighborsClassifier(n_neighbors=11), \n",
    "                                                                 char_tfidf_x_train, char_tfidf_x_val, \n",
    "                                                                 y_train, y_val)\n",
    "\n",
    "acc, precision, recall, f1 = classification_report(y_val, knn_char_tfidf_predictions)\n",
    "print(\"Validation Accuracy: \", acc)\n",
    "print(\"\\nPrecision: \", precision)\n",
    "print(\"Average Precision: \", np.mean(precision))\n",
    "print(\"\\nRecall: \", recall)\n",
    "print(\"Average nRecall: \", np.mean(recall))\n",
    "print(\"\\nF1-Score: \", f1)\n",
    "print(\"Average F1-Score: \", np.mean(f1))"
   ]
  },
  {
   "cell_type": "code",
   "execution_count": null,
   "metadata": {},
   "outputs": [],
   "source": []
  }
 ],
 "metadata": {
  "kernelspec": {
   "display_name": "Python 3",
   "language": "python",
   "name": "python3"
  },
  "language_info": {
   "codemirror_mode": {
    "name": "ipython",
    "version": 3
   },
   "file_extension": ".py",
   "mimetype": "text/x-python",
   "name": "python",
   "nbconvert_exporter": "python",
   "pygments_lexer": "ipython3",
   "version": "3.8.3"
  }
 },
 "nbformat": 4,
 "nbformat_minor": 4
}
