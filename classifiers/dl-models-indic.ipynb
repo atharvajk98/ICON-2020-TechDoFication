{
 "cells": [
  {
   "cell_type": "code",
   "execution_count": 1,
   "metadata": {},
   "outputs": [],
   "source": [
    "import pandas as pd\n",
    "import numpy as np\n",
    "from time import process_time\n",
    "from joblib import dump\n",
    "import tensorflow as tf\n",
    "from tensorflow.keras.regularizers import l2\n",
    "from data_preprocessing import *\n",
    "from model import *"
   ]
  },
  {
   "cell_type": "code",
   "execution_count": 2,
   "metadata": {},
   "outputs": [
    {
     "data": {
      "text/html": [
       "<div>\n",
       "<style scoped>\n",
       "    .dataframe tbody tr th:only-of-type {\n",
       "        vertical-align: middle;\n",
       "    }\n",
       "\n",
       "    .dataframe tbody tr th {\n",
       "        vertical-align: top;\n",
       "    }\n",
       "\n",
       "    .dataframe thead th {\n",
       "        text-align: right;\n",
       "    }\n",
       "</style>\n",
       "<table border=\"1\" class=\"dataframe\">\n",
       "  <thead>\n",
       "    <tr style=\"text-align: right;\">\n",
       "      <th></th>\n",
       "      <th>text</th>\n",
       "      <th>label</th>\n",
       "    </tr>\n",
       "  </thead>\n",
       "  <tbody>\n",
       "    <tr>\n",
       "      <th>0</th>\n",
       "      <td>प्रा . प्रताप हरिदास : होय , मला वाटते की हा ए...</td>\n",
       "      <td>com_tech</td>\n",
       "    </tr>\n",
       "    <tr>\n",
       "      <th>1</th>\n",
       "      <td>तर , विशिष्ट गोष्टींद्वारे , ठराविक कायद्यांद्...</td>\n",
       "      <td>bioche</td>\n",
       "    </tr>\n",
       "    <tr>\n",
       "      <th>2</th>\n",
       "      <td>- - - - - - - - - - - - - - - - - - - - - - - ...</td>\n",
       "      <td>cse</td>\n",
       "    </tr>\n",
       "    <tr>\n",
       "      <th>3</th>\n",
       "      <td>तर , आपला अर्धा चिन्ह 9 वाजता असेल .</td>\n",
       "      <td>phy</td>\n",
       "    </tr>\n",
       "    <tr>\n",
       "      <th>4</th>\n",
       "      <td>म्हणून , मी असे म्हणालो की जर शेकडो , हजारो कि...</td>\n",
       "      <td>phy</td>\n",
       "    </tr>\n",
       "    <tr>\n",
       "      <th>...</th>\n",
       "      <td>...</td>\n",
       "      <td>...</td>\n",
       "    </tr>\n",
       "    <tr>\n",
       "      <th>41992</th>\n",
       "      <td>जरी आपण डेटा कूटबद्ध केला , तरीही हा मुख्य व्य...</td>\n",
       "      <td>cse</td>\n",
       "    </tr>\n",
       "    <tr>\n",
       "      <th>41993</th>\n",
       "      <td>ते म्हणतात - \" ज्याला पाहण्यासाठी डोळे , ऎकण्य...</td>\n",
       "      <td>com_tech</td>\n",
       "    </tr>\n",
       "    <tr>\n",
       "      <th>41994</th>\n",
       "      <td>प्रथम क्रोनोलॉजिकल , क्रॉनोलॉजी म्हणजे आपल्याल...</td>\n",
       "      <td>com_tech</td>\n",
       "    </tr>\n",
       "    <tr>\n",
       "      <th>41995</th>\n",
       "      <td>त्या थोड्या तपशीलावर येईल , जेणेकरून संपूर्ण ग...</td>\n",
       "      <td>bioche</td>\n",
       "    </tr>\n",
       "    <tr>\n",
       "      <th>41996</th>\n",
       "      <td>आणि एका हॉटेलमध्ये त्यांनी एका स्विस रेस्ट्राम...</td>\n",
       "      <td>com_tech</td>\n",
       "    </tr>\n",
       "  </tbody>\n",
       "</table>\n",
       "<p>41997 rows × 2 columns</p>\n",
       "</div>"
      ],
      "text/plain": [
       "                                                    text     label\n",
       "0      प्रा . प्रताप हरिदास : होय , मला वाटते की हा ए...  com_tech\n",
       "1      तर , विशिष्ट गोष्टींद्वारे , ठराविक कायद्यांद्...    bioche\n",
       "2      - - - - - - - - - - - - - - - - - - - - - - - ...       cse\n",
       "3                   तर , आपला अर्धा चिन्ह 9 वाजता असेल .       phy\n",
       "4      म्हणून , मी असे म्हणालो की जर शेकडो , हजारो कि...       phy\n",
       "...                                                  ...       ...\n",
       "41992  जरी आपण डेटा कूटबद्ध केला , तरीही हा मुख्य व्य...       cse\n",
       "41993  ते म्हणतात - \" ज्याला पाहण्यासाठी डोळे , ऎकण्य...  com_tech\n",
       "41994  प्रथम क्रोनोलॉजिकल , क्रॉनोलॉजी म्हणजे आपल्याल...  com_tech\n",
       "41995  त्या थोड्या तपशीलावर येईल , जेणेकरून संपूर्ण ग...    bioche\n",
       "41996  आणि एका हॉटेलमध्ये त्यांनी एका स्विस रेस्ट्राम...  com_tech\n",
       "\n",
       "[41997 rows x 2 columns]"
      ]
     },
     "execution_count": 2,
     "metadata": {},
     "output_type": "execute_result"
    }
   ],
   "source": [
    "training_path = \"../dataset/original-dataset/marathi-training-data.csv\"\n",
    "training_data = read_data(training_path)\n",
    "training_data"
   ]
  },
  {
   "cell_type": "code",
   "execution_count": 3,
   "metadata": {},
   "outputs": [
    {
     "data": {
      "text/html": [
       "<div>\n",
       "<style scoped>\n",
       "    .dataframe tbody tr th:only-of-type {\n",
       "        vertical-align: middle;\n",
       "    }\n",
       "\n",
       "    .dataframe tbody tr th {\n",
       "        vertical-align: top;\n",
       "    }\n",
       "\n",
       "    .dataframe thead th {\n",
       "        text-align: right;\n",
       "    }\n",
       "</style>\n",
       "<table border=\"1\" class=\"dataframe\">\n",
       "  <thead>\n",
       "    <tr style=\"text-align: right;\">\n",
       "      <th></th>\n",
       "      <th>text</th>\n",
       "      <th>label</th>\n",
       "    </tr>\n",
       "  </thead>\n",
       "  <tbody>\n",
       "    <tr>\n",
       "      <th>0</th>\n",
       "      <td>1 ची ओळ .</td>\n",
       "      <td>cse</td>\n",
       "    </tr>\n",
       "    <tr>\n",
       "      <th>1</th>\n",
       "      <td>तर , ही एक टॉवर आहे जी टॉवरवर निश्चित केली जात...</td>\n",
       "      <td>phy</td>\n",
       "    </tr>\n",
       "    <tr>\n",
       "      <th>2</th>\n",
       "      <td>तर , थ्रेडच्या परतीच्या स्थितीस पास करण्यासाठी...</td>\n",
       "      <td>cse</td>\n",
       "    </tr>\n",
       "    <tr>\n",
       "      <th>3</th>\n",
       "      <td>आपण लोक शोधत आहात जे आपल्यासाठी काहीतरी करू शक...</td>\n",
       "      <td>com_tech</td>\n",
       "    </tr>\n",
       "    <tr>\n",
       "      <th>4</th>\n",
       "      <td>लिनक्स कर्नल अनुसूचीतकरणामध्ये अशी तंत्र असण्य...</td>\n",
       "      <td>cse</td>\n",
       "    </tr>\n",
       "    <tr>\n",
       "      <th>...</th>\n",
       "      <td>...</td>\n",
       "      <td>...</td>\n",
       "    </tr>\n",
       "    <tr>\n",
       "      <th>3775</th>\n",
       "      <td>नंतर वृद्धत्व , व्हॉट मोठ्या प्रमाणात फ्रॉन 12...</td>\n",
       "      <td>bioche</td>\n",
       "    </tr>\n",
       "    <tr>\n",
       "      <th>3776</th>\n",
       "      <td>आणि मग सुद्धा आपल्याला काही सेकंदांनंतर माहित ...</td>\n",
       "      <td>phy</td>\n",
       "    </tr>\n",
       "    <tr>\n",
       "      <th>3777</th>\n",
       "      <td>तर , आपण ELF शीर्षलेखासह प्रारंभ करू .</td>\n",
       "      <td>cse</td>\n",
       "    </tr>\n",
       "    <tr>\n",
       "      <th>3778</th>\n",
       "      <td>तर , त्या क्रॉस्टची जाडी आहे .</td>\n",
       "      <td>phy</td>\n",
       "    </tr>\n",
       "    <tr>\n",
       "      <th>3779</th>\n",
       "      <td>तर , मला वाटते की ही माहिती अशी आहे की आपण एका...</td>\n",
       "      <td>phy</td>\n",
       "    </tr>\n",
       "  </tbody>\n",
       "</table>\n",
       "<p>3780 rows × 2 columns</p>\n",
       "</div>"
      ],
      "text/plain": [
       "                                                   text     label\n",
       "0                                             1 ची ओळ .       cse\n",
       "1     तर , ही एक टॉवर आहे जी टॉवरवर निश्चित केली जात...       phy\n",
       "2     तर , थ्रेडच्या परतीच्या स्थितीस पास करण्यासाठी...       cse\n",
       "3     आपण लोक शोधत आहात जे आपल्यासाठी काहीतरी करू शक...  com_tech\n",
       "4     लिनक्स कर्नल अनुसूचीतकरणामध्ये अशी तंत्र असण्य...       cse\n",
       "...                                                 ...       ...\n",
       "3775  नंतर वृद्धत्व , व्हॉट मोठ्या प्रमाणात फ्रॉन 12...    bioche\n",
       "3776  आणि मग सुद्धा आपल्याला काही सेकंदांनंतर माहित ...       phy\n",
       "3777             तर , आपण ELF शीर्षलेखासह प्रारंभ करू .       cse\n",
       "3778                     तर , त्या क्रॉस्टची जाडी आहे .       phy\n",
       "3779  तर , मला वाटते की ही माहिती अशी आहे की आपण एका...       phy\n",
       "\n",
       "[3780 rows x 2 columns]"
      ]
     },
     "execution_count": 3,
     "metadata": {},
     "output_type": "execute_result"
    }
   ],
   "source": [
    "val_path = \"../dataset/original-dataset/marathi-validation-data.csv\"\n",
    "val_data = read_data(val_path)\n",
    "val_data"
   ]
  },
  {
   "cell_type": "code",
   "execution_count": 4,
   "metadata": {},
   "outputs": [
    {
     "name": "stdout",
     "output_type": "stream",
     "text": [
      "41997\n",
      "41997\n",
      "3780\n",
      "3780\n"
     ]
    }
   ],
   "source": [
    "x_train = training_data.text.apply(lambda x: preprocess_data(x)).values.tolist()\n",
    "y_train = training_data.label.values.tolist()\n",
    "x_val = val_data.text.apply(lambda x: preprocess_data(x)).values.tolist()\n",
    "y_val = val_data.label.values.tolist()\n",
    "print(len(x_train))\n",
    "print(len(y_train))\n",
    "print(len(x_val))\n",
    "print(len(y_val))"
   ]
  },
  {
   "cell_type": "code",
   "execution_count": 5,
   "metadata": {},
   "outputs": [],
   "source": [
    "y_train, y_val = label_encoder(y_train, y_val)"
   ]
  },
  {
   "cell_type": "code",
   "execution_count": 6,
   "metadata": {},
   "outputs": [
    {
     "name": "stdout",
     "output_type": "stream",
     "text": [
      "(41997, 1)\n",
      "(3780, 1)\n"
     ]
    }
   ],
   "source": [
    "y_train = y_train.reshape(y_train.shape[0], -1)\n",
    "y_val = y_val.reshape(y_val.shape[0], -1)\n",
    "print(y_train.shape)\n",
    "print(y_val.shape)"
   ]
  },
  {
   "cell_type": "code",
   "execution_count": 7,
   "metadata": {},
   "outputs": [],
   "source": [
    "pad_len=100\n",
    "padding_type='post'\n",
    "truncating_type='post'"
   ]
  },
  {
   "cell_type": "code",
   "execution_count": 8,
   "metadata": {},
   "outputs": [],
   "source": [
    "tokenizer, x_train_padded, x_val_padded = tokenizer_and_pad_training(x_train, \n",
    "                                                                     x_val, \n",
    "                                                                     pad_len, \n",
    "                                                                     padding_type, \n",
    "                                                                     truncating_type)"
   ]
  },
  {
   "cell_type": "code",
   "execution_count": null,
   "metadata": {},
   "outputs": [],
   "source": [
    "dump(tokenizer, \"../tokenizers/DL-tokenizer-100.pk1\")"
   ]
  },
  {
   "cell_type": "code",
   "execution_count": 9,
   "metadata": {},
   "outputs": [
    {
     "name": "stdout",
     "output_type": "stream",
     "text": [
      "(41997, 100)\n",
      "(3780, 100)\n"
     ]
    }
   ],
   "source": [
    "print(x_train_padded.shape)\n",
    "print(x_val_padded.shape)"
   ]
  },
  {
   "cell_type": "code",
   "execution_count": 10,
   "metadata": {},
   "outputs": [],
   "source": [
    "vocab = tokenizer.word_index"
   ]
  },
  {
   "cell_type": "code",
   "execution_count": 11,
   "metadata": {},
   "outputs": [
    {
     "name": "stdout",
     "output_type": "stream",
     "text": [
      "29198\n",
      "Total time taken:  12.513181067\n"
     ]
    },
    {
     "data": {
      "text/plain": [
       "(51791, 300)"
      ]
     },
     "execution_count": 11,
     "metadata": {},
     "output_type": "execute_result"
    }
   ],
   "source": [
    "start = process_time()\n",
    "embedding_path1 = \"/home/eastwind/word-embeddings/fasttext/indicnlp.ft.mr.300.vec\"\n",
    "embedding_matrix1 = get_embedding_matrix(embedding_path1, vocab)\n",
    "end = process_time()\n",
    "print(\"Total time taken: \", end-start)\n",
    "embedding_matrix1.shape"
   ]
  },
  {
   "cell_type": "code",
   "execution_count": 12,
   "metadata": {},
   "outputs": [
    {
     "name": "stdout",
     "output_type": "stream",
     "text": [
      "Input vocab:  51791\n",
      "Embedding dimensions:  300\n",
      "Input sentence dimensions:  100\n"
     ]
    }
   ],
   "source": [
    "input_dim = embedding_matrix1.shape[0]\n",
    "embedding_dim = 300\n",
    "input_len = pad_len\n",
    "print(\"Input vocab: \", input_dim)\n",
    "print(\"Embedding dimensions: \", embedding_dim)\n",
    "print(\"Input sentence dimensions: \", input_len)"
   ]
  },
  {
   "cell_type": "code",
   "execution_count": 13,
   "metadata": {},
   "outputs": [],
   "source": [
    "myCB = myCallbacks(metrics='acc', threshold=0.95)"
   ]
  },
  {
   "cell_type": "markdown",
   "metadata": {},
   "source": [
    "# Feed-Forward Neural Network Model"
   ]
  },
  {
   "cell_type": "code",
   "execution_count": 14,
   "metadata": {},
   "outputs": [
    {
     "name": "stdout",
     "output_type": "stream",
     "text": [
      "Model: \"sequential\"\n",
      "_________________________________________________________________\n",
      "Layer (type)                 Output Shape              Param #   \n",
      "=================================================================\n",
      "embedding (Embedding)        (None, 100, 300)          15537300  \n",
      "_________________________________________________________________\n",
      "global_max_pooling1d (Global (None, 300)               0         \n",
      "_________________________________________________________________\n",
      "dense (Dense)                (None, 64)                19264     \n",
      "_________________________________________________________________\n",
      "dense_1 (Dense)              (None, 32)                2080      \n",
      "_________________________________________________________________\n",
      "dense_2 (Dense)              (None, 4)                 132       \n",
      "=================================================================\n",
      "Total params: 15,558,776\n",
      "Trainable params: 21,476\n",
      "Non-trainable params: 15,537,300\n",
      "_________________________________________________________________\n"
     ]
    }
   ],
   "source": [
    "myDNN = create_model_DNN(input_dim, \n",
    "                         embedding_dim, \n",
    "                         embedding_matrix1, \n",
    "                         input_len, \n",
    "                         trainable=False, \n",
    "                         n1=64, n2=32, \n",
    "                         kr=l2(0.015))\n",
    "myDNN.summary()"
   ]
  },
  {
   "cell_type": "code",
   "execution_count": 15,
   "metadata": {},
   "outputs": [
    {
     "name": "stdout",
     "output_type": "stream",
     "text": [
      "Epoch 1/8\n",
      "1313/1313 [==============================] - 4s 3ms/step - loss: 1.2134 - acc: 0.6160 - val_loss: 1.0246 - val_acc: 0.6524\n",
      "Epoch 2/8\n",
      "1313/1313 [==============================] - 4s 3ms/step - loss: 0.9734 - acc: 0.6795 - val_loss: 0.9338 - val_acc: 0.7053\n",
      "Epoch 3/8\n",
      "1313/1313 [==============================] - 4s 3ms/step - loss: 0.9303 - acc: 0.6962 - val_loss: 0.8948 - val_acc: 0.7090\n",
      "Epoch 4/8\n",
      "1313/1313 [==============================] - 4s 3ms/step - loss: 0.9067 - acc: 0.7040 - val_loss: 0.9204 - val_acc: 0.6921\n",
      "Epoch 5/8\n",
      "1313/1313 [==============================] - 4s 3ms/step - loss: 0.8858 - acc: 0.7083 - val_loss: 0.8511 - val_acc: 0.7243\n",
      "Epoch 6/8\n",
      "1313/1313 [==============================] - 4s 3ms/step - loss: 0.8715 - acc: 0.7094 - val_loss: 0.9058 - val_acc: 0.6849\n",
      "Epoch 7/8\n",
      "1313/1313 [==============================] - 4s 3ms/step - loss: 0.8621 - acc: 0.7108 - val_loss: 0.8565 - val_acc: 0.7079\n",
      "Epoch 8/8\n",
      "1313/1313 [==============================] - 4s 3ms/step - loss: 0.8525 - acc: 0.7129 - val_loss: 0.8508 - val_acc: 0.7151\n"
     ]
    }
   ],
   "source": [
    "history1 = myDNN.fit(x_train_padded, \n",
    "                     y_train, \n",
    "                     epochs=8, \n",
    "                     batch_size=32, \n",
    "                     verbose=1, \n",
    "                     validation_data = (x_val_padded, y_val), \n",
    "                     callbacks=[myCB])"
   ]
  },
  {
   "cell_type": "code",
   "execution_count": 16,
   "metadata": {},
   "outputs": [
    {
     "data": {
      "image/png": "[encoded data removed]",
      "text/plain": [
       "<Figure size 432x288 with 1 Axes>"
      ]
     },
     "metadata": {
      "needs_background": "light"
     },
     "output_type": "display_data"
    },
    {
     "data": {
      "image/png": "[encoded data removed]",
      "text/plain": [
       "<Figure size 432x288 with 1 Axes>"
      ]
     },
     "metadata": {
      "needs_background": "light"
     },
     "output_type": "display_data"
    }
   ],
   "source": [
    "plot_curves(history1)"
   ]
  },
  {
   "cell_type": "code",
   "execution_count": null,
   "metadata": {},
   "outputs": [],
   "source": [
    "name = \"FFNN/FFNN-n1.64-n2.32-kr0015-vacc8585\"\n",
    "myDNN.save(\"../models/\"+name+\".h5\")\n",
    "# serialize model to JSON\n",
    "model_json = myDNN.to_json()\n",
    "with open(\"../models/\"+name+\".json\", \"w\") as json_file:\n",
    "    json_file.write(model_json)\n",
    "# serialize weights to HDF5\n",
    "myDNN.save_weights(\"../models/\"+name+\"_weights.h5\")"
   ]
  },
  {
   "cell_type": "code",
   "execution_count": null,
   "metadata": {},
   "outputs": [],
   "source": [
    "myDNN = model_load(\"../models/FFNN/FFNN-n1.64-n2.32-kr0015-vacc8585.h5\")"
   ]
  },
  {
   "cell_type": "code",
   "execution_count": 17,
   "metadata": {},
   "outputs": [],
   "source": [
    "results1 = np.argmax(myDNN.predict(x_val_padded), axis=-1)"
   ]
  },
  {
   "cell_type": "code",
   "execution_count": 18,
   "metadata": {},
   "outputs": [
    {
     "name": "stdout",
     "output_type": "stream",
     "text": [
      "Validation Accuracy:  0.7150793650793651\n",
      "\n",
      "Precision:  [0.7        0.72013849 0.78395062 0.66891242]\n",
      "Average Precision:  0.7182503803097902\n",
      "\n",
      "Recall:  [0.6        0.82923588 0.5740113  0.71649485]\n",
      "Average nRecall:  0.6799355062986311\n",
      "\n",
      "F1-Score:  [0.64615385 0.7708462  0.66275277 0.69188651]\n",
      "Average F1-Score:  0.6929098326390912\n"
     ]
    }
   ],
   "source": [
    "acc, precision, recall, f1 = classification_report(y_val, results1)\n",
    "print(\"Validation Accuracy: \", acc)\n",
    "print(\"\\nPrecision: \", precision)\n",
    "print(\"Average Precision: \", np.mean(precision))\n",
    "print(\"\\nRecall: \", recall)\n",
    "print(\"Average Recall: \", np.mean(recall))\n",
    "print(\"\\nF1-Score: \", f1)\n",
    "print(\"Average F1-Score: \", np.mean(f1))"
   ]
  },
  {
   "cell_type": "markdown",
   "metadata": {},
   "source": [
    "# CNN Model"
   ]
  },
  {
   "cell_type": "code",
   "execution_count": 19,
   "metadata": {},
   "outputs": [
    {
     "name": "stdout",
     "output_type": "stream",
     "text": [
      "Model: \"sequential_1\"\n",
      "_________________________________________________________________\n",
      "Layer (type)                 Output Shape              Param #   \n",
      "=================================================================\n",
      "embedding_1 (Embedding)      (None, 100, 300)          15537300  \n",
      "_________________________________________________________________\n",
      "conv1d (Conv1D)              (None, 96, 64)            96064     \n",
      "_________________________________________________________________\n",
      "global_max_pooling1d_1 (Glob (None, 64)                0         \n",
      "_________________________________________________________________\n",
      "dropout (Dropout)            (None, 64)                0         \n",
      "_________________________________________________________________\n",
      "dense_3 (Dense)              (None, 4)                 260       \n",
      "=================================================================\n",
      "Total params: 15,633,624\n",
      "Trainable params: 96,324\n",
      "Non-trainable params: 15,537,300\n",
      "_________________________________________________________________\n"
     ]
    }
   ],
   "source": [
    "myCNN = create_model_CNN(input_dim, \n",
    "                         embedding_dim, \n",
    "                         embedding_matrix1, input_len, \n",
    "                         trainable=False, \n",
    "                         n1=64, k=5, \n",
    "                         d=0.25, kr=l2(0.02))\n",
    "myCNN.summary()"
   ]
  },
  {
   "cell_type": "code",
   "execution_count": 20,
   "metadata": {},
   "outputs": [
    {
     "name": "stdout",
     "output_type": "stream",
     "text": [
      "Epoch 1/8\n",
      "1313/1313 [==============================] - 21s 16ms/step - loss: 1.0362 - acc: 0.7227 - val_loss: 0.8653 - val_acc: 0.7611\n",
      "Epoch 2/8\n",
      "1313/1313 [==============================] - 28s 21ms/step - loss: 0.9142 - acc: 0.7444 - val_loss: 0.8645 - val_acc: 0.7712\n",
      "Epoch 3/8\n",
      "1313/1313 [==============================] - 30s 23ms/step - loss: 0.9048 - acc: 0.7497 - val_loss: 0.8577 - val_acc: 0.7693\n",
      "Epoch 4/8\n",
      "1313/1313 [==============================] - 32s 24ms/step - loss: 0.9043 - acc: 0.7558 - val_loss: 0.9135 - val_acc: 0.7283\n",
      "Epoch 5/8\n",
      "1313/1313 [==============================] - 32s 24ms/step - loss: 0.9010 - acc: 0.7557 - val_loss: 0.8566 - val_acc: 0.7738\n",
      "Epoch 6/8\n",
      "1313/1313 [==============================] - 23s 18ms/step - loss: 0.9013 - acc: 0.7560 - val_loss: 0.8422 - val_acc: 0.7730\n",
      "Epoch 7/8\n",
      "1313/1313 [==============================] - 23s 17ms/step - loss: 0.8926 - acc: 0.7600 - val_loss: 0.8498 - val_acc: 0.7706\n",
      "Epoch 8/8\n",
      "1313/1313 [==============================] - 23s 17ms/step - loss: 0.8964 - acc: 0.7570 - val_loss: 0.8545 - val_acc: 0.7709\n"
     ]
    }
   ],
   "source": [
    "history2 = myCNN.fit(x_train_padded, \n",
    "                     y_train, \n",
    "                     epochs=8, \n",
    "                     batch_size=32, \n",
    "                     verbose=1, \n",
    "                     validation_data = (x_val_padded, y_val), \n",
    "                     callbacks=[myCB])"
   ]
  },
  {
   "cell_type": "code",
   "execution_count": 21,
   "metadata": {},
   "outputs": [
    {
     "data": {
      "image/png": "[encoded data removed]",
      "text/plain": [
       "<Figure size 432x288 with 1 Axes>"
      ]
     },
     "metadata": {
      "needs_background": "light"
     },
     "output_type": "display_data"
    },
    {
     "data": {
      "image/png": "[encoded data removed]",
      "text/plain": [
       "<Figure size 432x288 with 1 Axes>"
      ]
     },
     "metadata": {
      "needs_background": "light"
     },
     "output_type": "display_data"
    }
   ],
   "source": [
    "plot_curves(history2)"
   ]
  },
  {
   "cell_type": "code",
   "execution_count": null,
   "metadata": {},
   "outputs": [],
   "source": [
    "name =\"CNN/CNN-n1.64n2.64-kr0015-vacc8632\"\n",
    "myCNN.save(\"../models/\"+name+\".h5\")\n",
    "# serialize model to JSON\n",
    "model_json = myCNN.to_json()\n",
    "with open(\"../models/\"+name+\".json\", \"w\") as json_file:\n",
    "    json_file.write(model_json)\n",
    "# serialize weights to HDF5\n",
    "myCNN.save_weights(\"../models/\"+name+\"_weights.h5\")"
   ]
  },
  {
   "cell_type": "code",
   "execution_count": null,
   "metadata": {},
   "outputs": [],
   "source": [
    "myCNN = model_load(\"../models/CNN/CNN-n1.64n2.64-kr0015-vacc8632.h5\")"
   ]
  },
  {
   "cell_type": "code",
   "execution_count": 22,
   "metadata": {},
   "outputs": [],
   "source": [
    "results2 = np.argmax(myCNN.predict(x_val_padded), axis=-1)"
   ]
  },
  {
   "cell_type": "code",
   "execution_count": 23,
   "metadata": {},
   "outputs": [
    {
     "name": "stdout",
     "output_type": "stream",
     "text": [
      "Validation Accuracy:  0.7708994708994709\n",
      "\n",
      "Precision:  [0.87686567 0.78006231 0.68726937 0.82867558]\n",
      "Average Precision:  0.793218231697053\n",
      "\n",
      "Recall:  [0.55952381 0.83189369 0.84180791 0.70309278]\n",
      "Average nRecall:  0.7340795475852813\n",
      "\n",
      "F1-Score:  [0.68313953 0.80514469 0.7567293  0.7607362 ]\n",
      "Average F1-Score:  0.7514374324879598\n"
     ]
    }
   ],
   "source": [
    "acc, precision, recall, f1 = classification_report(y_val, results2)\n",
    "print(\"Validation Accuracy: \", acc)\n",
    "print(\"\\nPrecision: \", precision)\n",
    "print(\"Average Precision: \", np.mean(precision))\n",
    "print(\"\\nRecall: \", recall)\n",
    "print(\"Average Recall: \", np.mean(recall))\n",
    "print(\"\\nF1-Score: \", f1)\n",
    "print(\"Average F1-Score: \", np.mean(f1))"
   ]
  },
  {
   "cell_type": "markdown",
   "metadata": {},
   "source": [
    "# Bi-LSTM Model"
   ]
  },
  {
   "cell_type": "code",
   "execution_count": 14,
   "metadata": {},
   "outputs": [
    {
     "name": "stdout",
     "output_type": "stream",
     "text": [
      "Model: \"sequential\"\n",
      "_________________________________________________________________\n",
      "Layer (type)                 Output Shape              Param #   \n",
      "=================================================================\n",
      "embedding (Embedding)        (None, 100, 300)          15537300  \n",
      "_________________________________________________________________\n",
      "bidirectional (Bidirectional (None, 100, 64)           85248     \n",
      "_________________________________________________________________\n",
      "global_max_pooling1d (Global (None, 64)                0         \n",
      "_________________________________________________________________\n",
      "dense (Dense)                (None, 32)                2080      \n",
      "_________________________________________________________________\n",
      "dense_1 (Dense)              (None, 4)                 132       \n",
      "=================================================================\n",
      "Total params: 15,624,760\n",
      "Trainable params: 87,460\n",
      "Non-trainable params: 15,537,300\n",
      "_________________________________________________________________\n"
     ]
    }
   ],
   "source": [
    "myLSTM = create_model_LSTM(input_dim, \n",
    "                           embedding_dim, \n",
    "                           embedding_matrix1, \n",
    "                           input_len, \n",
    "                           trainable=False, \n",
    "                           n1=32, n2=32, \n",
    "                           d=0.3)\n",
    "myLSTM.summary()"
   ]
  },
  {
   "cell_type": "code",
   "execution_count": 15,
   "metadata": {},
   "outputs": [
    {
     "name": "stdout",
     "output_type": "stream",
     "text": [
      "Epoch 1/8\n",
      "1313/1313 [==============================] - 198s 151ms/step - loss: 0.6682 - acc: 0.7401 - val_loss: 0.5341 - val_acc: 0.7923\n",
      "Epoch 2/8\n",
      "1313/1313 [==============================] - 176s 134ms/step - loss: 0.5301 - acc: 0.7969 - val_loss: 0.4832 - val_acc: 0.8167\n",
      "Epoch 3/8\n",
      "1313/1313 [==============================] - 182s 139ms/step - loss: 0.4816 - acc: 0.8152 - val_loss: 0.4641 - val_acc: 0.8214\n",
      "Epoch 4/8\n",
      "1313/1313 [==============================] - 191s 146ms/step - loss: 0.4471 - acc: 0.8272 - val_loss: 0.4359 - val_acc: 0.8349\n",
      "Epoch 5/8\n",
      "1313/1313 [==============================] - 201s 153ms/step - loss: 0.4193 - acc: 0.8407 - val_loss: 0.4255 - val_acc: 0.8410\n",
      "Epoch 6/8\n",
      "1313/1313 [==============================] - 210s 160ms/step - loss: 0.3956 - acc: 0.8497 - val_loss: 0.4317 - val_acc: 0.8368\n",
      "Epoch 7/8\n",
      "1313/1313 [==============================] - 207s 158ms/step - loss: 0.3806 - acc: 0.8551 - val_loss: 0.4320 - val_acc: 0.8280\n",
      "Epoch 8/8\n",
      "1313/1313 [==============================] - 259s 197ms/step - loss: 0.3629 - acc: 0.8603 - val_loss: 0.4248 - val_acc: 0.8312\n"
     ]
    }
   ],
   "source": [
    "history3 = myLSTM.fit(x_train_padded, \n",
    "                      y_train, \n",
    "                      epochs=8, \n",
    "                      batch_size=32, \n",
    "                      verbose=1, \n",
    "                      validation_data = (x_val_padded, y_val))"
   ]
  },
  {
   "cell_type": "code",
   "execution_count": 16,
   "metadata": {},
   "outputs": [
    {
     "data": {
      "image/png": "[encoded data removed]",
      "text/plain": [
       "<Figure size 432x288 with 1 Axes>"
      ]
     },
     "metadata": {
      "needs_background": "light"
     },
     "output_type": "display_data"
    },
    {
     "data": {
      "image/png": "[encoded data removed]",
      "text/plain": [
       "<Figure size 432x288 with 1 Axes>"
      ]
     },
     "metadata": {
      "needs_background": "light"
     },
     "output_type": "display_data"
    }
   ],
   "source": [
    "plot_curves(history3)"
   ]
  },
  {
   "cell_type": "code",
   "execution_count": null,
   "metadata": {},
   "outputs": [],
   "source": [
    "name= \"LSTM/Bi-LST-n1.64-n2.64-kr0015-vacc868\"\n",
    "myLSTM.save(\"../models/\"+name+\".h5\")\n",
    "# serialize model to JSON\n",
    "model_json = myLSTM.to_json()\n",
    "with open(\"../models/\"+name+\".json\", \"w\") as json_file:\n",
    "    json_file.write(model_json)\n",
    "# serialize weights to HDF5\n",
    "myLSTM.save_weights(\"../models/\"+name+\"_weights.h5\")"
   ]
  },
  {
   "cell_type": "code",
   "execution_count": null,
   "metadata": {},
   "outputs": [],
   "source": [
    "myLSTM = model_load(\"../models/LSTM/Bi-LST-n1.64-n2.64-kr0015-vacc868.h5\")"
   ]
  },
  {
   "cell_type": "code",
   "execution_count": 17,
   "metadata": {},
   "outputs": [],
   "source": [
    "results3 = np.argmax(myLSTM.predict(x_val_padded), axis=-1)"
   ]
  },
  {
   "cell_type": "code",
   "execution_count": 18,
   "metadata": {},
   "outputs": [
    {
     "name": "stdout",
     "output_type": "stream",
     "text": [
      "Validation Accuracy:  0.8312169312169312\n",
      "\n",
      "Precision:  [0.83423913 0.86451169 0.84545455 0.77365492]\n",
      "Average Precision:  0.8294650710714611\n",
      "\n",
      "Recall:  [0.73095238 0.83521595 0.84067797 0.85979381]\n",
      "Average Recall:  0.8166600270827299\n",
      "\n",
      "F1-Score:  [0.77918782 0.84961136 0.84305949 0.81445313]\n",
      "Average F1-Score:  0.8215779468828581\n"
     ]
    }
   ],
   "source": [
    "acc, precision, recall, f1 = classification_report(y_val, results3)\n",
    "print(\"Validation Accuracy: \", acc)\n",
    "print(\"\\nPrecision: \", precision)\n",
    "print(\"Average Precision: \", np.mean(precision))\n",
    "print(\"\\nRecall: \", recall)\n",
    "print(\"Average Recall: \", np.mean(recall))\n",
    "print(\"\\nF1-Score: \", f1)\n",
    "print(\"Average F1-Score: \", np.mean(f1))"
   ]
  },
  {
   "cell_type": "code",
   "execution_count": null,
   "metadata": {},
   "outputs": [],
   "source": []
  }
 ],
 "metadata": {
  "kernelspec": {
   "display_name": "Python 3",
   "language": "python",
   "name": "python3"
  },
  "language_info": {
   "codemirror_mode": {
    "name": "ipython",
    "version": 3
   },
   "file_extension": ".py",
   "mimetype": "text/x-python",
   "name": "python",
   "nbconvert_exporter": "python",
   "pygments_lexer": "ipython3",
   "version": "3.8.3"
  }
 },
 "nbformat": 4,
 "nbformat_minor": 4
}
