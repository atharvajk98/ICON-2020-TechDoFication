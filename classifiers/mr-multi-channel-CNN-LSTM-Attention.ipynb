{
 "cells": [
  {
   "cell_type": "code",
   "execution_count": 1,
   "metadata": {},
   "outputs": [
    {
     "name": "stdout",
     "output_type": "stream",
     "text": [
      "2.3.1\n"
     ]
    }
   ],
   "source": [
    "import pandas as pd\n",
    "import numpy as np\n",
    "from time import process_time\n",
    "from joblib import dump\n",
    "from sklearn.metrics import accuracy_score, precision_score, recall_score, f1_score\n",
    "from sklearn.metrics.pairwise import cosine_similarity\n",
    "from gensim.models.ldamodel import LdaModel\n",
    "from data_preprocessing import *\n",
    "from model import *\n",
    "\n",
    "import tensorflow as tf\n",
    "from tensorflow.keras.regularizers import l2\n",
    "from tensorflow.keras import backend as K\n",
    "from tensorflow.keras.optimizers import Adam\n",
    "from tensorflow.keras.layers import Layer\n",
    "from tensorflow.keras.models import load_model\n",
    "from tensorflow.keras.utils import plot_model\n",
    "from tensorflow.keras import Sequential, Model\n",
    "from tensorflow.keras.layers import Embedding, Input, Dense, LSTM, Dropout, Flatten, Bidirectional, Conv1D, concatenate, SpatialDropout1D\n",
    "from tensorflow.keras.layers import MaxPooling1D, MaxPooling2D, GlobalMaxPooling1D, GlobalAveragePooling2D, GlobalAveragePooling1D \n",
    "from tensorflow.keras.callbacks import ModelCheckpoint, ReduceLROnPlateau, LearningRateScheduler, EarlyStopping\n",
    "\n",
    "print(tf.__version__)"
   ]
  },
  {
   "cell_type": "code",
   "execution_count": 2,
   "metadata": {},
   "outputs": [
    {
     "data": {
      "text/html": [
       "<div>\n",
       "<style scoped>\n",
       "    .dataframe tbody tr th:only-of-type {\n",
       "        vertical-align: middle;\n",
       "    }\n",
       "\n",
       "    .dataframe tbody tr th {\n",
       "        vertical-align: top;\n",
       "    }\n",
       "\n",
       "    .dataframe thead th {\n",
       "        text-align: right;\n",
       "    }\n",
       "</style>\n",
       "<table border=\"1\" class=\"dataframe\">\n",
       "  <thead>\n",
       "    <tr style=\"text-align: right;\">\n",
       "      <th></th>\n",
       "      <th>text</th>\n",
       "      <th>label</th>\n",
       "    </tr>\n",
       "  </thead>\n",
       "  <tbody>\n",
       "    <tr>\n",
       "      <th>0</th>\n",
       "      <td>प्रा . प्रताप हरिदास : होय , मला वाटते की हा ए...</td>\n",
       "      <td>com_tech</td>\n",
       "    </tr>\n",
       "    <tr>\n",
       "      <th>1</th>\n",
       "      <td>तर , विशिष्ट गोष्टींद्वारे , ठराविक कायद्यांद्...</td>\n",
       "      <td>bioche</td>\n",
       "    </tr>\n",
       "    <tr>\n",
       "      <th>2</th>\n",
       "      <td>- - - - - - - - - - - - - - - - - - - - - - - ...</td>\n",
       "      <td>cse</td>\n",
       "    </tr>\n",
       "    <tr>\n",
       "      <th>3</th>\n",
       "      <td>तर , आपला अर्धा चिन्ह 9 वाजता असेल .</td>\n",
       "      <td>phy</td>\n",
       "    </tr>\n",
       "    <tr>\n",
       "      <th>4</th>\n",
       "      <td>म्हणून , मी असे म्हणालो की जर शेकडो , हजारो कि...</td>\n",
       "      <td>phy</td>\n",
       "    </tr>\n",
       "    <tr>\n",
       "      <th>...</th>\n",
       "      <td>...</td>\n",
       "      <td>...</td>\n",
       "    </tr>\n",
       "    <tr>\n",
       "      <th>41992</th>\n",
       "      <td>जरी आपण डेटा कूटबद्ध केला , तरीही हा मुख्य व्य...</td>\n",
       "      <td>cse</td>\n",
       "    </tr>\n",
       "    <tr>\n",
       "      <th>41993</th>\n",
       "      <td>ते म्हणतात - \" ज्याला पाहण्यासाठी डोळे , ऎकण्य...</td>\n",
       "      <td>com_tech</td>\n",
       "    </tr>\n",
       "    <tr>\n",
       "      <th>41994</th>\n",
       "      <td>प्रथम क्रोनोलॉजिकल , क्रॉनोलॉजी म्हणजे आपल्याल...</td>\n",
       "      <td>com_tech</td>\n",
       "    </tr>\n",
       "    <tr>\n",
       "      <th>41995</th>\n",
       "      <td>त्या थोड्या तपशीलावर येईल , जेणेकरून संपूर्ण ग...</td>\n",
       "      <td>bioche</td>\n",
       "    </tr>\n",
       "    <tr>\n",
       "      <th>41996</th>\n",
       "      <td>आणि एका हॉटेलमध्ये त्यांनी एका स्विस रेस्ट्राम...</td>\n",
       "      <td>com_tech</td>\n",
       "    </tr>\n",
       "  </tbody>\n",
       "</table>\n",
       "<p>41997 rows × 2 columns</p>\n",
       "</div>"
      ],
      "text/plain": [
       "                                                    text     label\n",
       "0      प्रा . प्रताप हरिदास : होय , मला वाटते की हा ए...  com_tech\n",
       "1      तर , विशिष्ट गोष्टींद्वारे , ठराविक कायद्यांद्...    bioche\n",
       "2      - - - - - - - - - - - - - - - - - - - - - - - ...       cse\n",
       "3                   तर , आपला अर्धा चिन्ह 9 वाजता असेल .       phy\n",
       "4      म्हणून , मी असे म्हणालो की जर शेकडो , हजारो कि...       phy\n",
       "...                                                  ...       ...\n",
       "41992  जरी आपण डेटा कूटबद्ध केला , तरीही हा मुख्य व्य...       cse\n",
       "41993  ते म्हणतात - \" ज्याला पाहण्यासाठी डोळे , ऎकण्य...  com_tech\n",
       "41994  प्रथम क्रोनोलॉजिकल , क्रॉनोलॉजी म्हणजे आपल्याल...  com_tech\n",
       "41995  त्या थोड्या तपशीलावर येईल , जेणेकरून संपूर्ण ग...    bioche\n",
       "41996  आणि एका हॉटेलमध्ये त्यांनी एका स्विस रेस्ट्राम...  com_tech\n",
       "\n",
       "[41997 rows x 2 columns]"
      ]
     },
     "execution_count": 2,
     "metadata": {},
     "output_type": "execute_result"
    }
   ],
   "source": [
    "training_path = \"../dataset/marathi-dataset/marathi-training-data.csv\"\n",
    "training_data = read_data(training_path)\n",
    "training_data"
   ]
  },
  {
   "cell_type": "code",
   "execution_count": 3,
   "metadata": {},
   "outputs": [
    {
     "data": {
      "text/html": [
       "<div>\n",
       "<style scoped>\n",
       "    .dataframe tbody tr th:only-of-type {\n",
       "        vertical-align: middle;\n",
       "    }\n",
       "\n",
       "    .dataframe tbody tr th {\n",
       "        vertical-align: top;\n",
       "    }\n",
       "\n",
       "    .dataframe thead th {\n",
       "        text-align: right;\n",
       "    }\n",
       "</style>\n",
       "<table border=\"1\" class=\"dataframe\">\n",
       "  <thead>\n",
       "    <tr style=\"text-align: right;\">\n",
       "      <th></th>\n",
       "      <th>text</th>\n",
       "      <th>label</th>\n",
       "    </tr>\n",
       "  </thead>\n",
       "  <tbody>\n",
       "    <tr>\n",
       "      <th>0</th>\n",
       "      <td>1 ची ओळ .</td>\n",
       "      <td>cse</td>\n",
       "    </tr>\n",
       "    <tr>\n",
       "      <th>1</th>\n",
       "      <td>तर , ही एक टॉवर आहे जी टॉवरवर निश्चित केली जात...</td>\n",
       "      <td>phy</td>\n",
       "    </tr>\n",
       "    <tr>\n",
       "      <th>2</th>\n",
       "      <td>तर , थ्रेडच्या परतीच्या स्थितीस पास करण्यासाठी...</td>\n",
       "      <td>cse</td>\n",
       "    </tr>\n",
       "    <tr>\n",
       "      <th>3</th>\n",
       "      <td>आपण लोक शोधत आहात जे आपल्यासाठी काहीतरी करू शक...</td>\n",
       "      <td>com_tech</td>\n",
       "    </tr>\n",
       "    <tr>\n",
       "      <th>4</th>\n",
       "      <td>लिनक्स कर्नल अनुसूचीतकरणामध्ये अशी तंत्र असण्य...</td>\n",
       "      <td>cse</td>\n",
       "    </tr>\n",
       "    <tr>\n",
       "      <th>...</th>\n",
       "      <td>...</td>\n",
       "      <td>...</td>\n",
       "    </tr>\n",
       "    <tr>\n",
       "      <th>3775</th>\n",
       "      <td>नंतर वृद्धत्व , व्हॉट मोठ्या प्रमाणात फ्रॉन 12...</td>\n",
       "      <td>bioche</td>\n",
       "    </tr>\n",
       "    <tr>\n",
       "      <th>3776</th>\n",
       "      <td>आणि मग सुद्धा आपल्याला काही सेकंदांनंतर माहित ...</td>\n",
       "      <td>phy</td>\n",
       "    </tr>\n",
       "    <tr>\n",
       "      <th>3777</th>\n",
       "      <td>तर , आपण ELF शीर्षलेखासह प्रारंभ करू .</td>\n",
       "      <td>cse</td>\n",
       "    </tr>\n",
       "    <tr>\n",
       "      <th>3778</th>\n",
       "      <td>तर , त्या क्रॉस्टची जाडी आहे .</td>\n",
       "      <td>phy</td>\n",
       "    </tr>\n",
       "    <tr>\n",
       "      <th>3779</th>\n",
       "      <td>तर , मला वाटते की ही माहिती अशी आहे की आपण एका...</td>\n",
       "      <td>phy</td>\n",
       "    </tr>\n",
       "  </tbody>\n",
       "</table>\n",
       "<p>3780 rows × 2 columns</p>\n",
       "</div>"
      ],
      "text/plain": [
       "                                                   text     label\n",
       "0                                             1 ची ओळ .       cse\n",
       "1     तर , ही एक टॉवर आहे जी टॉवरवर निश्चित केली जात...       phy\n",
       "2     तर , थ्रेडच्या परतीच्या स्थितीस पास करण्यासाठी...       cse\n",
       "3     आपण लोक शोधत आहात जे आपल्यासाठी काहीतरी करू शक...  com_tech\n",
       "4     लिनक्स कर्नल अनुसूचीतकरणामध्ये अशी तंत्र असण्य...       cse\n",
       "...                                                 ...       ...\n",
       "3775  नंतर वृद्धत्व , व्हॉट मोठ्या प्रमाणात फ्रॉन 12...    bioche\n",
       "3776  आणि मग सुद्धा आपल्याला काही सेकंदांनंतर माहित ...       phy\n",
       "3777             तर , आपण ELF शीर्षलेखासह प्रारंभ करू .       cse\n",
       "3778                     तर , त्या क्रॉस्टची जाडी आहे .       phy\n",
       "3779  तर , मला वाटते की ही माहिती अशी आहे की आपण एका...       phy\n",
       "\n",
       "[3780 rows x 2 columns]"
      ]
     },
     "execution_count": 3,
     "metadata": {},
     "output_type": "execute_result"
    }
   ],
   "source": [
    "val_path = \"../dataset/marathi-dataset/marathi-validation-data.csv\"\n",
    "val_data = read_data(val_path)\n",
    "val_data"
   ]
  },
  {
   "cell_type": "code",
   "execution_count": 4,
   "metadata": {},
   "outputs": [
    {
     "data": {
      "text/plain": [
       "1788"
      ]
     },
     "execution_count": 4,
     "metadata": {},
     "output_type": "execute_result"
    }
   ],
   "source": [
    "test_data = []\n",
    "file = open(\"../dataset/marathi-dataset/marathi-test-data.txt\", \"r\", encoding=\"utf\")\n",
    "for row in file:\n",
    "    if row == \"text\":\n",
    "        continue\n",
    "    test_data.append(row)\n",
    "file.close()\n",
    "test_data  = test_data[1:]\n",
    "len(test_data)"
   ]
  },
  {
   "cell_type": "code",
   "execution_count": 5,
   "metadata": {},
   "outputs": [
    {
     "name": "stdout",
     "output_type": "stream",
     "text": [
      "41997\n",
      "41997\n",
      "3780\n",
      "3780\n",
      "1788\n"
     ]
    }
   ],
   "source": [
    "x_train = training_data.text.apply(lambda x: preprocess_text(x)).values.tolist()\n",
    "y_train = training_data.label.values.tolist()\n",
    "x_val = val_data.text.apply(lambda x: preprocess_text(x)).values.tolist()\n",
    "y_val = val_data.label.values.tolist()\n",
    "test_data = [clean_text(x) for x in test_data]\n",
    "print(len(x_train))\n",
    "print(len(y_train))\n",
    "print(len(x_val))\n",
    "print(len(y_val))\n",
    "print(len(test_data))"
   ]
  },
  {
   "cell_type": "code",
   "execution_count": 6,
   "metadata": {},
   "outputs": [],
   "source": [
    "le, y_train, y_val = label_encoder(y_train, y_val)"
   ]
  },
  {
   "cell_type": "code",
   "execution_count": 7,
   "metadata": {},
   "outputs": [
    {
     "name": "stdout",
     "output_type": "stream",
     "text": [
      "(41997, 1)\n",
      "(3780, 1)\n"
     ]
    }
   ],
   "source": [
    "y_train = y_train.reshape(y_train.shape[0], -1)\n",
    "y_val = y_val.reshape(y_val.shape[0], -1)\n",
    "print(y_train.shape)\n",
    "print(y_val.shape)"
   ]
  },
  {
   "cell_type": "code",
   "execution_count": 8,
   "metadata": {},
   "outputs": [],
   "source": [
    "pad_len=100\n",
    "padding_type='post'\n",
    "truncating_type='post'"
   ]
  },
  {
   "cell_type": "code",
   "execution_count": 9,
   "metadata": {},
   "outputs": [
    {
     "name": "stdout",
     "output_type": "stream",
     "text": [
      "41997\n",
      "45777\n"
     ]
    }
   ],
   "source": [
    "corpus = []\n",
    "for text in x_train:\n",
    "    corpus.append(text)\n",
    "print(len(corpus))\n",
    "for text in x_val:\n",
    "    corpus.append(text)\n",
    "print(len(corpus))"
   ]
  },
  {
   "cell_type": "code",
   "execution_count": 10,
   "metadata": {},
   "outputs": [],
   "source": [
    "tokenizer, x_train_tokenzied, x_val_tokenzied, x_test_tokenzied = tokenize_text(corpus, \n",
    "                                                                                x_train, \n",
    "                                                                                x_val, \n",
    "                                                                                test_data)"
   ]
  },
  {
   "cell_type": "code",
   "execution_count": 11,
   "metadata": {},
   "outputs": [],
   "source": [
    "x_train_padded, x_val_padded, x_test_padded = pad_text(x_train_tokenzied, \n",
    "                                                       x_val_tokenzied, \n",
    "                                                       x_test_tokenzied,\n",
    "                                                       pad_len, \n",
    "                                                       padding_type, \n",
    "                                                       truncating_type)"
   ]
  },
  {
   "cell_type": "code",
   "execution_count": null,
   "metadata": {},
   "outputs": [],
   "source": [
    "#dump(tokenizer, \"../tokenizers/DL-raw-tokenizer-100.pk1\")"
   ]
  },
  {
   "cell_type": "code",
   "execution_count": 12,
   "metadata": {},
   "outputs": [
    {
     "name": "stdout",
     "output_type": "stream",
     "text": [
      "(41997, 100)\n",
      "(3780, 100)\n",
      "(1788, 100)\n"
     ]
    }
   ],
   "source": [
    "print(x_train_padded.shape)\n",
    "print(x_val_padded.shape)\n",
    "print(x_test_padded.shape)"
   ]
  },
  {
   "cell_type": "code",
   "execution_count": 13,
   "metadata": {},
   "outputs": [
    {
     "data": {
      "text/plain": [
       "55029"
      ]
     },
     "execution_count": 13,
     "metadata": {},
     "output_type": "execute_result"
    }
   ],
   "source": [
    "vocab = tokenizer.word_index\n",
    "len(vocab.keys())"
   ]
  },
  {
   "cell_type": "markdown",
   "metadata": {},
   "source": [
    "# Domain Specific Fasttext Embeddings"
   ]
  },
  {
   "cell_type": "code",
   "execution_count": 14,
   "metadata": {},
   "outputs": [
    {
     "name": "stdout",
     "output_type": "stream",
     "text": [
      "54655\n",
      "Total time taken:  5.522543043000002\n"
     ]
    },
    {
     "data": {
      "text/plain": [
       "(55030, 300)"
      ]
     },
     "execution_count": 14,
     "metadata": {},
     "output_type": "execute_result"
    }
   ],
   "source": [
    "start = process_time()\n",
    "embedding_path1 = \"/home/eastwind/word-embeddings/fasttext/TechDofication.mr.raw.complete.ft.skipgram.new.d300.vec\"\n",
    "embedding_matrix1 = get_embedding_matrix(embedding_path1, vocab, embedding_dim=300)\n",
    "end = process_time()\n",
    "print(\"Total time taken: \", end-start)\n",
    "embedding_matrix1.shape"
   ]
  },
  {
   "cell_type": "code",
   "execution_count": 15,
   "metadata": {},
   "outputs": [
    {
     "name": "stdout",
     "output_type": "stream",
     "text": [
      "Input dimension 1:  55030\n",
      "Embedding dimensions 1:  300\n",
      "Input sentence dimensions 1:  100\n"
     ]
    }
   ],
   "source": [
    "input_dim1 = embedding_matrix1.shape[0]\n",
    "embedding_dim1 = 300\n",
    "input_len = pad_len\n",
    "print(\"Input dimension 1: \", input_dim1)\n",
    "print(\"Embedding dimensions 1: \", embedding_dim1)\n",
    "print(\"Input sentence dimensions 1: \", input_len)"
   ]
  },
  {
   "cell_type": "markdown",
   "metadata": {},
   "source": [
    "# Hybrid BiLSTM-CNN Architecture with Attention"
   ]
  },
  {
   "cell_type": "code",
   "execution_count": 16,
   "metadata": {},
   "outputs": [],
   "source": [
    "class AttentionLayer(Layer):\n",
    "    \n",
    "    def __init__(self, **kwargs):\n",
    "        super(AttentionLayer, self).__init__(**kwargs)\n",
    "        \n",
    "        \n",
    "    def build(self, attention_input):\n",
    "        super(AttentionLayer, self).build(attention_input)\n",
    "        lstm_shape, cnn_shape = attention_input\n",
    "        # Attention Weights for LSTM\n",
    "        self.W_in = self.add_weight(shape=(lstm_shape[-1], 1),\n",
    "                                    initializer='glorot_normal',\n",
    "                                    trainable=True,\n",
    "                                    name='input_attention_weights')\n",
    "        \n",
    "        # Attention Weights for CNN\n",
    "        self.W_context = self.add_weight(shape=(cnn_shape[-1], 1),\n",
    "                                         initializer='glorot_normal',\n",
    "                                         trainable=True,\n",
    "                                         name='context_attention_weights')\n",
    "                                      \n",
    "        # Attention Bias\n",
    "        self.b = self.add_weight(shape=(lstm_shape[1], 1),\n",
    "                                 initializer='glorot_normal',\n",
    "                                 trainable=True,\n",
    "                                 name='attention_bias')\n",
    "        \n",
    "        \n",
    "        \n",
    "    def call(self, attention_input):\n",
    "        lstm_output, cnn_output = attention_input\n",
    "        et = K.squeeze(K.tanh(K.dot(lstm_output, self.W_in) + \n",
    "                              K.dot(cnn_output, self.W_context) +\n",
    "                              self.b), axis=-1)\n",
    "        at = K.expand_dims(K.softmax(et), axis=-1)\n",
    "        attention_output = at * lstm_output\n",
    "        attention_output = K.sum(attention_output, axis=1)\n",
    "        return attention_output\n",
    "    \n",
    "    def get_config(self):\n",
    "        return super(AttentionLayer, self).get_config()"
   ]
  },
  {
   "cell_type": "code",
   "execution_count": 17,
   "metadata": {
    "scrolled": false
   },
   "outputs": [
    {
     "name": "stdout",
     "output_type": "stream",
     "text": [
      "Model: \"functional_1\"\n",
      "__________________________________________________________________________________________________\n",
      "Layer (type)                    Output Shape         Param #     Connected to                     \n",
      "==================================================================================================\n",
      "input_1 (InputLayer)            [(None, 100)]        0                                            \n",
      "__________________________________________________________________________________________________\n",
      "embedding (Embedding)           (None, 100, 300)     16509000    input_1[0][0]                    \n",
      "__________________________________________________________________________________________________\n",
      "conv1d (Conv1D)                 (None, 100, 256)     230656      embedding[0][0]                  \n",
      "__________________________________________________________________________________________________\n",
      "conv1d_1 (Conv1D)               (None, 100, 256)     307456      embedding[0][0]                  \n",
      "__________________________________________________________________________________________________\n",
      "conv1d_2 (Conv1D)               (None, 100, 256)     384256      embedding[0][0]                  \n",
      "__________________________________________________________________________________________________\n",
      "dropout (Dropout)               (None, 100, 256)     0           conv1d[0][0]                     \n",
      "__________________________________________________________________________________________________\n",
      "dropout_1 (Dropout)             (None, 100, 256)     0           conv1d_1[0][0]                   \n",
      "__________________________________________________________________________________________________\n",
      "dropout_2 (Dropout)             (None, 100, 256)     0           conv1d_2[0][0]                   \n",
      "__________________________________________________________________________________________________\n",
      "concatenate (Concatenate)       (None, 300, 256)     0           dropout[0][0]                    \n",
      "                                                                 dropout_1[0][0]                  \n",
      "                                                                 dropout_2[0][0]                  \n",
      "__________________________________________________________________________________________________\n",
      "bidirectional (Bidirectional)   (None, 100, 256)     439296      embedding[0][0]                  \n",
      "__________________________________________________________________________________________________\n",
      "max_pooling1d (MaxPooling1D)    (None, 100, 256)     0           concatenate[0][0]                \n",
      "__________________________________________________________________________________________________\n",
      "attention_layer (AttentionLayer (None, 256)          612         bidirectional[0][0]              \n",
      "                                                                 max_pooling1d[0][0]              \n",
      "__________________________________________________________________________________________________\n",
      "dense (Dense)                   (None, 64)           16448       attention_layer[0][0]            \n",
      "__________________________________________________________________________________________________\n",
      "dropout_3 (Dropout)             (None, 64)           0           dense[0][0]                      \n",
      "__________________________________________________________________________________________________\n",
      "dense_1 (Dense)                 (None, 4)            260         dropout_3[0][0]                  \n",
      "==================================================================================================\n",
      "Total params: 17,887,984\n",
      "Trainable params: 1,378,984\n",
      "Non-trainable params: 16,509,000\n",
      "__________________________________________________________________________________________________\n"
     ]
    }
   ],
   "source": [
    "Input1 = Input(shape=(input_len,))\n",
    "Embedding_layer1 = Embedding(input_dim=input_dim1, \n",
    "                             output_dim=embedding_dim1, \n",
    "                             weights=[embedding_matrix1], \n",
    "                             trainable=False)(Input1)\n",
    "\n",
    "# Input 1(BiLSTM):\n",
    "Lstm = Bidirectional(LSTM(128, dropout=0.3, return_sequences=True))(Embedding_layer1)\n",
    "\n",
    "# Input 2 (CNN):\n",
    "Conv1 = Conv1D(filters=256, kernel_size=3, activation='relu', padding='same')(Embedding_layer1)\n",
    "Dropout1 = Dropout(0.3)(Conv1)\n",
    "Conv2 = Conv1D(filters=256, kernel_size=4, activation='relu', padding='same')(Embedding_layer1)\n",
    "Dropout2 = Dropout(0.3)(Conv2)\n",
    "Conv3 = Conv1D(filters=256, kernel_size=5, activation='relu', padding='same')(Embedding_layer1)\n",
    "Dropout3 = Dropout(0.3)(Conv3)\n",
    "merged = concatenate([Dropout1, Dropout2, Dropout3], axis=1)\n",
    "max_pool = MaxPooling1D(pool_size=3)(merged)\n",
    "\n",
    "attention = AttentionLayer()([Lstm, max_pool])\n",
    "Dense1 = Dense(64, activation='relu')(attention)\n",
    "Dropout_dense = Dropout(0.25)(Dense1)\n",
    "outputs = Dense(4, activation='softmax')(Dropout_dense)\n",
    "\n",
    "classifier = Model(inputs=Input1, outputs=outputs)\n",
    "classifier.compile(optimizer='adam', loss='sparse_categorical_crossentropy', metrics=['acc'])\n",
    "classifier.summary()"
   ]
  },
  {
   "cell_type": "code",
   "execution_count": 18,
   "metadata": {
    "scrolled": false
   },
   "outputs": [
    {
     "data": {
      "image/png": "[encoded data removed]",
      "text/plain": [
       "<IPython.core.display.Image object>"
      ]
     },
     "execution_count": 18,
     "metadata": {},
     "output_type": "execute_result"
    }
   ],
   "source": [
    "plot_model(classifier, show_shapes=False)"
   ]
  },
  {
   "cell_type": "code",
   "execution_count": 19,
   "metadata": {},
   "outputs": [],
   "source": [
    "# ModelCheckPoint Callback:\n",
    "checkpoint_filepath = \"../models/multi-channel-LSTM-CNN/multi-channel-LSTM-CNN-epoch-{epoch:02d}-val-acc-{val_acc:02f}.h5\"\n",
    "model_checkpoint_callback = ModelCheckpoint(filepath=checkpoint_filepath,\n",
    "                                            save_weights_only=True,\n",
    "                                            monitor='val_acc',\n",
    "                                            mode='max',\n",
    "                                            save_freq = 'epoch',\n",
    "                                            save_best_only=True)\n",
    "\n",
    "# Reduce Learning Rate on Plateau Callback:\n",
    "reduce_lr_callback = ReduceLROnPlateau( monitor='val_acc', \n",
    "                                       factor=0.1, \n",
    "                                       patience=2, \n",
    "                                       min_lr=0.0005, \n",
    "                                       verbose=2)\n",
    "#myCB = myCallbacks(metrics='acc', threshold=0.97)"
   ]
  },
  {
   "cell_type": "code",
   "execution_count": 19,
   "metadata": {
    "scrolled": false
   },
   "outputs": [
    {
     "name": "stdout",
     "output_type": "stream",
     "text": [
      "Epoch 1/16\n",
      "329/329 [==============================] - 431s 1s/step - loss: 0.5450 - acc: 0.8006 - val_loss: 0.4373 - val_acc: 0.8511 - lr: 0.0010\n",
      "Epoch 2/16\n",
      "329/329 [==============================] - 609s 2s/step - loss: 0.4106 - acc: 0.8527 - val_loss: 0.3733 - val_acc: 0.8648 - lr: 0.0010\n",
      "Epoch 3/16\n",
      "329/329 [==============================] - 460s 1s/step - loss: 0.3778 - acc: 0.8628 - val_loss: 0.3421 - val_acc: 0.8767 - lr: 0.0010\n",
      "Epoch 4/16\n",
      "329/329 [==============================] - 455s 1s/step - loss: 0.3457 - acc: 0.8738 - val_loss: 0.3486 - val_acc: 0.8693 - lr: 0.0010\n",
      "Epoch 5/16\n",
      "329/329 [==============================] - 498s 2s/step - loss: 0.3231 - acc: 0.8827 - val_loss: 0.3425 - val_acc: 0.8807 - lr: 0.0010\n",
      "Epoch 6/16\n",
      "329/329 [==============================] - 435s 1s/step - loss: 0.3005 - acc: 0.8909 - val_loss: 0.3138 - val_acc: 0.8876 - lr: 0.0010\n",
      "Epoch 7/16\n",
      "329/329 [==============================] - 430s 1s/step - loss: 0.2842 - acc: 0.8965 - val_loss: 0.3191 - val_acc: 0.8923 - lr: 0.0010\n",
      "Epoch 8/16\n",
      "329/329 [==============================] - 429s 1s/step - loss: 0.2632 - acc: 0.9048 - val_loss: 0.3357 - val_acc: 0.8878 - lr: 0.0010\n",
      "Epoch 9/16\n",
      "329/329 [==============================] - ETA: 0s - loss: 0.2461 - acc: 0.9107\n",
      "Epoch 00009: ReduceLROnPlateau reducing learning rate to 0.001.\n",
      "329/329 [==============================] - 428s 1s/step - loss: 0.2461 - acc: 0.9107 - val_loss: 0.3155 - val_acc: 0.8905 - lr: 0.0010\n",
      "Epoch 10/16\n",
      "329/329 [==============================] - 431s 1s/step - loss: 0.2304 - acc: 0.9152 - val_loss: 0.3062 - val_acc: 0.8926 - lr: 0.0010\n",
      "Epoch 11/16\n",
      "329/329 [==============================] - 430s 1s/step - loss: 0.2146 - acc: 0.9214 - val_loss: 0.3452 - val_acc: 0.8942 - lr: 0.0010\n",
      "Epoch 12/16\n",
      "329/329 [==============================] - 432s 1s/step - loss: 0.1970 - acc: 0.9283 - val_loss: 0.3280 - val_acc: 0.8923 - lr: 0.0010\n",
      "Epoch 13/16\n",
      "329/329 [==============================] - ETA: 0s - loss: 0.1903 - acc: 0.9313\n",
      "Epoch 00013: ReduceLROnPlateau reducing learning rate to 0.001.\n",
      "329/329 [==============================] - 431s 1s/step - loss: 0.1903 - acc: 0.9313 - val_loss: 0.3449 - val_acc: 0.8881 - lr: 0.0010\n",
      "Epoch 14/16\n",
      "329/329 [==============================] - 430s 1s/step - loss: 0.1751 - acc: 0.9365 - val_loss: 0.3302 - val_acc: 0.8950 - lr: 0.0010\n",
      "Epoch 15/16\n",
      "329/329 [==============================] - 432s 1s/step - loss: 0.1602 - acc: 0.9401 - val_loss: 0.4146 - val_acc: 0.8825 - lr: 0.0010\n",
      "Epoch 16/16\n",
      "329/329 [==============================] - 487s 1s/step - loss: 0.1546 - acc: 0.9441 - val_loss: 0.3346 - val_acc: 0.8958 - lr: 0.0010\n"
     ]
    }
   ],
   "source": [
    "history = classifier.fit(x_train_padded, \n",
    "                         y_train, \n",
    "                         epochs=16,\n",
    "                         batch_size=128,\n",
    "                         verbose=1,\n",
    "                         validation_data=(x_val_padded, y_val),\n",
    "                         callbacks=[model_checkpoint_callback, reduce_lr_callback])"
   ]
  },
  {
   "cell_type": "code",
   "execution_count": 20,
   "metadata": {},
   "outputs": [
    {
     "data": {
      "image/png": "[encoded data removed]",
      "text/plain": [
       "<Figure size 432x288 with 1 Axes>"
      ]
     },
     "metadata": {
      "needs_background": "light"
     },
     "output_type": "display_data"
    },
    {
     "data": {
      "image/png": "[encoded data removed]",
      "text/plain": [
       "<Figure size 432x288 with 1 Axes>"
      ]
     },
     "metadata": {
      "needs_background": "light"
     },
     "output_type": "display_data"
    }
   ],
   "source": [
    "plot_curves(history)"
   ]
  },
  {
   "cell_type": "code",
   "execution_count": 20,
   "metadata": {},
   "outputs": [],
   "source": [
    "classifier.load_weights(\"../models/multi-channel-LSTM-CNN/multi-channel-LSTM-CNN-epoch-16-val-acc-0.895767.h5\")"
   ]
  },
  {
   "cell_type": "code",
   "execution_count": 21,
   "metadata": {},
   "outputs": [
    {
     "name": "stdout",
     "output_type": "stream",
     "text": [
      "Validation Accuracy:  0.8957671957671958\n",
      "\n",
      "Precision:  [0.91280654 0.88316583 0.91454965 0.89319372]\n",
      "Average Precision:  0.9009289348781072\n",
      "\n",
      "Recall:  [0.79761905 0.93421927 0.89491525 0.87938144]\n",
      "Average Recall:  0.8765337535645737\n",
      "\n",
      "F1-Score:  [0.85133418 0.90797546 0.90462593 0.88623377]\n",
      "Average F1-Score:  0.8875423337074013\n"
     ]
    }
   ],
   "source": [
    "results = np.argmax(classifier.predict(x_val_padded), axis=-1)\n",
    "acc, precision, recall, f1 = classification_report(y_val, results)\n",
    "print(\"Validation Accuracy: \", acc)\n",
    "print(\"\\nPrecision: \", precision)\n",
    "print(\"Average Precision: \", np.mean(precision))\n",
    "print(\"\\nRecall: \", recall)\n",
    "print(\"Average Recall: \", np.mean(recall))\n",
    "print(\"\\nF1-Score: \", f1)\n",
    "print(\"Average F1-Score: \", np.mean(f1))"
   ]
  },
  {
   "cell_type": "code",
   "execution_count": 22,
   "metadata": {},
   "outputs": [
    {
     "data": {
      "text/plain": [
       "1788"
      ]
     },
     "execution_count": 22,
     "metadata": {},
     "output_type": "execute_result"
    }
   ],
   "source": [
    "predictions =  np.argmax(classifier.predict(x_test_padded), axis=-1)\n",
    "len(predictions)"
   ]
  },
  {
   "cell_type": "code",
   "execution_count": 23,
   "metadata": {},
   "outputs": [
    {
     "data": {
      "text/plain": [
       "1788"
      ]
     },
     "execution_count": 23,
     "metadata": {},
     "output_type": "execute_result"
    }
   ],
   "source": [
    "original_labels = list(le.inverse_transform(predictions))\n",
    "len(original_labels)"
   ]
  },
  {
   "cell_type": "code",
   "execution_count": 24,
   "metadata": {},
   "outputs": [
    {
     "data": {
      "text/html": [
       "<div>\n",
       "<style scoped>\n",
       "    .dataframe tbody tr th:only-of-type {\n",
       "        vertical-align: middle;\n",
       "    }\n",
       "\n",
       "    .dataframe tbody tr th {\n",
       "        vertical-align: top;\n",
       "    }\n",
       "\n",
       "    .dataframe thead th {\n",
       "        text-align: right;\n",
       "    }\n",
       "</style>\n",
       "<table border=\"1\" class=\"dataframe\">\n",
       "  <thead>\n",
       "    <tr style=\"text-align: right;\">\n",
       "      <th></th>\n",
       "      <th>text</th>\n",
       "      <th>predicted_label</th>\n",
       "    </tr>\n",
       "  </thead>\n",
       "  <tbody>\n",
       "    <tr>\n",
       "      <th>0</th>\n",
       "      <td>हे फॉर्मल एजुकेशन नॉन फॉर्मल एजुकेशन आणि इन फॉ...</td>\n",
       "      <td>com_tech</td>\n",
       "    </tr>\n",
       "    <tr>\n",
       "      <th>1</th>\n",
       "      <td>कम्युनिकेशन तेवढेच प्राचीन आहे जेवढा मनुष्यजन्म</td>\n",
       "      <td>com_tech</td>\n",
       "    </tr>\n",
       "    <tr>\n",
       "      <th>2</th>\n",
       "      <td>याबद्दल मी काही बोलण्यापूर्वी कोलॅजन मॉडेल कसे...</td>\n",
       "      <td>com_tech</td>\n",
       "    </tr>\n",
       "    <tr>\n",
       "      <th>3</th>\n",
       "      <td>बर्याच तज्ञांचा असा विश्वास आहे की मोबाईल उपकर...</td>\n",
       "      <td>com_tech</td>\n",
       "    </tr>\n",
       "    <tr>\n",
       "      <th>4</th>\n",
       "      <td>वजन कमी करण्याच्या समस्येसाठी लोक स्पार्क पीपल...</td>\n",
       "      <td>cse</td>\n",
       "    </tr>\n",
       "    <tr>\n",
       "      <th>...</th>\n",
       "      <td>...</td>\n",
       "      <td>...</td>\n",
       "    </tr>\n",
       "    <tr>\n",
       "      <th>1783</th>\n",
       "      <td>बायबलमध्ये मानवी भाषांच्या उत्पत्तीविषयी स्पष्...</td>\n",
       "      <td>com_tech</td>\n",
       "    </tr>\n",
       "    <tr>\n",
       "      <th>1784</th>\n",
       "      <td>आणि म्हणूनच ph हे pka म्हणून मोजले जाऊ शकते म्...</td>\n",
       "      <td>bioche</td>\n",
       "    </tr>\n",
       "    <tr>\n",
       "      <th>1785</th>\n",
       "      <td>उदाहरणार्थ आम्ही पूर्वी ज्या पद्धतीने चर्चा के...</td>\n",
       "      <td>cse</td>\n",
       "    </tr>\n",
       "    <tr>\n",
       "      <th>1786</th>\n",
       "      <td>हे धारण क्षमता वाढवते</td>\n",
       "      <td>com_tech</td>\n",
       "    </tr>\n",
       "    <tr>\n",
       "      <th>1787</th>\n",
       "      <td>तथापि दुधाची रचना प्रजातींच्या प्रजातींच्या प्...</td>\n",
       "      <td>bioche</td>\n",
       "    </tr>\n",
       "  </tbody>\n",
       "</table>\n",
       "<p>1788 rows × 2 columns</p>\n",
       "</div>"
      ],
      "text/plain": [
       "                                                   text predicted_label\n",
       "0     हे फॉर्मल एजुकेशन नॉन फॉर्मल एजुकेशन आणि इन फॉ...        com_tech\n",
       "1       कम्युनिकेशन तेवढेच प्राचीन आहे जेवढा मनुष्यजन्म        com_tech\n",
       "2     याबद्दल मी काही बोलण्यापूर्वी कोलॅजन मॉडेल कसे...        com_tech\n",
       "3     बर्याच तज्ञांचा असा विश्वास आहे की मोबाईल उपकर...        com_tech\n",
       "4     वजन कमी करण्याच्या समस्येसाठी लोक स्पार्क पीपल...             cse\n",
       "...                                                 ...             ...\n",
       "1783  बायबलमध्ये मानवी भाषांच्या उत्पत्तीविषयी स्पष्...        com_tech\n",
       "1784  आणि म्हणूनच ph हे pka म्हणून मोजले जाऊ शकते म्...          bioche\n",
       "1785  उदाहरणार्थ आम्ही पूर्वी ज्या पद्धतीने चर्चा के...             cse\n",
       "1786                              हे धारण क्षमता वाढवते        com_tech\n",
       "1787  तथापि दुधाची रचना प्रजातींच्या प्रजातींच्या प्...          bioche\n",
       "\n",
       "[1788 rows x 2 columns]"
      ]
     },
     "execution_count": 24,
     "metadata": {},
     "output_type": "execute_result"
    }
   ],
   "source": [
    "df = pd.DataFrame(list(zip(test_data, original_labels)), columns=['text', 'predicted_label'])\n",
    "df"
   ]
  },
  {
   "cell_type": "code",
   "execution_count": 25,
   "metadata": {},
   "outputs": [
    {
     "data": {
      "text/plain": [
       "com_tech    1049\n",
       "bioche       284\n",
       "cse          269\n",
       "phy          186\n",
       "Name: predicted_label, dtype: int64"
      ]
     },
     "execution_count": 25,
     "metadata": {},
     "output_type": "execute_result"
    }
   ],
   "source": [
    "df.predicted_label.value_counts()"
   ]
  },
  {
   "cell_type": "code",
   "execution_count": 26,
   "metadata": {},
   "outputs": [],
   "source": [
    "df.to_csv(\"../results/marathi-multi-channel-CNN-BiLSTM-attention-parallel-predictions.tsv\", sep='\\t', index=False)"
   ]
  },
  {
   "cell_type": "code",
   "execution_count": null,
   "metadata": {},
   "outputs": [],
   "source": []
  }
 ],
 "metadata": {
  "kernelspec": {
   "display_name": "Python 3",
   "language": "python",
   "name": "python3"
  },
  "language_info": {
   "codemirror_mode": {
    "name": "ipython",
    "version": 3
   },
   "file_extension": ".py",
   "mimetype": "text/x-python",
   "name": "python",
   "nbconvert_exporter": "python",
   "pygments_lexer": "ipython3",
   "version": "3.8.3"
  },
  "toc": {
   "base_numbering": 1,
   "nav_menu": {},
   "number_sections": true,
   "sideBar": true,
   "skip_h1_title": false,
   "title_cell": "Table of Contents",
   "title_sidebar": "Contents",
   "toc_cell": false,
   "toc_position": {},
   "toc_section_display": true,
   "toc_window_display": false
  }
 },
 "nbformat": 4,
 "nbformat_minor": 4
}
