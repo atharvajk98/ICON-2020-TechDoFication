{
 "cells": [
  {
   "cell_type": "code",
   "execution_count": 25,
   "metadata": {},
   "outputs": [],
   "source": [
    "from Data_Preprocess import Data_Preprocess\n",
    "from model import ml_classifier_model\n",
    "from sklearn.naive_bayes import MultinomialNB\n",
    "from sklearn.ensemble import RandomForestClassifier\n",
    "from sklearn.svm import LinearSVC, SVC\n",
    "from sklearn.neighbors import KNeighborsClassifier"
   ]
  },
  {
   "cell_type": "code",
   "execution_count": 2,
   "metadata": {},
   "outputs": [],
   "source": [
    "dp = Data_Preprocess()"
   ]
  },
  {
   "cell_type": "markdown",
   "metadata": {},
   "source": [
    "# Loading Training Data"
   ]
  },
  {
   "cell_type": "code",
   "execution_count": 3,
   "metadata": {},
   "outputs": [
    {
     "data": {
      "text/html": [
       "<div>\n",
       "<style scoped>\n",
       "    .dataframe tbody tr th:only-of-type {\n",
       "        vertical-align: middle;\n",
       "    }\n",
       "\n",
       "    .dataframe tbody tr th {\n",
       "        vertical-align: top;\n",
       "    }\n",
       "\n",
       "    .dataframe thead th {\n",
       "        text-align: right;\n",
       "    }\n",
       "</style>\n",
       "<table border=\"1\" class=\"dataframe\">\n",
       "  <thead>\n",
       "    <tr style=\"text-align: right;\">\n",
       "      <th></th>\n",
       "      <th>text</th>\n",
       "      <th>label</th>\n",
       "    </tr>\n",
       "  </thead>\n",
       "  <tbody>\n",
       "    <tr>\n",
       "      <th>0</th>\n",
       "      <td>प्रा . प्रताप हरिदास : होय , मला वाटते की हा ए...</td>\n",
       "      <td>com_tech</td>\n",
       "    </tr>\n",
       "    <tr>\n",
       "      <th>1</th>\n",
       "      <td>तर , विशिष्ट गोष्टींद्वारे , ठराविक कायद्यांद्...</td>\n",
       "      <td>bioche</td>\n",
       "    </tr>\n",
       "    <tr>\n",
       "      <th>2</th>\n",
       "      <td>- - - - - - - - - - - - - - - - - - - - - - - ...</td>\n",
       "      <td>cse</td>\n",
       "    </tr>\n",
       "    <tr>\n",
       "      <th>3</th>\n",
       "      <td>तर , आपला अर्धा चिन्ह 9 वाजता असेल .</td>\n",
       "      <td>phy</td>\n",
       "    </tr>\n",
       "    <tr>\n",
       "      <th>4</th>\n",
       "      <td>म्हणून , मी असे म्हणालो की जर शेकडो , हजारो कि...</td>\n",
       "      <td>phy</td>\n",
       "    </tr>\n",
       "    <tr>\n",
       "      <th>...</th>\n",
       "      <td>...</td>\n",
       "      <td>...</td>\n",
       "    </tr>\n",
       "    <tr>\n",
       "      <th>41992</th>\n",
       "      <td>जरी आपण डेटा कूटबद्ध केला , तरीही हा मुख्य व्य...</td>\n",
       "      <td>cse</td>\n",
       "    </tr>\n",
       "    <tr>\n",
       "      <th>41993</th>\n",
       "      <td>ते म्हणतात - \" ज्याला पाहण्यासाठी डोळे , ऎकण्य...</td>\n",
       "      <td>com_tech</td>\n",
       "    </tr>\n",
       "    <tr>\n",
       "      <th>41994</th>\n",
       "      <td>प्रथम क्रोनोलॉजिकल , क्रॉनोलॉजी म्हणजे आपल्याल...</td>\n",
       "      <td>com_tech</td>\n",
       "    </tr>\n",
       "    <tr>\n",
       "      <th>41995</th>\n",
       "      <td>त्या थोड्या तपशीलावर येईल , जेणेकरून संपूर्ण ग...</td>\n",
       "      <td>bioche</td>\n",
       "    </tr>\n",
       "    <tr>\n",
       "      <th>41996</th>\n",
       "      <td>आणि एका हॉटेलमध्ये त्यांनी एका स्विस रेस्ट्राम...</td>\n",
       "      <td>com_tech</td>\n",
       "    </tr>\n",
       "  </tbody>\n",
       "</table>\n",
       "<p>41997 rows × 2 columns</p>\n",
       "</div>"
      ],
      "text/plain": [
       "                                                    text     label\n",
       "0      प्रा . प्रताप हरिदास : होय , मला वाटते की हा ए...  com_tech\n",
       "1      तर , विशिष्ट गोष्टींद्वारे , ठराविक कायद्यांद्...    bioche\n",
       "2      - - - - - - - - - - - - - - - - - - - - - - - ...       cse\n",
       "3                   तर , आपला अर्धा चिन्ह 9 वाजता असेल .       phy\n",
       "4      म्हणून , मी असे म्हणालो की जर शेकडो , हजारो कि...       phy\n",
       "...                                                  ...       ...\n",
       "41992  जरी आपण डेटा कूटबद्ध केला , तरीही हा मुख्य व्य...       cse\n",
       "41993  ते म्हणतात - \" ज्याला पाहण्यासाठी डोळे , ऎकण्य...  com_tech\n",
       "41994  प्रथम क्रोनोलॉजिकल , क्रॉनोलॉजी म्हणजे आपल्याल...  com_tech\n",
       "41995  त्या थोड्या तपशीलावर येईल , जेणेकरून संपूर्ण ग...    bioche\n",
       "41996  आणि एका हॉटेलमध्ये त्यांनी एका स्विस रेस्ट्राम...  com_tech\n",
       "\n",
       "[41997 rows x 2 columns]"
      ]
     },
     "execution_count": 3,
     "metadata": {},
     "output_type": "execute_result"
    }
   ],
   "source": [
    "training_path = \"dataset/marathi-training-data.tsv\"\n",
    "train_data = dp.read_data(training_path)\n",
    "train_data"
   ]
  },
  {
   "cell_type": "code",
   "execution_count": 4,
   "metadata": {},
   "outputs": [
    {
     "data": {
      "text/plain": [
       "com_tech    17995\n",
       "phy          9656\n",
       "cse          9344\n",
       "bioche       5002\n",
       "Name: label, dtype: int64"
      ]
     },
     "execution_count": 4,
     "metadata": {},
     "output_type": "execute_result"
    }
   ],
   "source": [
    "train_data.label.value_counts()"
   ]
  },
  {
   "cell_type": "code",
   "execution_count": 5,
   "metadata": {},
   "outputs": [
    {
     "name": "stdout",
     "output_type": "stream",
     "text": [
      "41997\n",
      "41997\n"
     ]
    }
   ],
   "source": [
    "x_train = train_data.text.values.tolist()\n",
    "y_train = train_data.label.values.tolist()\n",
    "print(len(x_train))\n",
    "print(len(y_train))"
   ]
  },
  {
   "cell_type": "markdown",
   "metadata": {},
   "source": [
    "# loading Validation Data"
   ]
  },
  {
   "cell_type": "code",
   "execution_count": 6,
   "metadata": {},
   "outputs": [
    {
     "data": {
      "text/html": [
       "<div>\n",
       "<style scoped>\n",
       "    .dataframe tbody tr th:only-of-type {\n",
       "        vertical-align: middle;\n",
       "    }\n",
       "\n",
       "    .dataframe tbody tr th {\n",
       "        vertical-align: top;\n",
       "    }\n",
       "\n",
       "    .dataframe thead th {\n",
       "        text-align: right;\n",
       "    }\n",
       "</style>\n",
       "<table border=\"1\" class=\"dataframe\">\n",
       "  <thead>\n",
       "    <tr style=\"text-align: right;\">\n",
       "      <th></th>\n",
       "      <th>text</th>\n",
       "      <th>label</th>\n",
       "    </tr>\n",
       "  </thead>\n",
       "  <tbody>\n",
       "    <tr>\n",
       "      <th>0</th>\n",
       "      <td>1 ची ओळ .</td>\n",
       "      <td>cse</td>\n",
       "    </tr>\n",
       "    <tr>\n",
       "      <th>1</th>\n",
       "      <td>तर , ही एक टॉवर आहे जी टॉवरवर निश्चित केली जात...</td>\n",
       "      <td>phy</td>\n",
       "    </tr>\n",
       "    <tr>\n",
       "      <th>2</th>\n",
       "      <td>तर , थ्रेडच्या परतीच्या स्थितीस पास करण्यासाठी...</td>\n",
       "      <td>cse</td>\n",
       "    </tr>\n",
       "    <tr>\n",
       "      <th>3</th>\n",
       "      <td>आपण लोक शोधत आहात जे आपल्यासाठी काहीतरी करू शक...</td>\n",
       "      <td>com_tech</td>\n",
       "    </tr>\n",
       "    <tr>\n",
       "      <th>4</th>\n",
       "      <td>लिनक्स कर्नल अनुसूचीतकरणामध्ये अशी तंत्र असण्य...</td>\n",
       "      <td>cse</td>\n",
       "    </tr>\n",
       "    <tr>\n",
       "      <th>...</th>\n",
       "      <td>...</td>\n",
       "      <td>...</td>\n",
       "    </tr>\n",
       "    <tr>\n",
       "      <th>3775</th>\n",
       "      <td>नंतर वृद्धत्व , व्हॉट मोठ्या प्रमाणात फ्रॉन 12...</td>\n",
       "      <td>bioche</td>\n",
       "    </tr>\n",
       "    <tr>\n",
       "      <th>3776</th>\n",
       "      <td>आणि मग सुद्धा आपल्याला काही सेकंदांनंतर माहित ...</td>\n",
       "      <td>phy</td>\n",
       "    </tr>\n",
       "    <tr>\n",
       "      <th>3777</th>\n",
       "      <td>तर , आपण ELF शीर्षलेखासह प्रारंभ करू .</td>\n",
       "      <td>cse</td>\n",
       "    </tr>\n",
       "    <tr>\n",
       "      <th>3778</th>\n",
       "      <td>तर , त्या क्रॉस्टची जाडी आहे .</td>\n",
       "      <td>phy</td>\n",
       "    </tr>\n",
       "    <tr>\n",
       "      <th>3779</th>\n",
       "      <td>तर , मला वाटते की ही माहिती अशी आहे की आपण एका...</td>\n",
       "      <td>phy</td>\n",
       "    </tr>\n",
       "  </tbody>\n",
       "</table>\n",
       "<p>3780 rows × 2 columns</p>\n",
       "</div>"
      ],
      "text/plain": [
       "                                                   text     label\n",
       "0                                             1 ची ओळ .       cse\n",
       "1     तर , ही एक टॉवर आहे जी टॉवरवर निश्चित केली जात...       phy\n",
       "2     तर , थ्रेडच्या परतीच्या स्थितीस पास करण्यासाठी...       cse\n",
       "3     आपण लोक शोधत आहात जे आपल्यासाठी काहीतरी करू शक...  com_tech\n",
       "4     लिनक्स कर्नल अनुसूचीतकरणामध्ये अशी तंत्र असण्य...       cse\n",
       "...                                                 ...       ...\n",
       "3775  नंतर वृद्धत्व , व्हॉट मोठ्या प्रमाणात फ्रॉन 12...    bioche\n",
       "3776  आणि मग सुद्धा आपल्याला काही सेकंदांनंतर माहित ...       phy\n",
       "3777             तर , आपण ELF शीर्षलेखासह प्रारंभ करू .       cse\n",
       "3778                     तर , त्या क्रॉस्टची जाडी आहे .       phy\n",
       "3779  तर , मला वाटते की ही माहिती अशी आहे की आपण एका...       phy\n",
       "\n",
       "[3780 rows x 2 columns]"
      ]
     },
     "execution_count": 6,
     "metadata": {},
     "output_type": "execute_result"
    }
   ],
   "source": [
    "val_path = \"dataset/marathi-validation-data.tsv\"\n",
    "val_data = dp.read_data(val_path)\n",
    "val_data"
   ]
  },
  {
   "cell_type": "code",
   "execution_count": 7,
   "metadata": {},
   "outputs": [
    {
     "data": {
      "text/plain": [
       "com_tech    1505\n",
       "phy          970\n",
       "cse          885\n",
       "bioche       420\n",
       "Name: label, dtype: int64"
      ]
     },
     "execution_count": 7,
     "metadata": {},
     "output_type": "execute_result"
    }
   ],
   "source": [
    "val_data.label.value_counts()"
   ]
  },
  {
   "cell_type": "code",
   "execution_count": 8,
   "metadata": {},
   "outputs": [
    {
     "name": "stdout",
     "output_type": "stream",
     "text": [
      "3780\n",
      "3780\n"
     ]
    }
   ],
   "source": [
    "x_val = val_data.text.values.tolist()\n",
    "y_val = val_data.label.values.tolist()\n",
    "print(len(x_val))\n",
    "print(len(y_val))"
   ]
  },
  {
   "cell_type": "markdown",
   "metadata": {},
   "source": [
    "# Preprocessing the x and y data"
   ]
  },
  {
   "cell_type": "code",
   "execution_count": 9,
   "metadata": {},
   "outputs": [],
   "source": [
    "bow_train, bow_x_val = dp.bow_vectorize(x_train, x_val)\n",
    "tfidf_x_train, tfidf_x_val = dp.tfidf_vectorize(x_train, x_val)\n",
    "n_gram_tfidf_x_train, n_gram_tfidf_x_val = dp.n_gram_tfidf_vectorize(x_train, x_val)\n",
    "char_tfidf_x_train, char_tfidf_x_val = dp.char_tfidf_vectorize(x_train, x_val)"
   ]
  },
  {
   "cell_type": "code",
   "execution_count": 10,
   "metadata": {},
   "outputs": [],
   "source": [
    "integer_y_train, integer_y_val = dp.label_encoder(y_train, y_val)"
   ]
  },
  {
   "cell_type": "markdown",
   "metadata": {},
   "source": [
    "# Multinomial Naive Bayes"
   ]
  },
  {
   "cell_type": "code",
   "execution_count": 11,
   "metadata": {},
   "outputs": [
    {
     "name": "stdout",
     "output_type": "stream",
     "text": [
      "Naive Bayes, Count Vectors:  0.7428571428571429\n"
     ]
    }
   ],
   "source": [
    "# Naive Bayes on Count Vectors\n",
    "NB_bow, NB_bow_accuracy = ml_classifier_model(MultinomialNB(), \n",
    "                                              bow_train, bow_x_val, \n",
    "                                              integer_y_train, integer_y_val)\n",
    "print(\"Naive Bayes, Count Vectors: \", NB_bow_accuracy)"
   ]
  },
  {
   "cell_type": "code",
   "execution_count": 12,
   "metadata": {},
   "outputs": [
    {
     "name": "stdout",
     "output_type": "stream",
     "text": [
      "Naive Bayes, TF-IDF Vectors:  0.6547619047619048\n"
     ]
    }
   ],
   "source": [
    "# Naive Bayes on TF-IDF\n",
    "NB_tfidf, NB_tfidf_accuracy = ml_classifier_model(MultinomialNB(), \n",
    "                                                  tfidf_x_train, tfidf_x_val, \n",
    "                                                  integer_y_train, integer_y_val)\n",
    "print(\"Naive Bayes, TF-IDF Vectors: \", NB_tfidf_accuracy)"
   ]
  },
  {
   "cell_type": "code",
   "execution_count": 13,
   "metadata": {},
   "outputs": [
    {
     "name": "stdout",
     "output_type": "stream",
     "text": [
      "Naive Bayes, n-gram TF-IDF Vectors:  0.620899470899471\n"
     ]
    }
   ],
   "source": [
    "# Naive Bayes on n-gram TF-IDF\n",
    "NB_ngram_tfidf, NB_ngram_tfidf_accuracy = ml_classifier_model(MultinomialNB(), \n",
    "                                                              n_gram_tfidf_x_train, n_gram_tfidf_x_val, \n",
    "                                                              integer_y_train, integer_y_val)\n",
    "print(\"Naive Bayes, n-gram TF-IDF Vectors: \", NB_ngram_tfidf_accuracy)"
   ]
  },
  {
   "cell_type": "code",
   "execution_count": 14,
   "metadata": {},
   "outputs": [
    {
     "name": "stdout",
     "output_type": "stream",
     "text": [
      "Naive Bayes, character-level TF-IDF Vectors:  0.7743386243386243\n"
     ]
    }
   ],
   "source": [
    "# Naive Bayes on character-level TF-IDF\n",
    "NB_char_tfidf, NB_char_tfidf_accuracy = ml_classifier_model(MultinomialNB(), \n",
    "                                                            char_tfidf_x_train, char_tfidf_x_val, \n",
    "                                                            integer_y_train, integer_y_val)\n",
    "print(\"Naive Bayes, character-level TF-IDF Vectors: \", NB_char_tfidf_accuracy)"
   ]
  },
  {
   "cell_type": "markdown",
   "metadata": {},
   "source": [
    "# Linear SVC"
   ]
  },
  {
   "cell_type": "code",
   "execution_count": 47,
   "metadata": {},
   "outputs": [
    {
     "name": "stdout",
     "output_type": "stream",
     "text": [
      "Linear SVC, Count Vectors:  0.7690476190476191\n"
     ]
    }
   ],
   "source": [
    "# Linear SVC on Count Vectors\n",
    "LSVC_bow, LSVC_bow_accuracy = ml_classifier_model(LinearSVC(max_iter=6000), \n",
    "                                                  bow_train, bow_x_val, \n",
    "                                                  integer_y_train, integer_y_val)\n",
    "print(\"Linear SVC, Count Vectors: \", LSVC_bow_accuracy)"
   ]
  },
  {
   "cell_type": "code",
   "execution_count": 16,
   "metadata": {},
   "outputs": [
    {
     "name": "stdout",
     "output_type": "stream",
     "text": [
      "Linear SVC, TF-IDF Vectors:  0.7727513227513227\n"
     ]
    }
   ],
   "source": [
    "# Linear SVC on TF-IDF\n",
    "LSVC_tfidf, LSVC_tfidf_accuracy = ml_classifier_model(LinearSVC(), \n",
    "                                                      tfidf_x_train, tfidf_x_val, \n",
    "                                                      integer_y_train, integer_y_val)\n",
    "print(\"Linear SVC, TF-IDF Vectors: \", LSVC_tfidf_accuracy)"
   ]
  },
  {
   "cell_type": "code",
   "execution_count": 17,
   "metadata": {},
   "outputs": [
    {
     "name": "stdout",
     "output_type": "stream",
     "text": [
      "Linear SVC, n-gram TF-IDF Vectors:  0.873015873015873\n"
     ]
    }
   ],
   "source": [
    "# Linear SVC on n-gram TF-IDF\n",
    "LSVC_ngram_tfidf, LSVC_ngram_tfidf_accuracy = ml_classifier_model(LinearSVC(), \n",
    "                                                                  n_gram_tfidf_x_train, n_gram_tfidf_x_val, \n",
    "                                                                  integer_y_train, integer_y_val)\n",
    "print(\"Linear SVC, n-gram TF-IDF Vectors: \", LSVC_ngram_tfidf_accuracy)"
   ]
  },
  {
   "cell_type": "code",
   "execution_count": 19,
   "metadata": {},
   "outputs": [
    {
     "name": "stdout",
     "output_type": "stream",
     "text": [
      "Linear SVC, character-level TF-IDF Vectors:  0.8947089947089947\n"
     ]
    }
   ],
   "source": [
    "# Linear SVC on character-level TF-IDF\n",
    "LSVC_char_tfidf, LSVC_char_tfidf_accuracy = ml_classifier_model(LinearSVC(), \n",
    "                                                                char_tfidf_x_train, char_tfidf_x_val, \n",
    "                                                                integer_y_train, integer_y_val)\n",
    "print(\"Linear SVC, character-level TF-IDF Vectors: \", LSVC_char_tfidf_accuracy)"
   ]
  },
  {
   "cell_type": "markdown",
   "metadata": {},
   "source": [
    "# Random Forest"
   ]
  },
  {
   "cell_type": "code",
   "execution_count": 20,
   "metadata": {},
   "outputs": [
    {
     "name": "stdout",
     "output_type": "stream",
     "text": [
      "Random Forest, Count Vectors:  0.676984126984127\n"
     ]
    }
   ],
   "source": [
    "# Random Forest on  Count Vectors\n",
    "RF_bow, RF_bow_accuracy = ml_classifier_model(RandomForestClassifier(), \n",
    "                                              bow_train, bow_x_val, \n",
    "                                              integer_y_train, integer_y_val)\n",
    "print(\"Random Forest, Count Vectors: \", RF_bow_accuracy)"
   ]
  },
  {
   "cell_type": "code",
   "execution_count": 21,
   "metadata": {},
   "outputs": [
    {
     "name": "stdout",
     "output_type": "stream",
     "text": [
      "Random Forest, TF-IDF Vectors:  0.671957671957672\n"
     ]
    }
   ],
   "source": [
    "# Random Forest on TF-IDF\n",
    "RF_tfidf, RF_tfidf_accuracy = ml_classifier_model(RandomForestClassifier(), \n",
    "                                                  tfidf_x_train, tfidf_x_val, \n",
    "                                                  integer_y_train, integer_y_val)\n",
    "print(\"Random Forest, TF-IDF Vectors: \", RF_tfidf_accuracy)"
   ]
  },
  {
   "cell_type": "code",
   "execution_count": 45,
   "metadata": {
    "scrolled": true
   },
   "outputs": [
    {
     "name": "stdout",
     "output_type": "stream",
     "text": [
      "Random Forest, n-gram TF-IDF Vectors:  0.7386243386243386\n"
     ]
    }
   ],
   "source": [
    "# Random Forest on n-gram TF-IDF\n",
    "RF_ngram_tfidf, RF_ngram_tfidf_accuracy = ml_classifier_model(RandomForestClassifier(), \n",
    "                                                              n_gram_tfidf_x_train, n_gram_tfidf_x_val, \n",
    "                                                              integer_y_train, integer_y_val)\n",
    "print(\"Random Forest, n-gram TF-IDF Vectors: \", RF_ngram_tfidf_accuracy)"
   ]
  },
  {
   "cell_type": "code",
   "execution_count": 44,
   "metadata": {},
   "outputs": [
    {
     "name": "stdout",
     "output_type": "stream",
     "text": [
      "Random Forest, character-level TF-IDF Vectors:  0.7497354497354497\n"
     ]
    }
   ],
   "source": [
    "# Random Forest on character-level TF-IDF\n",
    "RF_char_tfidf, RF_char_tfidf_accuracy = ml_classifier_model(RandomForestClassifier(), \n",
    "                                                            char_tfidf_x_train, char_tfidf_x_val, \n",
    "                                                            integer_y_train, integer_y_val)\n",
    "print(\"Random Forest, character-level TF-IDF Vectors: \", RF_char_tfidf_accuracy)"
   ]
  },
  {
   "cell_type": "markdown",
   "metadata": {},
   "source": [
    "# K-Nearest Neighbors"
   ]
  },
  {
   "cell_type": "code",
   "execution_count": 40,
   "metadata": {},
   "outputs": [
    {
     "name": "stdout",
     "output_type": "stream",
     "text": [
      "K-Nearest Neighbors, Count Vectors:  0.523015873015873\n"
     ]
    }
   ],
   "source": [
    "# K-Nearest Neighbors on  Count Vectors\n",
    "knn_bow, knn_bow_accuracy = ml_classifier_model(KNeighborsClassifier(n_neighbors=11), \n",
    "                                                bow_train, bow_x_val, \n",
    "                                                integer_y_train, integer_y_val)\n",
    "print(\"K-Nearest Neighbors, Count Vectors: \", knn_bow_accuracy)"
   ]
  },
  {
   "cell_type": "code",
   "execution_count": 41,
   "metadata": {},
   "outputs": [
    {
     "name": "stdout",
     "output_type": "stream",
     "text": [
      "Random Forest, TF-IDF Vectors:  0.7005291005291006\n"
     ]
    }
   ],
   "source": [
    "# Random Forest on TF-IDF\n",
    "knn_tfidf, knn_tfidf_accuracy = ml_classifier_model(KNeighborsClassifier(n_neighbors=11), \n",
    "                                                    tfidf_x_train, tfidf_x_val, \n",
    "                                                    integer_y_train, integer_y_val)\n",
    "print(\"Random Forest, TF-IDF Vectors: \", knn_tfidf_accuracy)"
   ]
  },
  {
   "cell_type": "code",
   "execution_count": 42,
   "metadata": {},
   "outputs": [
    {
     "name": "stdout",
     "output_type": "stream",
     "text": [
      "Random Forest, n-gram TF-IDF Vectors:  0.7415343915343915\n"
     ]
    }
   ],
   "source": [
    "# Random Forest on n-gram TF-IDF\n",
    "knn_ngram_tfidf, knn_ngram_tfidf_accuracy = ml_classifier_model(KNeighborsClassifier(n_neighbors=11), \n",
    "                                                                n_gram_tfidf_x_train, n_gram_tfidf_x_val, \n",
    "                                                                integer_y_train, integer_y_val)\n",
    "print(\"Random Forest, n-gram TF-IDF Vectors: \", knn_ngram_tfidf_accuracy)"
   ]
  },
  {
   "cell_type": "code",
   "execution_count": 43,
   "metadata": {},
   "outputs": [
    {
     "name": "stdout",
     "output_type": "stream",
     "text": [
      "Random Forest, character-level TF-IDF Vectors:  0.817989417989418\n"
     ]
    }
   ],
   "source": [
    "# Random Forest on character-level TF-IDF\n",
    "knn_char_tfidf, knn_char_tfidf_accuracy = ml_classifier_model(KNeighborsClassifier(n_neighbors=11), \n",
    "                                                              char_tfidf_x_train, char_tfidf_x_val, \n",
    "                                                              integer_y_train, integer_y_val)\n",
    "print(\"Random Forest, character-level TF-IDF Vectors: \", knn_char_tfidf_accuracy)"
   ]
  },
  {
   "cell_type": "code",
   "execution_count": null,
   "metadata": {},
   "outputs": [],
   "source": []
  }
 ],
 "metadata": {
  "kernelspec": {
   "display_name": "Python 3",
   "language": "python",
   "name": "python3"
  },
  "language_info": {
   "codemirror_mode": {
    "name": "ipython",
    "version": 3
   },
   "file_extension": ".py",
   "mimetype": "text/x-python",
   "name": "python",
   "nbconvert_exporter": "python",
   "pygments_lexer": "ipython3",
   "version": "3.8.3"
  }
 },
 "nbformat": 4,
 "nbformat_minor": 4
}
