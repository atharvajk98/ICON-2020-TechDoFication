{
 "cells": [
  {
   "cell_type": "code",
   "execution_count": 140,
   "metadata": {},
   "outputs": [],
   "source": [
    "from gensim import corpora\n",
    "from gensim.models import LsiModel\n",
    "from gensim.models.coherencemodel import CoherenceModel\n",
    "import matplotlib.pyplot as plt\n",
    "import pandas as pd"
   ]
  },
  {
   "cell_type": "code",
   "execution_count": 141,
   "metadata": {},
   "outputs": [],
   "source": [
    "class LSA:\n",
    "    \n",
    "    def __init__(self):\n",
    "        print('Object Created')\n",
    "    \n",
    "    def read_data(self, path):\n",
    "        data = pd.read_csv(path)\n",
    "        return data\n",
    "        \n",
    "    \n",
    "    def prepare_documents(self, document_list):\n",
    "    \n",
    "        \"\"\"\n",
    "        Input  : document list\n",
    "        Purpose: create term dictionary of our courpus and Converting list of documents (corpus) into Document Term Matrix\n",
    "        Output : term dictionary and Document Term Matrix\n",
    "\n",
    "        \"\"\"\n",
    "    \n",
    "        # A term dictionary is a collection of all unique words in the corpus, such that each unique word is assigned an\n",
    "        # index value.\n",
    "        term_dict = corpora.Dictionary(document_list)\n",
    "        \n",
    "        # A document term matrix is an num_of_doc * vocab matrix\n",
    "        document_term_matrix = [term_dict.doc2bow(doc) for doc in document_list]\n",
    "        \n",
    "        \n",
    "        return term_dict, document_term_matrix\n",
    "    \n",
    "    \n",
    "    def generate_gensim_LSA(self, document_list, num_of_topics, words):\n",
    "    \n",
    "        \"\"\"\n",
    "        Input  : clean document, number of topics and number of words associated with each topic\n",
    "        Purpose: create LSA model using gensim\n",
    "        Output : return LSA model\n",
    "\n",
    "        \"\"\"\n",
    "        term_dict , document_term_matrix = self.prepare_documents(document_list)\n",
    "        \n",
    "        LSA_model = LsiModel( document_term_matrix, num_topics = num_of_topics, id2word = term_dict )\n",
    "        print(LSA_model.print_topics(num_topics=num_of_topics, num_words=words))\n",
    "        \n",
    "        return LSA_model\n",
    "    \n",
    "    \n",
    "    def compute_coherence_values(self, document_list, term_dictionary, document_term_matrix, stop , start = 2,  step = 3):\n",
    "\n",
    "        \"\"\"\n",
    "        Input   : dictionary : Gensim dictionary\n",
    "                  corpus : Gensim corpus\n",
    "                  texts : List of input texts\n",
    "                  stop : Max num of topics\n",
    "        Purpose : Compute c_v coherence for various number of topics\n",
    "        Output  : model_list : List of LSA topic models\n",
    "                  coherence_values : Coherence values corresponding to the LDA model with respective number of topics\n",
    "        \"\"\"\n",
    "\n",
    "        coherence_values = []\n",
    "        model_list = []\n",
    "\n",
    "        for count in range(start, stop, step):\n",
    "            \n",
    "            print('Generating model for topic number',count)\n",
    "            model = LsiModel(document_term_matrix, num_topics = count, id2word = term_dictionary)\n",
    "            model_list.append(model)\n",
    "\n",
    "            coherence_model = CoherenceModel(model = model, texts = document_list, dictionary = term_dictionary,\n",
    "                                             coherence = 'c_v')\n",
    "            \n",
    "            coherence_values.append(coherence_model.get_coherence())\n",
    "\n",
    "        return model_list, coherence_values\n",
    "    \n",
    "    \n",
    "    def plot_coherence_values(self, document_list, stop, start, step):\n",
    "        \n",
    "\n",
    "        term_dictionary, document_term_matrix = self.prepare_documents(document_list)\n",
    "        model_list, coherence_values = self.compute_coherence_values(document_list, term_dictionary, document_term_matrix, \n",
    "                                                                 stop, start, step)\n",
    "        \n",
    "        # Show graph:\n",
    "        print(model_list, coherence_values)\n",
    "        x = range(start, stop, step)\n",
    "        plt.plot(x, coherence_values)\n",
    "        plt.xlabel(\"Number of Topics\")\n",
    "        plt.ylabel(\"Coherence score\")\n",
    "        plt.legend((\"coherence_values\"), loc = 'best')\n",
    "        plt.show() "
   ]
  },
  {
   "cell_type": "markdown",
   "metadata": {},
   "source": [
    "<b>Trial Run :</b>"
   ]
  },
  {
   "cell_type": "code",
   "execution_count": 144,
   "metadata": {},
   "outputs": [
    {
     "name": "stdout",
     "output_type": "stream",
     "text": [
      "तर , विशिष्ट गोष्टींद्वारे , ठराविक कायद्यांद्वारे विशिष्ट तत्त्वांनी मार्गदर्शित नसल्यास त्या गोष्टी परिभाषित केल्या नसल्यास नियंत्रण करणे खूप कठीण आहे म्हणून , त्यात संपूर्ण खाद्यपदार्थ नियंत्रित करण्यासाठी मूळ स्वरुपाचा किंवा प्रत्यक्ष किंवा अप्रत्यक्षपणे हाताळल्यानंतर कोणत्याही स्वरुपाच्या प्रक्रियेनंतर किंवा कोणत्याही स्वरुपाचे नियंत्रण करणे .\n"
     ]
    }
   ],
   "source": [
    "data = pd.read_csv('C:/Users/Amey/Desktop/Neural Networks/Machine Learning/NLP/Projects/Technodifacation/Data/training_data_marathi.csv')\n",
    "document_list = data['text'].to_list()\n",
    "print(document_list[1])"
   ]
  },
  {
   "cell_type": "code",
   "execution_count": 146,
   "metadata": {},
   "outputs": [
    {
     "name": "stdout",
     "output_type": "stream",
     "text": [
      "तर विशिष्ट गोष्टींद्वारे ठराविक कायद्यांद्वारे विशिष्ट तत्त्वांनी मार्गदर्शित नसल्यास त्या गोष्टी परिभाषित केल्या नसल्यास नियंत्रण करणे खूप कठीण आहे म्हणून त्यात संपूर्ण खाद्यपदार्थ नियंत्रित करण्यासाठी मूळ स्वरुपाचा किंवा प्रत्यक्ष किंवा अप्रत्यक्षपणे हाताळल्यानंतर कोणत्याही स्वरुपाच्या प्रक्रियेनंतर किंवा कोणत्याही स्वरुपाचे नियंत्रण करणे \n"
     ]
    }
   ],
   "source": [
    "from Preprocess_Text import Preprocess\n",
    "pp = Preprocess([])\n",
    "document_list = [pp.clean_text(doc) for doc in document_list]\n",
    "print(document_list[1])"
   ]
  },
  {
   "cell_type": "code",
   "execution_count": 147,
   "metadata": {},
   "outputs": [
    {
     "name": "stdout",
     "output_type": "stream",
     "text": [
      "41997\n"
     ]
    }
   ],
   "source": [
    "print(len(document_list))"
   ]
  },
  {
   "cell_type": "code",
   "execution_count": 64,
   "metadata": {},
   "outputs": [],
   "source": [
    "document_list = [doc.split() for doc in document_list]"
   ]
  },
  {
   "cell_type": "code",
   "execution_count": 138,
   "metadata": {},
   "outputs": [
    {
     "name": "stdout",
     "output_type": "stream",
     "text": [
      "Object Created\n"
     ]
    }
   ],
   "source": [
    "#Defining control variables\n",
    "\n",
    "start, stop, step = 2, 100, 1\n",
    "num_of_dims = 300\n",
    "top_words = 5\n",
    "lsa = LSA()"
   ]
  },
  {
   "cell_type": "code",
   "execution_count": 139,
   "metadata": {},
   "outputs": [
    {
     "name": "stdout",
     "output_type": "stream",
     "text": [
      "Generating model for topic number 2\n",
      "Generating model for topic number 3\n",
      "Generating model for topic number 4\n",
      "Generating model for topic number 5\n",
      "Generating model for topic number 6\n",
      "Generating model for topic number 7\n",
      "Generating model for topic number 8\n",
      "Generating model for topic number 9\n",
      "Generating model for topic number 10\n",
      "Generating model for topic number 11\n",
      "Generating model for topic number 12\n",
      "Generating model for topic number 13\n",
      "Generating model for topic number 14\n",
      "Generating model for topic number 15\n",
      "Generating model for topic number 16\n",
      "Generating model for topic number 17\n",
      "Generating model for topic number 18\n",
      "Generating model for topic number 19\n",
      "Generating model for topic number 20\n",
      "Generating model for topic number 21\n",
      "Generating model for topic number 22\n",
      "Generating model for topic number 23\n",
      "Generating model for topic number 24\n",
      "Generating model for topic number 25\n",
      "Generating model for topic number 26\n",
      "Generating model for topic number 27\n",
      "Generating model for topic number 28\n",
      "Generating model for topic number 29\n",
      "Generating model for topic number 30\n",
      "Generating model for topic number 31\n",
      "Generating model for topic number 32\n",
      "Generating model for topic number 33\n",
      "Generating model for topic number 34\n",
      "Generating model for topic number 35\n",
      "Generating model for topic number 36\n",
      "Generating model for topic number 37\n",
      "Generating model for topic number 38\n",
      "Generating model for topic number 39\n",
      "Generating model for topic number 40\n",
      "Generating model for topic number 41\n",
      "Generating model for topic number 42\n",
      "Generating model for topic number 43\n",
      "Generating model for topic number 44\n",
      "Generating model for topic number 45\n",
      "Generating model for topic number 46\n",
      "Generating model for topic number 47\n",
      "Generating model for topic number 48\n",
      "Generating model for topic number 49\n",
      "Generating model for topic number 50\n",
      "Generating model for topic number 51\n",
      "Generating model for topic number 52\n",
      "Generating model for topic number 53\n",
      "Generating model for topic number 54\n",
      "Generating model for topic number 55\n",
      "Generating model for topic number 56\n",
      "Generating model for topic number 57\n",
      "Generating model for topic number 58\n",
      "Generating model for topic number 59\n",
      "Generating model for topic number 60\n",
      "Generating model for topic number 61\n",
      "Generating model for topic number 62\n",
      "Generating model for topic number 63\n",
      "Generating model for topic number 64\n",
      "Generating model for topic number 65\n",
      "Generating model for topic number 66\n",
      "Generating model for topic number 67\n",
      "Generating model for topic number 68\n",
      "Generating model for topic number 69\n",
      "Generating model for topic number 70\n",
      "Generating model for topic number 71\n",
      "Generating model for topic number 72\n",
      "Generating model for topic number 73\n",
      "Generating model for topic number 74\n",
      "Generating model for topic number 75\n",
      "Generating model for topic number 76\n",
      "Generating model for topic number 77\n",
      "Generating model for topic number 78\n",
      "Generating model for topic number 79\n",
      "Generating model for topic number 80\n",
      "Generating model for topic number 81\n",
      "Generating model for topic number 82\n",
      "Generating model for topic number 83\n",
      "Generating model for topic number 84\n",
      "Generating model for topic number 85\n",
      "Generating model for topic number 86\n",
      "Generating model for topic number 87\n",
      "Generating model for topic number 88\n",
      "Generating model for topic number 89\n",
      "Generating model for topic number 90\n",
      "Generating model for topic number 91\n",
      "Generating model for topic number 92\n",
      "Generating model for topic number 93\n",
      "Generating model for topic number 94\n",
      "Generating model for topic number 95\n",
      "Generating model for topic number 96\n",
      "Generating model for topic number 97\n",
      "Generating model for topic number 98\n",
      "Generating model for topic number 99\n",
      "[<gensim.models.lsimodel.LsiModel object at 0x000001BB05EDE688>, <gensim.models.lsimodel.LsiModel object at 0x000001BB05EDED08>, <gensim.models.lsimodel.LsiModel object at 0x000001BAFE5E0148>, <gensim.models.lsimodel.LsiModel object at 0x000001BB09058FC8>, <gensim.models.lsimodel.LsiModel object at 0x000001BAFAA45C48>, <gensim.models.lsimodel.LsiModel object at 0x000001BB07888408>, <gensim.models.lsimodel.LsiModel object at 0x000001BAF8DCC808>, <gensim.models.lsimodel.LsiModel object at 0x000001BAFE413808>, <gensim.models.lsimodel.LsiModel object at 0x000001BAE0F7E588>, <gensim.models.lsimodel.LsiModel object at 0x000001BB0A151248>, <gensim.models.lsimodel.LsiModel object at 0x000001BB0C533688>, <gensim.models.lsimodel.LsiModel object at 0x000001BB0CB572C8>, <gensim.models.lsimodel.LsiModel object at 0x000001BADFA21708>, <gensim.models.lsimodel.LsiModel object at 0x000001BAF8199048>, <gensim.models.lsimodel.LsiModel object at 0x000001BAFB13D148>, <gensim.models.lsimodel.LsiModel object at 0x000001BB06060888>, <gensim.models.lsimodel.LsiModel object at 0x000001BB0A151CC8>, <gensim.models.lsimodel.LsiModel object at 0x000001BB0DF07D08>, <gensim.models.lsimodel.LsiModel object at 0x000001BB08FED308>, <gensim.models.lsimodel.LsiModel object at 0x000001BB0CFEC488>, <gensim.models.lsimodel.LsiModel object at 0x000001BAFE5E5D88>, <gensim.models.lsimodel.LsiModel object at 0x000001BB0D2EDA88>, <gensim.models.lsimodel.LsiModel object at 0x000001BAF8185E48>, <gensim.models.lsimodel.LsiModel object at 0x000001BB0D35A9C8>, <gensim.models.lsimodel.LsiModel object at 0x000001BAFE413AC8>, <gensim.models.lsimodel.LsiModel object at 0x000001BB0D6DFCC8>, <gensim.models.lsimodel.LsiModel object at 0x000001BB0DFB2808>, <gensim.models.lsimodel.LsiModel object at 0x000001BB065BCF88>, <gensim.models.lsimodel.LsiModel object at 0x000001BB09AF5FC8>, <gensim.models.lsimodel.LsiModel object at 0x000001BB0CD0B688>, <gensim.models.lsimodel.LsiModel object at 0x000001BB099A3E48>, <gensim.models.lsimodel.LsiModel object at 0x000001BB0999C908>, <gensim.models.lsimodel.LsiModel object at 0x000001BB093A4FC8>, <gensim.models.lsimodel.LsiModel object at 0x000001BB060A26C8>, <gensim.models.lsimodel.LsiModel object at 0x000001BB099A3688>, <gensim.models.lsimodel.LsiModel object at 0x000001BB09325FC8>, <gensim.models.lsimodel.LsiModel object at 0x000001BB06066188>, <gensim.models.lsimodel.LsiModel object at 0x000001BB08EDF908>, <gensim.models.lsimodel.LsiModel object at 0x000001BB09441FC8>, <gensim.models.lsimodel.LsiModel object at 0x000001BB09A36F08>, <gensim.models.lsimodel.LsiModel object at 0x000001BB09A347C8>, <gensim.models.lsimodel.LsiModel object at 0x000001BB0D4F2DC8>, <gensim.models.lsimodel.LsiModel object at 0x000001BB08F7BF48>, <gensim.models.lsimodel.LsiModel object at 0x000001BB093FC1C8>, <gensim.models.lsimodel.LsiModel object at 0x000001BB0941A8C8>, <gensim.models.lsimodel.LsiModel object at 0x000001BAFE413A88>, <gensim.models.lsimodel.LsiModel object at 0x000001BB0CDD8AC8>, <gensim.models.lsimodel.LsiModel object at 0x000001BB09A08FC8>, <gensim.models.lsimodel.LsiModel object at 0x000001BB08E9AFC8>, <gensim.models.lsimodel.LsiModel object at 0x000001BB0CC7E848>, <gensim.models.lsimodel.LsiModel object at 0x000001BB0CF6D6C8>, <gensim.models.lsimodel.LsiModel object at 0x000001BB0CD389C8>, <gensim.models.lsimodel.LsiModel object at 0x000001BB0CF53748>, <gensim.models.lsimodel.LsiModel object at 0x000001BB0A043F08>, <gensim.models.lsimodel.LsiModel object at 0x000001BB09B0BB88>, <gensim.models.lsimodel.LsiModel object at 0x000001BB0B3E7FC8>, <gensim.models.lsimodel.LsiModel object at 0x000001BB08F49208>, <gensim.models.lsimodel.LsiModel object at 0x000001BB08F11788>, <gensim.models.lsimodel.LsiModel object at 0x000001BB08FD5FC8>, <gensim.models.lsimodel.LsiModel object at 0x000001BB0D5AF288>, <gensim.models.lsimodel.LsiModel object at 0x000001BB07E7ACC8>, <gensim.models.lsimodel.LsiModel object at 0x000001BB0B406948>, <gensim.models.lsimodel.LsiModel object at 0x000001BB0CDFD188>, <gensim.models.lsimodel.LsiModel object at 0x000001BB0CE0F2C8>, <gensim.models.lsimodel.LsiModel object at 0x000001BB0B3FD588>, <gensim.models.lsimodel.LsiModel object at 0x000001BB0CBC7BC8>, <gensim.models.lsimodel.LsiModel object at 0x000001BB0CBC1F48>, <gensim.models.lsimodel.LsiModel object at 0x000001BB0CBB2E08>, <gensim.models.lsimodel.LsiModel object at 0x000001BB0CBBC988>, <gensim.models.lsimodel.LsiModel object at 0x000001BAF8185D08>, <gensim.models.lsimodel.LsiModel object at 0x000001BB0CBC7B08>, <gensim.models.lsimodel.LsiModel object at 0x000001BB0CBA0E48>, <gensim.models.lsimodel.LsiModel object at 0x000001BB0B40C108>, <gensim.models.lsimodel.LsiModel object at 0x000001BB0D0F99C8>, <gensim.models.lsimodel.LsiModel object at 0x000001BB0B40B2C8>, <gensim.models.lsimodel.LsiModel object at 0x000001BB0760BFC8>, <gensim.models.lsimodel.LsiModel object at 0x000001BB075A4E48>, <gensim.models.lsimodel.LsiModel object at 0x000001BB0A777E08>, <gensim.models.lsimodel.LsiModel object at 0x000001BB0B3EFC88>, <gensim.models.lsimodel.LsiModel object at 0x000001BB0D043CC8>, <gensim.models.lsimodel.LsiModel object at 0x000001BB0D3CF888>, <gensim.models.lsimodel.LsiModel object at 0x000001BB076F6FC8>, <gensim.models.lsimodel.LsiModel object at 0x000001BB0DDA6088>, <gensim.models.lsimodel.LsiModel object at 0x000001BB0D390048>, <gensim.models.lsimodel.LsiModel object at 0x000001BB0B3DF0C8>, <gensim.models.lsimodel.LsiModel object at 0x000001BB0CBAA188>, <gensim.models.lsimodel.LsiModel object at 0x000001BB0CBBE908>, <gensim.models.lsimodel.LsiModel object at 0x000001BB0D42FDC8>, <gensim.models.lsimodel.LsiModel object at 0x000001BB0CF9AC08>, <gensim.models.lsimodel.LsiModel object at 0x000001BB0CB66E88>, <gensim.models.lsimodel.LsiModel object at 0x000001BB06A90FC8>, <gensim.models.lsimodel.LsiModel object at 0x000001BB0CA2CDC8>, <gensim.models.lsimodel.LsiModel object at 0x000001BB0CBCEA08>, <gensim.models.lsimodel.LsiModel object at 0x000001BB0661EFC8>, <gensim.models.lsimodel.LsiModel object at 0x000001BB0CBC5188>, <gensim.models.lsimodel.LsiModel object at 0x000001BB0DE12648>, <gensim.models.lsimodel.LsiModel object at 0x000001BB0C9DE388>, <gensim.models.lsimodel.LsiModel object at 0x000001BB0C9A6C88>] [0.6462358239022827, 0.6578758167177279, 0.6347764801302385, 0.6433369604685911, 0.671837383786691, 0.6676943335046611, 0.6664894305991778, 0.673414613689753, 0.6517783562787826, 0.6560050296002943, 0.6458181373527158, 0.6456275968027572, 0.640036048277911, 0.635672411443067, 0.6285337844914474, 0.624675363341142, 0.6294098934852167, 0.6341451403933316, 0.6362530378428978, 0.6380836870602794, 0.6398782670935316, 0.6405734510802203, 0.6399162293455629, 0.6416249843512163, 0.6407278214922958, 0.6413527991138139, 0.6413553262625363, 0.6384750527866064, 0.6311941335956833, 0.631929705086929, 0.6250412765428766, 0.6237426214122682, 0.62893718613803, 0.6307546186141803, 0.6276722681044411, 0.6268885560324132, 0.6304996724626818, 0.6328347258665896, 0.6325494532090685, 0.6305393415744949, 0.6285764013804255, 0.6165437110613512, 0.623837557331563, 0.6281464294937791, 0.6200766293860754, 0.6247555510176793, 0.6222797348077985, 0.6108635583882113, 0.6094653275857208, 0.6100254300551686, 0.6014335843396379, 0.6003502224286636, 0.6135856266077817, 0.6142486690678386, 0.5989733004361506, 0.6068871041132368, 0.6125038424295972, 0.6049658679763903, 0.6132053617242392, 0.6089412713958916, 0.607788562964813, 0.594038960093266, 0.6048738780357823, 0.594336579066179, 0.5988752458341494, 0.5922817900201491, 0.5858858571337022, 0.5878572079350207, 0.588142549945682, 0.5910416416244456, 0.5847117428069545, 0.590184201510438, 0.5795889024955786, 0.5804620622323545, 0.5817247100082975, 0.5771663975576704, 0.5768477334196739, 0.5771179376925218, 0.5779343161215161, 0.5737785889683609, 0.5772817024053946, 0.5749747814953885, 0.568325724230769, 0.5674347171817301, 0.5706486725054348, 0.5710260955020077, 0.5651035036059058, 0.5605980329959982, 0.5640794454933833, 0.5704050075074747, 0.5693103504424459, 0.5651006310248903, 0.559310768377823, 0.5607021076907909, 0.5575605946205158, 0.5621588938467154, 0.5616501751095602, 0.5606666454335723]\n"
     ]
    },
    {
     "data": {
      "image/png": "[encoded data removed]",
      "text/plain": [
       "<Figure size 432x288 with 1 Axes>"
      ]
     },
     "metadata": {
      "needs_background": "light"
     },
     "output_type": "display_data"
    }
   ],
   "source": [
    "# Generating graph of coherence values for different topic numbers (dimensions)\n",
    "lsa.plot_coherence_values(document_list, stop, start, step)"
   ]
  },
  {
   "cell_type": "code",
   "execution_count": 126,
   "metadata": {},
   "outputs": [
    {
     "name": "stdout",
     "output_type": "stream",
     "text": [
      "[(0, '0.534*\"\\'आहे\\'\" + 0.424*\"\\'आणि\\'\" + 0.340*\"\\'आपण\\'\" + 0.230*\"\\'\\'\" + 0.215*\"\\'की\\'\"'), (1, '-0.952*\"\\'\\'\" + 0.178*\"\\'आपण\\'\" + 0.128*\"\\'आहे\\'\" + 0.079*\"\\'की\\'\" + 0.069*\"\\'आणि\\'\"'), (2, '0.693*\"\\'आपण\\'\" + -0.629*\"\\'आहे\\'\" + 0.157*\"\\'आणि\\'\" + 0.093*\"\\'शकता\\'\" + -0.092*\"\\'हे\\'\"'), (3, '0.788*\"\\'आणि\\'\" + -0.432*\"\\'आपण\\'\" + -0.263*\"\\'आहे\\'\" + -0.165*\"\\'की\\'\" + 0.163*\"\\'ते\\'\"'), (4, '0.794*\"\\'ते\\'\" + -0.318*\"\\'आणि\\'\" + 0.244*\"\\'किंवा\\'\" + -0.181*\"\\'आपण\\'\" + -0.169*\"\\'आहे\\'\"'), (5, '-0.472*\"\\'हे\\'\" + -0.402*\"\\'की\\'\" + 0.345*\"\\'आहे\\'\" + 0.343*\"\\'ते\\'\" + -0.295*\"\\'आहे\\']\"'), (6, '0.574*\"\\'की\\'\" + -0.385*\"\\'एक\\'\" + -0.366*\"[\\'तर\\'\" + -0.360*\"\\'आहे\\']\" + -0.253*\"\\'हे\\'\"'), (7, '0.665*\"\\'हे\\'\" + -0.444*\"\\'किंवा\\'\" + -0.429*\"\\'एक\\'\" + 0.194*\"\\'ते\\'\" + -0.185*\"\\'काही\\'\"'), (8, '0.775*\"\\'तर\\'\" + 0.290*\"\\'जर\\'\" + 0.281*\"\\'असेल\\'\" + -0.194*\"\\'ते\\'\" + -0.169*\"\\'आपण\\'\"'), (9, '-0.618*\"\\'किंवा\\'\" + 0.376*\"\\'की\\'\" + 0.322*\"\\'आहे\\']\" + -0.305*\"\\'हे\\'\" + 0.253*\"[\\'तर\\'\"'), (10, '-0.485*\"\\'एक\\'\" + 0.478*\"\\'या\\'\" + 0.307*\"\\'काही\\'\" + 0.301*\"[\\'तर\\'\" + 0.257*\"\\'आहेत\\'\"'), (11, '0.462*\"\\'आपल्याला\\'\" + 0.439*\"\\'काही\\'\" + 0.364*\"\\'एक\\'\" + -0.324*\"\\'किंवा\\'\" + 0.284*\"\\'आहेत\\'\"'), (12, '0.540*\"\\'या\\'\" + -0.499*\"\\'आहे\\']\" + 0.374*\"\\'एक\\'\" + 0.229*\"\\'आम्ही\\'\" + -0.227*\"\\'आपल्याला\\'\"'), (13, '0.532*\"\\'आपल्याला\\'\" + -0.433*\"\\'काही\\'\" + 0.417*\"\\'या\\'\" + -0.247*\"\\'मी\\'\" + -0.240*\"[\\'तर\\'\"'), (14, '0.473*\"[\\'तर\\'\" + -0.420*\"\\'आहेत\\'\" + 0.401*\"\\'आम्ही\\'\" + -0.392*\"\\'आहे\\']\" + 0.389*\"\\'आपल्याला\\'\"'), (15, '0.450*\"\\'आहेत\\'\" + 0.433*\"[\\'तर\\'\" + -0.320*\"\\'आम्ही\\'\" + -0.279*\"\\'काही\\'\" + -0.276*\"\\'आहे\\']\"'), (16, '-0.624*\"\\'आम्ही\\'\" + 0.444*\"\\'मी\\'\" + 0.302*\"\\'या\\'\" + -0.255*\"\\'आहेत\\'\" + 0.247*\"\\'काही\\'\"'), (17, '0.632*\"\\'मी\\'\" + -0.401*\"\\'काही\\'\" + 0.347*\"\\'आहेत\\'\" + 0.311*\"\\'नाही\\'\" + -0.216*\"\\'की\\'\"'), (18, '0.726*\"\\'नाही\\'\" + -0.308*\"\\'मी\\'\" + -0.282*\"\\'आम्ही\\'\" + 0.189*\"[\\'तर\\'\" + 0.170*\"\\'परंतु\\'\"'), (19, '-0.543*\"\\'तेव्हा\\'\" + -0.539*\"\\'जेव्हा\\'\" + 0.331*\"\\'करू\\'\" + 0.279*\"\\'शकता\\'\" + 0.179*\"\\'आपल्याला\\'\"'), (20, '0.770*\"\\'जे\\'\" + -0.248*\"\\'आहेत\\'\" + 0.224*\"\\'केले\\'\" + 0.206*\"\\'असे\\'\" + 0.186*\"\\'म्हणून\\'\"'), (21, '0.706*\"\\'म्हणून\\'\" + 0.300*\"\\'त्या\\'\" + -0.221*\"\\'नाही\\'\" + 0.216*\"\\'केले\\'\" + 0.191*\"\\'करू\\'\"'), (22, '-0.491*\"\\'करू\\'\" + -0.274*\"\\'शकता\\'\" + 0.267*\"\\'त्या\\'\" + -0.233*\"\\'जेव्हा\\'\" + -0.229*\"\\'तेव्हा\\'\"'), (23, '0.810*\"\\'त्या\\'\" + -0.388*\"\\'म्हणून\\'\" + 0.177*\"\\'जे\\'\" + -0.121*\"\\'आहेत\\'\" + 0.115*\"\\'सर्व\\'\"'), (24, '-0.685*\"\\'केले\\'\" + -0.234*\"\\'आवश्यक\\'\" + 0.211*\"\\'म्हणून\\'\" + 0.171*\"\\'त्या\\'\" + -0.164*\"\\'आपल्या\\'\"')]\n"
     ]
    }
   ],
   "source": [
    "model = lsa.generate_gensim_LSA(document_list[:41997],25,top_words)"
   ]
  },
  {
   "cell_type": "code",
   "execution_count": 127,
   "metadata": {},
   "outputs": [
    {
     "data": {
      "text/plain": [
       "(25, 57088)"
      ]
     },
     "execution_count": 127,
     "metadata": {},
     "output_type": "execute_result"
    }
   ],
   "source": [
    "model.get_topics().shape"
   ]
  },
  {
   "cell_type": "code",
   "execution_count": 128,
   "metadata": {},
   "outputs": [],
   "source": [
    "# Saving the LSA model\n",
    "term_dict, doc_matrix = lsa.prepare_documents(document_list[:41997])"
   ]
  },
  {
   "cell_type": "code",
   "execution_count": 129,
   "metadata": {},
   "outputs": [
    {
     "name": "stdout",
     "output_type": "stream",
     "text": [
      "57088\n",
      "[(0, 1), (1, 1), (2, 1), (3, 2), (4, 2), (5, 1), (6, 1), (7, 1), (8, 1), (9, 1), (10, 1), (11, 1), (12, 1), (13, 2), (14, 1), (15, 1), (16, 1), (17, 1), (18, 1), (19, 1), (20, 1), (21, 1), (22, 2), (23, 1), (24, 1), (25, 1), (26, 1), (27, 1), (28, 1), (29, 1), (30, 1), (31, 1), (32, 1), (33, 1), (34, 1), (35, 1), (36, 1), (37, 1), (38, 1)]\n"
     ]
    }
   ],
   "source": [
    "print(len(term_dict))\n",
    "print((doc_matrix)[0])"
   ]
  },
  {
   "cell_type": "code",
   "execution_count": 130,
   "metadata": {},
   "outputs": [
    {
     "data": {
      "text/plain": [
       "(57088, 25)"
      ]
     },
     "execution_count": 130,
     "metadata": {},
     "output_type": "execute_result"
    }
   ],
   "source": [
    "# LSA embeddings vector : vocab x num_dim\n",
    "LSA_embeddigs = model.projection.u\n",
    "LSA_embeddigs.shape"
   ]
  },
  {
   "cell_type": "code",
   "execution_count": 131,
   "metadata": {},
   "outputs": [
    {
     "name": "stdout",
     "output_type": "stream",
     "text": [
      "[3.405050e-04 1.364770e-04 1.128389e-04 1.395007e-04 5.864709e-04 4.455682e-05 2.996373e-04 4.165413e-05 2.034043e-04\n",
      " 6.757257e-04 3.396510e-04 1.577193e-04 5.640882e-05 1.896670e-04 4.141805e-04 1.506609e-04 3.620373e-04 2.484425e-04\n",
      " 3.108881e-04 1.261440e-05 1.558602e-04 8.905022e-05 3.483218e-04 9.536078e-04 7.144998e-04]\n",
      "<class 'numpy.ndarray'>\n",
      "अडकले\n"
     ]
    }
   ],
   "source": [
    "# Sample Embedding from LSA\n",
    "print(LSA_embeddigs[0])\n",
    "print(type(LSA_embeddigs))\n",
    "print(term_dict[0].replace(\"'\",''))"
   ]
  },
  {
   "cell_type": "markdown",
   "metadata": {},
   "source": [
    "<b> Working with obtained LSA embeddings </b>"
   ]
  },
  {
   "cell_type": "code",
   "execution_count": 136,
   "metadata": {},
   "outputs": [],
   "source": [
    "import numpy as np\n",
    "\n",
    "embeddings_dict = {}\n",
    "counter = 0\n",
    "\n",
    "for embedding in LSA_embeddigs:\n",
    "    embeddings_dict[term_dict[counter].replace(\"'\",'')] = embedding\n",
    "    counter += 1"
   ]
  },
  {
   "cell_type": "code",
   "execution_count": 133,
   "metadata": {},
   "outputs": [
    {
     "data": {
      "text/plain": [
       "array([3.405050e-04, 1.364770e-04, 1.128389e-04, 1.395007e-04, 5.864709e-04, 4.455682e-05, 2.996373e-04, 4.165413e-05,\n",
       "       2.034043e-04, 6.757257e-04, 3.396510e-04, 1.577193e-04, 5.640882e-05, 1.896670e-04, 4.141805e-04, 1.506609e-04,\n",
       "       3.620373e-04, 2.484425e-04, 3.108881e-04, 1.261440e-05, 1.558602e-04, 8.905022e-05, 3.483218e-04, 9.536078e-04,\n",
       "       7.144998e-04])"
      ]
     },
     "execution_count": 133,
     "metadata": {},
     "output_type": "execute_result"
    }
   ],
   "source": [
    "embeddings_dict['अडकले']"
   ]
  },
  {
   "cell_type": "code",
   "execution_count": 134,
   "metadata": {},
   "outputs": [],
   "source": [
    "import pickle\n",
    "\n",
    "with open('../Topic Modelling/DS_marathi_LSA_25.pkl','wb') as file:\n",
    "    pickle.dump(embeddings_dict, file, pickle.HIGHEST_PROTOCOL)"
   ]
  },
  {
   "cell_type": "code",
   "execution_count": 135,
   "metadata": {},
   "outputs": [
    {
     "data": {
      "text/plain": [
       "array([3.405050e-04, 1.364770e-04, 1.128389e-04, 1.395007e-04, 5.864709e-04, 4.455682e-05, 2.996373e-04, 4.165413e-05,\n",
       "       2.034043e-04, 6.757257e-04, 3.396510e-04, 1.577193e-04, 5.640882e-05, 1.896670e-04, 4.141805e-04, 1.506609e-04,\n",
       "       3.620373e-04, 2.484425e-04, 3.108881e-04, 1.261440e-05, 1.558602e-04, 8.905022e-05, 3.483218e-04, 9.536078e-04,\n",
       "       7.144998e-04])"
      ]
     },
     "execution_count": 135,
     "metadata": {},
     "output_type": "execute_result"
    }
   ],
   "source": [
    "with open('../Topic Modelling/DS_marathi_LSA_25.pkl','rb') as file:\n",
    "    temp = pickle.load(file)\n",
    "    \n",
    "temp['अडकले']"
   ]
  },
  {
   "cell_type": "code",
   "execution_count": null,
   "metadata": {},
   "outputs": [],
   "source": []
  }
 ],
 "metadata": {
  "kernelspec": {
   "display_name": "Python 3",
   "language": "python",
   "name": "python3"
  },
  "language_info": {
   "codemirror_mode": {
    "name": "ipython",
    "version": 3
   },
   "file_extension": ".py",
   "mimetype": "text/x-python",
   "name": "python",
   "nbconvert_exporter": "python",
   "pygments_lexer": "ipython3",
   "version": "3.7.4"
  },
  "toc": {
   "base_numbering": 1,
   "nav_menu": {},
   "number_sections": true,
   "sideBar": true,
   "skip_h1_title": false,
   "title_cell": "Table of Contents",
   "title_sidebar": "Contents",
   "toc_cell": false,
   "toc_position": {},
   "toc_section_display": true,
   "toc_window_display": false
  }
 },
 "nbformat": 4,
 "nbformat_minor": 2
}
