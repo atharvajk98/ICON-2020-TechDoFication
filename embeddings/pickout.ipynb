{
 "cells": [
  {
   "cell_type": "code",
   "execution_count": 1,
   "metadata": {},
   "outputs": [],
   "source": [
    "import numpy as np\n",
    "import re\n",
    "import pandas as pd"
   ]
  },
  {
   "cell_type": "code",
   "execution_count": 2,
   "metadata": {},
   "outputs": [],
   "source": [
    "def get_vocab(path):\n",
    "    file = open(path, \"r\", encoding=\"utf-8\")\n",
    "    vocab = []\n",
    "    for word in file:\n",
    "        vocab.append(re.sub(\"\\n\", \"\", word))\n",
    "    file.close()\n",
    "    print(len(vocab))\n",
    "    return vocab"
   ]
  },
  {
   "cell_type": "code",
   "execution_count": 12,
   "metadata": {},
   "outputs": [],
   "source": [
    "def get_embeddings(path):\n",
    "    embedding_dict = dict()\n",
    "    file = open(path, \"r\")\n",
    "    for row in file:\n",
    "        row = row.split()\n",
    "        embedding_dict[row[0]] = np.array(row[1:], dtype='float32')\n",
    "    file.close()\n",
    "    return embedding_dict"
   ]
  },
  {
   "cell_type": "code",
   "execution_count": 27,
   "metadata": {},
   "outputs": [],
   "source": [
    "def write_to_file(path, embedding_dict, vocab):\n",
    "    file = open(path, \"w\")\n",
    "    for word in vocab:\n",
    "        wv_string = \"\"\n",
    "        for vi in embedding_dict.get(word):\n",
    "            wv_string = wv_string + \" \" + str(vi)\n",
    "        wv_string = word + \" \" + wv_string + \"\\n\"\n",
    "        file.write(wv_string)\n",
    "    file.close()"
   ]
  },
  {
   "cell_type": "code",
   "execution_count": 14,
   "metadata": {},
   "outputs": [
    {
     "data": {
      "text/plain": [
       "55141"
      ]
     },
     "execution_count": 14,
     "metadata": {},
     "output_type": "execute_result"
    }
   ],
   "source": [
    "ds_path = \"/home/eastwind/word-embeddings/fasttext/TechDofication.mr.raw.complete.ft.skipgram.new.d300.vec\"\n",
    "ds_embedding_dict = get_embeddings(ds_path)\n",
    "len(ds_embedding_dict)"
   ]
  },
  {
   "cell_type": "code",
   "execution_count": 15,
   "metadata": {},
   "outputs": [
    {
     "data": {
      "text/plain": [
       "258414"
      ]
     },
     "execution_count": 15,
     "metadata": {},
     "output_type": "execute_result"
    }
   ],
   "source": [
    "indic_path = \"/home/eastwind/word-embeddings/fasttext/indicnlp.ft.mr.300.vec\"\n",
    "indic_embedding_dict = get_embeddings(indic_path)\n",
    "len(indic_embedding_dict)"
   ]
  },
  {
   "cell_type": "code",
   "execution_count": 9,
   "metadata": {},
   "outputs": [
    {
     "data": {
      "text/plain": [
       "922815"
      ]
     },
     "execution_count": 9,
     "metadata": {},
     "output_type": "execute_result"
    }
   ],
   "source": [
    "ft_path = \"/home/eastwind/word-embeddings/fasttext/cc.mr.300.vec\"\n",
    "ft_embedding_dict = get_embeddings(ft_path)\n",
    "len(ft_embedding_dict)"
   ]
  },
  {
   "cell_type": "code",
   "execution_count": 16,
   "metadata": {},
   "outputs": [
    {
     "name": "stdout",
     "output_type": "stream",
     "text": [
      "\n",
      "Total words in domain Specific embeddings:  55141\n",
      "\n",
      "Total words in Indic-fasttext embeddings:  258414\n"
     ]
    }
   ],
   "source": [
    "ds_words = set(ds_embedding_dict.keys())\n",
    "indic_words = set(indic_embedding_dict.keys())\n",
    "#ft_words = set(ft_embedding_dict.keys())\n",
    "print(\"\\nTotal words in domain Specific embeddings: \", len(ds_words))\n",
    "print(\"\\nTotal words in Indic-fasttext embeddings: \", len(indic_words))\n",
    "#print(\"\\nTotal words in fasttext embeddings: \", len(ft_words))"
   ]
  },
  {
   "cell_type": "markdown",
   "metadata": {},
   "source": [
    "# Intersection Vocabulary"
   ]
  },
  {
   "cell_type": "code",
   "execution_count": 22,
   "metadata": {},
   "outputs": [
    {
     "name": "stdout",
     "output_type": "stream",
     "text": [
      "\n",
      "DS and indic-fasttext embeddings intersection:  30691\n"
     ]
    }
   ],
   "source": [
    "ds_indic_intersect = ds_words & indic_words\n",
    "#ds_ft_intersect = ds_words & ft_words\n",
    "#ft_indic_intersect = ft_words & indic_words\n",
    "print(\"\\nDS and indic-fasttext embeddings intersection: \", len(ds_indic_intersect))\n",
    "#print(\"\\nDS and fasttext embeddings intersection: \", len(ds_ft_intersect))\n",
    "#print(\"\\nfasttext and indic-fasttext embeddings intersection: \", len(ft_indic_intersect))"
   ]
  },
  {
   "cell_type": "code",
   "execution_count": null,
   "metadata": {},
   "outputs": [],
   "source": [
    "write_to_file(\"vocabulary/ds-indic-intersect.txt\", ds_indic_intersect)\n",
    "write_to_file(\"vocabulary/ds-ft-intersect.txt\", ds_ft_intersect)\n",
    "write_to_file(\"vocabulary/ft-indic-intersect.txt\", ft_indic_intersect)"
   ]
  },
  {
   "cell_type": "markdown",
   "metadata": {},
   "source": [
    "# Union Vocabulary"
   ]
  },
  {
   "cell_type": "code",
   "execution_count": 23,
   "metadata": {},
   "outputs": [
    {
     "name": "stdout",
     "output_type": "stream",
     "text": [
      "\n",
      "DS and indic-fasttext embeddings Union:  282864\n"
     ]
    }
   ],
   "source": [
    "ds_indic_union = ds_words | indic_words\n",
    "#ds_ft_union = ds_words | ft_words\n",
    "#ft_indic_union = ft_words | indic_words\n",
    "print(\"\\nDS and indic-fasttext embeddings Union: \", len(ds_indic_union))\n",
    "#print(\"\\nDS and fasttext embeddings Union: \", len(ds_ft_union))\n",
    "#print(\"\\nfasttext and indic-fasttext embeddings Union: \", len(ft_indic_union))"
   ]
  },
  {
   "cell_type": "code",
   "execution_count": null,
   "metadata": {},
   "outputs": [],
   "source": [
    "write_to_file(\"vocabulary/ds-indic-union.txt\", ds_indic_union)\n",
    "write_to_file(\"vocabulary/ds-ft-union.txt\", ds_ft_union)\n",
    "write_to_file(\"vocabulary/ft-indic-union.txt\", ft_indic_union)"
   ]
  },
  {
   "cell_type": "markdown",
   "metadata": {},
   "source": [
    "# Minus Vocabulary"
   ]
  },
  {
   "cell_type": "code",
   "execution_count": 17,
   "metadata": {},
   "outputs": [
    {
     "name": "stdout",
     "output_type": "stream",
     "text": [
      "\n",
      "indic-fasttext minus DS vocab:  227723\n"
     ]
    }
   ],
   "source": [
    "indic_minus_ds = indic_words - ds_words\n",
    "#ft_minus_indic_plus_ds = ft_words - indic_minus_ds\n",
    "print(\"\\nindic-fasttext minus DS vocab: \", len(indic_minus_ds))\n",
    "#print(\"\\nFasttext minus indic-fasttext plus DS vocab: \", len(indic_minus_ds))"
   ]
  },
  {
   "cell_type": "code",
   "execution_count": null,
   "metadata": {},
   "outputs": [],
   "source": [
    "for word in indic_words:\n",
    "    if word not in ds_words:\n",
    "        ds_embedding_dict[word] = np.array(indic_embedding_dict.get(word), dtype='float32')\n"
   ]
  },
  {
   "cell_type": "code",
   "execution_count": 20,
   "metadata": {},
   "outputs": [
    {
     "data": {
      "text/plain": [
       "282864"
      ]
     },
     "execution_count": 20,
     "metadata": {},
     "output_type": "execute_result"
    }
   ],
   "source": [
    "len(ds_embedding_dict)"
   ]
  },
  {
   "cell_type": "code",
   "execution_count": null,
   "metadata": {},
   "outputs": [],
   "source": [
    "write_to_file(\"vocabulary/ds-minus-indic.txt\", ds_minus_indic)\n",
    "write_to_file(\"vocabulary/indic-minus-ds.txt\", indic_minus_ds)"
   ]
  },
  {
   "cell_type": "code",
   "execution_count": 29,
   "metadata": {},
   "outputs": [],
   "source": [
    "write_to_file(\"vocabulary/indic_plus_ds.vec\", ds_embedding_dict, ds_indic_union)"
   ]
  },
  {
   "cell_type": "code",
   "execution_count": 30,
   "metadata": {},
   "outputs": [
    {
     "data": {
      "text/plain": [
       "282864"
      ]
     },
     "execution_count": 30,
     "metadata": {},
     "output_type": "execute_result"
    }
   ],
   "source": [
    "emb = get_embeddings(\"vocabulary/indic_plus_ds.vec\")\n",
    "len(emb)"
   ]
  },
  {
   "cell_type": "code",
   "execution_count": null,
   "metadata": {},
   "outputs": [],
   "source": []
  }
 ],
 "metadata": {
  "kernelspec": {
   "display_name": "Python 3",
   "language": "python",
   "name": "python3"
  },
  "language_info": {
   "codemirror_mode": {
    "name": "ipython",
    "version": 3
   },
   "file_extension": ".py",
   "mimetype": "text/x-python",
   "name": "python",
   "nbconvert_exporter": "python",
   "pygments_lexer": "ipython3",
   "version": "3.8.3"
  }
 },
 "nbformat": 4,
 "nbformat_minor": 4
}
