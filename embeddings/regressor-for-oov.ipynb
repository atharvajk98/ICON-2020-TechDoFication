{
 "cells": [
  {
   "cell_type": "code",
   "execution_count": 62,
   "metadata": {},
   "outputs": [],
   "source": [
    "import numpy as np\n",
    "import pandas as pd\n",
    "import re\n",
    "import tensorflow as tf\n",
    "from tensorflow.keras import Model, Sequential\n",
    "from tensorflow.keras.layers import Input, Dense\n",
    "from tensorflow.keras.callbacks import ModelCheckpoint, ReduceLROnPlateau, LearningRateScheduler, EarlyStopping\n",
    "from sklearn.model_selection import train_test_split\n",
    "from tensorflow.keras.callbacks import ModelCheckpoint, ReduceLROnPlateau, LearningRateScheduler, EarlyStopping\n",
    "\n",
    "import matplotlib.pyplot as plt"
   ]
  },
  {
   "cell_type": "code",
   "execution_count": 31,
   "metadata": {},
   "outputs": [],
   "source": [
    "def get_vocab(path):\n",
    "    vocab = []\n",
    "    with open(path, 'r', encoding='utf-8') as file:\n",
    "        for word in file:\n",
    "            vocab.append(re.sub(\"\\n\", \"\", word))\n",
    "    file.close()\n",
    "    return vocab"
   ]
  },
  {
   "cell_type": "code",
   "execution_count": 41,
   "metadata": {},
   "outputs": [],
   "source": [
    "def get_embedding(vocab, path):\n",
    "    embedding_dict = dict()\n",
    "    with open(path, 'r', encoding='utf-8') as file:\n",
    "        for row in file:\n",
    "            row = row.split()\n",
    "            if row[0] in vocab and len(row[1:]) == 300:\n",
    "                embedding_dict[row[0]] = np.asarray(row[1:], dtype='float32')\n",
    "    file.close()\n",
    "    return embedding_dict"
   ]
  },
  {
   "cell_type": "code",
   "execution_count": 46,
   "metadata": {},
   "outputs": [],
   "source": [
    "def prepare_data(vocab, embedding_dict1, embedding_dict2):\n",
    "    x_train = []\n",
    "    y_train = []\n",
    "    for word in vocab:\n",
    "        x_train.append(embedding_dict1.get(word))\n",
    "        y_train.append(embedding_dict2.get(word))\n",
    "    return x_train, y_train"
   ]
  },
  {
   "cell_type": "code",
   "execution_count": 66,
   "metadata": {},
   "outputs": [],
   "source": [
    "def write_to_file(path, embedding_matrix, word_list):\n",
    "    file = open(path, \"w\")\n",
    "    for i in range(len(word_list)):\n",
    "        wv_string = \"\"\n",
    "        for vi in embedding_matrix[i]:\n",
    "            wv_string = wv_string + \" \" + str(vi)\n",
    "        wv_string = word_list[i] + \" \" + wv_string + \"\\n\"\n",
    "        file.write(wv_string)\n",
    "    file.close()"
   ]
  },
  {
   "cell_type": "code",
   "execution_count": 33,
   "metadata": {},
   "outputs": [
    {
     "name": "stdout",
     "output_type": "stream",
     "text": [
      "30691\n"
     ]
    }
   ],
   "source": [
    "train_vocab = get_vocab(\"vocabulary/ds-indic-intersect.txt\")\n",
    "print(len(train_vocab))"
   ]
  },
  {
   "cell_type": "code",
   "execution_count": 34,
   "metadata": {},
   "outputs": [
    {
     "name": "stdout",
     "output_type": "stream",
     "text": [
      "227723\n"
     ]
    }
   ],
   "source": [
    "predict_vocab = get_vocab(\"vocabulary/indic-minus-ds.txt\")\n",
    "print(len(predict_vocab))"
   ]
  },
  {
   "cell_type": "code",
   "execution_count": 43,
   "metadata": {},
   "outputs": [
    {
     "data": {
      "text/plain": [
       "30691"
      ]
     },
     "execution_count": 43,
     "metadata": {},
     "output_type": "execute_result"
    }
   ],
   "source": [
    "ds_embedding_dict = get_embedding(train_vocab, \"/home/eastwind/word-embeddings/fasttext/TechDofication.mr.raw.complete.ft.skipgram.new.d300.vec\")\n",
    "len(ds_embedding_dict)"
   ]
  },
  {
   "cell_type": "code",
   "execution_count": 44,
   "metadata": {},
   "outputs": [
    {
     "data": {
      "text/plain": [
       "30691"
      ]
     },
     "execution_count": 44,
     "metadata": {},
     "output_type": "execute_result"
    }
   ],
   "source": [
    "indic_embedding_dict = get_embedding(train_vocab, \"/home/eastwind/word-embeddings/fasttext/indicnlp.ft.mr.300.vec\")\n",
    "len(indic_embedding_dict)"
   ]
  },
  {
   "cell_type": "code",
   "execution_count": 82,
   "metadata": {},
   "outputs": [],
   "source": [
    "x_train_embedding, y_train_embedding = prepare_data(train_vocab, indic_embedding_dict, ds_embedding_dict)"
   ]
  },
  {
   "cell_type": "code",
   "execution_count": 83,
   "metadata": {},
   "outputs": [
    {
     "name": "stdout",
     "output_type": "stream",
     "text": [
      "(30691, 300)\n",
      "(30691, 300)\n"
     ]
    }
   ],
   "source": [
    "x_train_embedding = np.asarray(x_train_embedding, dtype='float32')\n",
    "y_train_embedding = np.asarray(y_train_embedding, dtype='float32')\n",
    "print(x_train_embedding.shape)\n",
    "print(y_train_embedding.shape)"
   ]
  },
  {
   "cell_type": "code",
   "execution_count": 69,
   "metadata": {},
   "outputs": [],
   "source": [
    "write_to_file(\"vocabulary/indic-ds-intersection-indic-embeddings.vec\", x_train, train_vocab)"
   ]
  },
  {
   "cell_type": "code",
   "execution_count": 70,
   "metadata": {},
   "outputs": [],
   "source": [
    "write_to_file(\"vocabulary/indic-ds-intersection-ds-embeddings.vec\", y_train, train_vocab)"
   ]
  },
  {
   "cell_type": "code",
   "execution_count": 85,
   "metadata": {},
   "outputs": [
    {
     "name": "stdout",
     "output_type": "stream",
     "text": [
      "(24552, 300)\n",
      "(24552, 300)\n",
      "(6139, 300)\n",
      "(6139, 300)\n"
     ]
    }
   ],
   "source": [
    "x_train, x_val, y_train, y_val = train_test_split(x_train_embedding, \n",
    "                                                  y_train_embedding, \n",
    "                                                  test_size=0.2, \n",
    "                                                  shuffle=True)\n",
    "print(x_train.shape)\n",
    "print(y_train.shape)\n",
    "print(x_val.shape)\n",
    "print(y_val.shape)"
   ]
  },
  {
   "cell_type": "code",
   "execution_count": 89,
   "metadata": {},
   "outputs": [
    {
     "name": "stdout",
     "output_type": "stream",
     "text": [
      "Model: \"model_2\"\n",
      "_________________________________________________________________\n",
      "Layer (type)                 Output Shape              Param #   \n",
      "=================================================================\n",
      "input_3 (InputLayer)         [(None, 300)]             0         \n",
      "_________________________________________________________________\n",
      "dense_2 (Dense)              (None, 300)               90300     \n",
      "_________________________________________________________________\n",
      "dense_3 (Dense)              (None, 300)               90300     \n",
      "=================================================================\n",
      "Total params: 180,600\n",
      "Trainable params: 180,600\n",
      "Non-trainable params: 0\n",
      "_________________________________________________________________\n"
     ]
    }
   ],
   "source": [
    "src = Input(shape=(300,))\n",
    "Dense1 = Dense(300, activation='relu')(src)\n",
    "out = Dense(300, activation='tanh')(Dense1)\n",
    "regressor = Model(src, out)\n",
    "regressor.compile(optimizer='adam', loss='mse', metrics=['acc'])\n",
    "regressor.summary()"
   ]
  },
  {
   "cell_type": "code",
   "execution_count": 90,
   "metadata": {},
   "outputs": [],
   "source": [
    "# ModelCheckPoint Callback:\n",
    "checkpoint_filepath = \"../models/regressor/regressor-epoch-{epoch:02d}-val-acc-{val_acc:02f}.h5\"\n",
    "model_checkpoint_callback = ModelCheckpoint(filepath=checkpoint_filepath,\n",
    "                                            save_weights_only=True,\n",
    "                                            monitor='val_acc',\n",
    "                                            mode='max',\n",
    "                                            save_freq = 'epoch',\n",
    "                                            save_best_only=True)\n",
    "\n",
    "# Reduce Learning Rate on Plateau Callback:\n",
    "reduce_lr_callback = ReduceLROnPlateau( monitor='val_loss', \n",
    "                                       factor=0.1, \n",
    "                                       patience=2, \n",
    "                                       min_lr=0.0005, \n",
    "                                       verbose=2)\n",
    "#myCB = myCallbacks(metrics='acc', threshold=0.97)"
   ]
  },
  {
   "cell_type": "code",
   "execution_count": 91,
   "metadata": {},
   "outputs": [
    {
     "name": "stdout",
     "output_type": "stream",
     "text": [
      "Epoch 1/10\n",
      "96/96 [==============================] - 4s 43ms/step - loss: 0.1131 - acc: 0.0398 - val_loss: 0.1057 - val_acc: 0.0536 - lr: 0.0010\n",
      "Epoch 2/10\n",
      "96/96 [==============================] - 4s 38ms/step - loss: 0.1032 - acc: 0.0606 - val_loss: 0.1015 - val_acc: 0.0723 - lr: 0.0010\n",
      "Epoch 3/10\n",
      "96/96 [==============================] - 4s 40ms/step - loss: 0.0995 - acc: 0.0715 - val_loss: 0.0992 - val_acc: 0.0736 - lr: 0.0010\n",
      "Epoch 4/10\n",
      "96/96 [==============================] - 4s 46ms/step - loss: 0.0970 - acc: 0.0755 - val_loss: 0.0976 - val_acc: 0.0808 - lr: 0.0010\n",
      "Epoch 5/10\n",
      "96/96 [==============================] - 3s 34ms/step - loss: 0.0952 - acc: 0.0812 - val_loss: 0.0965 - val_acc: 0.0819 - lr: 0.0010\n",
      "Epoch 6/10\n",
      "96/96 [==============================] - 4s 39ms/step - loss: 0.0939 - acc: 0.0847 - val_loss: 0.0957 - val_acc: 0.0880 - lr: 0.0010\n",
      "Epoch 7/10\n",
      "96/96 [==============================] - 4s 39ms/step - loss: 0.0927 - acc: 0.0901 - val_loss: 0.0951 - val_acc: 0.0885 - lr: 0.0010\n",
      "Epoch 8/10\n",
      "96/96 [==============================] - 4s 46ms/step - loss: 0.0917 - acc: 0.0927 - val_loss: 0.0946 - val_acc: 0.0906 - lr: 0.0010\n",
      "Epoch 9/10\n",
      "96/96 [==============================] - 4s 46ms/step - loss: 0.0909 - acc: 0.0943 - val_loss: 0.0942 - val_acc: 0.0891 - lr: 0.0010\n",
      "Epoch 10/10\n",
      "96/96 [==============================] - 4s 39ms/step - loss: 0.0903 - acc: 0.0966 - val_loss: 0.0939 - val_acc: 0.0912 - lr: 0.0010\n"
     ]
    }
   ],
   "source": [
    "history = regressor.fit(x_train,\n",
    "                        y_train,\n",
    "                        epochs=10,\n",
    "                        batch_size=256,\n",
    "                        validation_data=(x_val, y_val),\n",
    "                        callbacks=[model_checkpoint_callback, reduce_lr_callback])"
   ]
  },
  {
   "cell_type": "code",
   "execution_count": 107,
   "metadata": {},
   "outputs": [],
   "source": [
    "from sklearn.linear_model import LinearRegression\n",
    "from sklearn.metrics import accuracy_score, precision_score, recall_score, f1_score\n",
    "from sklearn.metrics.pairwise import cosine_similarity"
   ]
  },
  {
   "cell_type": "code",
   "execution_count": 100,
   "metadata": {
    "scrolled": true
   },
   "outputs": [],
   "source": [
    "regressor_model = LinearRegression().fit(x_train, y_train)"
   ]
  },
  {
   "cell_type": "code",
   "execution_count": 105,
   "metadata": {},
   "outputs": [],
   "source": [
    "def classification_report(y_test, results):\n",
    "    acc = accuracy_score(y_test, results)\n",
    "    precision = precision_score(y_test, results, average=None)\n",
    "    recall = recall_score(y_test, results, average=None)\n",
    "    f1 = f1_score(y_test, results, average=None)\n",
    "    return acc, precision, recall, f1"
   ]
  },
  {
   "cell_type": "code",
   "execution_count": null,
   "metadata": {},
   "outputs": [],
   "source": [
    "acc, precision, recall, f1 = classification_report(y_val, results)\n",
    "print(\"Validation Accuracy: \", acc)\n",
    "print(\"\\nPrecision: \", precision)\n",
    "print(\"Average Precision: \", np.mean(precision))\n",
    "print(\"\\nRecall: \", recall)\n",
    "print(\"Average Recall: \", np.mean(recall))\n",
    "print(\"\\nF1-Score: \", f1)\n",
    "print(\"Average F1-Score: \", np.mean(f1))"
   ]
  },
  {
   "cell_type": "code",
   "execution_count": null,
   "metadata": {},
   "outputs": [],
   "source": []
  }
 ],
 "metadata": {
  "kernelspec": {
   "display_name": "Python 3",
   "language": "python",
   "name": "python3"
  },
  "language_info": {
   "codemirror_mode": {
    "name": "ipython",
    "version": 3
   },
   "file_extension": ".py",
   "mimetype": "text/x-python",
   "name": "python",
   "nbconvert_exporter": "python",
   "pygments_lexer": "ipython3",
   "version": "3.8.3"
  }
 },
 "nbformat": 4,
 "nbformat_minor": 4
}
