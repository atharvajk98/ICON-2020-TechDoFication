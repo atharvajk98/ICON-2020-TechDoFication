{
 "cells": [
  {
   "cell_type": "code",
   "execution_count": null,
   "metadata": {},
   "outputs": [],
   "source": [
    "from keras.models import Sequential\n",
    "from keras.layers import Embedding\n",
    "from keras.models import Input, Model\n",
    "from keras.layers import LSTM, Dense, Embedding, concatenate, Dropout, concatenate\n",
    "from keras.layers import Bidirectional"
   ]
  },
  {
   "cell_type": "code",
   "execution_count": null,
   "metadata": {},
   "outputs": [],
   "source": [
    "class Models:\n",
    "    \n",
    "    # --------------------------------------- Constructor --------------------------------------- \n",
    "    \n",
    "    def __init__(self, tokenizer, max_len):\n",
    "    \n",
    "        self.tokenizer = tokenizer\n",
    "        self.max_len = max_len\n",
    "        \n",
    "    def rnn_model(self, embedding_matrix, embedding_dim, max_len, X_additional=None):\n",
    "        \n",
    "        inp1 = Input(shape=(max_len,))\n",
    "        x = Embedding(embedding_matrix.shape[0], embedding_dim, weights=[embedding_matrix])(inp1)\n",
    "        x = Bidirectional(LSTM(256, return_sequences=True))(x)\n",
    "        x = Bidirectional(LSTM(150))(x)\n",
    "        x = Dense(128, activation=\"relu\")(x)\n",
    "        x = Dropout(0.1)(x)\n",
    "        x = Dense(64, activation=\"relu\")(x)\n",
    "        x = Dense(4, activation=\"softmax\")(x)    \n",
    "        model = Model(inputs=inp1, outputs=x)\n",
    "\n",
    "        model.compile(loss = 'binary_crossentropy', optimizer = 'adam')\n",
    "        self.model = model\n",
    "\n",
    "#         model = tf.keras.Sequential([\n",
    "#         tf.keras.layers.Embedding(embedding_matrix.shape[0], embedding_dim, ),\n",
    "#         tf.keras.layers.Conv1D(128, 5, activation='relu'),\n",
    "#         tf.keras.layers.GlobalAveragePooling1D(),\n",
    "#         tf.keras.layers.Dense(64, activation='relu'),\n",
    "#         tf.keras.layers.Dense(4, activation='softmax')\n",
    "#         ])\n",
    "\n",
    "\n",
    "#         model.compile(loss=’categorical_crossentropy’, optimizer='adam', metrics=['accuracy'])\n",
    "#         NUM_EPOCHS = 200\n",
    "        "
   ]
  },
  {
   "cell_type": "code",
   "execution_count": null,
   "metadata": {},
   "outputs": [],
   "source": [
    "#defining call backs \n",
    "\n",
    "class MyCallback(tf.keras.callbacks.Callback):\n",
    "\n",
    "    def on_epoch_end(self,epochs,logs = {}):\n",
    "        if(logs.get('accuracy') > 0.9 ):\n",
    "            print('Reached 90% accuracy, initiating callback')\n",
    "            self.model.stop_training = True"
   ]
  }
 ],
 "metadata": {
  "kernelspec": {
   "display_name": "Python 3",
   "language": "python",
   "name": "python3"
  },
  "language_info": {
   "codemirror_mode": {
    "name": "ipython",
    "version": 3
   },
   "file_extension": ".py",
   "mimetype": "text/x-python",
   "name": "python",
   "nbconvert_exporter": "python",
   "pygments_lexer": "ipython3",
   "version": "3.8.3"
  },
  "toc": {
   "base_numbering": 1,
   "nav_menu": {},
   "number_sections": true,
   "sideBar": true,
   "skip_h1_title": false,
   "title_cell": "Table of Contents",
   "title_sidebar": "Contents",
   "toc_cell": false,
   "toc_position": {},
   "toc_section_display": true,
   "toc_window_display": false
  }
 },
 "nbformat": 4,
 "nbformat_minor": 2
}
