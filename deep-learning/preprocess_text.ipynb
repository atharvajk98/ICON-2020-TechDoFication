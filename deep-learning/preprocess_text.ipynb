{
 "cells": [
  {
   "cell_type": "code",
   "execution_count": 1,
   "metadata": {},
   "outputs": [],
   "source": [
    "import re\n",
    "from nltk.tokenize import RegexpTokenizer\n",
    "from nltk.stem import PorterStemmer\n",
    "from nltk.stem import LancasterStemmer\n",
    "from nltk.stem import WordNetLemmatizer\n",
    "import pandas as pd\n",
    "import unicodedata\n",
    "from nltk import pos_tag, word_tokenize\n",
    "from textblob import TextBlob, Word"
   ]
  },
  {
   "cell_type": "code",
   "execution_count": 2,
   "metadata": {},
   "outputs": [],
   "source": [
    "class Preprocess:\n",
    "        \n",
    "    # --------------------------------------- Constructor ------------------------------------------------\n",
    "\n",
    "    def __init__(self):\n",
    "        file = open(\"../marathi-stopwords.txt\")\n",
    "        self.stopword_list = []\n",
    "        for row in file:\n",
    "            self.stopword_list.append(re.sub('\\n', '', row))\n",
    "\n",
    "\n",
    "    # --------------------------------------- Clean Data -------------------------------------------------    \n",
    "    \n",
    "    def read_data(self, path):\n",
    "        return pd.read_csv(path)\n",
    "\n",
    "    \n",
    "    # --------------------------------------- Expand concatenations --------------------------------------\n",
    "\n",
    "    def expand_concatenations(self, word):\n",
    "        if re.match('[a-zA-Z]+', word):\n",
    "            for i in range(len(word)):\n",
    "                if('DEVANAGARI ' in unicodedata.name(word[i])):\n",
    "                    word = word[i:] if( len(word[:i]) < 2 ) else word[:i] + \" \" + word[i:]\n",
    "                    break\n",
    "        return(word)\n",
    "\n",
    "\n",
    "    # --------------------------------------- Preprocess -------------------------------------------------\n",
    "\n",
    "    def preprocess_data(self, text):\n",
    "\n",
    "        # Cleaning the urls\n",
    "        text = re.sub(r'https?://\\S+|www\\.\\S+', '', str(text))\n",
    "\n",
    "        # Cleaning the html elements\n",
    "        text = re.sub(r'<.*?>', '', text)\n",
    "\n",
    "        # Removing the punctuations\n",
    "        text = re.sub('[!#?,.:\";-@#$%^&*_~<>()-]', ' ', text)\n",
    "\n",
    "        # Removing stop words\n",
    "        text = [word for word in text.split() if word not in self.stopword_list]\n",
    "\n",
    "        # Expanding noisy concatenations (Eg: algorithmआणि  -> algorithm आणि ) \n",
    "        text = [self.expand_concatenations(word) for word in text]\n",
    "\n",
    "        preprocessed_text = \"\"\n",
    "        lemmatizer = WordNetLemmatizer()\n",
    "        for word in text: \n",
    "            if (re.match('\\d+', word)):\n",
    "                if(word.isnumeric()):\n",
    "                    preprocessed_text = preprocessed_text + '<Numeric>' + \" \"\n",
    "\n",
    "            else:\n",
    "                if(re.match('[a-zA-Z]+', word)):\n",
    "                    word = word.lower()\n",
    "    #                             word = lemmatizer.lemmatize(word, pos='v')\n",
    "                    preprocessed_text = preprocessed_text + word + \" \"\n",
    "\n",
    "                else:\n",
    "                    preprocessed_text = preprocessed_text + word + \" \"\n",
    "\n",
    "        return preprocessed_text.strip()"
   ]
  },
  {
   "cell_type": "code",
   "execution_count": 6,
   "metadata": {},
   "outputs": [
    {
     "name": "stdout",
     "output_type": "stream",
     "text": [
      "\n",
      "Before:\t mस्केलेबल algorithmआणि  १ २ ३ ४  ६ ५ ७ ८ ९ विशिष्ट-- 19022323239  ० great 2T2 ,H2O, 9909च, Having Caring Sharing शब्दाचा उच्चार कसा केला गेला आणि 99 Working समन्वय साधण्याचा प्रयत्न करा जेव्हा 87929999 एका बिंदूबरोबर इतर गोष्टींचा एका!!! ११ 00 १ Google ० computer architecture 5 graphic show.!!! \n",
      "\n",
      "After:\t स्केलेबल algorithm आणि <Numeric> <Numeric> <Numeric> <Numeric> <Numeric> <Numeric> <Numeric> <Numeric> <Numeric> विशिष्ट <Numeric> <Numeric> great h2o having caring sharing शब्दाचा उच्चार कसा केला गेला आणि <Numeric> working समन्वय साधण्याचा प्रयत्न करा जेव्हा <Numeric> एका बिंदूबरोबर इतर गोष्टींचा एका <Numeric> <Numeric> <Numeric> google <Numeric> computer architecture <Numeric> graphic show \n"
     ]
    }
   ],
   "source": [
    "if __name__ == '__main__':\n",
    "   \n",
    "    #df = pd.read_csv('../Technodifacation/Data/training_data_marathi.csv')\n",
    "    stopword_list = []\n",
    "    lemmatizer = WordNetLemmatizer()\n",
    "\n",
    "#     with open ('../Technodifacation/Data/marathi_stopwords.txt','r',encoding='utf') as st:\n",
    "#         st_content = st.read()\n",
    "#         st_list = set(st_content.split())\n",
    "#         stopword_list = st_list\n",
    "    \n",
    "    pp = Preprocess([])\n",
    "    \n",
    "#     df['text'] = df['text'].apply(lambda x : pp.clean_text(x))\n",
    "#     sample_text = df.sample()['text'].values[0]\n",
    "\n",
    "    sample_text = \"mस्केलेबल algorithmआणि  १ २ ३ ४  ६ ५ ७ ८ ९ विशिष्ट-- 19022323239  ० great 2T2 ,H2O, 9909च, Having Caring Sharing शब्दाचा उच्चार कसा केला गेला आणि 99 Working समन्वय साधण्याचा प्रयत्न करा जेव्हा 87929999 एका बिंदूबरोबर इतर गोष्टींचा एका!!! ११ 00 १ Google ०computer architecture 5 graphic show.!!!\"\n",
    "    preprocessed_text = pp.clean_text(sample_text)\n",
    "    print('\\nBefore:\\t',sample_text,'\\n\\nAfter:\\t',preprocessed_text)"
   ]
  },
  {
   "cell_type": "code",
   "execution_count": 66,
   "metadata": {},
   "outputs": [],
   "source": [
    "def analyze_vocab(vocab_words):\n",
    "    numbers = []\n",
    "    english_words = []\n",
    "    marathi_words = []\n",
    "    for word in vocab_words:\n",
    "        if re.match('\\d+', word):\n",
    "            numbers.append(word)\n",
    "        elif re.match('[a-zA-Z]+', word):\n",
    "            english_words.append(word)\n",
    "        else:\n",
    "            marathi_words.append(word)\n",
    "    return numbers, english_words, marathi_words"
   ]
  },
  {
   "cell_type": "code",
   "execution_count": 107,
   "metadata": {},
   "outputs": [
    {
     "name": "stdout",
     "output_type": "stream",
     "text": [
      "51968 124\n",
      "928\n"
     ]
    }
   ],
   "source": [
    "from collections import Counter\n",
    "\n",
    "df = pd.read_csv('../Technodifacation/Data/training_data_marathi.csv')\n",
    "\n",
    "pp = Preprocess([])\n",
    "text = df['text'].apply(lambda x : pp.clean_text(x)).to_list()\n",
    "\n",
    "alpha_numeric = set()\n",
    "vocab = set()\n",
    "\n",
    "for t in text:\n",
    "        for word in t.split(): \n",
    "            word = word.lower()\n",
    "            vocab.add(word)\n",
    "            if any(chr.isalpha() for chr in word) and any(chr.isdigit() for chr in word): \n",
    "#                 print(word)\n",
    "                alpha_numeric.add(word)\n",
    "        \n",
    "print(len(vocab),len(alpha_numeric))\n",
    "\n",
    "num , en , mar = analyze_vocab(vocab)\n",
    "print(len(set(en)))"
   ]
  },
  {
   "cell_type": "code",
   "execution_count": 108,
   "metadata": {},
   "outputs": [],
   "source": [
    "# checking if any contractions are not expanded\n",
    "import unicodedata\n",
    "\n",
    "for word in en:\n",
    "    for i in range(len(word)):\n",
    "        if('DEVANAGARI ' in unicodedata.name(word[i])):\n",
    "#             word = word[:i] + \" \" + word[i:]\n",
    "            exp_word = word[i:] if( len(word[:i]) < 2 ) else word[:i] + \" \" + word[i:]\n",
    "            print(word , '\\t--->\\t', exp_word)\n",
    "            break"
   ]
  },
  {
   "cell_type": "code",
   "execution_count": null,
   "metadata": {},
   "outputs": [],
   "source": []
  }
 ],
 "metadata": {
  "kernelspec": {
   "display_name": "Python 3",
   "language": "python",
   "name": "python3"
  },
  "language_info": {
   "codemirror_mode": {
    "name": "ipython",
    "version": 3
   },
   "file_extension": ".py",
   "mimetype": "text/x-python",
   "name": "python",
   "nbconvert_exporter": "python",
   "pygments_lexer": "ipython3",
   "version": "3.8.3"
  },
  "toc": {
   "base_numbering": 1,
   "nav_menu": {},
   "number_sections": true,
   "sideBar": true,
   "skip_h1_title": false,
   "title_cell": "Table of Contents",
   "title_sidebar": "Contents",
   "toc_cell": false,
   "toc_position": {},
   "toc_section_display": true,
   "toc_window_display": false
  }
 },
 "nbformat": 4,
 "nbformat_minor": 2
}
