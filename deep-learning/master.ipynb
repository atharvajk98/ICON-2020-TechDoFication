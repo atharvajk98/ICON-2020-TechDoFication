{
 "cells": [
  {
   "cell_type": "code",
   "execution_count": 1,
   "metadata": {},
   "outputs": [
    {
     "name": "stderr",
     "output_type": "stream",
     "text": [
      "Using TensorFlow backend.\n",
      "C:\\Users\\Amey\\Anaconda3\\lib\\site-packages\\statsmodels\\tools\\_testing.py:19: FutureWarning: pandas.util.testing is deprecated. Use the functions in the public API at pandas.testing instead.\n",
      "  import pandas.util.testing as tm\n"
     ]
    }
   ],
   "source": [
    "import pandas as pd\n",
    "import numpy as np\n",
    "from keras.preprocessing.text import Tokenizer\n",
    "from preprocess_text import Preprocess\n",
    "from sklearn.metrics import accuracy_score\n",
    "from generate_word_embeddings import TextToTensor, Embeddings\n",
    "from sklearn.preprocessing import LabelEncoder\n",
    "from RNN_model import RnnModel\n",
    "from IPython.display import display, HTML\n",
    "import seaborn as sns\n",
    "import matplotlib.pyplot as plt"
   ]
  },
  {
   "cell_type": "code",
   "execution_count": 2,
   "metadata": {},
   "outputs": [],
   "source": [
    "path1 = '../Technodifacation/Data/training_data_marathi.csv'\n",
    "path2 = '../Technodifacation/Data/test_data_marathi.csv'\n",
    "\n",
    "# Reading the data\n",
    "train = pd.read_csv(path1)\n",
    "test = pd.read_csv(path2)\n",
    "\n",
    "# Defining variables\n",
    "x_train = train['text'].tolist()\n",
    "y_train = train['label'].tolist()\n",
    "x_test = test['text'].tolist()\n",
    "y_test = test['label'].tolist()\n",
    "word_counts = train['text'].apply(lambda x: len(str(x).split(\" \")))"
   ]
  },
  {
   "cell_type": "code",
   "execution_count": 3,
   "metadata": {},
   "outputs": [
    {
     "name": "stdout",
     "output_type": "stream",
     "text": [
      "count    41997.000000\n",
      "mean        27.040431\n",
      "std         25.178213\n",
      "min          2.000000\n",
      "25%         13.000000\n",
      "50%         20.000000\n",
      "75%         32.000000\n",
      "max        404.000000\n",
      "Name: text, dtype: float64\n"
     ]
    }
   ],
   "source": [
    "print(word_counts.describe())"
   ]
  },
  {
   "cell_type": "code",
   "execution_count": 4,
   "metadata": {},
   "outputs": [
    {
     "data": {
      "text/html": [
       "<div>\n",
       "<style scoped>\n",
       "    .dataframe tbody tr th:only-of-type {\n",
       "        vertical-align: middle;\n",
       "    }\n",
       "\n",
       "    .dataframe tbody tr th {\n",
       "        vertical-align: top;\n",
       "    }\n",
       "\n",
       "    .dataframe thead th {\n",
       "        text-align: right;\n",
       "    }\n",
       "</style>\n",
       "<table border=\"1\" class=\"dataframe\">\n",
       "  <thead>\n",
       "    <tr style=\"text-align: right;\">\n",
       "      <th></th>\n",
       "      <th>0</th>\n",
       "    </tr>\n",
       "  </thead>\n",
       "  <tbody>\n",
       "    <tr>\n",
       "      <th>-</th>\n",
       "      <td>91017</td>\n",
       "    </tr>\n",
       "    <tr>\n",
       "      <th>,</th>\n",
       "      <td>53831</td>\n",
       "    </tr>\n",
       "    <tr>\n",
       "      <th>.</th>\n",
       "      <td>41529</td>\n",
       "    </tr>\n",
       "    <tr>\n",
       "      <th>आहे</th>\n",
       "      <td>38449</td>\n",
       "    </tr>\n",
       "    <tr>\n",
       "      <th>आणि</th>\n",
       "      <td>27693</td>\n",
       "    </tr>\n",
       "    <tr>\n",
       "      <th>आपण</th>\n",
       "      <td>21595</td>\n",
       "    </tr>\n",
       "    <tr>\n",
       "      <th>तर</th>\n",
       "      <td>18667</td>\n",
       "    </tr>\n",
       "    <tr>\n",
       "      <th>की</th>\n",
       "      <td>13137</td>\n",
       "    </tr>\n",
       "    <tr>\n",
       "      <th>ते</th>\n",
       "      <td>13037</td>\n",
       "    </tr>\n",
       "    <tr>\n",
       "      <th>हे</th>\n",
       "      <td>12953</td>\n",
       "    </tr>\n",
       "    <tr>\n",
       "      <th>एक</th>\n",
       "      <td>9720</td>\n",
       "    </tr>\n",
       "    <tr>\n",
       "      <th>आहेत</th>\n",
       "      <td>8595</td>\n",
       "    </tr>\n",
       "    <tr>\n",
       "      <th>म्हणून</th>\n",
       "      <td>8169</td>\n",
       "    </tr>\n",
       "    <tr>\n",
       "      <th>किंवा</th>\n",
       "      <td>8119</td>\n",
       "    </tr>\n",
       "    <tr>\n",
       "      <th>या</th>\n",
       "      <td>7867</td>\n",
       "    </tr>\n",
       "    <tr>\n",
       "      <th>नाही</th>\n",
       "      <td>7096</td>\n",
       "    </tr>\n",
       "    <tr>\n",
       "      <th>काही</th>\n",
       "      <td>7082</td>\n",
       "    </tr>\n",
       "    <tr>\n",
       "      <th>आपल्याला</th>\n",
       "      <td>6973</td>\n",
       "    </tr>\n",
       "    <tr>\n",
       "      <th>आम्ही</th>\n",
       "      <td>5890</td>\n",
       "    </tr>\n",
       "    <tr>\n",
       "      <th>जे</th>\n",
       "      <td>5487</td>\n",
       "    </tr>\n",
       "  </tbody>\n",
       "</table>\n",
       "</div>"
      ],
      "text/plain": [
       "              0\n",
       "-         91017\n",
       ",         53831\n",
       ".         41529\n",
       "आहे       38449\n",
       "आणि       27693\n",
       "आपण       21595\n",
       "तर        18667\n",
       "की        13137\n",
       "ते        13037\n",
       "हे        12953\n",
       "एक         9720\n",
       "आहेत       8595\n",
       "म्हणून     8169\n",
       "किंवा      8119\n",
       "या         7867\n",
       "नाही       7096\n",
       "काही       7082\n",
       "आपल्याला   6973\n",
       "आम्ही      5890\n",
       "जे         5487"
      ]
     },
     "execution_count": 4,
     "metadata": {},
     "output_type": "execute_result"
    }
   ],
   "source": [
    "#Identify common words\n",
    "freq = pd.Series(' '.join(train['text']).split()).value_counts()[:20]\n",
    "freq.to_frame()"
   ]
  },
  {
   "cell_type": "code",
   "execution_count": 5,
   "metadata": {},
   "outputs": [
    {
     "name": "stdout",
     "output_type": "stream",
     "text": [
      "Text:  प्रा . प्रताप हरिदास : होय , मला वाटते की हा एक महत्त्वाचा मुद्दा आहे , की भारतीय संदर्भामुळे आपण विशेषतः आमच्या शैक्षणिक प्रक्रियेद्वारे प्रवेश करू शकता जिथे प्रवेश परीक्षा असते आणि जी आपल्याला विभागांमध्ये ठेवते आणि काही आपण त्या विशिष्ट क्रियाकलापांवर अडकले आहात असे कसे वाटते . \n",
      "\n",
      "Class com_tech\n"
     ]
    }
   ],
   "source": [
    "print('Text: ',x_train[0],'\\n\\nClass',y_train[0])"
   ]
  },
  {
   "cell_type": "code",
   "execution_count": 6,
   "metadata": {},
   "outputs": [
    {
     "data": {
      "image/png": "[encoded data removed]",
      "text/plain": [
       "<Figure size 720x360 with 1 Axes>"
      ]
     },
     "metadata": {
      "needs_background": "light"
     },
     "output_type": "display_data"
    }
   ],
   "source": [
    "# Word Count Distribution accross training samples\n",
    "plt.figure(figsize=(10,5))\n",
    "plt.xlim(0,1000)\n",
    "plt.ylabel('Price')\n",
    "sns.boxplot(x=word_counts.values)\n",
    "plt.show()"
   ]
  },
  {
   "cell_type": "code",
   "execution_count": 7,
   "metadata": {},
   "outputs": [
    {
     "data": {
      "text/plain": [
       "<matplotlib.axes._subplots.AxesSubplot at 0x1fbbc498388>"
      ]
     },
     "execution_count": 7,
     "metadata": {},
     "output_type": "execute_result"
    },
    {
     "data": {
      "image/png": "[encoded data removed]",
      "text/plain": [
       "<Figure size 432x288 with 1 Axes>"
      ]
     },
     "metadata": {
      "needs_background": "light"
     },
     "output_type": "display_data"
    }
   ],
   "source": [
    "word_counts.hist(bins = 30)"
   ]
  },
  {
   "cell_type": "code",
   "execution_count": 8,
   "metadata": {},
   "outputs": [],
   "source": [
    "#Cleaning Data\n",
    "\n",
    "import re\n",
    "stopword_list = []\n",
    "with open ('../Technodifacation/Data/marathi_stopwords.txt','r',encoding='utf') as st:\n",
    "    st_content = st.read()\n",
    "    st_list = set(st_content.split())\n",
    "    stopword_list = st_list\n",
    "\n",
    "for key in freq.keys():\n",
    "    stopword_list.add(key)\n",
    "prepocess = Preprocess(stopword_list)\n",
    "x_train = [prepocess.clean_text(x) for x in x_train]\n",
    "x_train = [re.sub('[!#?,.:\";-]', ' ', x) for x in x_train]"
   ]
  },
  {
   "cell_type": "code",
   "execution_count": 9,
   "metadata": {},
   "outputs": [],
   "source": [
    "le = LabelEncoder()\n",
    "y_train = le.fit_transform(y_train)\n",
    "y_test = le.fit_transform(y_test)\n",
    "\n",
    "avg_len = np.mean([len(text.split()) for text in x_train])"
   ]
  },
  {
   "cell_type": "code",
   "execution_count": 10,
   "metadata": {},
   "outputs": [
    {
     "data": {
      "text/html": [
       "<div>\n",
       "<style scoped>\n",
       "    .dataframe tbody tr th:only-of-type {\n",
       "        vertical-align: middle;\n",
       "    }\n",
       "\n",
       "    .dataframe tbody tr th {\n",
       "        vertical-align: top;\n",
       "    }\n",
       "\n",
       "    .dataframe thead th {\n",
       "        text-align: right;\n",
       "    }\n",
       "</style>\n",
       "<table border=\"1\" class=\"dataframe\">\n",
       "  <thead>\n",
       "    <tr style=\"text-align: right;\">\n",
       "      <th></th>\n",
       "      <th>0</th>\n",
       "    </tr>\n",
       "  </thead>\n",
       "  <tbody>\n",
       "    <tr>\n",
       "      <th>परंतु</th>\n",
       "      <td>4080</td>\n",
       "    </tr>\n",
       "    <tr>\n",
       "      <th>करू</th>\n",
       "      <td>3812</td>\n",
       "    </tr>\n",
       "    <tr>\n",
       "      <th>असेल</th>\n",
       "      <td>3744</td>\n",
       "    </tr>\n",
       "    <tr>\n",
       "      <th>जर</th>\n",
       "      <td>3611</td>\n",
       "    </tr>\n",
       "    <tr>\n",
       "      <th>शकता</th>\n",
       "      <td>3418</td>\n",
       "    </tr>\n",
       "    <tr>\n",
       "      <th>जेव्हा</th>\n",
       "      <td>3379</td>\n",
       "    </tr>\n",
       "    <tr>\n",
       "      <th>कारण</th>\n",
       "      <td>3341</td>\n",
       "    </tr>\n",
       "    <tr>\n",
       "      <th>तेव्हा</th>\n",
       "      <td>3191</td>\n",
       "    </tr>\n",
       "    <tr>\n",
       "      <th>आवश्यक</th>\n",
       "      <td>2937</td>\n",
       "    </tr>\n",
       "    <tr>\n",
       "      <th>देखील</th>\n",
       "      <td>2841</td>\n",
       "    </tr>\n",
       "    <tr>\n",
       "      <th>आहात</th>\n",
       "      <td>2757</td>\n",
       "    </tr>\n",
       "    <tr>\n",
       "      <th>म्हणूनच</th>\n",
       "      <td>2746</td>\n",
       "    </tr>\n",
       "    <tr>\n",
       "      <th>माहित</th>\n",
       "      <td>2718</td>\n",
       "    </tr>\n",
       "    <tr>\n",
       "      <th>शकते</th>\n",
       "      <td>2641</td>\n",
       "    </tr>\n",
       "    <tr>\n",
       "      <th>नंतर</th>\n",
       "      <td>2378</td>\n",
       "    </tr>\n",
       "    <tr>\n",
       "      <th>असू</th>\n",
       "      <td>2267</td>\n",
       "    </tr>\n",
       "    <tr>\n",
       "      <th>विशिष्ट</th>\n",
       "      <td>2230</td>\n",
       "    </tr>\n",
       "    <tr>\n",
       "      <th>आपल्याकडे</th>\n",
       "      <td>2223</td>\n",
       "    </tr>\n",
       "    <tr>\n",
       "      <th>आहोत</th>\n",
       "      <td>2177</td>\n",
       "    </tr>\n",
       "    <tr>\n",
       "      <th>जाते</th>\n",
       "      <td>2128</td>\n",
       "    </tr>\n",
       "  </tbody>\n",
       "</table>\n",
       "</div>"
      ],
      "text/plain": [
       "              0\n",
       "परंतु      4080\n",
       "करू        3812\n",
       "असेल       3744\n",
       "जर         3611\n",
       "शकता       3418\n",
       "जेव्हा     3379\n",
       "कारण       3341\n",
       "तेव्हा     3191\n",
       "आवश्यक     2937\n",
       "देखील      2841\n",
       "आहात       2757\n",
       "म्हणूनच    2746\n",
       "माहित      2718\n",
       "शकते       2641\n",
       "नंतर       2378\n",
       "असू        2267\n",
       "विशिष्ट    2230\n",
       "आपल्याकडे  2223\n",
       "आहोत       2177\n",
       "जाते       2128"
      ]
     },
     "execution_count": 10,
     "metadata": {},
     "output_type": "execute_result"
    }
   ],
   "source": [
    "#Identify common words after preprocessing\n",
    "\n",
    "freq = pd.Series(' '.join(x_train).split()).value_counts()[:20]\n",
    "freq.to_frame()"
   ]
  },
  {
   "cell_type": "code",
   "execution_count": 11,
   "metadata": {},
   "outputs": [
    {
     "name": "stdout",
     "output_type": "stream",
     "text": [
      "Preprocessed Text:  प्रा प्रताप हरिदास   होय मला वाटते महत्त्वाचा मुद्दा भारतीय संदर्भामुळे विशेषतः आमच्या शैक्षणिक प्रक्रियेद्वारे प्रवेश करू शकता जिथे प्रवेश परीक्षा असते जी विभागांमध्ये ठेवते विशिष्ट क्रियाकलापांवर अडकले आहात कसे वाटते \n",
      "\n",
      "Class: 1\n"
     ]
    }
   ],
   "source": [
    "print('Preprocessed Text: ',x_train[0],'\\n\\nClass:',y_train[0])"
   ]
  },
  {
   "cell_type": "code",
   "execution_count": 12,
   "metadata": {},
   "outputs": [],
   "source": [
    "# Tokenizing the text\n",
    "tokenizer = Tokenizer()\n",
    "tokenizer.fit_on_texts(x_train)"
   ]
  },
  {
   "cell_type": "code",
   "execution_count": 13,
   "metadata": {},
   "outputs": [],
   "source": [
    "# Creating the embedding matrix\n",
    "embed_path = '../Technodifacation/Data/fasttext_marathi_embeddings_300.txt'\n",
    "embed_dim = 300\n",
    "embedding = Embeddings(embed_path, embed_dim)\n",
    "# embedding_matrix = embedding.create_embedding_matrix(tokenizer, len(tokenizer.word_counts))\n",
    "embedding_matrix = np.load('../Technodifacation/Data/marathi_train_embedding_matrix.npy')"
   ]
  },
  {
   "cell_type": "code",
   "execution_count": 14,
   "metadata": {},
   "outputs": [
    {
     "data": {
      "text/plain": [
       "(52355, 300)"
      ]
     },
     "execution_count": 14,
     "metadata": {},
     "output_type": "execute_result"
    }
   ],
   "source": [
    "# Vocab size * Embeddings Size\n",
    "embedding_matrix.shape"
   ]
  },
  {
   "cell_type": "code",
   "execution_count": 15,
   "metadata": {},
   "outputs": [],
   "source": [
    "# Creating the padded input for the deep learning model\n",
    "max_len = np.max([len(text.split()) for text in x_train])\n",
    "TextToTensor_instance = TextToTensor(\n",
    "    tokenizer=tokenizer, \n",
    "    max_len= 35\n",
    "    )\n",
    "x_train = TextToTensor_instance.string_to_tensor(x_train)"
   ]
  },
  {
   "cell_type": "code",
   "execution_count": 16,
   "metadata": {},
   "outputs": [
    {
     "data": {
      "text/plain": [
       "(41997, 35)"
      ]
     },
     "execution_count": 16,
     "metadata": {},
     "output_type": "execute_result"
    }
   ],
   "source": [
    "x_train.shape"
   ]
  },
  {
   "cell_type": "code",
   "execution_count": 17,
   "metadata": {},
   "outputs": [],
   "source": [
    "# Creating the model\n",
    "\n",
    "rnn = RnnModel(\n",
    "    embedding_matrix=embedding_matrix, \n",
    "    embedding_dim=embed_dim, \n",
    "    max_len= 35\n",
    ")\n"
   ]
  },
  {
   "cell_type": "code",
   "execution_count": null,
   "metadata": {},
   "outputs": [
    {
     "name": "stdout",
     "output_type": "stream",
     "text": [
      "Train on 41997 samples\n",
      "Epoch 1/5\n",
      "41997/41997 [==============================] - 285s 7ms/sample - loss: 1.3104 - accuracy: 0.4174\n",
      "Epoch 2/5\n",
      "41997/41997 [==============================] - 276s 7ms/sample - loss: 1.2908 - accuracy: 0.4285\n",
      "Epoch 3/5\n",
      "41997/41997 [==============================] - 277s 7ms/sample - loss: 1.2891 - accuracy: 0.4285\n",
      "Epoch 4/5\n",
      " 8960/41997 [=====>........................] - ETA: 3:38 - loss: 1.2834 - accuracy: 0.4371"
     ]
    }
   ],
   "source": [
    "# Training the model\n",
    "epochs = 5\n",
    "batch_size = 256\n",
    "rnn.model.fit(\n",
    "            x_train,\n",
    "            y_train, \n",
    "            batch_size=batch_size, \n",
    "            epochs=epochs\n",
    "            )"
   ]
  },
  {
   "cell_type": "code",
   "execution_count": null,
   "metadata": {},
   "outputs": [],
   "source": [
    "# Evaluating the model\n",
    "\n",
    "x_test = [clean_text(text) for text in x_test]\n",
    "x_test = TextToTensor_instance.string_to_tensor(x_test)\n",
    "yhat = [x[0] for x in rnn.model.predict(x_test).tolist()]\n",
    "\n",
    "print('Accuracy on test set: ',np.mean(yhat == y_test))"
   ]
  }
 ],
 "metadata": {
  "kernelspec": {
   "display_name": "Python 3",
   "language": "python",
   "name": "python3"
  },
  "language_info": {
   "codemirror_mode": {
    "name": "ipython",
    "version": 3
   },
   "file_extension": ".py",
   "mimetype": "text/x-python",
   "name": "python",
   "nbconvert_exporter": "python",
   "pygments_lexer": "ipython3",
   "version": "3.7.4"
  },
  "toc": {
   "base_numbering": 1,
   "nav_menu": {},
   "number_sections": true,
   "sideBar": true,
   "skip_h1_title": false,
   "title_cell": "Table of Contents",
   "title_sidebar": "Contents",
   "toc_cell": false,
   "toc_position": {},
   "toc_section_display": true,
   "toc_window_display": false
  }
 },
 "nbformat": 4,
 "nbformat_minor": 2
}
