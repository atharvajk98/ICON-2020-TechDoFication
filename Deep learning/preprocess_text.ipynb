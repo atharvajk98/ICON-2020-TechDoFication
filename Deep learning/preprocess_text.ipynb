{
 "cells": [
  {
   "cell_type": "code",
   "execution_count": 1,
   "metadata": {},
   "outputs": [],
   "source": [
    "import re"
   ]
  },
  {
   "cell_type": "code",
   "execution_count": 1,
   "metadata": {},
   "outputs": [],
   "source": [
    "class Preprocess:\n",
    "    \n",
    "        # --------------------------------------- Constructor --------------------------------------- \n",
    "        \n",
    "        def __init__(self,stopword_list):\n",
    "            self.data_path = ''\n",
    "            self.stopword_list = stopword_list\n",
    "        \n",
    "        # --------------------------------------- Preprocess --------------------------------------- \n",
    "        \n",
    "        def clean_text(self,string):\n",
    "            \n",
    "            punctuations = r'''!()-[]{};:'\"\\,<>./?@#$%^&*_~''',\n",
    "            string = str(string)\n",
    "        \n",
    "            # Cleaning the urls\n",
    "            string = re.sub(r'https?://\\S+|www\\.\\S+', '', string)\n",
    "\n",
    "            # Cleaning the html elements\n",
    "            string = re.sub(r'<.*?>', '', string)\n",
    "                \n",
    "            # Converting the text to lower\n",
    "#             string = string.lower()\n",
    "            \n",
    "            # Removing the punctuations\n",
    "            for x in string: \n",
    "                if x in punctuations: \n",
    "                    string = string.replace(x, \"\")\n",
    "                    \n",
    "            # Removing stop words\n",
    "            string = ' '.join([word for word in string.split() if word not in seflf.stopword_list])\n",
    "            \n",
    "            # Cleaning the whitespaces\n",
    "            string = re.sub(r'\\s+', ' ', string).strip()\n",
    "            \n",
    "            return string "
   ]
  },
  {
   "cell_type": "code",
   "execution_count": null,
   "metadata": {},
   "outputs": [],
   "source": []
  }
 ],
 "metadata": {
  "kernelspec": {
   "display_name": "Python 3",
   "language": "python",
   "name": "python3"
  },
  "language_info": {
   "codemirror_mode": {
    "name": "ipython",
    "version": 3
   },
   "file_extension": ".py",
   "mimetype": "text/x-python",
   "name": "python",
   "nbconvert_exporter": "python",
   "pygments_lexer": "ipython3",
   "version": "3.7.4"
  },
  "toc": {
   "base_numbering": 1,
   "nav_menu": {},
   "number_sections": true,
   "sideBar": true,
   "skip_h1_title": false,
   "title_cell": "Table of Contents",
   "title_sidebar": "Contents",
   "toc_cell": false,
   "toc_position": {},
   "toc_section_display": true,
   "toc_window_display": false
  }
 },
 "nbformat": 4,
 "nbformat_minor": 2
}
